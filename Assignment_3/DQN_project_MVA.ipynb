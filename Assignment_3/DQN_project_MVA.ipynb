{
  "nbformat": 4,
  "nbformat_minor": 0,
  "metadata": {
    "colab": {
      "name": "DQN_project_MVA.ipynb",
      "version": "0.3.2",
      "provenance": []
    },
    "kernelspec": {
      "display_name": "Python 3",
      "language": "python",
      "name": "python3"
    }
  },
  "cells": [
    {
      "metadata": {
        "id": "gkZm_xO8e8PG",
        "colab_type": "text"
      },
      "cell_type": "markdown",
      "source": [
        "**You may need to install [OpenCV](https://pypi.python.org/pypi/opencv-python) and [scikit-video](http://www.scikit-video.org/stable/).**"
      ]
    },
    {
      "metadata": {
        "id": "IpkYijTxe8PI",
        "colab_type": "code",
        "outputId": "b74a21af-07c7-437e-e80c-843e92f36025",
        "colab": {
          "base_uri": "https://localhost:8080/",
          "height": 292
        }
      },
      "cell_type": "code",
      "source": [
        "import keras\n",
        "import numpy as np\n",
        "import io\n",
        "import base64\n",
        "from IPython.display import HTML\n",
        "\n",
        "### IMPORT SKVIDEO FOR GOOGLE COLAB\n",
        "!pip3 install scikit-video\n",
        "!apt-get install ffmpeg\n",
        "# check installation path with \n",
        "# ```which ffmpeg```\n",
        "# ```which ffprobe```\n",
        "\n",
        "import skvideo\n",
        "skvideo.setFFmpegPath(\"/usr/bin\")\n",
        "import skvideo.io\n",
        "\n",
        "# ```pip3 install opencv-python```\n",
        "import cv2\n",
        "import json\n",
        "\n",
        "from keras.models import Sequential,model_from_json\n",
        "from keras.layers.core import Dense\n",
        "from keras.optimizers import sgd\n",
        "from keras.layers import Conv2D, MaxPooling2D, Activation, AveragePooling2D,Reshape,BatchNormalization, Dropout"
      ],
      "execution_count": 1,
      "outputs": [
        {
          "output_type": "stream",
          "text": [
            "Using TensorFlow backend.\n"
          ],
          "name": "stderr"
        },
        {
          "output_type": "stream",
          "text": [
            "Collecting scikit-video\n",
            "\u001b[?25l  Downloading https://files.pythonhosted.org/packages/b1/a6/c69cad508139a342810ae46e946ebb3256aa6e42f690d901bb68f50582e3/scikit_video-1.1.11-py2.py3-none-any.whl (2.3MB)\n",
            "\u001b[K    100% |████████████████████████████████| 2.3MB 6.4MB/s \n",
            "\u001b[?25hRequirement already satisfied: numpy in /usr/local/lib/python3.6/dist-packages (from scikit-video) (1.14.6)\n",
            "Requirement already satisfied: scipy in /usr/local/lib/python3.6/dist-packages (from scikit-video) (1.1.0)\n",
            "Requirement already satisfied: pillow in /usr/local/lib/python3.6/dist-packages (from scikit-video) (4.0.0)\n",
            "Requirement already satisfied: olefile in /usr/local/lib/python3.6/dist-packages (from pillow->scikit-video) (0.46)\n",
            "Installing collected packages: scikit-video\n",
            "Successfully installed scikit-video-1.1.11\n",
            "Reading package lists... Done\n",
            "Building dependency tree       \n",
            "Reading state information... Done\n",
            "ffmpeg is already the newest version (7:3.4.4-0ubuntu0.18.04.1).\n",
            "0 upgraded, 0 newly installed, 0 to remove and 8 not upgraded.\n"
          ],
          "name": "stdout"
        }
      ]
    },
    {
      "metadata": {
        "id": "IcFJdpaPe8PO",
        "colab_type": "text"
      },
      "cell_type": "markdown",
      "source": [
        "# MiniProject #3: Deep Reinforcement Learning"
      ]
    },
    {
      "metadata": {
        "id": "W146PxAze8PP",
        "colab_type": "text"
      },
      "cell_type": "markdown",
      "source": [
        "__Notations__: $E_p$ is the expectation under probability $p$. Please justify each of your answer and widely comment your code."
      ]
    },
    {
      "metadata": {
        "id": "01DHN4_-e8PR",
        "colab_type": "text"
      },
      "cell_type": "markdown",
      "source": [
        "# Context"
      ]
    },
    {
      "metadata": {
        "id": "34wlXXrOe8PS",
        "colab_type": "text"
      },
      "cell_type": "markdown",
      "source": [
        "In a reinforcement learning algorithm, we modelize each step $t$ as an action $a_t$ obtained from a state $s_t$, i.e. $\\{(a_{t},s_{t})_{t\\leq T}\\}$ having the Markov property. We consider a discount factor $\\gamma \\in [0,1]$ that ensures convergence. The goal is to find among all the policies $\\pi$, one that maximizes the expected reward:\n",
        "\n",
        "\\begin{equation*}\n",
        "R(\\pi)=\\sum_{t\\leq T}E_{p^{\\pi}}[\\gamma^t r(s_{t},a_{t})] \\> ,\n",
        "\\end{equation*}\n",
        "\n",
        "where: \n",
        "\\begin{equation*}p^{\\pi}(a_{0},a_{1},s_{1},...,a_{T},s_{T})=p(a_{0})\\prod_{t=1}^{T}\\pi(a_{t}|s_{t})p(s_{t+1}|s_{t},a_{t}) \\> .\n",
        "\\end{equation*}\n",
        "\n",
        "We note the $Q$-function:\n",
        "\n",
        "\\begin{equation*}Q^\\pi(s,a)=E_{p^{\\pi}}[\\sum_{t\\leq T}\\gamma^{t}r(s_{t},a_{t})|s_{0}=s,a_{0}=a] \\> .\n",
        "\\end{equation*}\n",
        "\n",
        "Thus, the optimal Q function is:\n",
        "\\begin{equation*}\n",
        "Q^*(s,a)=\\max_{\\pi}Q^\\pi(s,a) \\> .\n",
        "\\end{equation*}\n",
        "\n",
        "In this project, we will apply the deep reinforcement learning techniques to a simple game: an agent will have to learn from scratch a policy that will permit it maximizing a reward."
      ]
    },
    {
      "metadata": {
        "id": "TkjhXJoje8PU",
        "colab_type": "text"
      },
      "cell_type": "markdown",
      "source": [
        "## The environment, the agent and the game"
      ]
    },
    {
      "metadata": {
        "id": "9OFr8vdre8PV",
        "colab_type": "text"
      },
      "cell_type": "markdown",
      "source": [
        "### The environment"
      ]
    },
    {
      "metadata": {
        "id": "vhBW7lB9e8PW",
        "colab_type": "text"
      },
      "cell_type": "markdown",
      "source": [
        "```Environment``` is an abstract class that represents the states, rewards, and actions to obtain the new state."
      ]
    },
    {
      "metadata": {
        "id": "ka3EfOcRe8PX",
        "colab_type": "code",
        "colab": {}
      },
      "cell_type": "code",
      "source": [
        "class Environment(object):\n",
        "    def __init__(self):\n",
        "        pass\n",
        "\n",
        "    def act(self, act):\n",
        "        \"\"\"\n",
        "        One can act on the environment and obtain its reaction:\n",
        "        - the new state\n",
        "        - the reward of the new state\n",
        "        - should we continue the game?\n",
        "\n",
        "        :return: state, reward, game_over\n",
        "        \"\"\"\n",
        "        pass\n",
        "\n",
        "\n",
        "    def reset(self):\n",
        "        \"\"\"\n",
        "        Reinitialize the environment to a random state and returns\n",
        "        the original state\n",
        "\n",
        "        :return: state\n",
        "        \"\"\"\n",
        "        pass\n",
        "    \n",
        "    def draw(self):\n",
        "        \"\"\"\n",
        "        Visualize in the console or graphically the current state\n",
        "        \"\"\"\n",
        "        pass"
      ],
      "execution_count": 0,
      "outputs": []
    },
    {
      "metadata": {
        "id": "l2H9fJiDe8Pa",
        "colab_type": "text"
      },
      "cell_type": "markdown",
      "source": [
        "The method ```act``` allows to act on the environment at a given state $s_t$ (stored internally), via action $a_t$. The method will return the new state $s_{t+1}$, the reward $r(s_{t},a_{t})$ and determines if $t\\leq T$ (*game_over*).\n",
        "\n",
        "The method ```reset``` simply reinitializes the environment to a random state $s_0$.\n",
        "\n",
        "The method ```draw``` displays the current state $s_t$ (this is useful to check the behavior of the Agent).\n",
        "\n",
        "We modelize $s_t$ as a tensor, while $a_t$ is an integer."
      ]
    },
    {
      "metadata": {
        "id": "TYDJ2AUze8Pb",
        "colab_type": "text"
      },
      "cell_type": "markdown",
      "source": [
        "### The Agent"
      ]
    },
    {
      "metadata": {
        "id": "bhEqpBsde8Pc",
        "colab_type": "text"
      },
      "cell_type": "markdown",
      "source": [
        "The goal of the ```Agent``` is to interact with the ```Environment``` by proposing actions $a_t$ obtained from a given state $s_t$ to attempt to maximize its __reward__ $r(s_t,a_t)$. We propose the following abstract class:"
      ]
    },
    {
      "metadata": {
        "id": "MePlYwpee8Pd",
        "colab_type": "code",
        "colab": {}
      },
      "cell_type": "code",
      "source": [
        "class Agent(object):\n",
        "    def __init__(self, epsilon=0.1, n_action=4):\n",
        "        self.epsilon = epsilon\n",
        "        self.n_action = n_action\n",
        "    \n",
        "    def set_epsilon(self,e):\n",
        "        self.epsilon = e\n",
        "\n",
        "    def act(self,s,train=True):\n",
        "        \"\"\" This function should return the next action to do:\n",
        "        an integer between 0 and 4 (not included) with a random exploration of epsilon\"\"\"\n",
        "        if train:\n",
        "            if np.random.rand() <= self.epsilon:\n",
        "                a = np.random.randint(0, self.n_action, size=1)[0]\n",
        "            else:\n",
        "                a = self.learned_act(s)\n",
        "        else: # in some cases, this can improve the performance.. remove it if poor performances\n",
        "            a = self.learned_act(s)\n",
        "\n",
        "        return a\n",
        "\n",
        "    def learned_act(self,s):\n",
        "        \"\"\" Act via the policy of the agent, from a given state s\n",
        "        it proposes an action a\"\"\"\n",
        "        pass\n",
        "\n",
        "    def reinforce(self, s, n_s, a, r, game_over_):\n",
        "        \"\"\" This function is the core of the learning algorithm. \n",
        "        It takes as an input the current state s_, the next state n_s_\n",
        "        the action a_ used to move from s_ to n_s_ and the reward r_.\n",
        "        \n",
        "        Its goal is to learn a policy.\n",
        "        \"\"\"\n",
        "        pass\n",
        "\n",
        "    def save(self):\n",
        "        \"\"\" This function returns basic stats if applicable: the\n",
        "        loss and/or the model\"\"\"\n",
        "        pass\n",
        "\n",
        "    def load(self):\n",
        "        \"\"\" This function allows to restore a model\"\"\"\n",
        "        pass"
      ],
      "execution_count": 0,
      "outputs": []
    },
    {
      "metadata": {
        "id": "yBvzjGoSe8Pg",
        "colab_type": "text"
      },
      "cell_type": "markdown",
      "source": [
        "***\n",
        "__Question 1__:\n",
        "Explain the function act. Why is ```epsilon``` essential?"
      ]
    },
    {
      "metadata": {
        "id": "VGlaTpnoe8Ph",
        "colab_type": "text"
      },
      "cell_type": "markdown",
      "source": [
        "The `act` function aims is to make a decision on which state explore next. For this we are using what is called a epsilon-greedy algorithm. \n",
        "\n",
        "At each step, the algorithm have two options. For a random float $r_f$ taken between 0 and 1, we can either choose a random action if $r_f \\leq$ `epsilon`, or we can choose an action from previously learned acts.\n",
        "\n",
        "This exploration variable set the ability of the algorithm to explore new posibilities or to use its knowledge from the past. If too high, we will not be able to explore new behaviours and learn new actions, if too low, we will not learn anything and will just explore in an *amnesic random way*."
      ]
    },
    {
      "metadata": {
        "id": "ZBz6zH-ve8Pi",
        "colab_type": "text"
      },
      "cell_type": "markdown",
      "source": [
        "***\n",
        "### The Game"
      ]
    },
    {
      "metadata": {
        "id": "mWX52Gx5e8Pj",
        "colab_type": "text"
      },
      "cell_type": "markdown",
      "source": [
        "The ```Agent``` and the ```Environment``` work in an interlaced way as in the following (take some time to understand this code as it is the core of the project)\n",
        "\n",
        "```python\n",
        "\n",
        "epoch = 300\n",
        "env = Environment()\n",
        "agent = Agent()\n",
        "\n",
        "\n",
        "# Number of won games\n",
        "score = 0\n",
        "loss = 0\n",
        "\n",
        "\n",
        "for e in range(epoch):\n",
        "    # At each epoch, we restart to a fresh game and get the initial state\n",
        "    state = env.reset()\n",
        "    # This assumes that the games will end\n",
        "    game_over = False\n",
        "\n",
        "    win = 0\n",
        "    lose = 0\n",
        "    \n",
        "    while not game_over:\n",
        "        # The agent performs an action\n",
        "        action = agent.act(state)\n",
        "\n",
        "        # Apply an action to the environment, get the next state, the reward\n",
        "        # and if the games end\n",
        "        prev_state = state\n",
        "        state, reward, game_over = env.act(action)\n",
        "\n",
        "        # Update the counters\n",
        "        if reward > 0:\n",
        "            win = win + reward\n",
        "        if reward < 0:\n",
        "            lose = lose -reward\n",
        "\n",
        "        # Apply the reinforcement strategy\n",
        "        loss = agent.reinforce(prev_state, state,  action, reward, game_over)\n",
        "\n",
        "    # Save as a mp4\n",
        "    if e % 10 == 0:\n",
        "        env.draw(e)\n",
        "\n",
        "    # Update stats\n",
        "    score += win-lose\n",
        "\n",
        "    print(\"Epoch {:03d}/{:03d} | Loss {:.4f} | Win/lose count {}/{} ({})\"\n",
        "          .format(e, epoch, loss, win, lose, win-lose))\n",
        "    agent.save()\n",
        "```"
      ]
    },
    {
      "metadata": {
        "id": "Mf6mszNUe8Pl",
        "colab_type": "text"
      },
      "cell_type": "markdown",
      "source": [
        "# The game, *eat cheese*"
      ]
    },
    {
      "metadata": {
        "id": "1LnSKJOye8Pn",
        "colab_type": "text"
      },
      "cell_type": "markdown",
      "source": [
        "A rat runs on an island and tries to eat as much as possible. The island is subdivided into $N\\times N$ cells, in which there are cheese (+0.5) and poisonous cells (-1). The rat has a visibility of 2 cells (thus it can see $5^2$ cells). The rat is given a time $T$ to accumulate as much food as possible. It can perform 4 actions: going up, down, left, right. \n",
        "\n",
        "The goal is to code an agent to solve this task that will learn by trial and error. We propose the following environment:"
      ]
    },
    {
      "metadata": {
        "id": "78D8rdbTe8Pp",
        "colab_type": "code",
        "colab": {}
      },
      "cell_type": "code",
      "source": [
        "class Environment(object):\n",
        "    def __init__(self, grid_size=10, max_time=500, temperature=0.1):\n",
        "        grid_size = grid_size+4\n",
        "        self.grid_size = grid_size\n",
        "        self.max_time = max_time\n",
        "        self.temperature = temperature\n",
        "\n",
        "        #board on which one plays\n",
        "        self.board = np.zeros((grid_size,grid_size))\n",
        "        self.position = np.zeros((grid_size,grid_size))\n",
        "\n",
        "        # coordinate of the cat\n",
        "        self.x = 0\n",
        "        self.y = 1\n",
        "\n",
        "        # self time\n",
        "        self.t = 0\n",
        "\n",
        "        self.scale=16\n",
        "\n",
        "        self.to_draw = np.zeros((max_time+2, grid_size*self.scale, grid_size*self.scale, 3))\n",
        "\n",
        "\n",
        "    def draw(self,e):\n",
        "        skvideo.io.vwrite(str(e) + '.mp4', self.to_draw)\n",
        "\n",
        "    def get_frame(self,t):\n",
        "        b = np.zeros((self.grid_size,self.grid_size,3))+128\n",
        "        b[self.board>0,0] = 256\n",
        "        b[self.board < 0, 2] = 256\n",
        "        b[self.x,self.y,:]=256\n",
        "        b[-2:,:,:]=0\n",
        "        b[:,-2:,:]=0\n",
        "        b[:2,:,:]=0\n",
        "        b[:,:2,:]=0\n",
        "        \n",
        "        b =  cv2.resize(b, None, fx=self.scale, fy=self.scale, interpolation=cv2.INTER_NEAREST)\n",
        "\n",
        "        self.to_draw[t,:,:,:]=b\n",
        "\n",
        "\n",
        "    def act(self, action):\n",
        "        \"\"\"This function returns the new state, reward and decides if the\n",
        "        game ends.\"\"\"\n",
        "\n",
        "        self.get_frame(int(self.t))\n",
        "\n",
        "        self.position = np.zeros((self.grid_size, self.grid_size))\n",
        "\n",
        "        self.position[0:2,:]= -1\n",
        "        self.position[:,0:2] = -1\n",
        "        self.position[-2:, :] = -1\n",
        "        self.position[:, -2:] = -1\n",
        "\n",
        "        self.position[self.x, self.y] = 1\n",
        "        if action == 0:\n",
        "            if self.x == self.grid_size-3:\n",
        "                self.x = self.x-1\n",
        "            else:\n",
        "                self.x = self.x + 1\n",
        "        elif action == 1:\n",
        "            if self.x == 2:\n",
        "                self.x = self.x+1\n",
        "            else:\n",
        "                self.x = self.x-1\n",
        "        elif action == 2:\n",
        "            if self.y == self.grid_size - 3:\n",
        "                self.y = self.y - 1\n",
        "            else:\n",
        "                self.y = self.y + 1\n",
        "        elif action == 3:\n",
        "            if self.y == 2:\n",
        "                self.y = self.y + 1\n",
        "            else:\n",
        "                self.y = self.y - 1\n",
        "        else:\n",
        "            RuntimeError('Error: action not recognized')\n",
        "\n",
        "        self.t = self.t + 1\n",
        "        reward = self.board[self.x, self.y]\n",
        "        self.board[self.x, self.y] = 0\n",
        "        game_over = self.t > self.max_time\n",
        "        state = np.concatenate((self.board.reshape(self.grid_size, self.grid_size,1),\n",
        "                        self.position.reshape(self.grid_size, self.grid_size,1)),axis=2)\n",
        "        state = state[self.x-2:self.x+3,self.y-2:self.y+3,:]\n",
        "\n",
        "        return state, reward, game_over\n",
        "\n",
        "    def reset(self):\n",
        "        \"\"\"This function resets the game and returns the initial state\"\"\"\n",
        "\n",
        "        self.x = np.random.randint(3, self.grid_size-3, size=1)[0]\n",
        "        self.y = np.random.randint(3, self.grid_size-3, size=1)[0]\n",
        "\n",
        "\n",
        "        bonus = 0.5*np.random.binomial(1,self.temperature,size=self.grid_size**2)\n",
        "        bonus = bonus.reshape(self.grid_size,self.grid_size)\n",
        "\n",
        "        malus = -1.0*np.random.binomial(1,self.temperature,size=self.grid_size**2)\n",
        "        malus = malus.reshape(self.grid_size, self.grid_size)\n",
        "\n",
        "        self.to_draw = np.zeros((self.max_time+2, self.grid_size*self.scale, self.grid_size*self.scale, 3))\n",
        "\n",
        "\n",
        "        malus[bonus>0]=0\n",
        "\n",
        "        self.board = bonus + malus\n",
        "\n",
        "        self.position = np.zeros((self.grid_size, self.grid_size))\n",
        "        self.position[0:2,:]= -1\n",
        "        self.position[:,0:2] = -1\n",
        "        self.position[-2:, :] = -1\n",
        "        self.position[:, -2:] = -1\n",
        "        self.board[self.x,self.y] = 0\n",
        "        self.t = 0\n",
        "\n",
        "        state = np.concatenate((\n",
        "                               self.board.reshape(self.grid_size, self.grid_size,1),\n",
        "                        self.position.reshape(self.grid_size, self.grid_size,1)),axis=2)\n",
        "\n",
        "        state = state[self.x - 2:self.x + 3, self.y - 2:self.y + 3, :]\n",
        "        return state"
      ],
      "execution_count": 0,
      "outputs": []
    },
    {
      "metadata": {
        "id": "e9IrB2_1e8Pt",
        "colab_type": "text"
      },
      "cell_type": "markdown",
      "source": [
        "The following elements are important because they correspond to the hyper parameters for this project:"
      ]
    },
    {
      "metadata": {
        "id": "mlBH6Yqce8Pw",
        "colab_type": "code",
        "colab": {}
      },
      "cell_type": "code",
      "source": [
        "# parameters\n",
        "size = 13\n",
        "T=200\n",
        "temperature=0.3\n",
        "epochs_train=64 # set small when debugging\n",
        "epochs_test=64 # set small when debugging\n",
        "\n",
        "# display videos\n",
        "def display_videos(name):\n",
        "    video = io.open(name, 'r+b').read()\n",
        "    encoded = base64.b64encode(video)\n",
        "    return '''<video alt=\"test\" controls>\n",
        "                <source src=\"data:video/mp4;base64,{0}\" type=\"video/mp4\" />\n",
        "             </video>'''.format(encoded.decode('ascii'))"
      ],
      "execution_count": 0,
      "outputs": []
    },
    {
      "metadata": {
        "id": "o9kAND0oe8P0",
        "colab_type": "text"
      },
      "cell_type": "markdown",
      "source": [
        "__Question 2__ Explain the use of the arrays ```position``` and ```board```."
      ]
    },
    {
      "metadata": {
        "id": "6-G85zoBe8P1",
        "colab_type": "text"
      },
      "cell_type": "markdown",
      "source": [
        "*Position*  \n",
        "This matrix is used to define the rat position and allowed moves. \n",
        "- It is filled with `0` by default.\n",
        "- There is a two `-1` cells thickness on the borders, reprenting where the rat can't go. That's why we added +4 to the grid size, allowing some place for these borders.\n",
        "- One only cell is set to `1`, representing the actual rat positon.\n",
        "\n",
        "*Board*  \n",
        "This matrix is used to define the environment.\n",
        "- It is also initialized with a size increased by 4, to fit with the previous positon matrix.\n",
        "- It contains rewards for the rat. `-1` for poison, `0.5` for cheese.\n",
        "- When the rat already have explored a cell, we set the cell to `0`\n"
      ]
    },
    {
      "metadata": {
        "id": "-ZEZ4n2ue8P3",
        "colab_type": "text"
      },
      "cell_type": "markdown",
      "source": [
        "## Random Agent"
      ]
    },
    {
      "metadata": {
        "id": "n6bj3Pu4e8P4",
        "colab_type": "text"
      },
      "cell_type": "markdown",
      "source": [
        "***\n",
        "__Question 3__ Implement a random Agent (only ```learned_act``` needs to be implemented):"
      ]
    },
    {
      "metadata": {
        "id": "1JLh_hvke8P5",
        "colab_type": "code",
        "colab": {}
      },
      "cell_type": "code",
      "source": [
        "class RandomAgent(Agent):\n",
        "    def __init__(self):\n",
        "        super(RandomAgent, self).__init__()\n",
        "        pass\n",
        "\n",
        "    def learned_act(self, s=0):\n",
        "        return np.random.randint(4)\n",
        "\n",
        "# We develop a random agent.\n",
        "# Thus it doesn't care about the current rat state.\n",
        "# We put s=0 by default, we will not us it.\n",
        "# We randomly return a number between 0 and 3 included.\n",
        "\n",
        "# Testing\n",
        "def test_random_agent():\n",
        "    random_agent = RandomAgent()\n",
        "    for i in range(10):\n",
        "        print(random_agent.learned_act())\n",
        "# test_random_agent()"
      ],
      "execution_count": 0,
      "outputs": []
    },
    {
      "metadata": {
        "id": "4oZOl2t2e8P9",
        "colab_type": "text"
      },
      "cell_type": "markdown",
      "source": [
        "***\n",
        "***\n",
        "__Question 4__ Visualize the game moves. You need to fill in the following function for the evaluation:"
      ]
    },
    {
      "metadata": {
        "id": "65uteLr3e8P-",
        "colab_type": "code",
        "colab": {}
      },
      "cell_type": "code",
      "source": [
        "def test(agent,env,epochs,prefix=''):\n",
        "    # Number of won games\n",
        "    score = 0\n",
        "        \n",
        "    for e in range(epochs):\n",
        "        # Init variables\n",
        "        win = 0\n",
        "        lose = 0\n",
        "        game_over = False\n",
        "        # Start game\n",
        "        state = env.reset()\n",
        "        \n",
        "        # Running the game\n",
        "        while not game_over:\n",
        "            action = agent.learned_act(state) # The state will be useless\n",
        "            state, reward, game_over = env.act(action)\n",
        "            \n",
        "            if reward >= 0:\n",
        "                win+=reward\n",
        "            else:\n",
        "                lose+=abs(reward)\n",
        "        \n",
        "        # Save as a mp4\n",
        "        env.draw(prefix+str(e))\n",
        "\n",
        "        # Update stats\n",
        "        score = score + win-lose\n",
        "\n",
        "        print(\"Win/lose count {}/{}. Average score ({})\"\n",
        "              .format(win, lose, score/(1+e)))\n",
        "    print('Final score: '+str(score/epochs))"
      ],
      "execution_count": 0,
      "outputs": []
    },
    {
      "metadata": {
        "id": "Iba54I9Ue8QB",
        "colab_type": "code",
        "outputId": "14a68d58-9f49-4582-bb64-0ca7a9a1ff33",
        "colab": {
          "base_uri": "https://localhost:8080/",
          "height": 395
        }
      },
      "cell_type": "code",
      "source": [
        "epochs_test=5 # set small when debugging\n",
        "\n",
        "# Initialize the game\n",
        "env = Environment(grid_size=size, max_time=T,temperature=temperature)\n",
        "\n",
        "# Initialize the agent!\n",
        "agent = RandomAgent()\n",
        "\n",
        "test(agent,env,epochs_test,prefix='random')\n",
        "HTML(display_videos('random0.mp4'))"
      ],
      "execution_count": 8,
      "outputs": [
        {
          "output_type": "stream",
          "text": [
            "Win/lose count 10.5/16.0. Average score (-5.5)\n",
            "Win/lose count 10.5/17.0. Average score (-6.0)\n",
            "Win/lose count 12.0/17.0. Average score (-5.666666666666667)\n",
            "Win/lose count 12.5/18.0. Average score (-5.625)\n",
            "Win/lose count 9.0/9.0. Average score (-4.5)\n",
            "Final score: -4.5\n"
          ],
          "name": "stdout"
        },
        {
          "output_type": "execute_result",
          "data": {
            "text/html": [
              "<video alt=\"test\" controls>\n",
              "                <source src=\"data:video/mp4;base64,AAAAIGZ0eXBpc29tAAACAGlzb21pc28yYXZjMW1wNDEAAAAIZnJlZQAAGJhtZGF0AAACrQYF//+p3EXpvebZSLeWLNgg2SPu73gyNjQgLSBjb3JlIDE1MiByMjg1NCBlOWE1OTAzIC0gSC4yNjQvTVBFRy00IEFWQyBjb2RlYyAtIENvcHlsZWZ0IDIwMDMtMjAxNyAtIGh0dHA6Ly93d3cudmlkZW9sYW4ub3JnL3gyNjQuaHRtbCAtIG9wdGlvbnM6IGNhYmFjPTEgcmVmPTMgZGVibG9jaz0xOjA6MCBhbmFseXNlPTB4MToweDExMSBtZT1oZXggc3VibWU9NyBwc3k9MSBwc3lfcmQ9MS4wMDowLjAwIG1peGVkX3JlZj0xIG1lX3JhbmdlPTE2IGNocm9tYV9tZT0xIHRyZWxsaXM9MSA4eDhkY3Q9MCBjcW09MCBkZWFkem9uZT0yMSwxMSBmYXN0X3Bza2lwPTEgY2hyb21hX3FwX29mZnNldD00IHRocmVhZHM9MyBsb29rYWhlYWRfdGhyZWFkcz0xIHNsaWNlZF90aHJlYWRzPTAgbnI9MCBkZWNpbWF0ZT0xIGludGVybGFjZWQ9MCBibHVyYXlfY29tcGF0PTAgY29uc3RyYWluZWRfaW50cmE9MCBiZnJhbWVzPTMgYl9weXJhbWlkPTIgYl9hZGFwdD0xIGJfYmlhcz0wIGRpcmVjdD0xIHdlaWdodGI9MSBvcGVuX2dvcD0wIHdlaWdodHA9MiBrZXlpbnQ9MjUwIGtleWludF9taW49MjUgc2NlbmVjdXQ9NDAgaW50cmFfcmVmcmVzaD0wIHJjX2xvb2thaGVhZD00MCByYz1jcmYgbWJ0cmVlPTEgY3JmPTIzLjAgcWNvbXA9MC42MCBxcG1pbj0wIHFwbWF4PTY5IHFwc3RlcD00IGlwX3JhdGlvPTEuNDAgYXE9MToxLjAwAIAAAAMcZYiEADf//vaH+BTZWBP+Wb/9DX/cj9uPrP1xYyEE31qvIejAGS+1H+b/rFFs6Z6UB/fgCJQAc24ZwpJw4v/ApLdW+BTLYTnGrzD8eNPwpbJHJ82I7SV6WKS9MQ7S8uRoNVdtBp/bVsbfvfjgvuFCHQtGja5r3TJxqfoHwm5WsgbcSKDEL2xEaJrhqbt247soQGeSQrh3zG3p+b+nQ67Bd2fjtp0bQwRSn6FjpPVK7Mo5UVy0JzbYH+aOcR0Xpo1DVdhrVXOwDSLAsaxyVsceiyYQ0ZCJTkZNC16k0jQY8VlNNXgYbDU2mmJISbOMWirqhu5/FfXNDpNQ/j2J0ptH7qJKWzCXfFrNmf9DoYYsiKrkO2GxzR51BQZn1ARmDd5CFzHo8f6N/ZXnJcwB/BUmLk3Gt7AjToIkFmUlerHMRxxvgSUJBy+EOomFRzgROs8SiIoiYPKbAcBPO6Uw5XH1nCrXiEUKuObWuh2xzcyykAAT3tXkhTEqSAquYa6ex3NpDQa+9u5YzpcJ+0JByBFgetRwhbKJaSLN1Bci2VeS8hvdCWySc5mhqDQKB9ZBlL6KIbBKSPvWHYkXbx2u99uvxXfGYlS+4lKHinQEdSPKkWyTzxqDex5EqKjN4+uxF6G3Ta50QfPSx5AhcuNYY0wtDHWmITemV493hErl+qSAAqrfk0wvYBrnRxp+TIwM2K+tTDrb6zqEH94EDAEZE+Q+r90hjAsoixIdsZoxu+Wb2P0/muzBoqEgveOUcXAxj11JHMchn4sIw7nleH/7/kujtoHfGKDr93D9MK2wnf1mgfrjU6jsIWIXObaowKCtTrbWatfDwPHMWho2QsA3FVZmJMB6JXC07tYs57QVm0F1cKqHHfNddm5iFIDTbkflp1uhFAnDHejLCcdQE5OxjsRLu+yutSYGGFPteJLhmMHroOACj0/pphAwg5wGVGfiNDDpWwfMemszjT5pTfMdxxEozDRAbAvhEKAAxD6IhviEmLS09M1AF3nGV4alDcoJ6dJbGFlGdpp/4BhhW0Uy2Tsv/4wEOFlY+px9GwABXQAAABRBmiFsQ7/+qZYAC3/JL8BINxUuYAAAABVBmkU8IZMphDf//qeEAAlo+Y8x/mEAAAANQZ5jalPC/wAFrZUxYAAAABABnoJ0Qr8AC85yd+AD7iXBAAAAEAGehGpCvwALznJ3s8fcS4EAAAAeQZqJSahBaJlMCG///qeEABYcVsxP9Xb3U/CGc4sFAAAAEEGep0URLC//AA0wjjOOSj0AAAAQAZ7GdEK/ABHfUSJ8WYpK0AAAAA8BnshqQr8AEeDWBdf4Q0AAAAAaQZrKSahBbJlMCG///qeEABY/dT9RxoSHS8EAAAAZQZrrSeEKUmUwId/+qZYAByfaXhagn9g8YAAAABtBmw9J4Q6JlMCHf/6plgALKLkH+/CjxWO+SDAAAAAUQZ8tRRE8L/8ADTKu720q2uQ6ykMAAAAQAZ9MdEK/AAtadSeV+SnD8QAAABABn05qQr8AEd2eOV/biDTBAAAAHUGbU0moQWiZTAhv//6nhAAWP3U++WgQn9DOMWMwAAAAEEGfcUURLC//AA0weh9mgJAAAAAQAZ+QdEK/ABHXVoyS3+vvgQAAAA8Bn5JqQr8AC6KNE1JUEoAAAAAbQZuVSahBbJlMFEw7//6plgALKLkH++0vuoqAAAAADwGftGpCvwAR3YjyYHr33wAAABhBm7lJ4QpSZTAh3/6plgALN76vvRQDJRUAAAAVQZ/XRTRML/8ADTCON1TpciRzt925AAAAEAGf9nRCvwASXcd5Wyh6yYEAAAAPAZ/4akK/AAvxF8zbMjdTAAAAEkGb/UmoQWiZTAhv//6nhAABJwAAABBBnhtFESwv/wANM5Ee/d0tAAAADwGeOnRCvwAR30ncGyXlJwAAAA8BnjxqQr8AEdlbpRpDxqcAAAAaQZo+SahBbJlMCHf//qmWAAb72l4WoJ/YPaAAAAAdQZpCSeEKUmUwId/+qZYABtPhR8Hx6utZyg3EMSAAAAAQQZ5gRTRML/8AB/E1b+bSlQAAAA8Bnp90Qr8ACxRhAZJdI4AAAAAPAZ6BakK/AAsTbdKNIeP/AAAAHEGahkmoQWiZTAhv//6nhAAId8dPutLM1Nui5QgAAAAQQZ6kRREsL/8ABR2WKhBw4QAAABABnsN0Qr8ABxWwNbTKHu9BAAAADwGexWpCvwAEmDQPJgmOgQAAABlBmslJqEFsmUwIb//+p4QABbPdTj/D6txzAAAAEUGe50UVLCv/AAS3NG80LCFDAAAADgGfCGpCvwAEtlGMm5YGAAAAHkGbC0moQWyZTBRMN//+p4QABY/dT7vN199bMUJAiQAAABABnypqQr8ABHZPnOtDDDvAAAAAH0GbLUnhClJlMFLDv/6plgABvvbUA/v2Wt8YZrbRG4AAAAAPAZ9MakK/AALW1lM2zI9JAAAAGUGbUEnhDomUwId//qmWAAGygsrjNL+2PyEAAAARQZ9uRRU8K/8AAsVhWCQlcVMAAAAOAZ+PakK/AALFYmK4GMwAAAAcQZuUSahBaJlMCHf//qmWAAK3pZi0zQHd9GPY3wAAABBBn7JFESwv/wADOCN3uGRBAAAADwGf0XRCvwAEV9J3Bsl69gAAAA8Bn9NqQr8ABHc0b1WAPSAAAAASQZvYSahBbJlMCG///qeEAAEnAAAADEGf9kUVLC//AACygAAAABABnhV0Qr8ABsLKu6vx3jWhAAAAEAGeF2pCvwAESVI72ePutoEAAAAaQZoZSahBbJlMCHf//qmWAAK776sqszbMUUAAAAAaQZo9SeEKUmUwIb/+p4QABUfdT91wQLdF3aEAAAAQQZ5bRTRML/8AAySrxvYR+AAAAA8Bnnp0Qr8ABDbQgMku/YEAAAAQAZ58akK/AAQ2WQw+gJB/iQAAABpBmn5JqEFomUwId//+qZYAAccdPymjH61rwAAAABJBmoJJ4QpSZTAh3/6plgAAlYAAAAAMQZ6gRTRML/8AALKBAAAAEAGe33RCvwAEeEAc/rQOksAAAAAQAZ7BakK/AAR21rushh0lgQAAABpBmsVJqEFomUwId//+qZYAAsnyDNAHpL7asAAAABJBnuNFESwr/wAEd2iF2G+l8ekAAAAPAZ8EakK/AAR3aITggfthAAAAG0GbCUmoQWyZTAh3//6plgACze+r70UKIRzLOQAAABBBnydFFSwv/wADTKu7/O4xAAAADwGfRnRCvwAG6sq7vN39wAAAAA8Bn0hqQr8ABHZW6UaQ80YAAAAaQZtMSahBbJlMCHf//qmWAAHHHT8pox+ta8EAAAASQZ9qRRUsK/8ABFenXeYwdrEcAAAAEAGfi2pCvwAEdzRvNMVblMAAAAAaQZuPSahBbJlMCHf//qmWAAHSHT8pox+tacEAAAAPQZ+tRRUsK/8AAvxGggLBAAAADwGfzmpCvwAElta7vu/AwQAAACFBm9NJqEFsmUwId//+qZYABKfkeIzgU1qsdyqvnYs/L5gAAAAVQZ/xRRUsL/8ABYqBBNzfrkN9s3IgAAAADwGeEHRCvwAEt9J3Bsl6xwAAABABnhJqQr8AB22eBdfrFMzAAAAAIkGaF0moQWyZTAhv//6nhAAJqgCzdO8dPWm5bPApsjBLK6YAAAAVQZ41RRUsL/8ABdE2cmbfH5yICS9hAAAAEAGeVHRCvwAHxiUMRqOAQEAAAAAQAZ5WakK/AAfEF5zrQwwHwQAAABlBmltJqEFsmUwIb//+p4QACaqDu7fYP2AVAAAAFEGeeUUVLC//AAXSgQTzYtXlrWOsAAAAEAGemHRCvwAFHtHeVsofFYEAAAAQAZ6aakK/AAfFngXX9uIvIAAAABhBmpxJqEFsmUwIb//+p4QACaqAd8MCN68AAAAZQZq9SeEKUmUwId/+qZYABMfjz9+yDcVd4QAAABxBmsBJ4Q6JlMCHf/6plgADGe0vC1BP6cLDp5LwAAAAEEGe/kURPCv/AAT5rcMAbSAAAAAPAZ8fakK/AATYNYF1/k7BAAAAE0GbBEmoQWiZTAh3//6plgAAlYAAAAAMQZ8iRREsL/8AALKBAAAADwGfQXRCvwAEyVI4jsuzzwAAAA8Bn0NqQr8ABMlSN1nq0T8AAAAcQZtISahBbJlMCG///qeEAAjo+aprNua8dPtkWQAAABBBn2ZFFSwv/wAFZZYqEG7hAAAAEAGfhXRCvwAHQjMiOxZimukAAAAPAZ+HakK/AAdrnDYHKjeAAAAAGUGbjEmoQWyZTAhn//6eEAAi3xD/GN9T7ogAAAAQQZ+qRRUsL/8ABWaBFaUbuQAAAA8Bn8l0Qr8AC19AOhOTKCAAAAAQAZ/LakK/AAdtXBrjxVt1IAAAABpBm81JqEFsmUwIb//+p4QACSoAs22z7PntQQAAABhBm/BJ4QpSZTAhn/6eEAA3Mhjn8Oc316UAAAAPQZ4ORTRMK/8AC6NuBNnBAAAADwGeL2pCvwAL8CxsDlQNgAAAABlBmjFJqEFomUwIZ//+nhAAVjgxz+HOb65HAAAAG0GaU0nhClJlMFESwz/+nhAAVr3TfaVZPl5uqQAAABABnnJqQr8AEdk+c60ML4JAAAAAGkGadEnhDomUwIZ//p4QADY+x8GP3ac3cXT4AAAAGEGalUnhDyZTAhn//p4QAFG4Mc/hzm+uXQAAABhBmrZJ4Q8mUwIZ//6eEABT69xoXTfdckwAAAAXQZrXSeEPJlMCGf/+nhAAVivcYI67I6UAAAAYQZr4SeEPJlMCGf/+nhAAWGvcaF033XIFAAAAG0GbGUnhDyZTAhv//qeEACKoAs220BgOb92RwAAAABlBmzpJ4Q8mUwIb//6nhAAjo+Y5J3GzBY3RAAAAIkGbXEnhDyZTBRE8O//+qZYAG8gsxabZwvffSZVA4f8feYAAAAAQAZ97akK/AC1qNEyJpWcbQQAAAB1Bm39J4Q8mUwId//6plgAbyCyuM0v3S0Dh/ippuwAAABFBn51FETwr/wAtdhWCQlb8mQAAAA4Bn75qQr8ALXYmK4EqZAAAABtBm6JJqEFomUwIb//+p4QAVjFaQY5OmSnYHn0AAAASQZ/ARREsK/8ARXp13d/SK42AAAAADgGf4WpCvwBFZXXceBxtAAAAEkGb5kmoQWyZTAhv//6nhAABJwAAAAxBngRFFSwv/wAAsoEAAAAPAZ4jdEK/ACvWUcR2XZYHAAAADwGeJWpCvwAr1lG6z1Z7xwAAABlBmidJqEFsmUwIb//+p4QANj7B69mfBFhBAAAAEUGaS0nhClJlMCG//qeEAAEnAAAAEkGeaUU0TC//AB8YlugK5EVeVAAAABABnoh0Qr8AKynUnlfkptrxAAAAEAGeimpCvwAsSjRMiaVnHcAAAAAdQZqNSahBaJlMFPDf/qeEAFI+NOgrZif6uc7+F6kAAAAQAZ6sakK/AEF6ddw+2bSR8QAAABlBmq5J4QpSZTAhv/6nhAB5TjP9VvmPxDZhAAAAHUGa0EnhDomUwU0TDv/+qZYAYqCzFpmgO76Met+9AAAADwGe72pCvwCfWEeTA9e2/wAAABFBmvRJ4Q8mUwIb//6nhAABJwAAAB5BnxJFETwv/wC4UT3MspijHMsA8HMsg34v3LKUAZkAAAAQAZ8xdEK/APhFWq8CK7akgAAAABABnzNqQr8A+ALznWhheIXAAAAAHUGbOEmoQWiZTAhv//6nhADI+wfzaXUDw4shTntnAAAAEEGfVkURLC//AHa+0KHs97AAAAAQAZ91dEK/AKPaO8rZQ9IJgQAAAA8Bn3dqQr8Ao8bXd93vAsEAAAAfQZt6SahBbJlMFEw3//6nhADMurVMf6rgMe5sutePgAAAABABn5lqQr8AqFjy3DZtTOqBAAAAGUGbm0nhClJlMCG//qeEATxAFm2xGF8zR8AAAAARQZu/SeEOiZTAhv/+p4QAAScAAAAMQZ/dRRE8L/8AALKBAAAADwGf/HRCvwD7VI4jsuypbQAAABABn/5qQr8A+1SO9nj7dPaAAAAAGkGb4EmoQWiZTAhv//6nhAKIoY1PKBj7dNmBAAAAHEGaBEnhClJlMCGf/p4QLQZxx73Yjp9OQX8ZiLgAAAAQQZ4iRTRML/8CARrUUHwqYQAAABABnkF0Qr8CsEAc7YxNqkjAAAAADgGeQ2pCvwKt5ompJVFFAAAAGUGaRUmoQWiZTAhv//6nhAu2zG8+C2eFg9MAAAAeQZpnSeEKUmUwURLDP/6eECPb+/UvOKnZ0jYqIxbRAAAAEAGehmpCvwJ1Zfqj4kXOd0EAAAAdQZqJSeEOiZTBRMM//p4QCC+LND+F9RsQLYKnsWAAAAAQAZ6oakK/AXVtyKvAE/lBgAAAABhBmqpJ4Q8mUwIZ//6eEALp7psZcmyrbL0AAAAaQZrLSeEPJlMCGf/+nhAC1/GCefGXJsq2zcAAAAAYQZrsSeEPJlMCG//+p4QAtfupx/h9W20TAAAAGUGbDUnhDyZTAhv//qeEAQxAFm22fZ80VMEAAAAZQZsuSeEPJlMCHf/+qZYAjBRzrQ9X3yFHwQAAABpBm1JJ4Q8mUwId//6plgCUFI2zl3ox8W8m4QAAABVBn3BFETwv/wCxUGxs0AYWXIrRKaAAAAAQAZ+PdEK/AOHxZnlfkpsuOAAAABABn5FqQr8A7TPCHjQ1jKaBAAAAHkGblkmoQWiZTAh3//6plgEFUdQgzP93aX74Zy8LUgAAABJBn7RFESwv/wEGz9y13Adz3HAAAAAQAZ/TdEK/AOzwwGSHk3aZgQAAABABn9VqQr8BbLHluGzamNqAAAAAEkGb2kmoQWyZTAhv//6nhAABJwAAAAxBn/hFFSwv/wAAsoEAAAAPAZ4XdEK/AWiyjiOy7Kj/AAAAEAGeGWpCvwFoso72ePt0tIEAAAAdQZocSahBbJlMFEw7//6plgEI8efxaNTqEG4MddwAAAAPAZ47akK/AWxtulGkPEm1AAAAG0GaIEnhClJlMCG//qeEARX46fcyMLZihHLnzQAAABBBnl5FNEwv/wCoMsE+NwjAAAAAEAGefXRCvwDh8MBklv9bW0AAAAAPAZ5/akK/AJK80TUlNt6BAAAAGUGaY0moQWiZTAhv//6nhACxe6nH+H1bbRsAAAARQZ6BRREsK/8AkuaN5oWD7e0AAAAOAZ6iakK/AJLKMZNyS9oAAAAdQZqlSahBbJlMFEwz//6eEAKh8TvjrkZJVusrauEAAAAPAZ7EakK/AIrJlM2zI1qDAAAAHEGax0nhClJlMFLDP/6eEAJ985vwV1tkxbBVAPEAAAAPAZ7makK/AILK5FXgCf1LAAAAG0Ga6UvhCEOiRGCCgH8gH9h4BRMK//44QAARcAAAACUBnwhqQr8Cr2PtQcTdqsNJJuWqhgcstbzybnhSMLD4CLbKBZzAAAAL0G1vb3YAAABsbXZoZAAAAAAAAAAAAAAAAAAAA+gAAB+QAAEAAAEAAAAAAAAAAAAAAAABAAAAAAAAAAAAAAAAAAAAAQAAAAAAAAAAAAAAAAAAQAAAAAAAAAAAAAAAAAAAAAAAAAAAAAAAAAAAAAAAAAIAAAr6dHJhawAAAFx0a2hkAAAAAwAAAAAAAAAAAAAAAQAAAAAAAB+QAAAAAAAAAAAAAAAAAAAAAAABAAAAAAAAAAAAAAAAAAAAAQAAAAAAAAAAAAAAAAAAQAAAAAEQAAABEAAAAAAAJGVkdHMAAAAcZWxzdAAAAAAAAAABAAAfkAAABAAAAQAAAAAKcm1kaWEAAAAgbWRoZAAAAAAAAAAAAAAAAAAAMgAAAZQAVcQAAAAAAC1oZGxyAAAAAAAAAAB2aWRlAAAAAAAAAAAAAAAAVmlkZW9IYW5kbGVyAAAACh1taW5mAAAAFHZtaGQAAAABAAAAAAAAAAAAAAAkZGluZgAAABxkcmVmAAAAAAAAAAEAAAAMdXJsIAAAAAEAAAndc3RibAAAAJVzdHNkAAAAAAAAAAEAAACFYXZjMQAAAAAAAAABAAAAAAAAAAAAAAAAAAAAAAEQARAASAAAAEgAAAAAAAAAAQAAAAAAAAAAAAAAAAAAAAAAAAAAAAAAAAAAAAAAAAAAABj//wAAAC9hdmNDAfQADf/hABdn9AANkZsoIhHQgAAAAwCAAAAZB4oUywEABWjr48RIAAAAGHN0dHMAAAAAAAAAAQAAAMoAAAIAAAAAFHN0c3MAAAAAAAAAAQAAAAEAAAWoY3R0cwAAAAAAAACzAAAAAgAABAAAAAABAAAKAAAAAAEAAAQAAAAAAQAAAAAAAAABAAACAAAAAAEAAAoAAAAAAQAABAAAAAABAAAAAAAAAAEAAAIAAAAAAgAABAAAAAABAAAKAAAAAAEAAAQAAAAAAQAAAAAAAAABAAACAAAAAAEAAAoAAAAAAQAABAAAAAABAAAAAAAAAAEAAAIAAAAAAQAABgAAAAABAAACAAAAAAEAAAoAAAAAAQAABAAAAAABAAAAAAAAAAEAAAIAAAAAAQAACgAAAAABAAAEAAAAAAEAAAAAAAAAAQAAAgAAAAABAAAEAAAAAAEAAAoAAAAAAQAABAAAAAABAAAAAAAAAAEAAAIAAAAAAQAACgAAAAABAAAEAAAAAAEAAAAAAAAAAQAAAgAAAAABAAAIAAAAAAIAAAIAAAAAAQAABgAAAAABAAACAAAAAAEAAAYAAAAAAQAAAgAAAAABAAAIAAAAAAIAAAIAAAAAAQAACgAAAAABAAAEAAAAAAEAAAAAAAAAAQAAAgAAAAABAAAKAAAAAAEAAAQAAAAAAQAAAAAAAAABAAACAAAAAAEAAAQAAAAAAQAACgAAAAABAAAEAAAAAAEAAAAAAAAAAQAAAgAAAAABAAAEAAAAAAEAAAoAAAAAAQAABAAAAAABAAAAAAAAAAEAAAIAAAAAAQAACAAAAAACAAACAAAAAAEAAAoAAAAAAQAABAAAAAABAAAAAAAAAAEAAAIAAAAAAQAACAAAAAACAAACAAAAAAEAAAgAAAAAAgAAAgAAAAABAAAKAAAAAAEAAAQAAAAAAQAAAAAAAAABAAACAAAAAAEAAAoAAAAAAQAABAAAAAABAAAAAAAAAAEAAAIAAAAAAQAACgAAAAABAAAEAAAAAAEAAAAAAAAAAQAAAgAAAAACAAAEAAAAAAEAAAgAAAAAAgAAAgAAAAABAAAKAAAAAAEAAAQAAAAAAQAAAAAAAAABAAACAAAAAAEAAAoAAAAAAQAABAAAAAABAAAAAAAAAAEAAAIAAAAAAQAACgAAAAABAAAEAAAAAAEAAAAAAAAAAQAAAgAAAAABAAAEAAAAAAEAAAgAAAAAAgAAAgAAAAABAAAEAAAAAAEAAAYAAAAAAQAAAgAAAAAHAAAEAAAAAAEAAAYAAAAAAQAAAgAAAAABAAAIAAAAAAIAAAIAAAAAAQAACAAAAAACAAACAAAAAAEAAAoAAAAAAQAABAAAAAABAAAAAAAAAAEAAAIAAAAAAQAABAAAAAABAAAKAAAAAAEAAAQAAAAAAQAAAAAAAAABAAACAAAAAAEAAAYAAAAAAQAAAgAAAAABAAAEAAAAAAEAAAYAAAAAAQAAAgAAAAABAAAKAAAAAAEAAAQAAAAAAQAAAAAAAAABAAACAAAAAAEAAAoAAAAAAQAABAAAAAABAAAAAAAAAAEAAAIAAAAAAQAABgAAAAABAAACAAAAAAEAAAQAAAAAAQAACgAAAAABAAAEAAAAAAEAAAAAAAAAAQAAAgAAAAABAAAEAAAAAAEAAAoAAAAAAQAABAAAAAABAAAAAAAAAAEAAAIAAAAAAQAABAAAAAABAAAGAAAAAAEAAAIAAAAAAQAABgAAAAABAAACAAAAAAUAAAQAAAAAAQAACgAAAAABAAAEAAAAAAEAAAAAAAAAAQAAAgAAAAABAAAKAAAAAAEAAAQAAAAAAQAAAAAAAAABAAACAAAAAAEAAAoAAAAAAQAABAAAAAABAAAAAAAAAAEAAAIAAAAAAQAABgAAAAABAAACAAAAAAEAAAoAAAAAAQAABAAAAAABAAAAAAAAAAEAAAIAAAAAAQAACAAAAAACAAACAAAAAAEAAAYAAAAAAQAAAgAAAAABAAAGAAAAAAEAAAIAAAAAAQAABgAAAAABAAACAAAAABxzdHNjAAAAAAAAAAEAAAABAAAAygAAAAEAAAM8c3RzegAAAAAAAAAAAAAAygAABdEAAAAYAAAAGQAAABEAAAAUAAAAFAAAACIAAAAUAAAAFAAAABMAAAAeAAAAHQAAAB8AAAAYAAAAFAAAABQAAAAhAAAAFAAAABQAAAATAAAAHwAAABMAAAAcAAAAGQAAABQAAAATAAAAFgAAABQAAAATAAAAEwAAAB4AAAAhAAAAFAAAABMAAAATAAAAIAAAABQAAAAUAAAAEwAAAB0AAAAVAAAAEgAAACIAAAAUAAAAIwAAABMAAAAdAAAAFQAAABIAAAAgAAAAFAAAABMAAAATAAAAFgAAABAAAAAUAAAAFAAAAB4AAAAeAAAAFAAAABMAAAAUAAAAHgAAABYAAAAQAAAAFAAAABQAAAAeAAAAFgAAABMAAAAfAAAAFAAAABMAAAATAAAAHgAAABYAAAAUAAAAHgAAABMAAAATAAAAJQAAABkAAAATAAAAFAAAACYAAAAZAAAAFAAAABQAAAAdAAAAGAAAABQAAAAUAAAAHAAAAB0AAAAgAAAAFAAAABMAAAAXAAAAEAAAABMAAAATAAAAIAAAABQAAAAUAAAAEwAAAB0AAAAUAAAAEwAAABQAAAAeAAAAHAAAABMAAAATAAAAHQAAAB8AAAAUAAAAHgAAABwAAAAcAAAAGwAAABwAAAAfAAAAHQAAACYAAAAUAAAAIQAAABUAAAASAAAAHwAAABYAAAASAAAAFgAAABAAAAATAAAAEwAAAB0AAAAVAAAAFgAAABQAAAAUAAAAIQAAABQAAAAdAAAAIQAAABMAAAAVAAAAIgAAABQAAAAUAAAAIQAAABQAAAAUAAAAEwAAACMAAAAUAAAAHQAAABUAAAAQAAAAEwAAABQAAAAeAAAAIAAAABQAAAAUAAAAEgAAAB0AAAAiAAAAFAAAACEAAAAUAAAAHAAAAB4AAAAcAAAAHQAAAB0AAAAeAAAAGQAAABQAAAAUAAAAIgAAABYAAAAUAAAAFAAAABYAAAAQAAAAEwAAABQAAAAhAAAAEwAAAB8AAAAUAAAAFAAAABMAAAAdAAAAFQAAABIAAAAhAAAAEwAAACAAAAATAAAAHwAAACkAAAAUc3RjbwAAAAAAAAABAAAAMAAAAGJ1ZHRhAAAAWm1ldGEAAAAAAAAAIWhkbHIAAAAAAAAAAG1kaXJhcHBsAAAAAAAAAAAAAAAALWlsc3QAAAAlqXRvbwAAAB1kYXRhAAAAAQAAAABMYXZmNTcuODMuMTAw\" type=\"video/mp4\" />\n",
              "             </video>"
            ],
            "text/plain": [
              "<IPython.core.display.HTML object>"
            ]
          },
          "metadata": {
            "tags": []
          },
          "execution_count": 8
        }
      ]
    },
    {
      "metadata": {
        "id": "D_eFHXsJe8QE",
        "colab_type": "text"
      },
      "cell_type": "markdown",
      "source": [
        "***\n",
        "## DQN"
      ]
    },
    {
      "metadata": {
        "id": "NnfwB5xJe8QG",
        "colab_type": "text"
      },
      "cell_type": "markdown",
      "source": [
        "Let us assume here that $T=\\infty$.\n",
        "\n",
        "***\n",
        "__Question 5__ Let $\\pi$ be a policy, show that:\n",
        "\n",
        "\\begin{equation*}\n",
        "Q^{\\pi}(s,a)=E_{(s',a')\\sim p(.|s,a)}[r(s,a)+\\gamma Q^{\\pi}(s',a')]\n",
        "\\end{equation*}\n",
        "\n",
        "Then, show that for the optimal policy $\\pi^*$ (we assume its existence), the following holds: \n",
        "\n",
        "\\begin{equation*}\n",
        "Q^{*}(s,a)=E_{s'\\sim \\pi^*(.|s,a)}[r(s,a)+\\gamma\\max_{a'}Q^{*}(s',a')].\n",
        "\\end{equation*}\n",
        "Finally, deduce that a plausible objective is:\n",
        "\n",
        "\\begin{equation*}\n",
        "\\mathcal{L}(\\theta)=E_{s' \\sim \\pi^*(.|s,a)}\\Vert r+\\gamma\\max\\max_{a'}Q(s',a',\\theta)-Q(s,a,\\theta)\\Vert^{2}.\n",
        "\\end{equation*}\n",
        "\n",
        "\n"
      ]
    },
    {
      "metadata": {
        "id": "NhAceGGqe8QH",
        "colab_type": "text"
      },
      "cell_type": "markdown",
      "source": [
        "By definition of the action-value of a policy $\\pi$, we have :  \n",
        "\n",
        "- $Q^\\pi(s,a)$\n",
        "\n",
        "$Q^\\pi(s,a) = E_\\pi \\Big[ \\overset{\\infty}{\\underset{k=0}{\\sum}} \\gamma^k r_{t+k} \\Big| s_t = s, a_t = a \\Big]$  \n",
        "\n",
        "$= E\\Big[r(s,a) + \\overset{\\infty}{\\underset{k=1}{\\sum}} \\gamma^k r_{t+k} \\Big| s_t = s, a_t = a\\Big]$  \n",
        "\n",
        "$ =  r(s,a) + \\gamma E\\left[E\\left[\\overset{\\infty}{\\underset{k=0}{\\sum}}[\\gamma^k r_{t+1+k}|s_{t+1}=s',a_{t+1}=a'\\right]|s_t = s, a_t = a\\right]$\n",
        "\n",
        "$ = r(s,a) + \\gamma \\underset{(s',a')}{\\sum}(p(s_{t+1}=s',a_{t+1}=a' |s_t = s, a_t = a ))*E[\\overset{\\infty}{\\underset{k=0}{\\sum}}\\gamma^k r_{t+1+k}|s_{t+1}=s',a_{t+1}=a']$\n",
        "\n",
        "$ =  \\underset{(s',a')}{\\sum} (p(s_{t+1}=s',a_{t+1}=a' |s_t = s, a_t = a ) r(s,a) + \\underset{(s',a')}{\\sum}(p(s_{t+1}=s',a_{t+1}=a' |s_t = s, a_t = a ))E[\\sum_{k=0}^{\\infty}\\gamma^k r_{t+1+k}|s_{t+1}=s',a_{t+1}=a']$\n",
        "\n",
        "$= E_{(s',a')\\sim p(.|s,a)}[r(s,a)+\\gamma Q^{\\pi}(s',a')]$\n",
        "   \n",
        "$$  \n",
        "$$   \n",
        "- $Q^*(s,a)$\n",
        "\n",
        "$Q^*(s,a) = \\underset{(a',\\pi')}{\\max}\\left[E_{(s',a')\\sim p(.|s,a)}\\left(r(s,a)+\\gamma Q^{(a',\\pi')}(s',a')\\right)\\right] $\n",
        "\n",
        "$ = \\underset{(a',\\pi')}{\\max}\\left[r(s,a) + \\gamma \\sum(p(s_{t+1}=s' |s_t = s, a_t = a )Q^{(a',\\pi')}(s',a')\\right]$\n",
        "\n",
        "$= r(s,a) + \\gamma * \\underset{(a',\\pi')}{\\max}\\left[ \\sum(p(s_{t+1}=s' |s_t = s, a_t = a )Q^{(a',\\pi')}(s',a')\\right] $\n",
        "\n",
        "$$\n",
        "$$\n",
        "\n",
        "- Rewriting $Q^{*}(s,a)$\n",
        "$Q^{*}(s,a) = r(s,a) + \\gamma  \\overset{\\infty}{\\underset{k=0}{\\sum}}(p(s_{t+1}=s' |s_t = s, a_t = a )\\underset{a'}{\\max}\\underset{\\pi'}{\\max}Q^{\\pi'}(s',a') $\n",
        "$= r(s,a) + \\gamma \\overset{\\infty}{\\underset{k=0}{\\sum}}(p(s_{t+1}=s' |s_t = s, a_t = a )\\underset{a'}{\\max} Q^{*}(s',a') $\n",
        "$=E_{s'\\sim \\pi^*(.|s,a)}\\left[r(s,a)+\\gamma\\underset{a'}{\\max}Q^{*}(s',a')\\right]$\n",
        "$$\n",
        "$$\n",
        "- Objective function\n",
        "\n",
        "$\\mathcal{L}(\\theta)=E_{s' \\sim \\pi^*(.|s,a)}*\\Vert r+\\gamma\\max_{a'}\\left(Q(s',a',\\theta)-Q(s,a,\\theta)\\right)\\Vert^{2}$\n"
      ]
    },
    {
      "metadata": {
        "id": "84o3AG09e8QJ",
        "colab_type": "text"
      },
      "cell_type": "markdown",
      "source": [
        "***\n",
        "The DQN-learning algorithm relies on these derivations to train the parameters $\\theta$ of a Deep Neural Network:\n",
        "\n",
        "1. At the state $s_t$, select the action $a_t$ with best reward using $Q_t$ and store the results;\n",
        "\n",
        "2. Obtain the new state $s_{t+1}$ from the environment $p$;\n",
        "\n",
        "3. Store $(s_t,a_t,s_{t+1})$;\n",
        "\n",
        "4. Obtain $Q_{t+1}$ by minimizing  $\\mathcal{L}$ from a recovered batch from the previously stored results.\n",
        "\n",
        "***\n",
        "__Question 6__ Implement the class ```Memory``` that stores moves (in a replay buffer) via ```remember``` and provides a ```random_access``` to these. Specify a maximum memory size to avoid side effects. You can for example use a ```list()``` and set by default ```max_memory=100```."
      ]
    },
    {
      "metadata": {
        "id": "mosmSRh6e8QL",
        "colab_type": "code",
        "colab": {}
      },
      "cell_type": "code",
      "source": [
        "class Memory(object):\n",
        "    def __init__(self, max_memory=100):\n",
        "        self.max_memory = max_memory\n",
        "        self.memory = list()\n",
        "\n",
        "    def remember(self, m):\n",
        "        self.memory.append(m)\n",
        "        if len(self.memory) > self.max_memory:\n",
        "            self.memory.pop(0)\n",
        "\n",
        "    def random_access(self):\n",
        "        id_random = np.random.randint(len(self.memory))\n",
        "        return self.memory[id_random]"
      ],
      "execution_count": 0,
      "outputs": []
    },
    {
      "metadata": {
        "id": "HT0IrODde8QR",
        "colab_type": "text"
      },
      "cell_type": "markdown",
      "source": [
        "***\n",
        "The pipeline we will use for training is given below:"
      ]
    },
    {
      "metadata": {
        "id": "hCarcHK4e8QT",
        "colab_type": "code",
        "colab": {}
      },
      "cell_type": "code",
      "source": [
        "def train(agent,env,epoch,prefix=''):\n",
        "    # Number of won games\n",
        "    score = 0\n",
        "    loss = 0\n",
        "\n",
        "    for e in range(epoch):\n",
        "        # At each epoch, we restart to a fresh game and get the initial state\n",
        "        state = env.reset()\n",
        "        # This assumes that the games will terminate\n",
        "        game_over = False\n",
        "\n",
        "        win = 0\n",
        "        lose = 0\n",
        "\n",
        "        while not game_over:\n",
        "            # The agent performs an action\n",
        "            action = agent.act(state)\n",
        "\n",
        "            # Apply an action to the environment, get the next state, the reward\n",
        "            # and if the games end\n",
        "            prev_state = state\n",
        "            state, reward, game_over = env.act(action)\n",
        "\n",
        "            # Update the counters\n",
        "            if reward > 0:\n",
        "                win = win + reward\n",
        "            if reward < 0:\n",
        "                lose = lose -reward\n",
        "\n",
        "            # Apply the reinforcement strategy\n",
        "            loss = agent.reinforce(prev_state, state,  action, reward, game_over)\n",
        "\n",
        "        # Save as a mp4\n",
        "        if e % 10 == 0 or e == epoch - 1:\n",
        "            env.draw(prefix+str(e))\n",
        "\n",
        "        # Update stats\n",
        "        score += win-lose\n",
        "\n",
        "        print(\"Epoch {:03d}/{:03d} | Loss {:.4f} | Win/lose count {}/{} ({})\"\n",
        "              .format(e+1, epoch, loss, win, lose, win-lose))\n",
        "        agent.save(name_weights=prefix+'model.h5',name_model=prefix+'model.json')"
      ],
      "execution_count": 0,
      "outputs": []
    },
    {
      "metadata": {
        "id": "QIJTlijne8QY",
        "colab_type": "text"
      },
      "cell_type": "markdown",
      "source": [
        "***\n",
        "__Question 7__ Implement the DQN training algorithm using a cascade of fully connected layers. You can use different learning rate, batch size or memory size parameters. In particular, the loss might oscillate while the player will start to win the games. You have to find a good criterium."
      ]
    },
    {
      "metadata": {
        "id": "iI6rBOEge8Qb",
        "colab_type": "code",
        "colab": {}
      },
      "cell_type": "code",
      "source": [
        "from keras.layers.core import Flatten\n",
        "\n",
        "class DQN(Agent):\n",
        "    def __init__(self, grid_size,  epsilon = 0.1, memory_size=100, batch_size = 16,n_state=2):\n",
        "        super(DQN, self).__init__(epsilon = epsilon)\n",
        "\n",
        "        # Discount for Q learning\n",
        "        self.discount = 0.99\n",
        "        \n",
        "        self.grid_size = grid_size\n",
        "        \n",
        "        # number of state\n",
        "        self.n_state = n_state\n",
        "\n",
        "        # Memory\n",
        "        self.memory = Memory(memory_size)\n",
        "        \n",
        "        # Batch size when learning\n",
        "        self.batch_size = batch_size\n",
        "\n",
        "    def learned_act(self, s):\n",
        "        actions = self.model.predict(np.expand_dims(s, 0))\n",
        "        id_max = np.argmax(actions)\n",
        "        return id_max\n",
        "\n",
        "    def reinforce(self, s_, n_s_, a_, r_, game_over_):\n",
        "        # Two steps: first memorize the states, second learn from the pool\n",
        "\n",
        "        self.memory.remember([s_, n_s_, a_, r_, game_over_])\n",
        "        \n",
        "        input_states = np.zeros((self.batch_size, 5,5,self.n_state))\n",
        "        target_q = np.zeros((self.batch_size, 4))\n",
        "        \n",
        "        for i in range(self.batch_size):\n",
        "            s_, n_s_, a_, r_, game_over_  = self.memory.random_access()\n",
        "            \n",
        "            actions = self.model.predict(np.expand_dims(s_, 0))\n",
        "            value_max_action = np.max(actions)\n",
        "            \n",
        "            target_q[i] = actions\n",
        "            \n",
        "            if game_over_:\n",
        "                input_states[i] = s_\n",
        "                target_q[i,a_] = r_\n",
        "            else:\n",
        "                input_states[i] = s_\n",
        "                target_q[i,a_] = r_  + self.discount * value_max_action\n",
        "        \n",
        "        # HINT: Clip the target to avoid exploiding gradients.. -- clipping is a bit tighter\n",
        "        target_q = np.clip(target_q, -3, 3)\n",
        "        l = self.model.train_on_batch(input_states, target_q)\n",
        "        return l\n",
        "\n",
        "    def save(self,name_weights='model.h5',name_model='model.json'):\n",
        "        self.model.save_weights(name_weights, overwrite=True)\n",
        "        with open(name_model, \"w\") as outfile:\n",
        "            json.dump(self.model.to_json(), outfile)\n",
        "            \n",
        "    def load(self,name_weights='model.h5',name_model='model.json'):\n",
        "        with open(name_model, \"r\") as jfile:\n",
        "            model = model_from_json(json.load(jfile))\n",
        "        model.load_weights(name_weights)\n",
        "        model.compile(\"sgd\", \"mse\")\n",
        "        self.model = model\n",
        "\n",
        "            \n",
        "class DQN_FC(DQN):\n",
        "    def __init__(self, *args, lr=0.1,**kwargs):\n",
        "        super(DQN_FC, self).__init__( *args,**kwargs)\n",
        "        \n",
        "        # NN Model\n",
        "        model = Sequential()\n",
        "        model.add(Dense(64, activation='relu'))\n",
        "        model.add(Flatten())\n",
        "        model.add(Dense(128, activation='relu'))\n",
        "        model.add(Dense(4, activation='softmax'))\n",
        "        model.compile(sgd(lr=lr, decay=1e-4, momentum=0.1), \"mse\")\n",
        "        self.model = model\n",
        "        "
      ],
      "execution_count": 0,
      "outputs": []
    },
    {
      "metadata": {
        "id": "zMTTBllTe8Qk",
        "colab_type": "code",
        "outputId": "ac46fe2a-57c3-4de9-90f0-ce208de13531",
        "colab": {
          "base_uri": "https://localhost:8080/",
          "height": 1486
        }
      },
      "cell_type": "code",
      "source": [
        "import glob\n",
        "epochs_train = 64\n",
        "# epochs_test = 64\n",
        "\n",
        "env = Environment(grid_size=size, max_time=T, temperature=0.3)\n",
        "agent = DQN_FC(size, lr=.1, epsilon = 0.5, memory_size=500, batch_size = 64)\n",
        "\n",
        "# NOTE : a high epsilon is important to avoid to stick to a 2 case movement.\n",
        "# Even with this, we often end up to stop exploring the map.\n",
        "\n",
        "train(agent, env, epochs_train, prefix='fc_train')\n",
        "# test(agent,env,epochs_test,prefix='fc_train')\n",
        "\n",
        "video_paths = glob.glob(\"fc_train*.mp4\")\n",
        "video_paths.sort()\n",
        "best_video_path = video_paths.pop()\n",
        "print(\"Displaying \", best_video_path)\n",
        "HTML(display_videos(best_video_path))"
      ],
      "execution_count": 12,
      "outputs": [
        {
          "output_type": "stream",
          "text": [
            "WARNING:tensorflow:From /usr/local/lib/python3.6/dist-packages/tensorflow/python/framework/op_def_library.py:263: colocate_with (from tensorflow.python.framework.ops) is deprecated and will be removed in a future version.\n",
            "Instructions for updating:\n",
            "Colocations handled automatically by placer.\n",
            "WARNING:tensorflow:From /usr/local/lib/python3.6/dist-packages/tensorflow/python/ops/math_ops.py:3066: to_int32 (from tensorflow.python.ops.math_ops) is deprecated and will be removed in a future version.\n",
            "Instructions for updating:\n",
            "Use tf.cast instead.\n",
            "Epoch 001/064 | Loss 0.0309 | Win/lose count 12.5/14.0 (-1.5)\n",
            "Epoch 002/064 | Loss 0.0116 | Win/lose count 6.5/7.0 (-0.5)\n",
            "Epoch 003/064 | Loss 0.0152 | Win/lose count 5.0/10.0 (-5.0)\n",
            "Epoch 004/064 | Loss 0.0079 | Win/lose count 4.5/7.0 (-2.5)\n",
            "Epoch 005/064 | Loss 0.0149 | Win/lose count 8.5/7.0 (1.5)\n",
            "Epoch 006/064 | Loss 0.0090 | Win/lose count 10.5/5.0 (5.5)\n",
            "Epoch 007/064 | Loss 0.0107 | Win/lose count 7.0/8.0 (-1.0)\n",
            "Epoch 008/064 | Loss 0.0092 | Win/lose count 6.5/5.0 (1.5)\n",
            "Epoch 010/064 | Loss 0.0113 | Win/lose count 6.0/16.0 (-10.0)\n",
            "Epoch 011/064 | Loss 0.0169 | Win/lose count 10.0/6.0 (4.0)\n",
            "Epoch 012/064 | Loss 0.0227 | Win/lose count 12.5/10.0 (2.5)\n",
            "Epoch 013/064 | Loss 0.0093 | Win/lose count 11.0/9.0 (2.0)\n",
            "Epoch 014/064 | Loss 0.0152 | Win/lose count 12.0/12.0 (0.0)\n",
            "Epoch 015/064 | Loss 0.0140 | Win/lose count 10.0/13.0 (-3.0)\n",
            "Epoch 016/064 | Loss 0.0155 | Win/lose count 8.5/9.0 (-0.5)\n",
            "Epoch 017/064 | Loss 0.0170 | Win/lose count 8.5/9.0 (-0.5)\n",
            "Epoch 018/064 | Loss 0.0106 | Win/lose count 8.0/10.0 (-2.0)\n",
            "Epoch 019/064 | Loss 0.0035 | Win/lose count 5.5/10.0 (-4.5)\n",
            "Epoch 020/064 | Loss 0.0165 | Win/lose count 8.5/8.0 (0.5)\n",
            "Epoch 021/064 | Loss 0.0220 | Win/lose count 12.0/10.0 (2.0)\n",
            "Epoch 022/064 | Loss 0.0116 | Win/lose count 11.5/4.0 (7.5)\n",
            "Epoch 023/064 | Loss 0.0143 | Win/lose count 9.5/5.0 (4.5)\n",
            "Epoch 024/064 | Loss 0.0088 | Win/lose count 9.0/14.0 (-5.0)\n",
            "Epoch 025/064 | Loss 0.0151 | Win/lose count 12.5/3.0 (9.5)\n",
            "Epoch 026/064 | Loss 0.0204 | Win/lose count 7.5/10.0 (-2.5)\n",
            "Epoch 027/064 | Loss 0.0181 | Win/lose count 14.5/7.0 (7.5)\n",
            "Epoch 028/064 | Loss 0.0320 | Win/lose count 25.0/16.0 (9.0)\n",
            "Epoch 029/064 | Loss 0.0297 | Win/lose count 17.5/15.0 (2.5)\n",
            "Epoch 030/064 | Loss 0.0241 | Win/lose count 11.0/14.0 (-3.0)\n",
            "Epoch 031/064 | Loss 0.0166 | Win/lose count 8.5/3.0 (5.5)\n",
            "Epoch 032/064 | Loss 0.0151 | Win/lose count 13.5/5.0 (8.5)\n",
            "Epoch 033/064 | Loss 0.0176 | Win/lose count 21.5/10.0 (11.5)\n",
            "Epoch 034/064 | Loss 0.0239 | Win/lose count 7.0/6.0 (1.0)\n",
            "Epoch 035/064 | Loss 0.0113 | Win/lose count 13.0/7.0 (6.0)\n",
            "Epoch 036/064 | Loss 0.0154 | Win/lose count 16.5/11.0 (5.5)\n",
            "Epoch 037/064 | Loss 0.0170 | Win/lose count 10.5/10.0 (0.5)\n",
            "Epoch 038/064 | Loss 0.0184 | Win/lose count 11.0/17.0 (-6.0)\n",
            "Epoch 039/064 | Loss 0.0316 | Win/lose count 14.5/13.0 (1.5)\n",
            "Epoch 040/064 | Loss 0.0181 | Win/lose count 13.0/14.0 (-1.0)\n",
            "Epoch 041/064 | Loss 0.0197 | Win/lose count 11.5/6.0 (5.5)\n",
            "Epoch 042/064 | Loss 0.0157 | Win/lose count 19.5/17.0 (2.5)\n",
            "Epoch 043/064 | Loss 0.0280 | Win/lose count 6.5/5.0 (1.5)\n",
            "Epoch 045/064 | Loss 0.0268 | Win/lose count 17.0/8.0 (9.0)\n",
            "Epoch 046/064 | Loss 0.0280 | Win/lose count 10.5/9.0 (1.5)\n",
            "Epoch 047/064 | Loss 0.0118 | Win/lose count 13.5/12.0 (1.5)\n",
            "Epoch 048/064 | Loss 0.0229 | Win/lose count 11.5/10.0 (1.5)\n",
            "Epoch 049/064 | Loss 0.0228 | Win/lose count 18.0/11.0 (7.0)\n",
            "Epoch 050/064 | Loss 0.0285 | Win/lose count 21.0/13.0 (8.0)\n",
            "Epoch 051/064 | Loss 0.0202 | Win/lose count 14.5/10.0 (4.5)\n",
            "Epoch 052/064 | Loss 0.0385 | Win/lose count 18.0/15.0 (3.0)\n",
            "Epoch 053/064 | Loss 0.0346 | Win/lose count 23.5/14.0 (9.5)\n",
            "Epoch 054/064 | Loss 0.0361 | Win/lose count 15.5/9.0 (6.5)\n",
            "Epoch 055/064 | Loss 0.0277 | Win/lose count 20.5/18.0 (2.5)\n",
            "Epoch 056/064 | Loss 0.0455 | Win/lose count 22.0/9.0 (13.0)\n",
            "Epoch 057/064 | Loss 0.0285 | Win/lose count 14.0/11.0 (3.0)\n",
            "Epoch 058/064 | Loss 0.0204 | Win/lose count 21.5/8.0 (13.5)\n",
            "Epoch 059/064 | Loss 0.0337 | Win/lose count 15.5/12.0 (3.5)\n",
            "Epoch 060/064 | Loss 0.0308 | Win/lose count 18.5/13.0 (5.5)\n",
            "Epoch 061/064 | Loss 0.0227 | Win/lose count 14.0/16.0 (-2.0)\n",
            "Epoch 062/064 | Loss 0.0269 | Win/lose count 14.5/11.0 (3.5)\n",
            "Epoch 063/064 | Loss 0.0188 | Win/lose count 4.5/2.0 (2.5)\n",
            "Epoch 064/064 | Loss 0.0152 | Win/lose count 11.0/7.0 (4.0)\n",
            "Displaying  fc_train63.mp4\n"
          ],
          "name": "stdout"
        },
        {
          "output_type": "execute_result",
          "data": {
            "text/html": [
              "<video alt=\"test\" controls>\n",
              "                <source src=\"data:video/mp4;base64,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\" type=\"video/mp4\" />\n",
              "             </video>"
            ],
            "text/plain": [
              "<IPython.core.display.HTML object>"
            ]
          },
          "metadata": {
            "tags": []
          },
          "execution_count": 12
        }
      ]
    },
    {
      "metadata": {
        "id": "wgeO6YOie8Qm",
        "colab_type": "text"
      },
      "cell_type": "markdown",
      "source": [
        "***\n",
        "***\n",
        "__Question 8__ Implement the DQN training algorithm using a CNN (for example, 2 convolutional layers and one final fully connected layer)."
      ]
    },
    {
      "metadata": {
        "id": "UW8ysoEZe8Qn",
        "colab_type": "code",
        "colab": {}
      },
      "cell_type": "code",
      "source": [
        "class DQN_CNN(DQN):\n",
        "    def __init__(self, *args,lr=0.1,**kwargs):\n",
        "        super(DQN_CNN, self).__init__(*args,**kwargs)\n",
        "        \n",
        "        model = Sequential()\n",
        "        model.add(Conv2D(32, (2, 2), input_shape=(5,5,self.n_state,), activation='relu'))\n",
        "        model.add(Conv2D(64, (2, 2), activation='relu'))\n",
        "        model.add(Dropout(rate=0.2))\n",
        "        model.add(Flatten())\n",
        "        # model.add(Dense(128, activation='relu'))\n",
        "        model.add(Dense(4, activation='softmax'))\n",
        "        \n",
        "        model.compile(sgd(lr=lr, decay=1e-4, momentum=0.1), \"mse\")\n",
        "        self.model = model"
      ],
      "execution_count": 0,
      "outputs": []
    },
    {
      "metadata": {
        "id": "dEQv-Guie8Qq",
        "colab_type": "code",
        "colab": {
          "base_uri": "https://localhost:8080/",
          "height": 2540
        },
        "outputId": "2cc2e7bd-12df-49d8-9dd1-cdd947fb20a9"
      },
      "cell_type": "code",
      "source": [
        "epochs_train = 128\n",
        "# epochs_test = 128\n",
        "\n",
        "env = Environment(grid_size=size, max_time=T, temperature=0.3)\n",
        "agent = DQN_CNN(size, lr=.1, epsilon = 0.1, memory_size=2000, batch_size = 32)\n",
        "\n",
        "train(agent,env,epochs_train,prefix='cnn_train')\n",
        "# test(agent,env,epochs_test,prefix='cnn_train')\n",
        "\n",
        "\n",
        "video_paths = glob.glob(\"cnn_train*.mp4\")\n",
        "video_paths.sort()\n",
        "best_video_path = video_paths.pop()\n",
        "print(\"Displaying \", best_video_path)\n",
        "HTML(display_videos(best_video_path))"
      ],
      "execution_count": 14,
      "outputs": [
        {
          "output_type": "stream",
          "text": [
            "WARNING:tensorflow:From /usr/local/lib/python3.6/dist-packages/keras/backend/tensorflow_backend.py:3445: calling dropout (from tensorflow.python.ops.nn_ops) with keep_prob is deprecated and will be removed in a future version.\n",
            "Instructions for updating:\n",
            "Please use `rate` instead of `keep_prob`. Rate should be set to `rate = 1 - keep_prob`.\n",
            "Epoch 001/128 | Loss 0.0002 | Win/lose count 2.5/4.0 (-1.5)\n",
            "Epoch 002/128 | Loss 0.0002 | Win/lose count 2.5/2.0 (0.5)\n",
            "Epoch 003/128 | Loss 0.0075 | Win/lose count 3.0/6.0 (-3.0)\n",
            "Epoch 004/128 | Loss 0.0110 | Win/lose count 4.0/2.0 (2.0)\n",
            "Epoch 005/128 | Loss 0.0001 | Win/lose count 6.0/4.0 (2.0)\n",
            "Epoch 006/128 | Loss 0.0041 | Win/lose count 4.0/1.0 (3.0)\n",
            "Epoch 007/128 | Loss 0.0020 | Win/lose count 2.0/4.0 (-2.0)\n",
            "Epoch 008/128 | Loss 0.0046 | Win/lose count 5.0/3.0 (2.0)\n",
            "Epoch 009/128 | Loss 0.0096 | Win/lose count 4.5/5.0 (-0.5)\n",
            "Epoch 010/128 | Loss 0.0022 | Win/lose count 7.0/1.0 (6.0)\n",
            "Epoch 011/128 | Loss 0.0117 | Win/lose count 4.5/3.0 (1.5)\n",
            "Epoch 012/128 | Loss 0.0107 | Win/lose count 5.5/0 (5.5)\n",
            "Epoch 013/128 | Loss 0.0079 | Win/lose count 4.0/3.0 (1.0)\n",
            "Epoch 014/128 | Loss 0.0043 | Win/lose count 1.5/3.0 (-1.5)\n",
            "Epoch 015/128 | Loss 0.0058 | Win/lose count 3.5/0 (3.5)\n",
            "Epoch 016/128 | Loss 0.0002 | Win/lose count 3.5/4.0 (-0.5)\n",
            "Epoch 017/128 | Loss 0.0020 | Win/lose count 7.5/3.0 (4.5)\n",
            "Epoch 018/128 | Loss 0.0043 | Win/lose count 5.5/1.0 (4.5)\n",
            "Epoch 019/128 | Loss 0.0022 | Win/lose count 6.0/1.0 (5.0)\n",
            "Epoch 020/128 | Loss 0.0055 | Win/lose count 2.5/5.0 (-2.5)\n",
            "Epoch 021/128 | Loss 0.0030 | Win/lose count 7.0/0 (7.0)\n",
            "Epoch 022/128 | Loss 0.0083 | Win/lose count 2.5/0 (2.5)\n",
            "Epoch 023/128 | Loss 0.0045 | Win/lose count 1.5/1.0 (0.5)\n",
            "Epoch 024/128 | Loss 0.0012 | Win/lose count 3.0/3.0 (0.0)\n",
            "Epoch 025/128 | Loss 0.0060 | Win/lose count 4.5/0 (4.5)\n",
            "Epoch 026/128 | Loss 0.0033 | Win/lose count 6.0/3.0 (3.0)\n",
            "Epoch 027/128 | Loss 0.0076 | Win/lose count 2.0/0 (2.0)\n",
            "Epoch 029/128 | Loss 0.0046 | Win/lose count 2.5/0 (2.5)\n",
            "Epoch 030/128 | Loss 0.0039 | Win/lose count 4.0/2.0 (2.0)\n",
            "Epoch 031/128 | Loss 0.0160 | Win/lose count 3.0/2.0 (1.0)\n",
            "Epoch 032/128 | Loss 0.0060 | Win/lose count 4.0/6.0 (-2.0)\n",
            "Epoch 033/128 | Loss 0.0088 | Win/lose count 2.5/3.0 (-0.5)\n",
            "Epoch 034/128 | Loss 0.0020 | Win/lose count 3.0/5.0 (-2.0)\n",
            "Epoch 035/128 | Loss 0.0184 | Win/lose count 4.5/3.0 (1.5)\n",
            "Epoch 036/128 | Loss 0.0077 | Win/lose count 2.5/1.0 (1.5)\n",
            "Epoch 037/128 | Loss 0.0094 | Win/lose count 6.0/2.0 (4.0)\n",
            "Epoch 038/128 | Loss 0.0164 | Win/lose count 2.5/3.0 (-0.5)\n",
            "Epoch 039/128 | Loss 0.0042 | Win/lose count 5.5/0 (5.5)\n",
            "Epoch 040/128 | Loss 0.0060 | Win/lose count 3.5/3.0 (0.5)\n",
            "Epoch 041/128 | Loss 0.0056 | Win/lose count 6.0/2.0 (4.0)\n",
            "Epoch 042/128 | Loss 0.0057 | Win/lose count 1.0/2.0 (-1.0)\n",
            "Epoch 043/128 | Loss 0.0166 | Win/lose count 3.5/5.0 (-1.5)\n",
            "Epoch 044/128 | Loss 0.0094 | Win/lose count 2.5/3.0 (-0.5)\n",
            "Epoch 045/128 | Loss 0.0004 | Win/lose count 2.5/3.0 (-0.5)\n",
            "Epoch 046/128 | Loss 0.0156 | Win/lose count 6.0/2.0 (4.0)\n",
            "Epoch 047/128 | Loss 0.0058 | Win/lose count 4.5/2.0 (2.5)\n",
            "Epoch 048/128 | Loss 0.0021 | Win/lose count 5.0/1.0 (4.0)\n",
            "Epoch 049/128 | Loss 0.0002 | Win/lose count 3.0/1.0 (2.0)\n",
            "Epoch 050/128 | Loss 0.0024 | Win/lose count 1.5/2.0 (-0.5)\n",
            "Epoch 051/128 | Loss 0.0089 | Win/lose count 2.0/1.0 (1.0)\n",
            "Epoch 052/128 | Loss 0.0007 | Win/lose count 4.0/3.0 (1.0)\n",
            "Epoch 053/128 | Loss 0.0140 | Win/lose count 6.0/2.0 (4.0)\n",
            "Epoch 054/128 | Loss 0.0017 | Win/lose count 2.0/4.0 (-2.0)\n",
            "Epoch 055/128 | Loss 0.0029 | Win/lose count 1.5/2.0 (-0.5)\n",
            "Epoch 056/128 | Loss 0.0042 | Win/lose count 1.0/5.0 (-4.0)\n",
            "Epoch 057/128 | Loss 0.0007 | Win/lose count 5.5/1.0 (4.5)\n",
            "Epoch 058/128 | Loss 0.0065 | Win/lose count 3.5/1.0 (2.5)\n",
            "Epoch 059/128 | Loss 0.0039 | Win/lose count 2.0/2.0 (0.0)\n",
            "Epoch 060/128 | Loss 0.0080 | Win/lose count 6.0/1.0 (5.0)\n",
            "Epoch 061/128 | Loss 0.0022 | Win/lose count 4.5/4.0 (0.5)\n",
            "Epoch 062/128 | Loss 0.0029 | Win/lose count 2.0/0 (2.0)\n",
            "Epoch 063/128 | Loss 0.0003 | Win/lose count 1.0/2.0 (-1.0)\n",
            "Epoch 064/128 | Loss 0.0003 | Win/lose count 4.0/2.0 (2.0)\n",
            "Epoch 065/128 | Loss 0.0066 | Win/lose count 5.0/2.0 (3.0)\n",
            "Epoch 066/128 | Loss 0.0033 | Win/lose count 4.5/5.0 (-0.5)\n",
            "Epoch 067/128 | Loss 0.0002 | Win/lose count 1.5/3.0 (-1.5)\n",
            "Epoch 068/128 | Loss 0.0021 | Win/lose count 4.5/1.0 (3.5)\n",
            "Epoch 069/128 | Loss 0.0073 | Win/lose count 3.5/2.0 (1.5)\n",
            "Epoch 070/128 | Loss 0.0006 | Win/lose count 4.5/2.0 (2.5)\n",
            "Epoch 071/128 | Loss 0.0064 | Win/lose count 5.5/2.0 (3.5)\n",
            "Epoch 072/128 | Loss 0.0041 | Win/lose count 2.5/6.0 (-3.5)\n",
            "Epoch 073/128 | Loss 0.0160 | Win/lose count 4.5/0 (4.5)\n",
            "Epoch 074/128 | Loss 0.0156 | Win/lose count 3.5/4.0 (-0.5)\n",
            "Epoch 075/128 | Loss 0.0004 | Win/lose count 1.5/0 (1.5)\n",
            "Epoch 076/128 | Loss 0.0118 | Win/lose count 7.0/7.0 (0.0)\n",
            "Epoch 077/128 | Loss 0.0075 | Win/lose count 3.0/4.0 (-1.0)\n",
            "Epoch 078/128 | Loss 0.0034 | Win/lose count 4.0/3.0 (1.0)\n",
            "Epoch 079/128 | Loss 0.0121 | Win/lose count 2.0/1.0 (1.0)\n",
            "Epoch 080/128 | Loss 0.0005 | Win/lose count 3.5/2.0 (1.5)\n",
            "Epoch 081/128 | Loss 0.0049 | Win/lose count 5.0/5.0 (0.0)\n",
            "Epoch 082/128 | Loss 0.0064 | Win/lose count 4.0/2.0 (2.0)\n",
            "Epoch 083/128 | Loss 0.0091 | Win/lose count 3.5/2.0 (1.5)\n",
            "Epoch 084/128 | Loss 0.0054 | Win/lose count 1.0/1.0 (0.0)\n",
            "Epoch 085/128 | Loss 0.0140 | Win/lose count 1.5/3.0 (-1.5)\n",
            "Epoch 086/128 | Loss 0.0031 | Win/lose count 4.5/1.0 (3.5)\n",
            "Epoch 087/128 | Loss 0.0005 | Win/lose count 1.5/3.0 (-1.5)\n",
            "Epoch 088/128 | Loss 0.0009 | Win/lose count 2.5/5.0 (-2.5)\n",
            "Epoch 089/128 | Loss 0.0104 | Win/lose count 1.5/1.0 (0.5)\n",
            "Epoch 090/128 | Loss 0.0156 | Win/lose count 3.5/2.0 (1.5)\n",
            "Epoch 091/128 | Loss 0.0008 | Win/lose count 3.5/2.0 (1.5)\n",
            "Epoch 092/128 | Loss 0.0051 | Win/lose count 2.0/0 (2.0)\n",
            "Epoch 093/128 | Loss 0.0003 | Win/lose count 2.0/5.0 (-3.0)\n",
            "Epoch 094/128 | Loss 0.0003 | Win/lose count 3.5/2.0 (1.5)\n",
            "Epoch 095/128 | Loss 0.0021 | Win/lose count 2.5/0 (2.5)\n",
            "Epoch 096/128 | Loss 0.0037 | Win/lose count 1.0/2.0 (-1.0)\n",
            "Epoch 097/128 | Loss 0.0073 | Win/lose count 4.0/4.0 (0.0)\n",
            "Epoch 098/128 | Loss 0.0049 | Win/lose count 4.0/5.0 (-1.0)\n",
            "Epoch 099/128 | Loss 0.0184 | Win/lose count 3.5/2.0 (1.5)\n",
            "Epoch 100/128 | Loss 0.0060 | Win/lose count 2.5/3.0 (-0.5)\n",
            "Epoch 101/128 | Loss 0.0008 | Win/lose count 1.5/1.0 (0.5)\n",
            "Epoch 102/128 | Loss 0.0032 | Win/lose count 6.0/0 (6.0)\n",
            "Epoch 103/128 | Loss 0.0010 | Win/lose count 3.5/2.0 (1.5)\n",
            "Epoch 104/128 | Loss 0.0042 | Win/lose count 2.5/6.0 (-3.5)\n",
            "Epoch 105/128 | Loss 0.0021 | Win/lose count 6.0/2.0 (4.0)\n",
            "Epoch 106/128 | Loss 0.0026 | Win/lose count 5.0/4.0 (1.0)\n",
            "Epoch 107/128 | Loss 0.0029 | Win/lose count 2.0/1.0 (1.0)\n",
            "Epoch 108/128 | Loss 0.0014 | Win/lose count 1.0/3.0 (-2.0)\n",
            "Epoch 109/128 | Loss 0.0108 | Win/lose count 3.0/2.0 (1.0)\n",
            "Epoch 110/128 | Loss 0.0035 | Win/lose count 4.5/0 (4.5)\n",
            "Epoch 111/128 | Loss 0.0023 | Win/lose count 3.0/4.0 (-1.0)\n",
            "Epoch 112/128 | Loss 0.0012 | Win/lose count 3.5/4.0 (-0.5)\n",
            "Epoch 113/128 | Loss 0.0021 | Win/lose count 5.0/2.0 (3.0)\n",
            "Epoch 114/128 | Loss 0.0105 | Win/lose count 4.5/3.0 (1.5)\n",
            "Epoch 115/128 | Loss 0.0063 | Win/lose count 5.0/1.0 (4.0)\n",
            "Epoch 116/128 | Loss 0.0031 | Win/lose count 4.0/5.0 (-1.0)\n",
            "Epoch 117/128 | Loss 0.0091 | Win/lose count 2.0/1.0 (1.0)\n",
            "Epoch 118/128 | Loss 0.0025 | Win/lose count 1.5/3.0 (-1.5)\n",
            "Epoch 119/128 | Loss 0.0023 | Win/lose count 6.5/1.0 (5.5)\n",
            "Epoch 120/128 | Loss 0.0066 | Win/lose count 1.0/3.0 (-2.0)\n",
            "Epoch 121/128 | Loss 0.0046 | Win/lose count 4.5/2.0 (2.5)\n",
            "Epoch 122/128 | Loss 0.0099 | Win/lose count 3.0/4.0 (-1.0)\n",
            "Epoch 123/128 | Loss 0.0005 | Win/lose count 2.5/4.0 (-1.5)\n",
            "Epoch 124/128 | Loss 0.0060 | Win/lose count 4.0/1.0 (3.0)\n",
            "Epoch 125/128 | Loss 0.0003 | Win/lose count 3.0/4.0 (-1.0)\n",
            "Epoch 126/128 | Loss 0.0060 | Win/lose count 4.5/2.0 (2.5)\n",
            "Epoch 127/128 | Loss 0.0109 | Win/lose count 2.5/0 (2.5)\n",
            "Epoch 128/128 | Loss 0.0093 | Win/lose count 7.5/5.0 (2.5)\n",
            "Displaying  cnn_train90.mp4\n"
          ],
          "name": "stdout"
        },
        {
          "output_type": "execute_result",
          "data": {
            "text/html": [
              "<video alt=\"test\" controls>\n",
              "                <source src=\"data:video/mp4;base64,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\" type=\"video/mp4\" />\n",
              "             </video>"
            ],
            "text/plain": [
              "<IPython.core.display.HTML object>"
            ]
          },
          "metadata": {
            "tags": []
          },
          "execution_count": 14
        }
      ]
    },
    {
      "metadata": {
        "id": "ZEa5R3rHe8Qt",
        "colab_type": "text"
      },
      "cell_type": "markdown",
      "source": [
        "***\n",
        "***\n",
        "__Question 9__ Test both algorithms and compare their performances. Which issue(s) do you observe? Observe also different behaviors by changing the temperature."
      ]
    },
    {
      "metadata": {
        "id": "dGOlGh_ve8Qu",
        "colab_type": "code",
        "colab": {
          "base_uri": "https://localhost:8080/",
          "height": 2261
        },
        "outputId": "f15f6b90-42e2-461a-e511-3b67a77b079a"
      },
      "cell_type": "code",
      "source": [
        "# epochs_train = 128\n",
        "epochs_test = 64\n",
        "\n",
        "env = Environment(grid_size=size, max_time=T,temperature=0.3)\n",
        "agent_cnn = DQN_CNN(size, lr=.1, epsilon = 0.5, memory_size=500, batch_size = 32)\n",
        "agent_cnn.load(name_weights='cnn_trainmodel.h5',name_model='cnn_trainmodel.json')\n",
        "\n",
        "agent_fc = DQN_FC(size, lr=.1, epsilon = 0.5, memory_size=500, batch_size = 32)\n",
        "agent_cnn.load(name_weights='fc_trainmodel.h5',name_model='fc_trainmodel.json')\n",
        "print('Test of the CNN')\n",
        "test(agent_cnn,env,epochs_test,prefix='cnn_test')\n",
        "print('Test of the FC')\n",
        "test(agent_fc,env,epochs_test,prefix='fc_test')"
      ],
      "execution_count": 15,
      "outputs": [
        {
          "output_type": "stream",
          "text": [
            "Test of the CNN\n",
            "Win/lose count 0.5/0. Average score (0.5)\n",
            "Win/lose count 2.5/0. Average score (1.5)\n",
            "Win/lose count 2.0/0. Average score (1.6666666666666667)\n",
            "Win/lose count 9.0/0. Average score (3.5)\n",
            "Win/lose count 3.5/0. Average score (3.5)\n",
            "Win/lose count 0.5/0. Average score (3.0)\n",
            "Win/lose count 4.5/1.0. Average score (3.0714285714285716)\n",
            "Win/lose count 5.0/0. Average score (3.3125)\n",
            "Win/lose count 2.0/0. Average score (3.1666666666666665)\n",
            "Win/lose count 7.5/0. Average score (3.6)\n",
            "Win/lose count 1.5/0. Average score (3.409090909090909)\n",
            "Win/lose count 5.0/0. Average score (3.5416666666666665)\n",
            "Win/lose count 2.0/0. Average score (3.423076923076923)\n",
            "Win/lose count 4.0/0. Average score (3.4642857142857144)\n",
            "Win/lose count 1.5/0. Average score (3.3333333333333335)\n",
            "Win/lose count 0.5/0. Average score (3.15625)\n",
            "Win/lose count 6.0/0. Average score (3.323529411764706)\n",
            "Win/lose count 1.0/0. Average score (3.1944444444444446)\n",
            "Win/lose count 14.5/0. Average score (3.789473684210526)\n",
            "Win/lose count 1.0/0. Average score (3.65)\n",
            "Win/lose count 3.0/0. Average score (3.619047619047619)\n",
            "Win/lose count 1.0/0. Average score (3.5)\n",
            "Win/lose count 6.0/0. Average score (3.608695652173913)\n",
            "Win/lose count 8.5/0. Average score (3.8125)\n",
            "Win/lose count 0.5/0. Average score (3.68)\n",
            "Win/lose count 3.0/0. Average score (3.6538461538461537)\n",
            "Win/lose count 2.5/0. Average score (3.611111111111111)\n",
            "Win/lose count 2.5/0. Average score (3.5714285714285716)\n",
            "Win/lose count 4.0/0. Average score (3.586206896551724)\n",
            "Win/lose count 1.0/0. Average score (3.5)\n",
            "Win/lose count 4.0/1.0. Average score (3.4838709677419355)\n",
            "Win/lose count 1.5/0. Average score (3.421875)\n",
            "Win/lose count 5.5/0. Average score (3.484848484848485)\n",
            "Win/lose count 3.0/0. Average score (3.4705882352941178)\n",
            "Win/lose count 6.0/0. Average score (3.5428571428571427)\n",
            "Win/lose count 0.0/0. Average score (3.4444444444444446)\n",
            "Win/lose count 0.5/0. Average score (3.364864864864865)\n",
            "Win/lose count 5.5/0. Average score (3.4210526315789473)\n",
            "Win/lose count 1.0/0. Average score (3.358974358974359)\n",
            "Win/lose count 1.0/0. Average score (3.3)\n",
            "Win/lose count 1.0/0. Average score (3.2439024390243905)\n",
            "Win/lose count 3.0/0. Average score (3.238095238095238)\n",
            "Win/lose count 1.5/0. Average score (3.197674418604651)\n",
            "Win/lose count 9.5/0. Average score (3.340909090909091)\n",
            "Win/lose count 8.0/0. Average score (3.4444444444444446)\n",
            "Win/lose count 3.0/0. Average score (3.4347826086956523)\n",
            "Win/lose count 0.5/0. Average score (3.372340425531915)\n",
            "Win/lose count 1.5/0. Average score (3.3333333333333335)\n",
            "Win/lose count 3.0/0. Average score (3.326530612244898)\n",
            "Win/lose count 2.5/0. Average score (3.31)\n",
            "Win/lose count 7.0/0. Average score (3.3823529411764706)\n",
            "Win/lose count 6.0/0. Average score (3.4326923076923075)\n",
            "Win/lose count 1.5/0. Average score (3.3962264150943398)\n",
            "Win/lose count 2.0/0. Average score (3.3703703703703702)\n",
            "Win/lose count 2.0/0. Average score (3.3454545454545452)\n",
            "Win/lose count 7.0/1.0. Average score (3.392857142857143)\n",
            "Win/lose count 4.5/0. Average score (3.412280701754386)\n",
            "Win/lose count 2.5/0. Average score (3.396551724137931)\n",
            "Win/lose count 2.0/0. Average score (3.3728813559322033)\n",
            "Win/lose count 1.0/0. Average score (3.3333333333333335)\n",
            "Win/lose count 8.5/0. Average score (3.418032786885246)\n",
            "Win/lose count 5.0/0. Average score (3.443548387096774)\n",
            "Win/lose count 3.5/0. Average score (3.4444444444444446)\n",
            "Win/lose count 2.0/0. Average score (3.421875)\n",
            "Final score: 3.421875\n",
            "Test of the FC\n",
            "Win/lose count 1.0/1.0. Average score (0.0)\n",
            "Win/lose count 1.0/0. Average score (0.5)\n",
            "Win/lose count 0.0/1.0. Average score (0.0)\n",
            "Win/lose count 0.0/1.0. Average score (-0.25)\n",
            "Win/lose count 0.0/0. Average score (-0.2)\n",
            "Win/lose count 0.0/2.0. Average score (-0.5)\n",
            "Win/lose count 0.0/0. Average score (-0.42857142857142855)\n",
            "Win/lose count 1.0/2.0. Average score (-0.5)\n",
            "Win/lose count 1.0/0. Average score (-0.3333333333333333)\n",
            "Win/lose count 0.0/0. Average score (-0.3)\n",
            "Win/lose count 0.5/2.0. Average score (-0.4090909090909091)\n",
            "Win/lose count 0.0/0. Average score (-0.375)\n",
            "Win/lose count 0.5/0. Average score (-0.3076923076923077)\n",
            "Win/lose count 1.5/1.0. Average score (-0.25)\n",
            "Win/lose count 0.0/1.0. Average score (-0.3)\n",
            "Win/lose count 0.0/2.0. Average score (-0.40625)\n",
            "Win/lose count 0.0/0. Average score (-0.38235294117647056)\n",
            "Win/lose count 0.0/0. Average score (-0.3611111111111111)\n",
            "Win/lose count 0.0/1.0. Average score (-0.39473684210526316)\n",
            "Win/lose count 0.5/0. Average score (-0.35)\n",
            "Win/lose count 1.0/3.0. Average score (-0.42857142857142855)\n",
            "Win/lose count 0.5/0. Average score (-0.38636363636363635)\n",
            "Win/lose count 0.0/0. Average score (-0.3695652173913043)\n",
            "Win/lose count 0.5/0. Average score (-0.3333333333333333)\n",
            "Win/lose count 0.5/0. Average score (-0.3)\n",
            "Win/lose count 0.5/0. Average score (-0.2692307692307692)\n",
            "Win/lose count 1.0/1.0. Average score (-0.25925925925925924)\n",
            "Win/lose count 0.5/1.0. Average score (-0.26785714285714285)\n",
            "Win/lose count 0.0/0. Average score (-0.25862068965517243)\n",
            "Win/lose count 1.0/0. Average score (-0.21666666666666667)\n",
            "Win/lose count 0.5/1.0. Average score (-0.22580645161290322)\n",
            "Win/lose count 0.0/2.0. Average score (-0.28125)\n",
            "Win/lose count 0.0/0. Average score (-0.2727272727272727)\n",
            "Win/lose count 0.5/1.0. Average score (-0.27941176470588236)\n",
            "Win/lose count 0.0/0. Average score (-0.2714285714285714)\n",
            "Win/lose count 0.5/0. Average score (-0.25)\n",
            "Win/lose count 0.0/0. Average score (-0.24324324324324326)\n",
            "Win/lose count 0.0/1.0. Average score (-0.2631578947368421)\n",
            "Win/lose count 0.5/2.0. Average score (-0.2948717948717949)\n",
            "Win/lose count 0.0/0. Average score (-0.2875)\n",
            "Win/lose count 0.5/0. Average score (-0.2682926829268293)\n",
            "Win/lose count 1.0/0. Average score (-0.23809523809523808)\n",
            "Win/lose count 0.5/2.0. Average score (-0.26744186046511625)\n",
            "Win/lose count 1.0/1.0. Average score (-0.26136363636363635)\n",
            "Win/lose count 1.0/1.0. Average score (-0.25555555555555554)\n",
            "Win/lose count 0.5/0. Average score (-0.2391304347826087)\n",
            "Win/lose count 0.5/2.0. Average score (-0.26595744680851063)\n",
            "Win/lose count 0.5/0. Average score (-0.25)\n",
            "Win/lose count 0.5/0. Average score (-0.23469387755102042)\n",
            "Win/lose count 0.0/0. Average score (-0.23)\n",
            "Win/lose count 1.0/0. Average score (-0.20588235294117646)\n",
            "Win/lose count 1.0/2.0. Average score (-0.22115384615384615)\n",
            "Win/lose count 0.0/1.0. Average score (-0.2358490566037736)\n",
            "Win/lose count 1.0/1.0. Average score (-0.23148148148148148)\n",
            "Win/lose count 0.0/0. Average score (-0.22727272727272727)\n",
            "Win/lose count 0.5/0. Average score (-0.21428571428571427)\n",
            "Win/lose count 1.5/0. Average score (-0.18421052631578946)\n",
            "Win/lose count 0.5/0. Average score (-0.1724137931034483)\n",
            "Win/lose count 0.5/0. Average score (-0.16101694915254236)\n",
            "Win/lose count 0.5/1.0. Average score (-0.16666666666666666)\n",
            "Win/lose count 1.0/0. Average score (-0.14754098360655737)\n",
            "Win/lose count 0.0/1.0. Average score (-0.16129032258064516)\n",
            "Win/lose count 0.5/1.0. Average score (-0.16666666666666666)\n",
            "Win/lose count 0.5/2.0. Average score (-0.1875)\n",
            "Final score: -0.1875\n"
          ],
          "name": "stdout"
        }
      ]
    },
    {
      "metadata": {
        "id": "mdZ2s9c1e8Qw",
        "colab_type": "code",
        "colab": {
          "base_uri": "https://localhost:8080/",
          "height": 310
        },
        "outputId": "121e0732-4e3d-4c8a-e4b3-79b85dc9e771"
      },
      "cell_type": "code",
      "source": [
        "video_paths = glob.glob(\"cnn_test*.mp4\")\n",
        "video_paths.sort()\n",
        "best_video_path = video_paths.pop()\n",
        "print(\"Displaying \", best_video_path)\n",
        "HTML(display_videos(best_video_path))"
      ],
      "execution_count": 16,
      "outputs": [
        {
          "output_type": "stream",
          "text": [
            "Displaying  cnn_test9.mp4\n"
          ],
          "name": "stdout"
        },
        {
          "output_type": "execute_result",
          "data": {
            "text/html": [
              "<video alt=\"test\" controls>\n",
              "                <source src=\"data:video/mp4;base64,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\" type=\"video/mp4\" />\n",
              "             </video>"
            ],
            "text/plain": [
              "<IPython.core.display.HTML object>"
            ]
          },
          "metadata": {
            "tags": []
          },
          "execution_count": 16
        }
      ]
    },
    {
      "metadata": {
        "id": "89gsdVYge8Qz",
        "colab_type": "code",
        "colab": {
          "base_uri": "https://localhost:8080/",
          "height": 310
        },
        "outputId": "75b9b605-fd70-41d7-cab6-d82ba9124c6b"
      },
      "cell_type": "code",
      "source": [
        "video_paths = glob.glob(\"fc_test*.mp4\")\n",
        "video_paths.sort()\n",
        "best_video_path = video_paths.pop()\n",
        "print(\"Displaying \", best_video_path)\n",
        "HTML(display_videos(best_video_path))"
      ],
      "execution_count": 17,
      "outputs": [
        {
          "output_type": "stream",
          "text": [
            "Displaying  fc_test9.mp4\n"
          ],
          "name": "stdout"
        },
        {
          "output_type": "execute_result",
          "data": {
            "text/html": [
              "<video alt=\"test\" controls>\n",
              "                <source src=\"data:video/mp4;base64,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\" type=\"video/mp4\" />\n",
              "             </video>"
            ],
            "text/plain": [
              "<IPython.core.display.HTML object>"
            ]
          },
          "metadata": {
            "tags": []
          },
          "execution_count": 17
        }
      ]
    },
    {
      "metadata": {
        "id": "T3iII5ETe8Q1",
        "colab_type": "text"
      },
      "cell_type": "markdown",
      "source": [
        "The CNN solution is performing in a quite similar way than the FC model. We have similar score, we also keep exploring the same cells at a point and the rat get stuck (not exploring ends to be a good enough strategy)."
      ]
    },
    {
      "metadata": {
        "id": "Z1cbxNjFe8Q2",
        "colab_type": "text"
      },
      "cell_type": "markdown",
      "source": [
        "***\n",
        "\n",
        "The algorithm tends to not explore the map which can be an issue. We propose two ideas in order to encourage exploration:\n",
        "1. Incorporating a decreasing $\\epsilon$-greedy exploration. You can use the method ```set_epsilon```\n",
        "2. Append via the environment a new state that describes if a cell has been visited or not\n",
        "\n",
        "***\n",
        "__Question 10__ Design a new ```train_explore``` function and environment class ```EnvironmentExploring``` to tackle the issue of exploration.\n",
        "\n"
      ]
    },
    {
      "metadata": {
        "id": "IaHnXmPwe8Q3",
        "colab_type": "code",
        "colab": {}
      },
      "cell_type": "code",
      "source": [
        "def train_explore(agent,env,epoch,prefix='', epsilon_evolution=0.99):\n",
        "    # Number of won games\n",
        "    score = 0\n",
        "    loss = 0\n",
        "\n",
        "    for e in range(epoch):\n",
        "        # At each epoch, we restart to a fresh game and get the initial state\n",
        "        state = env.reset()\n",
        "        # This assumes that the games will terminate\n",
        "        game_over = False\n",
        "\n",
        "        win = 0\n",
        "        lose = 0\n",
        "        \n",
        "        while not game_over:\n",
        "            # The agent performs an action\n",
        "            # action = agent.act(state, train=True)\n",
        "            action = agent.act(state)\n",
        "            agent.set_epsilon(agent.epsilon*epsilon_evolution)\n",
        "\n",
        "            # Apply an action to the environment, get the next state, the reward\n",
        "            # and if the games end\n",
        "            prev_state = state\n",
        "            state, reward, game_over = env.act(action, train=True)\n",
        "\n",
        "            # Update the counters\n",
        "            if reward > 0:\n",
        "                win = win + reward\n",
        "            if reward < 0:\n",
        "                lose = lose - reward\n",
        "\n",
        "            # Apply the reinforcement strategy\n",
        "            loss = agent.reinforce(prev_state, state,  action, reward, game_over)\n",
        "\n",
        "        # Save as a mp4\n",
        "        if e % 10 == 0 or e == epoch - 1:\n",
        "            env.draw(prefix+str(e))\n",
        "\n",
        "        # Update stats\n",
        "        score += win-lose\n",
        "\n",
        "        print(\"Epoch {:03d}/{:03d} | Loss {:.4f} | Win/lose count {}/{} ({})\"\n",
        "              .format(e+1, epoch, loss, round(win, 3), round(lose, 3), round(win-lose, 3)))\n",
        "        agent.save(name_weights=prefix+'model.h5',name_model=prefix+'model.json')\n",
        "\n",
        "\n",
        "class EnvironmentExploring(object):\n",
        "    def __init__(self, grid_size=10, max_time=500, temperature=0.1):\n",
        "        grid_size = grid_size+4\n",
        "        self.grid_size = grid_size\n",
        "        self.max_time = max_time\n",
        "        self.temperature = temperature\n",
        "\n",
        "        #board on which one plays\n",
        "        self.board = np.zeros((self.grid_size,self.grid_size))\n",
        "        self.position = np.zeros((self.grid_size,self.grid_size))\n",
        "        self.malus_visited = np.zeros((self.grid_size,self.grid_size))\n",
        "\n",
        "        # coordinate of the cat\n",
        "        self.x = 0\n",
        "        self.y = 1\n",
        "\n",
        "        # self time\n",
        "        self.t = 0\n",
        "\n",
        "        self.scale=16\n",
        "\n",
        "        self.to_draw = np.zeros((max_time+2, self.grid_size*self.scale, self.grid_size*self.scale, 3))\n",
        "\n",
        "\n",
        "    def draw(self,e):\n",
        "        skvideo.io.vwrite(str(e) + '.mp4', self.to_draw)\n",
        "\n",
        "    def get_frame(self,t):\n",
        "        b = np.zeros((self.grid_size,self.grid_size,3))+128\n",
        "        b[self.board>0,0] = 256\n",
        "        b[self.board < 0, 2] = 256\n",
        "        b[self.x,self.y,:]=256\n",
        "        b[-2:,:,:]=0\n",
        "        b[:,-2:,:]=0\n",
        "        b[:2,:,:]=0\n",
        "        b[:,:2,:]=0\n",
        "        \n",
        "        b =  cv2.resize(b, None, fx=self.scale, fy=self.scale, interpolation=cv2.INTER_NEAREST)\n",
        "\n",
        "        self.to_draw[t,:,:,:]=b\n",
        "\n",
        "\n",
        "    def act(self, action, train=True):\n",
        "        \"\"\"This function returns the new state, reward and decides if the\n",
        "        game ends.\"\"\"\n",
        "\n",
        "        self.get_frame(int(self.t))\n",
        "\n",
        "        self.position = np.zeros((self.grid_size, self.grid_size))\n",
        "\n",
        "        self.position[0:2,:]= -1\n",
        "        self.position[:,0:2] = -1\n",
        "        self.position[-2:, :] = -1\n",
        "        self.position[:, -2:] = -1\n",
        "\n",
        "        self.position[self.x, self.y] = 1\n",
        "        if action == 0:\n",
        "            if self.x == self.grid_size-3:\n",
        "                self.x = self.x-1\n",
        "            else:\n",
        "                self.x = self.x + 1\n",
        "        elif action == 1:\n",
        "            if self.x == 2:\n",
        "                self.x = self.x+1\n",
        "            else:\n",
        "                self.x = self.x-1\n",
        "        elif action == 2:\n",
        "            if self.y == self.grid_size - 3:\n",
        "                self.y = self.y - 1\n",
        "            else:\n",
        "                self.y = self.y + 1\n",
        "        elif action == 3:\n",
        "            if self.y == 2:\n",
        "                self.y = self.y + 1\n",
        "            else:\n",
        "                self.y = self.y - 1\n",
        "        else:\n",
        "            RuntimeError('Error: action not recognized')\n",
        "            \n",
        "        self.t = self.t + 1\n",
        "        reward = self.board[self.x, self.y]\n",
        "        self.board[self.x, self.y] = 0\n",
        "        \n",
        "        # Including malus on already visited position during training\n",
        "        if train:\n",
        "            reward += self.malus_visited[self.x, self.y]\n",
        "            self.malus_visited[self.x, self.y] -= 0.1\n",
        "        \n",
        "        game_over = self.t > self.max_time\n",
        "        # We add the matrix malus_visited to the state for the Deep Learning to take it into account.\n",
        "        state = np.concatenate((self.malus_visited.reshape(self.grid_size, self.grid_size,1),\n",
        "                                self.board.reshape(self.grid_size, self.grid_size,1),\n",
        "                                self.position.reshape(self.grid_size, self.grid_size,1)),\n",
        "                                axis=2)\n",
        "        state = state[self.x-2:self.x+3,self.y-2:self.y+3,:]\n",
        "\n",
        "        return state, reward, game_over\n",
        "\n",
        "    def reset(self):\n",
        "        \"\"\"This function resets the game and returns the initial state\"\"\"\n",
        "\n",
        "        self.x = np.random.randint(3, self.grid_size-3, size=1)[0]\n",
        "        self.y = np.random.randint(3, self.grid_size-3, size=1)[0]\n",
        "\n",
        "\n",
        "        bonus = 0.5*np.random.binomial(1,self.temperature,size=self.grid_size**2)\n",
        "        bonus = bonus.reshape(self.grid_size,self.grid_size)\n",
        "\n",
        "        malus = -1.0*np.random.binomial(1,self.temperature,size=self.grid_size**2)\n",
        "        malus = malus.reshape(self.grid_size, self.grid_size)\n",
        "\n",
        "        self.to_draw = np.zeros((self.max_time+2, self.grid_size*self.scale, self.grid_size*self.scale, 3))\n",
        "\n",
        "\n",
        "        malus[bonus>0]=0\n",
        "\n",
        "        self.board = bonus + malus\n",
        "        \n",
        "        self.malus_visited = np.zeros((self.grid_size,self.grid_size))\n",
        "        \n",
        "        self.position = np.zeros((self.grid_size, self.grid_size))\n",
        "        self.position[0:2,:]= -1\n",
        "        self.position[:,0:2] = -1\n",
        "        self.position[-2:, :] = -1\n",
        "        self.position[:, -2:] = -1\n",
        "        self.board[self.x,self.y] = 0\n",
        "        self.t = 0\n",
        "\n",
        "        state = np.concatenate((\n",
        "            self.malus_visited.reshape(self.grid_size, self.grid_size,1),\n",
        "            self.board.reshape(self.grid_size, self.grid_size,1),\n",
        "            self.position.reshape(self.grid_size, self.grid_size,1)),\n",
        "            axis=2)\n",
        "\n",
        "        state = state[self.x - 2:self.x + 3, self.y - 2:self.y + 3, :]\n",
        "        return state\n",
        "    "
      ],
      "execution_count": 0,
      "outputs": []
    },
    {
      "metadata": {
        "id": "rrkRD2y6e8Q6",
        "colab_type": "code",
        "colab": {
          "base_uri": "https://localhost:8080/",
          "height": 2330
        },
        "outputId": "84c22fb7-ab79-4a57-d8a7-748d50e5df68"
      },
      "cell_type": "code",
      "source": [
        "# Training\n",
        "epochs_train = 128\n",
        "env = EnvironmentExploring(grid_size=size, max_time=T, temperature=0.3)\n",
        "agent = DQN_CNN(size, lr=.1, epsilon = 0.2, memory_size=100000, batch_size = 64,n_state=3)\n",
        "train_explore(agent, env, epochs_train, prefix='cnn_train_explore')\n",
        "\n",
        "video_paths = glob.glob(\"cnn_train_explore*.mp4\")\n",
        "video_paths.sort()\n",
        "best_video_path = video_paths.pop()\n",
        "print(\"Displaying \", best_video_path)\n",
        "HTML(display_videos(best_video_path))"
      ],
      "execution_count": 19,
      "outputs": [
        {
          "output_type": "stream",
          "text": [
            "Epoch 001/128 | Loss 0.0691 | Win/lose count 9.0/82.8 (-73.8)\n",
            "Epoch 003/128 | Loss 0.0820 | Win/lose count 9.0/90.1 (-81.1)\n",
            "Epoch 004/128 | Loss 0.0816 | Win/lose count 8.5/75.8 (-67.3)\n",
            "Epoch 005/128 | Loss 0.0848 | Win/lose count 14.0/54.7 (-40.7)\n",
            "Epoch 006/128 | Loss 0.0542 | Win/lose count 3.5/74.4 (-70.9)\n",
            "Epoch 007/128 | Loss 0.0538 | Win/lose count 7.5/60.5 (-53.0)\n",
            "Epoch 008/128 | Loss 0.0586 | Win/lose count 9.5/47.3 (-37.8)\n",
            "Epoch 009/128 | Loss 0.0409 | Win/lose count 11.5/40.1 (-28.6)\n",
            "Epoch 010/128 | Loss 0.0349 | Win/lose count 10.0/35.6 (-25.6)\n",
            "Epoch 011/128 | Loss 0.0516 | Win/lose count 14.0/38.5 (-24.5)\n",
            "Epoch 012/128 | Loss 0.0497 | Win/lose count 11.5/27.8 (-16.3)\n",
            "Epoch 013/128 | Loss 0.0261 | Win/lose count 14.0/23.9 (-9.9)\n",
            "Epoch 014/128 | Loss 0.0279 | Win/lose count 15.0/21.4 (-6.4)\n",
            "Epoch 015/128 | Loss 0.0370 | Win/lose count 19.5/21.6 (-2.1)\n",
            "Epoch 016/128 | Loss 0.0383 | Win/lose count 15.0/17.5 (-2.5)\n",
            "Epoch 017/128 | Loss 0.0303 | Win/lose count 14.5/23.5 (-9.0)\n",
            "Epoch 018/128 | Loss 0.0253 | Win/lose count 22.5/13.1 (9.4)\n",
            "Epoch 019/128 | Loss 0.0204 | Win/lose count 21.5/21.4 (0.1)\n",
            "Epoch 020/128 | Loss 0.0222 | Win/lose count 24.0/12.3 (11.7)\n",
            "Epoch 021/128 | Loss 0.0199 | Win/lose count 22.0/15.5 (6.5)\n",
            "Epoch 022/128 | Loss 0.0193 | Win/lose count 23.0/14.7 (8.3)\n",
            "Epoch 023/128 | Loss 0.0210 | Win/lose count 23.5/13.1 (10.4)\n",
            "Epoch 024/128 | Loss 0.0273 | Win/lose count 20.0/15.2 (4.8)\n",
            "Epoch 025/128 | Loss 0.0209 | Win/lose count 20.0/16.4 (3.6)\n",
            "Epoch 026/128 | Loss 0.0179 | Win/lose count 26.5/11.1 (15.4)\n",
            "Epoch 027/128 | Loss 0.0265 | Win/lose count 14.5/20.6 (-6.1)\n",
            "Epoch 028/128 | Loss 0.0224 | Win/lose count 18.0/19.2 (-1.2)\n",
            "Epoch 029/128 | Loss 0.0230 | Win/lose count 21.0/12.8 (8.2)\n",
            "Epoch 030/128 | Loss 0.0198 | Win/lose count 27.5/12.5 (15.0)\n",
            "Epoch 031/128 | Loss 0.0229 | Win/lose count 17.5/15.6 (1.9)\n",
            "Epoch 032/128 | Loss 0.0214 | Win/lose count 24.0/14.7 (9.3)\n",
            "Epoch 033/128 | Loss 0.0254 | Win/lose count 30.0/10.4 (19.6)\n",
            "Epoch 034/128 | Loss 0.0222 | Win/lose count 22.0/9.8 (12.2)\n",
            "Epoch 035/128 | Loss 0.0352 | Win/lose count 24.0/15.2 (8.8)\n",
            "Epoch 036/128 | Loss 0.0149 | Win/lose count 20.5/11.8 (8.7)\n",
            "Epoch 037/128 | Loss 0.0285 | Win/lose count 26.0/11.1 (14.9)\n",
            "Epoch 038/128 | Loss 0.0269 | Win/lose count 24.5/15.1 (9.4)\n",
            "Epoch 039/128 | Loss 0.0184 | Win/lose count 24.0/13.8 (10.2)\n",
            "Epoch 040/128 | Loss 0.0253 | Win/lose count 24.5/10.8 (13.7)\n",
            "Epoch 041/128 | Loss 0.0162 | Win/lose count 23.0/10.2 (12.8)\n",
            "Epoch 042/128 | Loss 0.0264 | Win/lose count 22.5/16.3 (6.2)\n",
            "Epoch 043/128 | Loss 0.0255 | Win/lose count 23.0/14.7 (8.3)\n",
            "Epoch 044/128 | Loss 0.0265 | Win/lose count 23.0/9.7 (13.3)\n",
            "Epoch 045/128 | Loss 0.0310 | Win/lose count 25.5/16.1 (9.4)\n",
            "Epoch 046/128 | Loss 0.0201 | Win/lose count 21.0/13.2 (7.8)\n",
            "Epoch 047/128 | Loss 0.0189 | Win/lose count 22.0/18.0 (4.0)\n",
            "Epoch 048/128 | Loss 0.0246 | Win/lose count 18.0/19.0 (-1.0)\n",
            "Epoch 049/128 | Loss 0.0213 | Win/lose count 24.0/20.4 (3.6)\n",
            "Epoch 050/128 | Loss 0.0262 | Win/lose count 19.0/16.8 (2.2)\n",
            "Epoch 051/128 | Loss 0.0215 | Win/lose count 30.5/8.8 (21.7)\n",
            "Epoch 052/128 | Loss 0.0303 | Win/lose count 18.5/14.1 (4.4)\n",
            "Epoch 053/128 | Loss 0.0241 | Win/lose count 23.0/9.9 (13.1)\n",
            "Epoch 054/128 | Loss 0.0139 | Win/lose count 23.0/12.0 (11.0)\n",
            "Epoch 055/128 | Loss 0.0294 | Win/lose count 27.5/15.2 (12.3)\n",
            "Epoch 056/128 | Loss 0.0308 | Win/lose count 19.0/16.9 (2.1)\n",
            "Epoch 057/128 | Loss 0.0219 | Win/lose count 24.5/16.5 (8.0)\n",
            "Epoch 058/128 | Loss 0.0253 | Win/lose count 31.0/8.3 (22.7)\n",
            "Epoch 059/128 | Loss 0.0207 | Win/lose count 23.0/18.2 (4.8)\n",
            "Epoch 060/128 | Loss 0.0255 | Win/lose count 25.5/14.9 (10.6)\n",
            "Epoch 061/128 | Loss 0.0293 | Win/lose count 21.5/18.2 (3.3)\n",
            "Epoch 062/128 | Loss 0.0219 | Win/lose count 26.5/13.5 (13.0)\n",
            "Epoch 063/128 | Loss 0.0162 | Win/lose count 23.0/16.7 (6.3)\n",
            "Epoch 064/128 | Loss 0.0196 | Win/lose count 15.0/17.7 (-2.7)\n",
            "Epoch 065/128 | Loss 0.0281 | Win/lose count 26.0/11.1 (14.9)\n",
            "Epoch 066/128 | Loss 0.0271 | Win/lose count 25.5/15.3 (10.2)\n",
            "Epoch 067/128 | Loss 0.0216 | Win/lose count 20.0/14.0 (6.0)\n",
            "Epoch 068/128 | Loss 0.0260 | Win/lose count 25.0/15.6 (9.4)\n",
            "Epoch 069/128 | Loss 0.0249 | Win/lose count 19.0/27.8 (-8.8)\n",
            "Epoch 070/128 | Loss 0.0296 | Win/lose count 21.0/13.7 (7.3)\n",
            "Epoch 071/128 | Loss 0.0265 | Win/lose count 20.0/14.8 (5.2)\n",
            "Epoch 072/128 | Loss 0.0298 | Win/lose count 25.0/12.5 (12.5)\n",
            "Epoch 073/128 | Loss 0.0246 | Win/lose count 24.0/13.9 (10.1)\n",
            "Epoch 074/128 | Loss 0.0198 | Win/lose count 19.5/25.0 (-5.5)\n",
            "Epoch 075/128 | Loss 0.0242 | Win/lose count 20.0/14.8 (5.2)\n",
            "Epoch 076/128 | Loss 0.0241 | Win/lose count 18.0/26.5 (-8.5)\n",
            "Epoch 077/128 | Loss 0.0280 | Win/lose count 19.5/13.1 (6.4)\n",
            "Epoch 078/128 | Loss 0.0267 | Win/lose count 18.0/17.3 (0.7)\n",
            "Epoch 079/128 | Loss 0.0273 | Win/lose count 22.5/12.3 (10.2)\n",
            "Epoch 080/128 | Loss 0.0205 | Win/lose count 22.5/18.6 (3.9)\n",
            "Epoch 081/128 | Loss 0.0244 | Win/lose count 18.0/15.7 (2.3)\n",
            "Epoch 082/128 | Loss 0.0215 | Win/lose count 24.5/12.6 (11.9)\n",
            "Epoch 083/128 | Loss 0.0235 | Win/lose count 23.5/20.8 (2.7)\n",
            "Epoch 084/128 | Loss 0.0165 | Win/lose count 20.5/12.8 (7.7)\n",
            "Epoch 085/128 | Loss 0.0165 | Win/lose count 22.0/12.3 (9.7)\n",
            "Epoch 086/128 | Loss 0.0208 | Win/lose count 17.5/14.0 (3.5)\n",
            "Epoch 087/128 | Loss 0.0251 | Win/lose count 24.0/10.7 (13.3)\n",
            "Epoch 088/128 | Loss 0.0160 | Win/lose count 25.0/10.8 (14.2)\n",
            "Epoch 089/128 | Loss 0.0299 | Win/lose count 17.0/16.6 (0.4)\n",
            "Epoch 090/128 | Loss 0.0234 | Win/lose count 27.5/8.1 (19.4)\n",
            "Epoch 091/128 | Loss 0.0295 | Win/lose count 17.5/14.4 (3.1)\n",
            "Epoch 092/128 | Loss 0.0413 | Win/lose count 21.5/13.9 (7.6)\n",
            "Epoch 093/128 | Loss 0.0183 | Win/lose count 25.0/36.8 (-11.8)\n",
            "Epoch 094/128 | Loss 0.0166 | Win/lose count 18.0/21.3 (-3.3)\n",
            "Epoch 095/128 | Loss 0.0255 | Win/lose count 23.5/11.6 (11.9)\n",
            "Epoch 096/128 | Loss 0.0297 | Win/lose count 19.5/21.1 (-1.6)\n",
            "Epoch 097/128 | Loss 0.0241 | Win/lose count 20.5/15.5 (5.0)\n",
            "Epoch 098/128 | Loss 0.0166 | Win/lose count 25.0/11.9 (13.1)\n",
            "Epoch 099/128 | Loss 0.0276 | Win/lose count 20.0/18.2 (1.8)\n",
            "Epoch 100/128 | Loss 0.0330 | Win/lose count 25.0/8.8 (16.2)\n",
            "Epoch 101/128 | Loss 0.0153 | Win/lose count 25.0/8.9 (16.1)\n",
            "Epoch 102/128 | Loss 0.0303 | Win/lose count 20.0/19.6 (0.4)\n",
            "Epoch 103/128 | Loss 0.0260 | Win/lose count 21.5/11.4 (10.1)\n",
            "Epoch 104/128 | Loss 0.0216 | Win/lose count 23.5/20.0 (3.5)\n",
            "Epoch 105/128 | Loss 0.0179 | Win/lose count 24.0/11.6 (12.4)\n",
            "Epoch 106/128 | Loss 0.0301 | Win/lose count 22.0/14.3 (7.7)\n",
            "Epoch 107/128 | Loss 0.0187 | Win/lose count 25.0/20.0 (5.0)\n",
            "Epoch 108/128 | Loss 0.0176 | Win/lose count 21.0/10.5 (10.5)\n",
            "Epoch 109/128 | Loss 0.0176 | Win/lose count 22.5/9.9 (12.6)\n",
            "Epoch 110/128 | Loss 0.0300 | Win/lose count 27.0/10.7 (16.3)\n",
            "Epoch 111/128 | Loss 0.0239 | Win/lose count 20.0/21.8 (-1.8)\n",
            "Epoch 112/128 | Loss 0.0169 | Win/lose count 15.5/27.9 (-12.4)\n",
            "Epoch 114/128 | Loss 0.0231 | Win/lose count 20.0/11.3 (8.7)\n",
            "Epoch 115/128 | Loss 0.0204 | Win/lose count 20.5/11.7 (8.8)\n",
            "Epoch 116/128 | Loss 0.0305 | Win/lose count 24.0/14.5 (9.5)\n",
            "Epoch 117/128 | Loss 0.0234 | Win/lose count 24.0/16.1 (7.9)\n",
            "Epoch 118/128 | Loss 0.0280 | Win/lose count 24.5/13.5 (11.0)\n",
            "Epoch 119/128 | Loss 0.0303 | Win/lose count 19.5/19.7 (-0.2)\n",
            "Epoch 120/128 | Loss 0.0213 | Win/lose count 15.5/34.6 (-19.1)\n",
            "Epoch 121/128 | Loss 0.0270 | Win/lose count 25.0/13.6 (11.4)\n",
            "Epoch 122/128 | Loss 0.0193 | Win/lose count 21.5/14.9 (6.6)\n",
            "Epoch 123/128 | Loss 0.0299 | Win/lose count 25.0/10.6 (14.4)\n",
            "Epoch 124/128 | Loss 0.0236 | Win/lose count 17.0/19.4 (-2.4)\n",
            "Epoch 125/128 | Loss 0.0290 | Win/lose count 15.5/20.4 (-4.9)\n",
            "Epoch 126/128 | Loss 0.0308 | Win/lose count 23.0/19.3 (3.7)\n",
            "Epoch 127/128 | Loss 0.0269 | Win/lose count 25.0/21.7 (3.3)\n",
            "Epoch 128/128 | Loss 0.0165 | Win/lose count 19.5/16.2 (3.3)\n",
            "Displaying  cnn_train_explore90.mp4\n"
          ],
          "name": "stdout"
        },
        {
          "output_type": "execute_result",
          "data": {
            "text/html": [
              "<video alt=\"test\" controls>\n",
              "                <source src=\"data:video/mp4;base64,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\" type=\"video/mp4\" />\n",
              "             </video>"
            ],
            "text/plain": [
              "<IPython.core.display.HTML object>"
            ]
          },
          "metadata": {
            "tags": []
          },
          "execution_count": 19
        }
      ]
    },
    {
      "metadata": {
        "id": "u9pByfjDe8Q_",
        "colab_type": "code",
        "colab": {
          "base_uri": "https://localhost:8080/",
          "height": 1415
        },
        "outputId": "806f2f1a-ec98-4507-94d8-9bd2e3a5473e"
      },
      "cell_type": "code",
      "source": [
        "# Evaluation\n",
        "test(agent,env,epochs_test,prefix='cnn_test_explore')\n",
        "video_paths = glob.glob(\"cnn_test_explore*.mp4\")\n",
        "video_paths.sort()\n",
        "best_video_path = video_paths.pop()\n",
        "print(\"Displaying \", best_video_path)\n",
        "HTML(display_videos(best_video_path))"
      ],
      "execution_count": 20,
      "outputs": [
        {
          "output_type": "stream",
          "text": [
            "Win/lose count 25.0/21.200000000000006. Average score (3.7999999999999936)\n",
            "Win/lose count 24.5/12.199999999999983. Average score (8.050000000000004)\n",
            "Win/lose count 14.0/24.89999999999998. Average score (1.7333333333333425)\n",
            "Win/lose count 21.0/16.799999999999986. Average score (2.3500000000000103)\n",
            "Win/lose count 22.5/15.599999999999985. Average score (3.260000000000011)\n",
            "Win/lose count 22.5/19.9. Average score (3.1500000000000092)\n",
            "Win/lose count 24.0/13.399999999999991. Average score (4.214285714285723)\n",
            "Win/lose count 25.0/21.300000000000047. Average score (4.150000000000002)\n",
            "Win/lose count 25.5/18.6. Average score (4.4555555555555575)\n",
            "Win/lose count 19.5/18.899999999999977. Average score (4.070000000000004)\n",
            "Win/lose count 25.0/12.199999999999982. Average score (4.8636363636363695)\n",
            "Win/lose count 23.0/14.399999999999984. Average score (5.175000000000006)\n",
            "Win/lose count 28.5/22.500000000000007. Average score (5.238461538461545)\n",
            "Win/lose count 25.0/18.999999999999993. Average score (5.292857142857149)\n",
            "Win/lose count 25.0/13.09999999999998. Average score (5.73333333333334)\n",
            "Win/lose count 21.5/11.99999999999999. Average score (5.968750000000007)\n",
            "Win/lose count 26.0/14.599999999999984. Average score (6.288235294117655)\n",
            "Win/lose count 22.0/16.399999999999995. Average score (6.250000000000009)\n",
            "Win/lose count 19.5/22.999999999999996. Average score (5.736842105263167)\n",
            "Win/lose count 27.5/12.499999999999979. Average score (6.20000000000001)\n",
            "Win/lose count 21.5/16.699999999999996. Average score (6.1333333333333435)\n",
            "Win/lose count 28.5/16.199999999999985. Average score (6.413636363636374)\n",
            "Win/lose count 25.0/15.199999999999985. Average score (6.560869565217401)\n",
            "Win/lose count 20.0/24.299999999999997. Average score (6.108333333333344)\n",
            "Win/lose count 26.5/12.599999999999994. Average score (6.420000000000011)\n",
            "Win/lose count 18.0/20.7. Average score (6.06923076923078)\n",
            "Win/lose count 28.5/15.89999999999998. Average score (6.3111111111111216)\n",
            "Win/lose count 22.0/19.999999999999993. Average score (6.157142857142867)\n",
            "Win/lose count 19.5/27.000000000000036. Average score (5.686206896551733)\n",
            "Win/lose count 22.0/13.899999999999988. Average score (5.766666666666676)\n",
            "Win/lose count 31.5/13.999999999999984. Average score (6.145161290322591)\n",
            "Win/lose count 19.5/18.599999999999994. Average score (5.98125000000001)\n",
            "Win/lose count 22.0/22.199999999999992. Average score (5.793939393939404)\n",
            "Win/lose count 25.0/15.299999999999983. Average score (5.908823529411775)\n",
            "Win/lose count 20.0/23.900000000000016. Average score (5.628571428571438)\n",
            "Win/lose count 26.0/10.999999999999986. Average score (5.888888888888898)\n",
            "Win/lose count 21.5/13.99999999999998. Average score (5.932432432432442)\n",
            "Win/lose count 23.0/25.500000000000025. Average score (5.710526315789482)\n",
            "Win/lose count 26.5/12.099999999999993. Average score (5.9333333333333425)\n",
            "Win/lose count 20.0/20.400000000000002. Average score (5.775000000000008)\n",
            "Win/lose count 21.5/16.899999999999984. Average score (5.746341463414643)\n",
            "Win/lose count 19.5/15.899999999999977. Average score (5.695238095238104)\n",
            "Win/lose count 23.5/13.49999999999998. Average score (5.795348837209312)\n",
            "Win/lose count 19.5/20.999999999999996. Average score (5.629545454545464)\n",
            "Win/lose count 23.5/16.19999999999998. Average score (5.666666666666676)\n",
            "Win/lose count 23.5/13.999999999999979. Average score (5.750000000000009)\n",
            "Win/lose count 22.0/14.499999999999984. Average score (5.7872340425532)\n",
            "Win/lose count 18.0/17.49999999999999. Average score (5.677083333333342)\n",
            "Win/lose count 23.5/20.3. Average score (5.626530612244906)\n",
            "Win/lose count 25.0/14.799999999999981. Average score (5.718000000000009)\n",
            "Win/lose count 25.5/17.300000000000004. Average score (5.766666666666675)\n",
            "Win/lose count 15.5/23.600000000000012. Average score (5.500000000000008)\n",
            "Win/lose count 25.5/13.099999999999984. Average score (5.6301886792452915)\n",
            "Win/lose count 20.0/18.099999999999994. Average score (5.561111111111119)\n",
            "Win/lose count 19.0/22.200000000000017. Average score (5.4018181818181885)\n",
            "Win/lose count 24.0/10.499999999999988. Average score (5.546428571428578)\n",
            "Win/lose count 27.0/15.599999999999982. Average score (5.649122807017551)\n",
            "Win/lose count 17.0/23.000000000000004. Average score (5.448275862068972)\n",
            "Win/lose count 22.0/18.999999999999996. Average score (5.406779661016956)\n",
            "Win/lose count 20.5/18.1. Average score (5.356666666666673)\n",
            "Win/lose count 22.5/14.799999999999985. Average score (5.3950819672131205)\n",
            "Win/lose count 22.5/16.099999999999984. Average score (5.411290322580651)\n",
            "Win/lose count 27.0/16.799999999999994. Average score (5.487301587301594)\n",
            "Win/lose count 23.0/16.799999999999983. Average score (5.498437500000007)\n",
            "Final score: 5.498437500000007\n",
            "Displaying  cnn_test_explore9.mp4\n"
          ],
          "name": "stdout"
        },
        {
          "output_type": "execute_result",
          "data": {
            "text/html": [
              "<video alt=\"test\" controls>\n",
              "                <source src=\"data:video/mp4;base64,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\" type=\"video/mp4\" />\n",
              "             </video>"
            ],
            "text/plain": [
              "<IPython.core.display.HTML object>"
            ]
          },
          "metadata": {
            "tags": []
          },
          "execution_count": 20
        }
      ]
    },
    {
      "metadata": {
        "id": "sfHr7ItXe8RC",
        "colab_type": "text"
      },
      "cell_type": "markdown",
      "source": [
        "***\n",
        "***\n",
        "__BONUS question__ Use the expert DQN from the previous question to generate some winning games. Train a model that mimicks its behavior. Compare the performances."
      ]
    },
    {
      "metadata": {
        "id": "3s4DYUnPe8RD",
        "colab_type": "text"
      },
      "cell_type": "markdown",
      "source": [
        ""
      ]
    },
    {
      "metadata": {
        "id": "GPQeP-o3e8RE",
        "colab_type": "text"
      },
      "cell_type": "markdown",
      "source": [
        "***"
      ]
    }
  ]
}
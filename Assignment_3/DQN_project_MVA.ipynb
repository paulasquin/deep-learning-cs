{
  "nbformat": 4,
  "nbformat_minor": 0,
  "metadata": {
    "colab": {
      "name": "DQN_project_MVA.ipynb",
      "version": "0.3.2",
      "provenance": []
    },
    "kernelspec": {
      "display_name": "Python 3",
      "language": "python",
      "name": "python3"
    }
  },
  "cells": [
    {
      "metadata": {
        "id": "gkZm_xO8e8PG",
        "colab_type": "text"
      },
      "cell_type": "markdown",
      "source": [
        "**You may need to install [OpenCV](https://pypi.python.org/pypi/opencv-python) and [scikit-video](http://www.scikit-video.org/stable/).**"
      ]
    },
    {
      "metadata": {
        "id": "IpkYijTxe8PI",
        "colab_type": "code",
        "outputId": "47d71051-9c42-4191-b016-ec0dc42d56e8",
        "colab": {
          "base_uri": "https://localhost:8080/",
          "height": 187
        }
      },
      "cell_type": "code",
      "source": [
        "import keras\n",
        "import numpy as np\n",
        "import io\n",
        "import base64\n",
        "from IPython.display import HTML\n",
        "\n",
        "### IMPORT SKVIDEO FOR GOOGLE COLAB\n",
        "!pip3 install scikit-video\n",
        "!apt-get install ffmpeg\n",
        "# check installation path with \n",
        "# ```which ffmpeg```\n",
        "# ```which ffprobe```\n",
        "\n",
        "import skvideo\n",
        "skvideo.setFFmpegPath(\"/usr/bin\")\n",
        "import skvideo.io\n",
        "\n",
        "# ```pip3 install opencv-python```\n",
        "import cv2\n",
        "import json\n",
        "\n",
        "from keras.models import Sequential,model_from_json\n",
        "from keras.layers.core import Dense\n",
        "from keras.optimizers import sgd\n",
        "from keras.layers import Conv2D, MaxPooling2D, Activation, AveragePooling2D,Reshape,BatchNormalization"
      ],
      "execution_count": 132,
      "outputs": [
        {
          "output_type": "stream",
          "text": [
            "Requirement already satisfied: scikit-video in /usr/local/lib/python3.6/dist-packages (1.1.11)\n",
            "Requirement already satisfied: scipy in /usr/local/lib/python3.6/dist-packages (from scikit-video) (1.1.0)\n",
            "Requirement already satisfied: numpy in /usr/local/lib/python3.6/dist-packages (from scikit-video) (1.14.6)\n",
            "Requirement already satisfied: pillow in /usr/local/lib/python3.6/dist-packages (from scikit-video) (4.0.0)\n",
            "Requirement already satisfied: olefile in /usr/local/lib/python3.6/dist-packages (from pillow->scikit-video) (0.46)\n",
            "Reading package lists... Done\n",
            "Building dependency tree       \n",
            "Reading state information... Done\n",
            "ffmpeg is already the newest version (7:3.4.4-0ubuntu0.18.04.1).\n",
            "0 upgraded, 0 newly installed, 0 to remove and 8 not upgraded.\n"
          ],
          "name": "stdout"
        }
      ]
    },
    {
      "metadata": {
        "id": "IcFJdpaPe8PO",
        "colab_type": "text"
      },
      "cell_type": "markdown",
      "source": [
        "# MiniProject #3: Deep Reinforcement Learning"
      ]
    },
    {
      "metadata": {
        "id": "W146PxAze8PP",
        "colab_type": "text"
      },
      "cell_type": "markdown",
      "source": [
        "__Notations__: $E_p$ is the expectation under probability $p$. Please justify each of your answer and widely comment your code."
      ]
    },
    {
      "metadata": {
        "id": "01DHN4_-e8PR",
        "colab_type": "text"
      },
      "cell_type": "markdown",
      "source": [
        "# Context"
      ]
    },
    {
      "metadata": {
        "id": "34wlXXrOe8PS",
        "colab_type": "text"
      },
      "cell_type": "markdown",
      "source": [
        "In a reinforcement learning algorithm, we modelize each step $t$ as an action $a_t$ obtained from a state $s_t$, i.e. $\\{(a_{t},s_{t})_{t\\leq T}\\}$ having the Markov property. We consider a discount factor $\\gamma \\in [0,1]$ that ensures convergence. The goal is to find among all the policies $\\pi$, one that maximizes the expected reward:\n",
        "\n",
        "\\begin{equation*}\n",
        "R(\\pi)=\\sum_{t\\leq T}E_{p^{\\pi}}[\\gamma^t r(s_{t},a_{t})] \\> ,\n",
        "\\end{equation*}\n",
        "\n",
        "where: \n",
        "\\begin{equation*}p^{\\pi}(a_{0},a_{1},s_{1},...,a_{T},s_{T})=p(a_{0})\\prod_{t=1}^{T}\\pi(a_{t}|s_{t})p(s_{t+1}|s_{t},a_{t}) \\> .\n",
        "\\end{equation*}\n",
        "\n",
        "We note the $Q$-function:\n",
        "\n",
        "\\begin{equation*}Q^\\pi(s,a)=E_{p^{\\pi}}[\\sum_{t\\leq T}\\gamma^{t}r(s_{t},a_{t})|s_{0}=s,a_{0}=a] \\> .\n",
        "\\end{equation*}\n",
        "\n",
        "Thus, the optimal Q function is:\n",
        "\\begin{equation*}\n",
        "Q^*(s,a)=\\max_{\\pi}Q^\\pi(s,a) \\> .\n",
        "\\end{equation*}\n",
        "\n",
        "In this project, we will apply the deep reinforcement learning techniques to a simple game: an agent will have to learn from scratch a policy that will permit it maximizing a reward."
      ]
    },
    {
      "metadata": {
        "id": "TkjhXJoje8PU",
        "colab_type": "text"
      },
      "cell_type": "markdown",
      "source": [
        "## The environment, the agent and the game"
      ]
    },
    {
      "metadata": {
        "id": "9OFr8vdre8PV",
        "colab_type": "text"
      },
      "cell_type": "markdown",
      "source": [
        "### The environment"
      ]
    },
    {
      "metadata": {
        "id": "vhBW7lB9e8PW",
        "colab_type": "text"
      },
      "cell_type": "markdown",
      "source": [
        "```Environment``` is an abstract class that represents the states, rewards, and actions to obtain the new state."
      ]
    },
    {
      "metadata": {
        "id": "ka3EfOcRe8PX",
        "colab_type": "code",
        "colab": {}
      },
      "cell_type": "code",
      "source": [
        "class Environment(object):\n",
        "    def __init__(self):\n",
        "        pass\n",
        "\n",
        "    def act(self, act):\n",
        "        \"\"\"\n",
        "        One can act on the environment and obtain its reaction:\n",
        "        - the new state\n",
        "        - the reward of the new state\n",
        "        - should we continue the game?\n",
        "\n",
        "        :return: state, reward, game_over\n",
        "        \"\"\"\n",
        "        pass\n",
        "\n",
        "\n",
        "    def reset(self):\n",
        "        \"\"\"\n",
        "        Reinitialize the environment to a random state and returns\n",
        "        the original state\n",
        "\n",
        "        :return: state\n",
        "        \"\"\"\n",
        "        pass\n",
        "    \n",
        "    def draw(self):\n",
        "        \"\"\"\n",
        "        Visualize in the console or graphically the current state\n",
        "        \"\"\"\n",
        "        pass"
      ],
      "execution_count": 0,
      "outputs": []
    },
    {
      "metadata": {
        "id": "l2H9fJiDe8Pa",
        "colab_type": "text"
      },
      "cell_type": "markdown",
      "source": [
        "The method ```act``` allows to act on the environment at a given state $s_t$ (stored internally), via action $a_t$. The method will return the new state $s_{t+1}$, the reward $r(s_{t},a_{t})$ and determines if $t\\leq T$ (*game_over*).\n",
        "\n",
        "The method ```reset``` simply reinitializes the environment to a random state $s_0$.\n",
        "\n",
        "The method ```draw``` displays the current state $s_t$ (this is useful to check the behavior of the Agent).\n",
        "\n",
        "We modelize $s_t$ as a tensor, while $a_t$ is an integer."
      ]
    },
    {
      "metadata": {
        "id": "TYDJ2AUze8Pb",
        "colab_type": "text"
      },
      "cell_type": "markdown",
      "source": [
        "### The Agent"
      ]
    },
    {
      "metadata": {
        "id": "bhEqpBsde8Pc",
        "colab_type": "text"
      },
      "cell_type": "markdown",
      "source": [
        "The goal of the ```Agent``` is to interact with the ```Environment``` by proposing actions $a_t$ obtained from a given state $s_t$ to attempt to maximize its __reward__ $r(s_t,a_t)$. We propose the following abstract class:"
      ]
    },
    {
      "metadata": {
        "id": "MePlYwpee8Pd",
        "colab_type": "code",
        "colab": {}
      },
      "cell_type": "code",
      "source": [
        "class Agent(object):\n",
        "    def __init__(self, epsilon=0.1, n_action=4):\n",
        "        self.epsilon = epsilon\n",
        "        self.n_action = n_action\n",
        "    \n",
        "    def set_epsilon(self,e):\n",
        "        self.epsilon = e\n",
        "\n",
        "    def act(self,s,train=True):\n",
        "        \"\"\" This function should return the next action to do:\n",
        "        an integer between 0 and 4 (not included) with a random exploration of epsilon\"\"\"\n",
        "        if train:\n",
        "            if np.random.rand() <= self.epsilon:\n",
        "                a = np.random.randint(0, self.n_action, size=1)[0]\n",
        "            else:\n",
        "                a = self.learned_act(s)\n",
        "        else: # in some cases, this can improve the performance.. remove it if poor performances\n",
        "            a = self.learned_act(s)\n",
        "\n",
        "        return a\n",
        "\n",
        "    def learned_act(self,s):\n",
        "        \"\"\" Act via the policy of the agent, from a given state s\n",
        "        it proposes an action a\"\"\"\n",
        "        pass\n",
        "\n",
        "    def reinforce(self, s, n_s, a, r, game_over_):\n",
        "        \"\"\" This function is the core of the learning algorithm. \n",
        "        It takes as an input the current state s_, the next state n_s_\n",
        "        the action a_ used to move from s_ to n_s_ and the reward r_.\n",
        "        \n",
        "        Its goal is to learn a policy.\n",
        "        \"\"\"\n",
        "        pass\n",
        "\n",
        "    def save(self):\n",
        "        \"\"\" This function returns basic stats if applicable: the\n",
        "        loss and/or the model\"\"\"\n",
        "        pass\n",
        "\n",
        "    def load(self):\n",
        "        \"\"\" This function allows to restore a model\"\"\"\n",
        "        pass"
      ],
      "execution_count": 0,
      "outputs": []
    },
    {
      "metadata": {
        "id": "yBvzjGoSe8Pg",
        "colab_type": "text"
      },
      "cell_type": "markdown",
      "source": [
        "***\n",
        "__Question 1__:\n",
        "Explain the function act. Why is ```epsilon``` essential?"
      ]
    },
    {
      "metadata": {
        "id": "VGlaTpnoe8Ph",
        "colab_type": "text"
      },
      "cell_type": "markdown",
      "source": [
        "The `act` function aims is to make a decision on which state explore next. For this we are using what is called a epsilon-greedy algorithm. \n",
        "\n",
        "At each step, the algorithm have two options. For a random float $r_f$ taken between 0 and 1, we can either choose a random action if $r_f \\leq$ `epsilon`, or we can choose an action from previously learned acts.\n",
        "\n",
        "This exploration variable set the ability of the algorithm to explore new posibilities or to use its knowledge from the past. If too high, we will not be able to explore new behaviours and learn new actions, if too low, we will not learn anything and will just explore in an *amnesic random way*."
      ]
    },
    {
      "metadata": {
        "id": "ZBz6zH-ve8Pi",
        "colab_type": "text"
      },
      "cell_type": "markdown",
      "source": [
        "***\n",
        "### The Game"
      ]
    },
    {
      "metadata": {
        "id": "mWX52Gx5e8Pj",
        "colab_type": "text"
      },
      "cell_type": "markdown",
      "source": [
        "The ```Agent``` and the ```Environment``` work in an interlaced way as in the following (take some time to understand this code as it is the core of the project)\n",
        "\n",
        "```python\n",
        "\n",
        "epoch = 300\n",
        "env = Environment()\n",
        "agent = Agent()\n",
        "\n",
        "\n",
        "# Number of won games\n",
        "score = 0\n",
        "loss = 0\n",
        "\n",
        "\n",
        "for e in range(epoch):\n",
        "    # At each epoch, we restart to a fresh game and get the initial state\n",
        "    state = env.reset()\n",
        "    # This assumes that the games will end\n",
        "    game_over = False\n",
        "\n",
        "    win = 0\n",
        "    lose = 0\n",
        "    \n",
        "    while not game_over:\n",
        "        # The agent performs an action\n",
        "        action = agent.act(state)\n",
        "\n",
        "        # Apply an action to the environment, get the next state, the reward\n",
        "        # and if the games end\n",
        "        prev_state = state\n",
        "        state, reward, game_over = env.act(action)\n",
        "\n",
        "        # Update the counters\n",
        "        if reward > 0:\n",
        "            win = win + reward\n",
        "        if reward < 0:\n",
        "            lose = lose -reward\n",
        "\n",
        "        # Apply the reinforcement strategy\n",
        "        loss = agent.reinforce(prev_state, state,  action, reward, game_over)\n",
        "\n",
        "    # Save as a mp4\n",
        "    if e % 10 == 0:\n",
        "        env.draw(e)\n",
        "\n",
        "    # Update stats\n",
        "    score += win-lose\n",
        "\n",
        "    print(\"Epoch {:03d}/{:03d} | Loss {:.4f} | Win/lose count {}/{} ({})\"\n",
        "          .format(e, epoch, loss, win, lose, win-lose))\n",
        "    agent.save()\n",
        "```"
      ]
    },
    {
      "metadata": {
        "id": "Mf6mszNUe8Pl",
        "colab_type": "text"
      },
      "cell_type": "markdown",
      "source": [
        "# The game, *eat cheese*"
      ]
    },
    {
      "metadata": {
        "id": "1LnSKJOye8Pn",
        "colab_type": "text"
      },
      "cell_type": "markdown",
      "source": [
        "A rat runs on an island and tries to eat as much as possible. The island is subdivided into $N\\times N$ cells, in which there are cheese (+0.5) and poisonous cells (-1). The rat has a visibility of 2 cells (thus it can see $5^2$ cells). The rat is given a time $T$ to accumulate as much food as possible. It can perform 4 actions: going up, down, left, right. \n",
        "\n",
        "The goal is to code an agent to solve this task that will learn by trial and error. We propose the following environment:"
      ]
    },
    {
      "metadata": {
        "id": "78D8rdbTe8Pp",
        "colab_type": "code",
        "colab": {}
      },
      "cell_type": "code",
      "source": [
        "class Environment(object):\n",
        "    def __init__(self, grid_size=10, max_time=500, temperature=0.1):\n",
        "        grid_size = grid_size+4\n",
        "        self.grid_size = grid_size\n",
        "        self.max_time = max_time\n",
        "        self.temperature = temperature\n",
        "\n",
        "        #board on which one plays\n",
        "        self.board = np.zeros((grid_size,grid_size))\n",
        "        self.position = np.zeros((grid_size,grid_size))\n",
        "\n",
        "        # coordinate of the cat\n",
        "        self.x = 0\n",
        "        self.y = 1\n",
        "\n",
        "        # self time\n",
        "        self.t = 0\n",
        "\n",
        "        self.scale=16\n",
        "\n",
        "        self.to_draw = np.zeros((max_time+2, grid_size*self.scale, grid_size*self.scale, 3))\n",
        "\n",
        "\n",
        "    def draw(self,e):\n",
        "        skvideo.io.vwrite(str(e) + '.mp4', self.to_draw)\n",
        "\n",
        "    def get_frame(self,t):\n",
        "        b = np.zeros((self.grid_size,self.grid_size,3))+128\n",
        "        b[self.board>0,0] = 256\n",
        "        b[self.board < 0, 2] = 256\n",
        "        b[self.x,self.y,:]=256\n",
        "        b[-2:,:,:]=0\n",
        "        b[:,-2:,:]=0\n",
        "        b[:2,:,:]=0\n",
        "        b[:,:2,:]=0\n",
        "        \n",
        "        b =  cv2.resize(b, None, fx=self.scale, fy=self.scale, interpolation=cv2.INTER_NEAREST)\n",
        "\n",
        "        self.to_draw[t,:,:,:]=b\n",
        "\n",
        "\n",
        "    def act(self, action):\n",
        "        \"\"\"This function returns the new state, reward and decides if the\n",
        "        game ends.\"\"\"\n",
        "\n",
        "        self.get_frame(int(self.t))\n",
        "\n",
        "        self.position = np.zeros((self.grid_size, self.grid_size))\n",
        "\n",
        "        self.position[0:2,:]= -1\n",
        "        self.position[:,0:2] = -1\n",
        "        self.position[-2:, :] = -1\n",
        "        self.position[-2:, :] = -1\n",
        "\n",
        "        self.position[self.x, self.y] = 1\n",
        "        if action == 0:\n",
        "            if self.x == self.grid_size-3:\n",
        "                self.x = self.x-1\n",
        "            else:\n",
        "                self.x = self.x + 1\n",
        "        elif action == 1:\n",
        "            if self.x == 2:\n",
        "                self.x = self.x+1\n",
        "            else:\n",
        "                self.x = self.x-1\n",
        "        elif action == 2:\n",
        "            if self.y == self.grid_size - 3:\n",
        "                self.y = self.y - 1\n",
        "            else:\n",
        "                self.y = self.y + 1\n",
        "        elif action == 3:\n",
        "            if self.y == 2:\n",
        "                self.y = self.y + 1\n",
        "            else:\n",
        "                self.y = self.y - 1\n",
        "        else:\n",
        "            RuntimeError('Error: action not recognized')\n",
        "\n",
        "        self.t = self.t + 1\n",
        "        reward = self.board[self.x, self.y]\n",
        "        self.board[self.x, self.y] = 0\n",
        "        game_over = self.t > self.max_time\n",
        "        state = np.concatenate((self.board.reshape(self.grid_size, self.grid_size,1),\n",
        "                        self.position.reshape(self.grid_size, self.grid_size,1)),axis=2)\n",
        "        state = state[self.x-2:self.x+3,self.y-2:self.y+3,:]\n",
        "\n",
        "        return state, reward, game_over\n",
        "\n",
        "    def reset(self):\n",
        "        \"\"\"This function resets the game and returns the initial state\"\"\"\n",
        "\n",
        "        self.x = np.random.randint(3, self.grid_size-3, size=1)[0]\n",
        "        self.y = np.random.randint(3, self.grid_size-3, size=1)[0]\n",
        "\n",
        "\n",
        "        bonus = 0.5*np.random.binomial(1,self.temperature,size=self.grid_size**2)\n",
        "        bonus = bonus.reshape(self.grid_size,self.grid_size)\n",
        "\n",
        "        malus = -1.0*np.random.binomial(1,self.temperature,size=self.grid_size**2)\n",
        "        malus = malus.reshape(self.grid_size, self.grid_size)\n",
        "\n",
        "        self.to_draw = np.zeros((self.max_time+2, self.grid_size*self.scale, self.grid_size*self.scale, 3))\n",
        "\n",
        "\n",
        "        malus[bonus>0]=0\n",
        "\n",
        "        self.board = bonus + malus\n",
        "\n",
        "        self.position = np.zeros((self.grid_size, self.grid_size))\n",
        "        self.position[0:2,:]= -1\n",
        "        self.position[:,0:2] = -1\n",
        "        self.position[-2:, :] = -1\n",
        "        self.position[-2:, :] = -1\n",
        "        self.board[self.x,self.y] = 0\n",
        "        self.t = 0\n",
        "\n",
        "        state = np.concatenate((\n",
        "                               self.board.reshape(self.grid_size, self.grid_size,1),\n",
        "                        self.position.reshape(self.grid_size, self.grid_size,1)),axis=2)\n",
        "\n",
        "        state = state[self.x - 2:self.x + 3, self.y - 2:self.y + 3, :]\n",
        "        return state"
      ],
      "execution_count": 0,
      "outputs": []
    },
    {
      "metadata": {
        "id": "e9IrB2_1e8Pt",
        "colab_type": "text"
      },
      "cell_type": "markdown",
      "source": [
        "The following elements are important because they correspond to the hyper parameters for this project:"
      ]
    },
    {
      "metadata": {
        "id": "mlBH6Yqce8Pw",
        "colab_type": "code",
        "colab": {}
      },
      "cell_type": "code",
      "source": [
        "# parameters\n",
        "size = 13\n",
        "T=200\n",
        "temperature=0.3\n",
        "epochs_train=64 # set small when debugging\n",
        "epochs_test=64 # set small when debugging\n",
        "\n",
        "# display videos\n",
        "def display_videos(name):\n",
        "    video = io.open(name, 'r+b').read()\n",
        "    encoded = base64.b64encode(video)\n",
        "    return '''<video alt=\"test\" controls>\n",
        "                <source src=\"data:video/mp4;base64,{0}\" type=\"video/mp4\" />\n",
        "             </video>'''.format(encoded.decode('ascii'))"
      ],
      "execution_count": 0,
      "outputs": []
    },
    {
      "metadata": {
        "id": "o9kAND0oe8P0",
        "colab_type": "text"
      },
      "cell_type": "markdown",
      "source": [
        "__Question 2__ Explain the use of the arrays ```position``` and ```board```."
      ]
    },
    {
      "metadata": {
        "id": "6-G85zoBe8P1",
        "colab_type": "text"
      },
      "cell_type": "markdown",
      "source": [
        "*Position*  \n",
        "This matrix is used to define the rat position and allowed moves. \n",
        "- It is filled with `0` by default.\n",
        "- There is a two `-1` cells thickness on the borders, reprenting where the rat can't go. That's why we added +4 to the grid size, allowing some place for these borders.\n",
        "- One only cell is set to `1`, representing the actual rat positon.\n",
        "\n",
        "*Board*  \n",
        "This matrix is used to define the environment.\n",
        "- It is also initialized with a size increased by 4, to fit with the previous positon matrix.\n",
        "- It contains rewards for the rat. `-1` for poison, `0.5` for cheese.\n",
        "- When the rat already have explored a cell, we set the cell to `0`\n"
      ]
    },
    {
      "metadata": {
        "id": "-ZEZ4n2ue8P3",
        "colab_type": "text"
      },
      "cell_type": "markdown",
      "source": [
        "## Random Agent"
      ]
    },
    {
      "metadata": {
        "id": "n6bj3Pu4e8P4",
        "colab_type": "text"
      },
      "cell_type": "markdown",
      "source": [
        "***\n",
        "__Question 3__ Implement a random Agent (only ```learned_act``` needs to be implemented):"
      ]
    },
    {
      "metadata": {
        "id": "1JLh_hvke8P5",
        "colab_type": "code",
        "colab": {}
      },
      "cell_type": "code",
      "source": [
        "class RandomAgent(Agent):\n",
        "    def __init__(self):\n",
        "        super(RandomAgent, self).__init__()\n",
        "        pass\n",
        "\n",
        "    def learned_act(self, s=0):\n",
        "        return np.random.randint(4)\n",
        "\n",
        "# We develop a random agent.\n",
        "# Thus it doesn't care about the current rat state.\n",
        "# We put s=0 by default, we will not us it.\n",
        "# We randomly return a number between 0 and 3 included.\n",
        "\n",
        "# Testing\n",
        "def test_random_agent():\n",
        "    random_agent = RandomAgent()\n",
        "    for i in range(10):\n",
        "        print(random_agent.learned_act())\n",
        "# test_random_agent()"
      ],
      "execution_count": 0,
      "outputs": []
    },
    {
      "metadata": {
        "id": "4oZOl2t2e8P9",
        "colab_type": "text"
      },
      "cell_type": "markdown",
      "source": [
        "***\n",
        "***\n",
        "__Question 4__ Visualize the game moves. You need to fill in the following function for the evaluation:"
      ]
    },
    {
      "metadata": {
        "id": "65uteLr3e8P-",
        "colab_type": "code",
        "colab": {}
      },
      "cell_type": "code",
      "source": [
        "def test(agent,env,epochs,prefix=''):\n",
        "    # Number of won games\n",
        "    score = 0\n",
        "        \n",
        "    for e in range(epochs):\n",
        "        # Init variables\n",
        "        win = 0\n",
        "        lose = 0\n",
        "        game_over = False\n",
        "        # Start game\n",
        "        state = env.reset()\n",
        "        \n",
        "        # Running the game\n",
        "        while not game_over:\n",
        "            action = agent.learned_act(state) # The state will be useless\n",
        "            state, reward, game_over = env.act(action)\n",
        "            \n",
        "            if reward >= 0:\n",
        "                win+=reward\n",
        "            else:\n",
        "                lose+=abs(reward)\n",
        "        \n",
        "        # Save as a mp4\n",
        "        env.draw(prefix+str(e))\n",
        "\n",
        "        # Update stats\n",
        "        score = score + win-lose\n",
        "\n",
        "        print(\"Win/lose count {}/{}. Average score ({})\"\n",
        "              .format(win, lose, score/(1+e)))\n",
        "    print('Final score: '+str(score/epochs))"
      ],
      "execution_count": 0,
      "outputs": []
    },
    {
      "metadata": {
        "id": "Iba54I9Ue8QB",
        "colab_type": "code",
        "outputId": "b989e2e0-4230-4a8d-9464-ed3601605ad8",
        "colab": {
          "base_uri": "https://localhost:8080/",
          "height": 273
        }
      },
      "cell_type": "code",
      "source": [
        "epochs_test=5 # set small when debugging\n",
        "\n",
        "# Initialize the game\n",
        "env = Environment(grid_size=size, max_time=T,temperature=temperature)\n",
        "\n",
        "# Initialize the agent!\n",
        "agent = RandomAgent()\n",
        "\n",
        "test(agent,env,epochs_test,prefix='random')\n",
        "HTML(display_videos('random0.mp4'))"
      ],
      "execution_count": 139,
      "outputs": [
        {
          "output_type": "stream",
          "text": [
            "Win/lose count 14.5/15.0. Average score (-0.5)\n",
            "Win/lose count 11.0/15.0. Average score (-2.25)\n",
            "Win/lose count 12.0/14.0. Average score (-2.1666666666666665)\n",
            "Win/lose count 9.0/18.0. Average score (-3.875)\n",
            "Win/lose count 10.5/18.0. Average score (-4.6)\n",
            "Final score: -4.6\n"
          ],
          "name": "stdout"
        },
        {
          "output_type": "execute_result",
          "data": {
            "text/html": [
              "<video alt=\"test\" controls>\n",
              "                <source src=\"data:video/mp4;base64,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\" type=\"video/mp4\" />\n",
              "             </video>"
            ],
            "text/plain": [
              "<IPython.core.display.HTML object>"
            ]
          },
          "metadata": {
            "tags": []
          },
          "execution_count": 139
        }
      ]
    },
    {
      "metadata": {
        "id": "D_eFHXsJe8QE",
        "colab_type": "text"
      },
      "cell_type": "markdown",
      "source": [
        "***\n",
        "## DQN"
      ]
    },
    {
      "metadata": {
        "id": "NnfwB5xJe8QG",
        "colab_type": "text"
      },
      "cell_type": "markdown",
      "source": [
        "Let us assume here that $T=\\infty$.\n",
        "\n",
        "***\n",
        "__Question 5__ Let $\\pi$ be a policy, show that:\n",
        "\n",
        "\\begin{equation*}\n",
        "Q^{\\pi}(s,a)=E_{(s',a')\\sim p(.|s,a)}[r(s,a)+\\gamma Q^{\\pi}(s',a')]\n",
        "\\end{equation*}\n",
        "\n",
        "Then, show that for the optimal policy $\\pi^*$ (we assume its existence), the following holds: \n",
        "\n",
        "\\begin{equation*}\n",
        "Q^{*}(s,a)=E_{s'\\sim \\pi^*(.|s,a)}[r(s,a)+\\gamma\\max_{a'}Q^{*}(s',a')].\n",
        "\\end{equation*}\n",
        "Finally, deduce that a plausible objective is:\n",
        "\n",
        "\\begin{equation*}\n",
        "\\mathcal{L}(\\theta)=E_{s' \\sim \\pi^*(.|s,a)}\\Vert r+\\gamma\\max\\max_{a'}Q(s',a',\\theta)-Q(s,a,\\theta)\\Vert^{2}.\n",
        "\\end{equation*}\n",
        "\n",
        "\n"
      ]
    },
    {
      "metadata": {
        "id": "NhAceGGqe8QH",
        "colab_type": "text"
      },
      "cell_type": "markdown",
      "source": [
        "By definition of the action-value of a policy $\\pi$, we have :  \n",
        "$Q^\\pi(s,a) = E_\\pi \\Big[ \\overset{\\infty}{\\underset{k=0}{\\sum}} \\gamma^k r_{t+k+1} \\Big| s_t = s, a_t = a \\Big]$\n",
        "\n",
        "$~~~~~~~~~~~~~= E\\Big[r(s,a) + \\overset{\\infty}{\\underset{k=1}{\\sum}} \\gamma^k r_{t+k+1} \\Big| s_t = s, a_t = a\\Big]$  \n",
        "\n",
        "...."
      ]
    },
    {
      "metadata": {
        "id": "84o3AG09e8QJ",
        "colab_type": "text"
      },
      "cell_type": "markdown",
      "source": [
        "***\n",
        "The DQN-learning algorithm relies on these derivations to train the parameters $\\theta$ of a Deep Neural Network:\n",
        "\n",
        "1. At the state $s_t$, select the action $a_t$ with best reward using $Q_t$ and store the results;\n",
        "\n",
        "2. Obtain the new state $s_{t+1}$ from the environment $p$;\n",
        "\n",
        "3. Store $(s_t,a_t,s_{t+1})$;\n",
        "\n",
        "4. Obtain $Q_{t+1}$ by minimizing  $\\mathcal{L}$ from a recovered batch from the previously stored results.\n",
        "\n",
        "***\n",
        "__Question 6__ Implement the class ```Memory``` that stores moves (in a replay buffer) via ```remember``` and provides a ```random_access``` to these. Specify a maximum memory size to avoid side effects. You can for example use a ```list()``` and set by default ```max_memory=100```."
      ]
    },
    {
      "metadata": {
        "id": "mosmSRh6e8QL",
        "colab_type": "code",
        "colab": {}
      },
      "cell_type": "code",
      "source": [
        "class Memory(object):\n",
        "    def __init__(self, max_memory=100):\n",
        "        self.max_memory = max_memory\n",
        "        self.memory = list()\n",
        "\n",
        "    def remember(self, m):\n",
        "        self.memory.append(m)\n",
        "        if len(self.memory) > self.max_memory:\n",
        "            self.memory.pop(0)\n",
        "\n",
        "    def random_access(self):\n",
        "        id_random = np.random.randint(len(self.memory))\n",
        "        return self.memory[id_random]"
      ],
      "execution_count": 0,
      "outputs": []
    },
    {
      "metadata": {
        "id": "HT0IrODde8QR",
        "colab_type": "text"
      },
      "cell_type": "markdown",
      "source": [
        "***\n",
        "The pipeline we will use for training is given below:"
      ]
    },
    {
      "metadata": {
        "id": "hCarcHK4e8QT",
        "colab_type": "code",
        "colab": {}
      },
      "cell_type": "code",
      "source": [
        "def train(agent,env,epoch,prefix=''):\n",
        "    # Number of won games\n",
        "    score = 0\n",
        "    loss = 0\n",
        "\n",
        "    for e in range(epoch):\n",
        "        # At each epoch, we restart to a fresh game and get the initial state\n",
        "        state = env.reset()\n",
        "        # This assumes that the games will terminate\n",
        "        game_over = False\n",
        "\n",
        "        win = 0\n",
        "        lose = 0\n",
        "\n",
        "        while not game_over:\n",
        "            # The agent performs an action\n",
        "            action = agent.act(state)\n",
        "\n",
        "            # Apply an action to the environment, get the next state, the reward\n",
        "            # and if the games end\n",
        "            prev_state = state\n",
        "            state, reward, game_over = env.act(action)\n",
        "\n",
        "            # Update the counters\n",
        "            if reward > 0:\n",
        "                win = win + reward\n",
        "            if reward < 0:\n",
        "                lose = lose -reward\n",
        "\n",
        "            # Apply the reinforcement strategy\n",
        "            loss = agent.reinforce(prev_state, state,  action, reward, game_over)\n",
        "\n",
        "        # Save as a mp4\n",
        "        if e % 10 == 0:\n",
        "            env.draw(prefix+str(e))\n",
        "\n",
        "        # Update stats\n",
        "        score += win-lose\n",
        "\n",
        "        print(\"Epoch {:03d}/{:03d} | Loss {:.4f} | Win/lose count {}/{} ({})\"\n",
        "              .format(e+1, epoch, loss, win, lose, win-lose))\n",
        "        agent.save(name_weights=prefix+'model.h5',name_model=prefix+'model.json')"
      ],
      "execution_count": 0,
      "outputs": []
    },
    {
      "metadata": {
        "id": "QIJTlijne8QY",
        "colab_type": "text"
      },
      "cell_type": "markdown",
      "source": [
        "***\n",
        "__Question 7__ Implement the DQN training algorithm using a cascade of fully connected layers. You can use different learning rate, batch size or memory size parameters. In particular, the loss might oscillate while the player will start to win the games. You have to find a good criterium."
      ]
    },
    {
      "metadata": {
        "id": "iI6rBOEge8Qb",
        "colab_type": "code",
        "colab": {}
      },
      "cell_type": "code",
      "source": [
        "from keras.layers.core import Flatten\n",
        "\n",
        "class DQN(Agent):\n",
        "    def __init__(self, grid_size,  epsilon = 0.1, memory_size=100, batch_size = 16,n_state=2):\n",
        "        super(DQN, self).__init__(epsilon = epsilon)\n",
        "\n",
        "        # Discount for Q learning\n",
        "        self.discount = 0.99\n",
        "        \n",
        "        self.grid_size = grid_size\n",
        "        \n",
        "        # number of state\n",
        "        self.n_state = n_state\n",
        "\n",
        "        # Memory\n",
        "        self.memory = Memory(memory_size)\n",
        "        \n",
        "        # Batch size when learning\n",
        "        self.batch_size = batch_size\n",
        "\n",
        "    def learned_act(self, s):\n",
        "        actions = self.model.predict(np.expand_dims(s, 0))\n",
        "        id_max = np.argmax(actions)\n",
        "        return id_max\n",
        "\n",
        "    def reinforce(self, s_, n_s_, a_, r_, game_over_):\n",
        "        # Two steps: first memorize the states, second learn from the pool\n",
        "\n",
        "        self.memory.remember([s_, n_s_, a_, r_, game_over_])\n",
        "        \n",
        "        input_states = np.zeros((self.batch_size, 5,5,self.n_state))\n",
        "        target_q = np.zeros((self.batch_size, 4))\n",
        "        \n",
        "        for i in range(self.batch_size):\n",
        "            s_, n_s_, a_, r_, game_over_  = self.memory.random_access()\n",
        "            \n",
        "            actions = self.model.predict(np.expand_dims(s_, 0))\n",
        "            value_max_action = np.max(actions)\n",
        "            \n",
        "            target_q[i] = actions\n",
        "            \n",
        "            if game_over_:\n",
        "                input_states[i] = s_\n",
        "                target_q[i,a_] = r_\n",
        "            else:\n",
        "                input_states[i] = s_\n",
        "                target_q[i,a_] = r_  + self.discount * value_max_action\n",
        "        \n",
        "        # HINT: Clip the target to avoid exploiding gradients.. -- clipping is a bit tighter\n",
        "        target_q = np.clip(target_q, -3, 3)\n",
        "        l = self.model.train_on_batch(input_states, target_q)\n",
        "        return l\n",
        "\n",
        "    def save(self,name_weights='model.h5',name_model='model.json'):\n",
        "        self.model.save_weights(name_weights, overwrite=True)\n",
        "        with open(name_model, \"w\") as outfile:\n",
        "            json.dump(self.model.to_json(), outfile)\n",
        "            \n",
        "    def load(self,name_weights='model.h5',name_model='model.json'):\n",
        "        with open(name_model, \"r\") as jfile:\n",
        "            model = model_from_json(json.load(jfile))\n",
        "        model.load_weights(name_weights)\n",
        "        model.compile(\"sgd\", \"mse\")\n",
        "        self.model = model\n",
        "\n",
        "            \n",
        "class DQN_FC(DQN):\n",
        "    def __init__(self, *args, lr=0.1,**kwargs):\n",
        "        super(DQN_FC, self).__init__( *args,**kwargs)\n",
        "        \n",
        "        # NN Model\n",
        "        model = Sequential()\n",
        "        model.add(Dense(64, activation='relu'))\n",
        "        model.add(Flatten())\n",
        "        model.add(Dense(128, activation='relu'))\n",
        "        model.add(Dense(4, activation='softmax'))\n",
        "        model.compile(sgd(lr=lr, decay=1e-4, momentum=0.1), \"mse\")\n",
        "        self.model = model\n",
        "        "
      ],
      "execution_count": 0,
      "outputs": []
    },
    {
      "metadata": {
        "id": "zMTTBllTe8Qk",
        "colab_type": "code",
        "outputId": "08c3a7f0-5ee9-4618-a25e-dfabc55e5187",
        "colab": {
          "base_uri": "https://localhost:8080/",
          "height": 1276
        }
      },
      "cell_type": "code",
      "source": [
        "import glob\n",
        "epochs_train = 64\n",
        "# epochs_test = 64\n",
        "\n",
        "env = Environment(grid_size=size, max_time=T, temperature=0.3)\n",
        "agent = DQN_FC(size, lr=.1, epsilon = 0.5, memory_size=500, batch_size = 64)\n",
        "\n",
        "# NOTE : a high epsilon is important to avoid to stick to a 2 case movement.\n",
        "# Even with this, we often end up to stop exploring the map.\n",
        "\n",
        "train(agent, env, epochs_train, prefix='fc_train')\n",
        "# test(agent,env,epochs_test,prefix='fc_train')\n",
        "\n",
        "video_paths = glob.glob(\"fc_train*.mp4\")\n",
        "video_paths.sort()\n",
        "best_video_path = video_paths.pop()\n",
        "print(\"Displaying \", best_video_path)\n",
        "HTML(display_videos(best_video_path))"
      ],
      "execution_count": 143,
      "outputs": [
        {
          "output_type": "stream",
          "text": [
            "Epoch 001/064 | Loss 0.0218 | Win/lose count 7.5/8.0 (-0.5)\n",
            "Epoch 002/064 | Loss 0.0142 | Win/lose count 12.0/12.0 (0.0)\n",
            "Epoch 003/064 | Loss 0.0140 | Win/lose count 7.0/9.0 (-2.0)\n",
            "Epoch 004/064 | Loss 0.0186 | Win/lose count 5.0/11.0 (-6.0)\n",
            "Epoch 005/064 | Loss 0.0113 | Win/lose count 4.0/10.0 (-6.0)\n",
            "Epoch 006/064 | Loss 0.0067 | Win/lose count 2.5/3.0 (-0.5)\n",
            "Epoch 007/064 | Loss 0.0056 | Win/lose count 7.5/7.0 (0.5)\n",
            "Epoch 008/064 | Loss 0.0144 | Win/lose count 8.0/6.0 (2.0)\n",
            "Epoch 009/064 | Loss 0.0086 | Win/lose count 8.0/5.0 (3.0)\n",
            "Epoch 010/064 | Loss 0.0090 | Win/lose count 4.5/8.0 (-3.5)\n",
            "Epoch 011/064 | Loss 0.0081 | Win/lose count 9.0/10.0 (-1.0)\n",
            "Epoch 012/064 | Loss 0.0072 | Win/lose count 4.0/6.0 (-2.0)\n",
            "Epoch 013/064 | Loss 0.0143 | Win/lose count 8.5/9.0 (-0.5)\n",
            "Epoch 014/064 | Loss 0.0144 | Win/lose count 3.5/4.0 (-0.5)\n",
            "Epoch 015/064 | Loss 0.0083 | Win/lose count 6.5/9.0 (-2.5)\n",
            "Epoch 016/064 | Loss 0.0044 | Win/lose count 6.5/3.0 (3.5)\n",
            "Epoch 017/064 | Loss 0.0023 | Win/lose count 1.5/1.0 (0.5)\n",
            "Epoch 018/064 | Loss 0.0106 | Win/lose count 3.5/8.0 (-4.5)\n",
            "Epoch 019/064 | Loss 0.0059 | Win/lose count 3.0/6.0 (-3.0)\n",
            "Epoch 020/064 | Loss 0.0151 | Win/lose count 3.5/4.0 (-0.5)\n",
            "Epoch 021/064 | Loss 0.0061 | Win/lose count 5.0/4.0 (1.0)\n",
            "Epoch 022/064 | Loss 0.0007 | Win/lose count 4.0/3.0 (1.0)\n",
            "Epoch 023/064 | Loss 0.0081 | Win/lose count 8.5/12.0 (-3.5)\n",
            "Epoch 024/064 | Loss 0.0047 | Win/lose count 8.0/13.0 (-5.0)\n",
            "Epoch 025/064 | Loss 0.0104 | Win/lose count 5.0/7.0 (-2.0)\n",
            "Epoch 026/064 | Loss 0.0131 | Win/lose count 12.5/9.0 (3.5)\n",
            "Epoch 027/064 | Loss 0.0162 | Win/lose count 13.5/6.0 (7.5)\n",
            "Epoch 028/064 | Loss 0.0069 | Win/lose count 12.0/5.0 (7.0)\n",
            "Epoch 029/064 | Loss 0.0138 | Win/lose count 8.0/3.0 (5.0)\n",
            "Epoch 030/064 | Loss 0.0091 | Win/lose count 10.0/8.0 (2.0)\n",
            "Epoch 031/064 | Loss 0.0133 | Win/lose count 12.0/15.0 (-3.0)\n",
            "Epoch 032/064 | Loss 0.0152 | Win/lose count 7.5/14.0 (-6.5)\n",
            "Epoch 033/064 | Loss 0.0123 | Win/lose count 11.0/7.0 (4.0)\n",
            "Epoch 034/064 | Loss 0.0203 | Win/lose count 16.5/9.0 (7.5)\n",
            "Epoch 035/064 | Loss 0.0185 | Win/lose count 17.5/15.0 (2.5)\n",
            "Epoch 036/064 | Loss 0.0188 | Win/lose count 14.5/11.0 (3.5)\n",
            "Epoch 037/064 | Loss 0.0251 | Win/lose count 17.0/12.0 (5.0)\n",
            "Epoch 038/064 | Loss 0.0272 | Win/lose count 13.5/8.0 (5.5)\n",
            "Epoch 039/064 | Loss 0.0169 | Win/lose count 18.0/18.0 (0.0)\n",
            "Epoch 040/064 | Loss 0.0259 | Win/lose count 10.0/10.0 (0.0)\n",
            "Epoch 041/064 | Loss 0.0178 | Win/lose count 11.5/5.0 (6.5)\n",
            "Epoch 042/064 | Loss 0.0139 | Win/lose count 13.5/9.0 (4.5)\n",
            "Epoch 043/064 | Loss 0.0099 | Win/lose count 11.0/8.0 (3.0)\n",
            "Epoch 044/064 | Loss 0.0177 | Win/lose count 12.0/10.0 (2.0)\n",
            "Epoch 045/064 | Loss 0.0230 | Win/lose count 14.0/7.0 (7.0)\n",
            "Epoch 046/064 | Loss 0.0297 | Win/lose count 10.0/12.0 (-2.0)\n",
            "Epoch 047/064 | Loss 0.0258 | Win/lose count 12.5/10.0 (2.5)\n",
            "Epoch 048/064 | Loss 0.0197 | Win/lose count 14.5/10.0 (4.5)\n",
            "Epoch 049/064 | Loss 0.0125 | Win/lose count 12.5/11.0 (1.5)\n",
            "Epoch 050/064 | Loss 0.0188 | Win/lose count 11.5/17.0 (-5.5)\n",
            "Epoch 051/064 | Loss 0.0239 | Win/lose count 13.5/11.0 (2.5)\n",
            "Epoch 052/064 | Loss 0.0276 | Win/lose count 17.5/14.0 (3.5)\n",
            "Epoch 053/064 | Loss 0.0236 | Win/lose count 12.0/6.0 (6.0)\n",
            "Epoch 054/064 | Loss 0.0274 | Win/lose count 13.0/7.0 (6.0)\n",
            "Epoch 055/064 | Loss 0.0109 | Win/lose count 9.5/8.0 (1.5)\n",
            "Epoch 056/064 | Loss 0.0187 | Win/lose count 12.0/11.0 (1.0)\n",
            "Epoch 057/064 | Loss 0.0188 | Win/lose count 17.0/14.0 (3.0)\n",
            "Epoch 058/064 | Loss 0.0274 | Win/lose count 14.5/10.0 (4.5)\n",
            "Epoch 059/064 | Loss 0.0145 | Win/lose count 10.5/8.0 (2.5)\n",
            "Epoch 060/064 | Loss 0.0340 | Win/lose count 19.5/9.0 (10.5)\n",
            "Epoch 061/064 | Loss 0.0226 | Win/lose count 13.5/13.0 (0.5)\n",
            "Epoch 062/064 | Loss 0.0186 | Win/lose count 10.0/3.0 (7.0)\n",
            "Epoch 063/064 | Loss 0.0159 | Win/lose count 16.5/8.0 (8.5)\n",
            "Epoch 064/064 | Loss 0.0198 | Win/lose count 17.5/13.0 (4.5)\n",
            "Displaying  fc_train60.mp4\n"
          ],
          "name": "stdout"
        },
        {
          "output_type": "execute_result",
          "data": {
            "text/html": [
              "<video alt=\"test\" controls>\n",
              "                <source src=\"data:video/mp4;base64,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\" type=\"video/mp4\" />\n",
              "             </video>"
            ],
            "text/plain": [
              "<IPython.core.display.HTML object>"
            ]
          },
          "metadata": {
            "tags": []
          },
          "execution_count": 143
        }
      ]
    },
    {
      "metadata": {
        "id": "wgeO6YOie8Qm",
        "colab_type": "text"
      },
      "cell_type": "markdown",
      "source": [
        "***\n",
        "***\n",
        "__Question 8__ Implement the DQN training algorithm using a CNN (for example, 2 convolutional layers and one final fully connected layer)."
      ]
    },
    {
      "metadata": {
        "id": "UW8ysoEZe8Qn",
        "colab_type": "code",
        "colab": {}
      },
      "cell_type": "code",
      "source": [
        "class DQN_CNN(DQN):\n",
        "    def __init__(self, *args,lr=0.1,**kwargs):\n",
        "        super(DQN_CNN, self).__init__(*args,**kwargs)\n",
        "        \n",
        "        model = Sequential()\n",
        "        model.add(Conv2D(64, 1, activation='relu'))\n",
        "        model.add(Conv2D(64, 1, activation='relu'))\n",
        "        model.add(Dropout(0.2))\n",
        "        model.add(Flatten())\n",
        "        model.add(Dense(128, activation='relu'))\n",
        "        model.add(Dense(4, activation='softmax'))\n",
        "        \n",
        "        model.compile(sgd(lr=lr, decay=1e-4, momentum=0.1), \"mse\")\n",
        "        self.model = model"
      ],
      "execution_count": 0,
      "outputs": []
    },
    {
      "metadata": {
        "id": "dEQv-Guie8Qq",
        "colab_type": "code",
        "outputId": "4a947f3f-ef77-48f5-eab6-8f4101a55cee",
        "colab": {
          "base_uri": "https://localhost:8080/",
          "height": 470
        }
      },
      "cell_type": "code",
      "source": [
        "epochs_train = 64\n",
        "# epochs_test = 128\n",
        "\n",
        "env = Environment(grid_size=size, max_time=T, temperature=0.3)\n",
        "agent = DQN_CNN(size, lr=.1, epsilon = 0.5, memory_size=500, batch_size = 64)\n",
        "\n",
        "train(agent,env,epochs_train,prefix='cnn_train')\n",
        "# test(agent,env,epochs_test,prefix='cnn_train')\n",
        "\n",
        "\n",
        "video_paths = glob.glob(\"cnn_train*.mp4\")\n",
        "video_paths.sort()\n",
        "best_video_path = video_paths.pop()\n",
        "print(\"Displaying \", best_video_path)\n",
        "HTML(display_videos(best_video_path))"
      ],
      "execution_count": 152,
      "outputs": [
        {
          "output_type": "error",
          "ename": "KeyboardInterrupt",
          "evalue": "ignored",
          "traceback": [
            "\u001b[0;31m---------------------------------------------------------------------------\u001b[0m",
            "\u001b[0;31mKeyboardInterrupt\u001b[0m                         Traceback (most recent call last)",
            "\u001b[0;32m<ipython-input-152-bcceefbf9608>\u001b[0m in \u001b[0;36m<module>\u001b[0;34m()\u001b[0m\n\u001b[1;32m      5\u001b[0m \u001b[0magent\u001b[0m \u001b[0;34m=\u001b[0m \u001b[0mDQN_CNN\u001b[0m\u001b[0;34m(\u001b[0m\u001b[0msize\u001b[0m\u001b[0;34m,\u001b[0m \u001b[0mlr\u001b[0m\u001b[0;34m=\u001b[0m\u001b[0;36m.1\u001b[0m\u001b[0;34m,\u001b[0m \u001b[0mepsilon\u001b[0m \u001b[0;34m=\u001b[0m \u001b[0;36m0.5\u001b[0m\u001b[0;34m,\u001b[0m \u001b[0mmemory_size\u001b[0m\u001b[0;34m=\u001b[0m\u001b[0;36m500\u001b[0m\u001b[0;34m,\u001b[0m \u001b[0mbatch_size\u001b[0m \u001b[0;34m=\u001b[0m \u001b[0;36m64\u001b[0m\u001b[0;34m)\u001b[0m\u001b[0;34m\u001b[0m\u001b[0;34m\u001b[0m\u001b[0m\n\u001b[1;32m      6\u001b[0m \u001b[0;34m\u001b[0m\u001b[0m\n\u001b[0;32m----> 7\u001b[0;31m \u001b[0mtrain\u001b[0m\u001b[0;34m(\u001b[0m\u001b[0magent\u001b[0m\u001b[0;34m,\u001b[0m\u001b[0menv\u001b[0m\u001b[0;34m,\u001b[0m\u001b[0mepochs_train\u001b[0m\u001b[0;34m,\u001b[0m\u001b[0mprefix\u001b[0m\u001b[0;34m=\u001b[0m\u001b[0;34m'cnn_train'\u001b[0m\u001b[0;34m)\u001b[0m\u001b[0;34m\u001b[0m\u001b[0;34m\u001b[0m\u001b[0m\n\u001b[0m\u001b[1;32m      8\u001b[0m \u001b[0;31m# test(agent,env,epochs_test,prefix='cnn_train')\u001b[0m\u001b[0;34m\u001b[0m\u001b[0;34m\u001b[0m\u001b[0;34m\u001b[0m\u001b[0m\n\u001b[1;32m      9\u001b[0m \u001b[0;34m\u001b[0m\u001b[0m\n",
            "\u001b[0;32m<ipython-input-141-a18a8afac5d1>\u001b[0m in \u001b[0;36mtrain\u001b[0;34m(agent, env, epoch, prefix)\u001b[0m\n\u001b[1;32m     20\u001b[0m             \u001b[0;31m# and if the games end\u001b[0m\u001b[0;34m\u001b[0m\u001b[0;34m\u001b[0m\u001b[0;34m\u001b[0m\u001b[0m\n\u001b[1;32m     21\u001b[0m             \u001b[0mprev_state\u001b[0m \u001b[0;34m=\u001b[0m \u001b[0mstate\u001b[0m\u001b[0;34m\u001b[0m\u001b[0;34m\u001b[0m\u001b[0m\n\u001b[0;32m---> 22\u001b[0;31m             \u001b[0mstate\u001b[0m\u001b[0;34m,\u001b[0m \u001b[0mreward\u001b[0m\u001b[0;34m,\u001b[0m \u001b[0mgame_over\u001b[0m \u001b[0;34m=\u001b[0m \u001b[0menv\u001b[0m\u001b[0;34m.\u001b[0m\u001b[0mact\u001b[0m\u001b[0;34m(\u001b[0m\u001b[0maction\u001b[0m\u001b[0;34m)\u001b[0m\u001b[0;34m\u001b[0m\u001b[0;34m\u001b[0m\u001b[0m\n\u001b[0m\u001b[1;32m     23\u001b[0m \u001b[0;34m\u001b[0m\u001b[0m\n\u001b[1;32m     24\u001b[0m             \u001b[0;31m# Update the counters\u001b[0m\u001b[0;34m\u001b[0m\u001b[0;34m\u001b[0m\u001b[0;34m\u001b[0m\u001b[0m\n",
            "\u001b[0;32m<ipython-input-135-4651a46e1cd4>\u001b[0m in \u001b[0;36mact\u001b[0;34m(self, action)\u001b[0m\n\u001b[1;32m     44\u001b[0m         game ends.\"\"\"\n\u001b[1;32m     45\u001b[0m \u001b[0;34m\u001b[0m\u001b[0m\n\u001b[0;32m---> 46\u001b[0;31m         \u001b[0mself\u001b[0m\u001b[0;34m.\u001b[0m\u001b[0mget_frame\u001b[0m\u001b[0;34m(\u001b[0m\u001b[0mint\u001b[0m\u001b[0;34m(\u001b[0m\u001b[0mself\u001b[0m\u001b[0;34m.\u001b[0m\u001b[0mt\u001b[0m\u001b[0;34m)\u001b[0m\u001b[0;34m)\u001b[0m\u001b[0;34m\u001b[0m\u001b[0;34m\u001b[0m\u001b[0m\n\u001b[0m\u001b[1;32m     47\u001b[0m \u001b[0;34m\u001b[0m\u001b[0m\n\u001b[1;32m     48\u001b[0m         \u001b[0mself\u001b[0m\u001b[0;34m.\u001b[0m\u001b[0mposition\u001b[0m \u001b[0;34m=\u001b[0m \u001b[0mnp\u001b[0m\u001b[0;34m.\u001b[0m\u001b[0mzeros\u001b[0m\u001b[0;34m(\u001b[0m\u001b[0;34m(\u001b[0m\u001b[0mself\u001b[0m\u001b[0;34m.\u001b[0m\u001b[0mgrid_size\u001b[0m\u001b[0;34m,\u001b[0m \u001b[0mself\u001b[0m\u001b[0;34m.\u001b[0m\u001b[0mgrid_size\u001b[0m\u001b[0;34m)\u001b[0m\u001b[0;34m)\u001b[0m\u001b[0;34m\u001b[0m\u001b[0;34m\u001b[0m\u001b[0m\n",
            "\u001b[0;31mKeyboardInterrupt\u001b[0m: "
          ]
        }
      ]
    },
    {
      "metadata": {
        "id": "ZEa5R3rHe8Qt",
        "colab_type": "text"
      },
      "cell_type": "markdown",
      "source": [
        "***\n",
        "***\n",
        "__Question 9__ Test both algorithms and compare their performances. Which issue(s) do you observe? Observe also different behaviors by changing the temperature."
      ]
    },
    {
      "metadata": {
        "id": "dGOlGh_ve8Qu",
        "colab_type": "code",
        "colab": {
          "base_uri": "https://localhost:8080/",
          "height": 2261
        },
        "outputId": "d8b47c41-c0cf-4516-bfe0-8b9bdfd328d2"
      },
      "cell_type": "code",
      "source": [
        "# epochs_train = 128\n",
        "epochs_test = 64\n",
        "\n",
        "env = Environment(grid_size=size, max_time=T,temperature=0.3)\n",
        "agent_cnn = DQN_CNN(size, lr=.1, epsilon = 0.5, memory_size=500, batch_size = 32)\n",
        "agent_cnn.load(name_weights='cnn_trainmodel.h5',name_model='cnn_trainmodel.json')\n",
        "\n",
        "agent_fc = DQN_FC(size, lr=.1, epsilon = 0.5, memory_size=500, batch_size = 32)\n",
        "agent_cnn.load(name_weights='fc_trainmodel.h5',name_model='fc_trainmodel.json')\n",
        "print('Test of the CNN')\n",
        "test(agent_cnn,env,epochs_test,prefix='cnn_test')\n",
        "print('Test of the FC')\n",
        "test(agent_fc,env,epochs_test,prefix='fc_test')"
      ],
      "execution_count": 146,
      "outputs": [
        {
          "output_type": "stream",
          "text": [
            "Test of the CNN\n",
            "Win/lose count 5.0/1.0. Average score (4.0)\n",
            "Win/lose count 1.0/0. Average score (2.5)\n",
            "Win/lose count 3.5/0. Average score (2.8333333333333335)\n",
            "Win/lose count 3.0/0. Average score (2.875)\n",
            "Win/lose count 8.0/0. Average score (3.9)\n",
            "Win/lose count 14.0/0. Average score (5.583333333333333)\n",
            "Win/lose count 4.5/0. Average score (5.428571428571429)\n",
            "Win/lose count 2.0/0. Average score (5.0)\n",
            "Win/lose count 1.0/0. Average score (4.555555555555555)\n",
            "Win/lose count 1.0/0. Average score (4.2)\n",
            "Win/lose count 0.0/0. Average score (3.8181818181818183)\n",
            "Win/lose count 1.5/0. Average score (3.625)\n",
            "Win/lose count 3.0/1.0. Average score (3.5)\n",
            "Win/lose count 1.0/0. Average score (3.3214285714285716)\n",
            "Win/lose count 5.0/0. Average score (3.433333333333333)\n",
            "Win/lose count 7.5/0. Average score (3.6875)\n",
            "Win/lose count 10.5/0. Average score (4.088235294117647)\n",
            "Win/lose count 3.5/1.0. Average score (4.0)\n",
            "Win/lose count 2.5/0. Average score (3.9210526315789473)\n",
            "Win/lose count 12.0/0. Average score (4.325)\n",
            "Win/lose count 6.0/1.0. Average score (4.357142857142857)\n",
            "Win/lose count 16.5/0. Average score (4.909090909090909)\n",
            "Win/lose count 2.0/0. Average score (4.782608695652174)\n",
            "Win/lose count 3.0/0. Average score (4.708333333333333)\n",
            "Win/lose count 4.5/0. Average score (4.7)\n",
            "Win/lose count 1.5/0. Average score (4.576923076923077)\n",
            "Win/lose count 9.0/0. Average score (4.7407407407407405)\n",
            "Win/lose count 2.5/0. Average score (4.660714285714286)\n",
            "Win/lose count 3.0/0. Average score (4.603448275862069)\n",
            "Win/lose count 9.5/1.0. Average score (4.733333333333333)\n",
            "Win/lose count 1.0/0. Average score (4.612903225806452)\n",
            "Win/lose count 5.5/0. Average score (4.640625)\n",
            "Win/lose count 6.0/0. Average score (4.681818181818182)\n",
            "Win/lose count 11.0/1.0. Average score (4.838235294117647)\n",
            "Win/lose count 0.5/0. Average score (4.714285714285714)\n",
            "Win/lose count 13.5/0. Average score (4.958333333333333)\n",
            "Win/lose count 8.0/1.0. Average score (5.013513513513513)\n",
            "Win/lose count 6.5/0. Average score (5.052631578947368)\n",
            "Win/lose count 7.0/0. Average score (5.102564102564102)\n",
            "Win/lose count 2.5/0. Average score (5.0375)\n",
            "Win/lose count 9.0/0. Average score (5.134146341463414)\n",
            "Win/lose count 4.5/0. Average score (5.119047619047619)\n",
            "Win/lose count 2.0/0. Average score (5.046511627906977)\n",
            "Win/lose count 7.5/1.0. Average score (5.079545454545454)\n",
            "Win/lose count 8.5/0. Average score (5.155555555555556)\n",
            "Win/lose count 1.5/1.0. Average score (5.054347826086956)\n",
            "Win/lose count 8.0/0. Average score (5.117021276595745)\n",
            "Win/lose count 9.5/1.0. Average score (5.1875)\n",
            "Win/lose count 7.0/0. Average score (5.224489795918367)\n",
            "Win/lose count 12.5/0. Average score (5.37)\n",
            "Win/lose count 7.0/0. Average score (5.401960784313726)\n",
            "Win/lose count 2.5/0. Average score (5.346153846153846)\n",
            "Win/lose count 3.0/0. Average score (5.30188679245283)\n",
            "Win/lose count 6.0/0. Average score (5.314814814814815)\n",
            "Win/lose count 0.5/0. Average score (5.2272727272727275)\n",
            "Win/lose count 7.0/0. Average score (5.258928571428571)\n",
            "Win/lose count 4.0/0. Average score (5.2368421052631575)\n",
            "Win/lose count 7.5/1.0. Average score (5.258620689655173)\n",
            "Win/lose count 0.0/0. Average score (5.169491525423729)\n",
            "Win/lose count 1.5/1.0. Average score (5.091666666666667)\n",
            "Win/lose count 4.0/0. Average score (5.073770491803279)\n",
            "Win/lose count 5.5/0. Average score (5.080645161290323)\n",
            "Win/lose count 7.0/0. Average score (5.111111111111111)\n",
            "Win/lose count 10.0/0. Average score (5.1875)\n",
            "Final score: 5.1875\n",
            "Test of the FC\n",
            "Win/lose count 1.5/3.0. Average score (-1.5)\n",
            "Win/lose count 1.5/2.0. Average score (-1.0)\n",
            "Win/lose count 0.0/0. Average score (-0.6666666666666666)\n",
            "Win/lose count 0.5/1.0. Average score (-0.625)\n",
            "Win/lose count 1.0/1.0. Average score (-0.5)\n",
            "Win/lose count 3.0/2.0. Average score (-0.25)\n",
            "Win/lose count 0.0/1.0. Average score (-0.35714285714285715)\n",
            "Win/lose count 1.5/0. Average score (-0.125)\n",
            "Win/lose count 1.5/3.0. Average score (-0.2777777777777778)\n",
            "Win/lose count 2.0/0. Average score (-0.05)\n",
            "Win/lose count 0.5/0. Average score (0.0)\n",
            "Win/lose count 0.5/1.0. Average score (-0.041666666666666664)\n",
            "Win/lose count 3.5/1.0. Average score (0.15384615384615385)\n",
            "Win/lose count 0.0/1.0. Average score (0.07142857142857142)\n",
            "Win/lose count 2.5/1.0. Average score (0.16666666666666666)\n",
            "Win/lose count 0.0/0. Average score (0.15625)\n",
            "Win/lose count 2.0/5.0. Average score (-0.029411764705882353)\n",
            "Win/lose count 1.0/1.0. Average score (-0.027777777777777776)\n",
            "Win/lose count 0.0/2.0. Average score (-0.13157894736842105)\n",
            "Win/lose count 1.0/0. Average score (-0.075)\n",
            "Win/lose count 1.0/2.0. Average score (-0.11904761904761904)\n",
            "Win/lose count 0.5/5.0. Average score (-0.3181818181818182)\n",
            "Win/lose count 0.5/0. Average score (-0.2826086956521739)\n",
            "Win/lose count 0.0/1.0. Average score (-0.3125)\n",
            "Win/lose count 2.5/3.0. Average score (-0.32)\n",
            "Win/lose count 0.5/0. Average score (-0.28846153846153844)\n",
            "Win/lose count 0.0/0. Average score (-0.2777777777777778)\n",
            "Win/lose count 1.0/4.0. Average score (-0.375)\n",
            "Win/lose count 2.5/2.0. Average score (-0.3448275862068966)\n",
            "Win/lose count 0.5/2.0. Average score (-0.38333333333333336)\n",
            "Win/lose count 0.5/0. Average score (-0.3548387096774194)\n",
            "Win/lose count 2.0/4.0. Average score (-0.40625)\n",
            "Win/lose count 0.0/0. Average score (-0.3939393939393939)\n",
            "Win/lose count 0.5/1.0. Average score (-0.39705882352941174)\n",
            "Win/lose count 0.5/2.0. Average score (-0.42857142857142855)\n",
            "Win/lose count 2.0/7.0. Average score (-0.5555555555555556)\n",
            "Win/lose count 3.0/5.0. Average score (-0.5945945945945946)\n",
            "Win/lose count 2.0/0. Average score (-0.5263157894736842)\n",
            "Win/lose count 0.5/0. Average score (-0.5)\n",
            "Win/lose count 1.0/2.0. Average score (-0.5125)\n",
            "Win/lose count 4.5/4.0. Average score (-0.4878048780487805)\n",
            "Win/lose count 0.5/2.0. Average score (-0.5119047619047619)\n",
            "Win/lose count 2.5/2.0. Average score (-0.4883720930232558)\n",
            "Win/lose count 3.0/1.0. Average score (-0.4318181818181818)\n",
            "Win/lose count 1.0/2.0. Average score (-0.4444444444444444)\n",
            "Win/lose count 3.0/1.0. Average score (-0.391304347826087)\n",
            "Win/lose count 0.0/1.0. Average score (-0.40425531914893614)\n",
            "Win/lose count 1.0/1.0. Average score (-0.3958333333333333)\n",
            "Win/lose count 2.0/2.0. Average score (-0.3877551020408163)\n",
            "Win/lose count 2.0/0. Average score (-0.34)\n",
            "Win/lose count 2.5/2.0. Average score (-0.3235294117647059)\n",
            "Win/lose count 1.5/5.0. Average score (-0.38461538461538464)\n",
            "Win/lose count 1.0/0. Average score (-0.3584905660377358)\n",
            "Win/lose count 2.0/0. Average score (-0.3148148148148148)\n",
            "Win/lose count 1.0/0. Average score (-0.2909090909090909)\n",
            "Win/lose count 1.5/1.0. Average score (-0.2767857142857143)\n",
            "Win/lose count 0.0/0. Average score (-0.2719298245614035)\n",
            "Win/lose count 0.5/1.0. Average score (-0.27586206896551724)\n",
            "Win/lose count 0.5/1.0. Average score (-0.2796610169491525)\n",
            "Win/lose count 1.5/4.0. Average score (-0.31666666666666665)\n",
            "Win/lose count 0.5/0. Average score (-0.30327868852459017)\n",
            "Win/lose count 0.0/0. Average score (-0.29838709677419356)\n",
            "Win/lose count 0.5/2.0. Average score (-0.31746031746031744)\n",
            "Win/lose count 0.5/1.0. Average score (-0.3203125)\n",
            "Final score: -0.3203125\n"
          ],
          "name": "stdout"
        }
      ]
    },
    {
      "metadata": {
        "id": "mdZ2s9c1e8Qw",
        "colab_type": "code",
        "colab": {
          "base_uri": "https://localhost:8080/",
          "height": 188
        },
        "outputId": "d7c3e5a5-c16a-43f3-f0b8-49ff91bc53af"
      },
      "cell_type": "code",
      "source": [
        "video_paths = glob.glob(\"cnn_test*.mp4\")\n",
        "video_paths.sort()\n",
        "best_video_path = video_paths.pop()\n",
        "print(\"Displaying \", best_video_path)\n",
        "HTML(display_videos(best_video_path))"
      ],
      "execution_count": 147,
      "outputs": [
        {
          "output_type": "stream",
          "text": [
            "Displaying  cnn_test99.mp4\n"
          ],
          "name": "stdout"
        },
        {
          "output_type": "execute_result",
          "data": {
            "text/html": [
              "<video alt=\"test\" controls>\n",
              "                <source src=\"data:video/mp4;base64,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\" type=\"video/mp4\" />\n",
              "             </video>"
            ],
            "text/plain": [
              "<IPython.core.display.HTML object>"
            ]
          },
          "metadata": {
            "tags": []
          },
          "execution_count": 147
        }
      ]
    },
    {
      "metadata": {
        "id": "89gsdVYge8Qz",
        "colab_type": "code",
        "colab": {
          "base_uri": "https://localhost:8080/",
          "height": 188
        },
        "outputId": "37cf010b-1607-41b9-9606-196913791540"
      },
      "cell_type": "code",
      "source": [
        "video_paths = glob.glob(\"fc_test*.mp4\")\n",
        "video_paths.sort()\n",
        "best_video_path = video_paths.pop()\n",
        "print(\"Displaying \", best_video_path)\n",
        "HTML(display_videos(best_video_path))"
      ],
      "execution_count": 148,
      "outputs": [
        {
          "output_type": "stream",
          "text": [
            "Displaying  fc_test99.mp4\n"
          ],
          "name": "stdout"
        },
        {
          "output_type": "execute_result",
          "data": {
            "text/html": [
              "<video alt=\"test\" controls>\n",
              "                <source src=\"data:video/mp4;base64,AAAAIGZ0eXBpc29tAAACAGlzb21pc28yYXZjMW1wNDEAAAAIZnJlZQAAFWJtZGF0AAACrQYF//+p3EXpvebZSLeWLNgg2SPu73gyNjQgLSBjb3JlIDE1MiByMjg1NCBlOWE1OTAzIC0gSC4yNjQvTVBFRy00IEFWQyBjb2RlYyAtIENvcHlsZWZ0IDIwMDMtMjAxNyAtIGh0dHA6Ly93d3cudmlkZW9sYW4ub3JnL3gyNjQuaHRtbCAtIG9wdGlvbnM6IGNhYmFjPTEgcmVmPTMgZGVibG9jaz0xOjA6MCBhbmFseXNlPTB4MToweDExMSBtZT1oZXggc3VibWU9NyBwc3k9MSBwc3lfcmQ9MS4wMDowLjAwIG1peGVkX3JlZj0xIG1lX3JhbmdlPTE2IGNocm9tYV9tZT0xIHRyZWxsaXM9MSA4eDhkY3Q9MCBjcW09MCBkZWFkem9uZT0yMSwxMSBmYXN0X3Bza2lwPTEgY2hyb21hX3FwX29mZnNldD00IHRocmVhZHM9MyBsb29rYWhlYWRfdGhyZWFkcz0xIHNsaWNlZF90aHJlYWRzPTAgbnI9MCBkZWNpbWF0ZT0xIGludGVybGFjZWQ9MCBibHVyYXlfY29tcGF0PTAgY29uc3RyYWluZWRfaW50cmE9MCBiZnJhbWVzPTMgYl9weXJhbWlkPTIgYl9hZGFwdD0xIGJfYmlhcz0wIGRpcmVjdD0xIHdlaWdodGI9MSBvcGVuX2dvcD0wIHdlaWdodHA9MiBrZXlpbnQ9MjUwIGtleWludF9taW49MjUgc2NlbmVjdXQ9NDAgaW50cmFfcmVmcmVzaD0wIHJjX2xvb2thaGVhZD00MCByYz1jcmYgbWJ0cmVlPTEgY3JmPTIzLjAgcWNvbXA9MC42MCBxcG1pbj0wIHFwbWF4PTY5IHFwc3RlcD00IGlwX3JhdGlvPTEuNDAgYXE9MToxLjAwAIAAAALYZYiEADf//vaH+BTZWBP+Wb/9DX/cj9uPrP1xYyEE31qvIejAGS+1H+b/rFFs6Z6UB/fgCJQAc24ZwpHZJ3iTdiOFrIMcHwKauk8XwKShPr0vpyRz316iKmDE/B+GKXKgWYB0fd2luyjDPeQXmgtW1Stl3FNFS4OkfaxTCd6FiFzx3Ppo3J1x8iBlSbCsK01WxHJAAVcw7pi3KCP4qeWknayKEsNBT9LpVEOnafBiQqPGPlnQPcinvjfJ2iTRFNYlbUoSVRQPZ5oeD8Mp++o3YlYEB7FZq9FZcJNInHsUyOi3sKlPJ4+Dk4dKu5GSVQR4OwFBywWKmfIBVKCt4xFR6ssfxPDQVa0oV8XoOREF+YmYhiwxBcnGllMq1edxOBc+gZjQzsdY7uO69XnldwdSezNWsrosv3EtOeUBgWiqEYXHXulwTnughAk0aEqoBWh6Lpme4cvgVw6RmlRzW+xHMmlONkGutzpytBGYGAMkHi98gANqZAX2PYPI/NHdO+2U2XDLH9/PTdnz3/pPnMEK7VIXDtF2skuQtkSzU7qlqsTNf4kj7ulxDAcln5M7m+TTFIzWQe+UkXsExEVMhjRT5MY0VTViKgMkSPA/N9WNnyw98VcP1kkFkinpEVUE7++qFK+y/fIqDP1hgAIAeRHupije/ymIYcFh+9YP75sWye3pd+mOmJd0Cop8ONWDbprrto2mOR4HmKHszwK/t7wCx+mv7eTRGNioTNDuim9Qpg+Yv52KViPUHZTO/mkYIDmL9AssLonasY0qEd1OVqZvMtg6n7U7RaNHX5jru/v6LIcLS052hkBnEcm3YLjcCP5yQvdR1P2f674oS7YoAkAJp9CemolD+qpszUwdQQ+Gm1IdA3kojESxCOuO29NMlqXrsuI29CUF7OjPgTuz/ViS4rPCYt9manLCAG3aBDy8UmLlKwaKeL6Z9st4s6cjsYkojhcLFtAAT8EAAAAUQZohbEO//qmWAAbKf1cZpf2wfkAAAAAnQZpFPCGTKYQ7//6plgAHU+FHvq7mWVqmb8ClEefgUzXLnqdeEErxAAAAEEGeY2pTwv8ACK540/srXqAAAAAPAZ6CdEK/AAumWDBsxxPPAAAADwGehGpCvwAL8CxsDlQNgQAAABNBmolJqEFomUwId//+qZYAAJWBAAAADEGep0URLC//AACygQAAABABnsZ0Qr8AC/PJvS7Tbg2AAAAAEAGeyGpCvwAL8CxrjKQsDYAAAAATQZrNSahBbJlMCHf//qmWAACVgQAAAAxBnutFFSwv/wAAsoAAAAAQAZ8KdEK/AAvzyb0u024NgAAAABABnwxqQr8AC/Asa4ykLA2BAAAAE0GbEUmoQWyZTAh3//6plgAAlYEAAAAMQZ8vRRUsL/8AALKBAAAAEAGfTnRCvwAL88m9LtNuDYAAAAAQAZ9QakK/AAvwLGuMpCwNgAAAABNBm1VJqEFsmUwId//+qZYAAJWBAAAADEGfc0UVLC//AACygAAAABABn5J0Qr8AC/PJvS7Tbg2AAAAAEAGflGpCvwAL8CxrjKQsDYEAAAATQZuZSahBbJlMCHf//qmWAACVgAAAAAxBn7dFFSwv/wAAsoEAAAAQAZ/WdEK/AAvzyb0u024NgQAAABABn9hqQr8AC/Asa4ykLA2AAAAAE0Gb3UmoQWyZTAh3//6plgAAlYEAAAAMQZ/7RRUsL/8AALKAAAAAEAGeGnRCvwAL88m9LtNuDYEAAAAQAZ4cakK/AAvwLGuMpCwNgQAAABNBmgFJqEFsmUwId//+qZYAAJWAAAAADEGeP0UVLC//AACygAAAABABnl50Qr8AC/PJvS7Tbg2BAAAAEAGeQGpCvwAL8CxrjKQsDYAAAAATQZpFSahBbJlMCHf//qmWAACVgQAAAAxBnmNFFSwv/wAAsoAAAAAQAZ6CdEK/AAvzyb0u024NgQAAABABnoRqQr8AC/Asa4ykLA2BAAAAE0GaiUmoQWyZTAh3//6plgAAlYEAAAAMQZ6nRRUsL/8AALKBAAAAEAGexnRCvwAL88m9LtNuDYAAAAAQAZ7IakK/AAvwLGuMpCwNgAAAABNBms1JqEFsmUwId//+qZYAAJWBAAAADEGe60UVLC//AACygAAAABABnwp0Qr8AC/PJvS7Tbg2AAAAAEAGfDGpCvwAL8CxrjKQsDYEAAAATQZsRSahBbJlMCHf//qmWAACVgQAAAAxBny9FFSwv/wAAsoEAAAAQAZ9OdEK/AAvzyb0u024NgAAAABABn1BqQr8AC/Asa4ykLA2AAAAAE0GbVUmoQWyZTAh3//6plgAAlYEAAAAMQZ9zRRUsL/8AALKAAAAAEAGfknRCvwAL88m9LtNuDYAAAAAQAZ+UakK/AAvwLGuMpCwNgQAAABNBm5lJqEFsmUwId//+qZYAAJWAAAAADEGft0UVLC//AACygQAAABABn9Z0Qr8AC/PJvS7Tbg2BAAAAEAGf2GpCvwAL8CxrjKQsDYAAAAATQZvdSahBbJlMCHf//qmWAACVgQAAAAxBn/tFFSwv/wAAsoAAAAAQAZ4adEK/AAvzyb0u024NgQAAABABnhxqQr8AC/Asa4ykLA2BAAAAE0GaAUmoQWyZTAh3//6plgAAlYAAAAAMQZ4/RRUsL/8AALKAAAAAEAGeXnRCvwAL88m9LtNuDYEAAAAQAZ5AakK/AAvwLGuMpCwNgAAAABNBmkVJqEFsmUwId//+qZYAAJWBAAAADEGeY0UVLC//AACygAAAABABnoJ0Qr8AC/PJvS7Tbg2BAAAAEAGehGpCvwAL8CxrjKQsDYEAAAATQZqJSahBbJlMCHf//qmWAACVgQAAAAxBnqdFFSwv/wAAsoEAAAAQAZ7GdEK/AAvzyb0u024NgAAAABABnshqQr8AC/Asa4ykLA2AAAAAE0GazUmoQWyZTAh3//6plgAAlYEAAAAMQZ7rRRUsL/8AALKAAAAAEAGfCnRCvwAL88m9LtNuDYAAAAAQAZ8MakK/AAvwLGuMpCwNgQAAABNBmxFJqEFsmUwId//+qZYAAJWBAAAADEGfL0UVLC//AACygQAAABABn050Qr8AC/PJvS7Tbg2AAAAAEAGfUGpCvwAL8CxrjKQsDYAAAAATQZtVSahBbJlMCHf//qmWAACVgQAAAAxBn3NFFSwv/wAAsoAAAAAQAZ+SdEK/AAvzyb0u024NgAAAABABn5RqQr8AC/Asa4ykLA2BAAAAE0GbmUmoQWyZTAh3//6plgAAlYAAAAAMQZ+3RRUsL/8AALKBAAAAEAGf1nRCvwAL88m9LtNuDYEAAAAQAZ/YakK/AAvwLGuMpCwNgAAAABNBm91JqEFsmUwId//+qZYAAJWBAAAADEGf+0UVLC//AACygAAAABABnhp0Qr8AC/PJvS7Tbg2BAAAAEAGeHGpCvwAL8CxrjKQsDYEAAAATQZoBSahBbJlMCHf//qmWAACVgAAAAAxBnj9FFSwv/wAAsoAAAAAQAZ5edEK/AAvzyb0u024NgQAAABABnkBqQr8AC/Asa4ykLA2AAAAAE0GaRUmoQWyZTAh3//6plgAAlYEAAAAMQZ5jRRUsL/8AALKAAAAAEAGegnRCvwAL88m9LtNuDYEAAAAQAZ6EakK/AAvwLGuMpCwNgQAAABNBmolJqEFsmUwId//+qZYAAJWBAAAADEGep0UVLC//AACygQAAABABnsZ0Qr8AC/PJvS7Tbg2AAAAAEAGeyGpCvwAL8CxrjKQsDYAAAAATQZrNSahBbJlMCHf//qmWAACVgQAAAAxBnutFFSwv/wAAsoAAAAAQAZ8KdEK/AAvzyb0u024NgAAAABABnwxqQr8AC/Asa4ykLA2BAAAAE0GbEUmoQWyZTAh3//6plgAAlYEAAAAMQZ8vRRUsL/8AALKBAAAAEAGfTnRCvwAL88m9LtNuDYAAAAAQAZ9QakK/AAvwLGuMpCwNgAAAABNBm1VJqEFsmUwId//+qZYAAJWBAAAADEGfc0UVLC//AACygAAAABABn5J0Qr8AC/PJvS7Tbg2AAAAAEAGflGpCvwAL8CxrjKQsDYEAAAATQZuZSahBbJlMCHf//qmWAACVgAAAAAxBn7dFFSwv/wAAsoEAAAAQAZ/WdEK/AAvzyb0u024NgQAAABABn9hqQr8AC/Asa4ykLA2AAAAAE0Gb3UmoQWyZTAh3//6plgAAlYEAAAAMQZ/7RRUsL/8AALKAAAAAEAGeGnRCvwAL88m9LtNuDYEAAAAQAZ4cakK/AAvwLGuMpCwNgQAAABNBmgFJqEFsmUwId//+qZYAAJWAAAAADEGeP0UVLC//AACygAAAABABnl50Qr8AC/PJvS7Tbg2BAAAAEAGeQGpCvwAL8CxrjKQsDYAAAAATQZpFSahBbJlMCHf//qmWAACVgQAAAAxBnmNFFSwv/wAAsoAAAAAQAZ6CdEK/AAvzyb0u024NgQAAABABnoRqQr8AC/Asa4ykLA2BAAAAE0GaiUmoQWyZTAh3//6plgAAlYEAAAAMQZ6nRRUsL/8AALKBAAAAEAGexnRCvwAL88m9LtNuDYAAAAAQAZ7IakK/AAvwLGuMpCwNgAAAABNBms1JqEFsmUwId//+qZYAAJWBAAAADEGe60UVLC//AACygAAAABABnwp0Qr8AC/PJvS7Tbg2AAAAAEAGfDGpCvwAL8CxrjKQsDYEAAAATQZsRSahBbJlMCHf//qmWAACVgQAAAAxBny9FFSwv/wAAsoEAAAAQAZ9OdEK/AAvzyb0u024NgAAAABABn1BqQr8AC/Asa4ykLA2AAAAAE0GbVUmoQWyZTAh3//6plgAAlYEAAAAMQZ9zRRUsL/8AALKAAAAAEAGfknRCvwAL88m9LtNuDYAAAAAQAZ+UakK/AAvwLGuMpCwNgQAAABNBm5lJqEFsmUwId//+qZYAAJWAAAAADEGft0UVLC//AACygQAAABABn9Z0Qr8AC/PJvS7Tbg2BAAAAEAGf2GpCvwAL8CxrjKQsDYAAAAATQZvdSahBbJlMCHf//qmWAACVgQAAAAxBn/tFFSwv/wAAsoAAAAAQAZ4adEK/AAvzyb0u024NgQAAABABnhxqQr8AC/Asa4ykLA2BAAAAE0GaAUmoQWyZTAh3//6plgAAlYAAAAAMQZ4/RRUsL/8AALKAAAAAEAGeXnRCvwAL88m9LtNuDYEAAAAQAZ5AakK/AAvwLGuMpCwNgAAAABNBmkVJqEFsmUwId//+qZYAAJWBAAAADEGeY0UVLC//AACygAAAABABnoJ0Qr8AC/PJvS7Tbg2BAAAAEAGehGpCvwAL8CxrjKQsDYEAAAATQZqJSahBbJlMCHf//qmWAACVgQAAAAxBnqdFFSwv/wAAsoEAAAAQAZ7GdEK/AAvzyb0u024NgAAAABABnshqQr8AC/Asa4ykLA2AAAAAE0GazUmoQWyZTAh3//6plgAAlYEAAAAMQZ7rRRUsL/8AALKAAAAAEAGfCnRCvwAL88m9LtNuDYAAAAAQAZ8MakK/AAvwLGuMpCwNgQAAABNBmxFJqEFsmUwId//+qZYAAJWBAAAADEGfL0UVLC//AACygQAAABABn050Qr8AC/PJvS7Tbg2AAAAAEAGfUGpCvwAL8CxrjKQsDYAAAAATQZtVSahBbJlMCHf//qmWAACVgQAAAAxBn3NFFSwv/wAAsoAAAAAQAZ+SdEK/AAvzyb0u024NgAAAABABn5RqQr8AC/Asa4ykLA2BAAAAE0GbmUmoQWyZTAh3//6plgAAlYAAAAAMQZ+3RRUsL/8AALKBAAAAEAGf1nRCvwAL88m9LtNuDYEAAAAQAZ/YakK/AAvwLGuMpCwNgAAAABNBm91JqEFsmUwId//+qZYAAJWBAAAADEGf+0UVLC//AACygAAAABABnhp0Qr8AC/PJvS7Tbg2BAAAAEAGeHGpCvwAL8CxrjKQsDYEAAAASQZoBSahBbJlMCG///qeEAAEnAAAADEGeP0UVLC//AACygAAAABABnl50Qr8AC/PJvS7Tbg2BAAAAEAGeQGpCvwAL8CxrjKQsDYAAAAASQZpFSahBbJlMCGf//p4QAAR9AAAADEGeY0UVLC//AACygAAAABABnoJ0Qr8AC/PJvS7Tbg2BAAAAEAGehGpCvwAL8CxrjKQsDYEAAAAaQZqJS6hCEFskRggoB/IB/YeAIV/+OEAAEXEAAAAjQZ6nRRUsL/8CAdzqS9szCrmA6Bq1qFwJQBlok8LfMpM0nDEAAAAQAZ7GdEK/AAvzyb0u024NgAAAACUBnshqQr8Cr2PtQcTdqsNJJuWqhgcstbvNKiCVY+JThBBp/zGsAAAMgG1vb3YAAABsbXZoZAAAAAAAAAAAAAAAAAAAA+gAAB+QAAEAAAEAAAAAAAAAAAAAAAABAAAAAAAAAAAAAAAAAAAAAQAAAAAAAAAAAAAAAAAAQAAAAAAAAAAAAAAAAAAAAAAAAAAAAAAAAAAAAAAAAAIAAAuqdHJhawAAAFx0a2hkAAAAAwAAAAAAAAAAAAAAAQAAAAAAAB+QAAAAAAAAAAAAAAAAAAAAAAABAAAAAAAAAAAAAAAAAAAAAQAAAAAAAAAAAAAAAAAAQAAAAAEQAAABEAAAAAAAJGVkdHMAAAAcZWxzdAAAAAAAAAABAAAfkAAABAAAAQAAAAALIm1kaWEAAAAgbWRoZAAAAAAAAAAAAAAAAAAAMgAAAZQAVcQAAAAAAC1oZGxyAAAAAAAAAAB2aWRlAAAAAAAAAAAAAAAAVmlkZW9IYW5kbGVyAAAACs1taW5mAAAAFHZtaGQAAAABAAAAAAAAAAAAAAAkZGluZgAAABxkcmVmAAAAAAAAAAEAAAAMdXJsIAAAAAEAAAqNc3RibAAAAJVzdHNkAAAAAAAAAAEAAACFYXZjMQAAAAAAAAABAAAAAAAAAAAAAAAAAAAAAAEQARAASAAAAEgAAAAAAAAAAQAAAAAAAAAAAAAAAAAAAAAAAAAAAAAAAAAAAAAAAAAAABj//wAAAC9hdmNDAfQADf/hABdn9AANkZsoIhHQgAAAAwCAAAAZB4oUywEABWjr48RIAAAAGHN0dHMAAAAAAAAAAQAAAMoAAAIAAAAAFHN0c3MAAAAAAAAAAQAAAAEAAAZYY3R0cwAAAAAAAADJAAAAAgAABAAAAAABAAAKAAAAAAEAAAQAAAAAAQAAAAAAAAABAAACAAAAAAEAAAoAAAAAAQAABAAAAAABAAAAAAAAAAEAAAIAAAAAAQAACgAAAAABAAAEAAAAAAEAAAAAAAAAAQAAAgAAAAABAAAKAAAAAAEAAAQAAAAAAQAAAAAAAAABAAACAAAAAAEAAAoAAAAAAQAABAAAAAABAAAAAAAAAAEAAAIAAAAAAQAACgAAAAABAAAEAAAAAAEAAAAAAAAAAQAAAgAAAAABAAAKAAAAAAEAAAQAAAAAAQAAAAAAAAABAAACAAAAAAEAAAoAAAAAAQAABAAAAAABAAAAAAAAAAEAAAIAAAAAAQAACgAAAAABAAAEAAAAAAEAAAAAAAAAAQAAAgAAAAABAAAKAAAAAAEAAAQAAAAAAQAAAAAAAAABAAACAAAAAAEAAAoAAAAAAQAABAAAAAABAAAAAAAAAAEAAAIAAAAAAQAACgAAAAABAAAEAAAAAAEAAAAAAAAAAQAAAgAAAAABAAAKAAAAAAEAAAQAAAAAAQAAAAAAAAABAAACAAAAAAEAAAoAAAAAAQAABAAAAAABAAAAAAAAAAEAAAIAAAAAAQAACgAAAAABAAAEAAAAAAEAAAAAAAAAAQAAAgAAAAABAAAKAAAAAAEAAAQAAAAAAQAAAAAAAAABAAACAAAAAAEAAAoAAAAAAQAABAAAAAABAAAAAAAAAAEAAAIAAAAAAQAACgAAAAABAAAEAAAAAAEAAAAAAAAAAQAAAgAAAAABAAAKAAAAAAEAAAQAAAAAAQAAAAAAAAABAAACAAAAAAEAAAoAAAAAAQAABAAAAAABAAAAAAAAAAEAAAIAAAAAAQAACgAAAAABAAAEAAAAAAEAAAAAAAAAAQAAAgAAAAABAAAKAAAAAAEAAAQAAAAAAQAAAAAAAAABAAACAAAAAAEAAAoAAAAAAQAABAAAAAABAAAAAAAAAAEAAAIAAAAAAQAACgAAAAABAAAEAAAAAAEAAAAAAAAAAQAAAgAAAAABAAAKAAAAAAEAAAQAAAAAAQAAAAAAAAABAAACAAAAAAEAAAoAAAAAAQAABAAAAAABAAAAAAAAAAEAAAIAAAAAAQAACgAAAAABAAAEAAAAAAEAAAAAAAAAAQAAAgAAAAABAAAKAAAAAAEAAAQAAAAAAQAAAAAAAAABAAACAAAAAAEAAAoAAAAAAQAABAAAAAABAAAAAAAAAAEAAAIAAAAAAQAACgAAAAABAAAEAAAAAAEAAAAAAAAAAQAAAgAAAAABAAAKAAAAAAEAAAQAAAAAAQAAAAAAAAABAAACAAAAAAEAAAoAAAAAAQAABAAAAAABAAAAAAAAAAEAAAIAAAAAAQAACgAAAAABAAAEAAAAAAEAAAAAAAAAAQAAAgAAAAABAAAKAAAAAAEAAAQAAAAAAQAAAAAAAAABAAACAAAAAAEAAAoAAAAAAQAABAAAAAABAAAAAAAAAAEAAAIAAAAAAQAACgAAAAABAAAEAAAAAAEAAAAAAAAAAQAAAgAAAAABAAAKAAAAAAEAAAQAAAAAAQAAAAAAAAABAAACAAAAAAEAAAoAAAAAAQAABAAAAAABAAAAAAAAAAEAAAIAAAAAAQAACgAAAAABAAAEAAAAAAEAAAAAAAAAAQAAAgAAAAABAAAKAAAAAAEAAAQAAAAAAQAAAAAAAAABAAACAAAAAAEAAAoAAAAAAQAABAAAAAABAAAAAAAAAAEAAAIAAAAAAQAACgAAAAABAAAEAAAAAAEAAAAAAAAAAQAAAgAAAAABAAAKAAAAAAEAAAQAAAAAAQAAAAAAAAABAAACAAAAAAEAAAoAAAAAAQAABAAAAAABAAAAAAAAAAEAAAIAAAAAAQAACgAAAAABAAAEAAAAAAEAAAAAAAAAAQAAAgAAAAABAAAKAAAAAAEAAAQAAAAAAQAAAAAAAAABAAACAAAAAAEAAAoAAAAAAQAABAAAAAABAAAAAAAAAAEAAAIAAAAAAQAACgAAAAABAAAEAAAAAAEAAAAAAAAAAQAAAgAAAAABAAAKAAAAAAEAAAQAAAAAAQAAAAAAAAABAAACAAAAAAEAAAoAAAAAAQAABAAAAAABAAAAAAAAAAEAAAIAAAAAHHN0c2MAAAAAAAAAAQAAAAEAAADKAAAAAQAAAzxzdHN6AAAAAAAAAAAAAADKAAAFjQAAABgAAAArAAAAFAAAABMAAAATAAAAFwAAABAAAAAUAAAAFAAAABcAAAAQAAAAFAAAABQAAAAXAAAAEAAAABQAAAAUAAAAFwAAABAAAAAUAAAAFAAAABcAAAAQAAAAFAAAABQAAAAXAAAAEAAAABQAAAAUAAAAFwAAABAAAAAUAAAAFAAAABcAAAAQAAAAFAAAABQAAAAXAAAAEAAAABQAAAAUAAAAFwAAABAAAAAUAAAAFAAAABcAAAAQAAAAFAAAABQAAAAXAAAAEAAAABQAAAAUAAAAFwAAABAAAAAUAAAAFAAAABcAAAAQAAAAFAAAABQAAAAXAAAAEAAAABQAAAAUAAAAFwAAABAAAAAUAAAAFAAAABcAAAAQAAAAFAAAABQAAAAXAAAAEAAAABQAAAAUAAAAFwAAABAAAAAUAAAAFAAAABcAAAAQAAAAFAAAABQAAAAXAAAAEAAAABQAAAAUAAAAFwAAABAAAAAUAAAAFAAAABcAAAAQAAAAFAAAABQAAAAXAAAAEAAAABQAAAAUAAAAFwAAABAAAAAUAAAAFAAAABcAAAAQAAAAFAAAABQAAAAXAAAAEAAAABQAAAAUAAAAFwAAABAAAAAUAAAAFAAAABcAAAAQAAAAFAAAABQAAAAXAAAAEAAAABQAAAAUAAAAFwAAABAAAAAUAAAAFAAAABcAAAAQAAAAFAAAABQAAAAXAAAAEAAAABQAAAAUAAAAFwAAABAAAAAUAAAAFAAAABcAAAAQAAAAFAAAABQAAAAXAAAAEAAAABQAAAAUAAAAFwAAABAAAAAUAAAAFAAAABcAAAAQAAAAFAAAABQAAAAXAAAAEAAAABQAAAAUAAAAFwAAABAAAAAUAAAAFAAAABcAAAAQAAAAFAAAABQAAAAXAAAAEAAAABQAAAAUAAAAFwAAABAAAAAUAAAAFAAAABcAAAAQAAAAFAAAABQAAAAXAAAAEAAAABQAAAAUAAAAFwAAABAAAAAUAAAAFAAAABYAAAAQAAAAFAAAABQAAAAWAAAAEAAAABQAAAAUAAAAHgAAACcAAAAUAAAAKQAAABRzdGNvAAAAAAAAAAEAAAAwAAAAYnVkdGEAAABabWV0YQAAAAAAAAAhaGRscgAAAAAAAAAAbWRpcmFwcGwAAAAAAAAAAAAAAAAtaWxzdAAAACWpdG9vAAAAHWRhdGEAAAABAAAAAExhdmY1Ny44My4xMDA=\" type=\"video/mp4\" />\n",
              "             </video>"
            ],
            "text/plain": [
              "<IPython.core.display.HTML object>"
            ]
          },
          "metadata": {
            "tags": []
          },
          "execution_count": 148
        }
      ]
    },
    {
      "metadata": {
        "id": "T3iII5ETe8Q1",
        "colab_type": "text"
      },
      "cell_type": "markdown",
      "source": [
        ""
      ]
    },
    {
      "metadata": {
        "id": "Z1cbxNjFe8Q2",
        "colab_type": "text"
      },
      "cell_type": "markdown",
      "source": [
        "***\n",
        "\n",
        "The algorithm tends to not explore the map which can be an issue. We propose two ideas in order to encourage exploration:\n",
        "1. Incorporating a decreasing $\\epsilon$-greedy exploration. You can use the method ```set_epsilon```\n",
        "2. Append via the environment a new state that describes if a cell has been visited or not\n",
        "\n",
        "***\n",
        "__Question 10__ Design a new ```train_explore``` function and environment class ```EnvironmentExploring``` to tackle the issue of exploration.\n",
        "\n"
      ]
    },
    {
      "metadata": {
        "id": "IaHnXmPwe8Q3",
        "colab_type": "code",
        "colab": {}
      },
      "cell_type": "code",
      "source": [
        "#def train_explore(agent,env,epoch,prefix=''):\n",
        "#    pass\n",
        "\n",
        "#class EnvironmentExploring(object):\n",
        "#    def __init__(self, grid_size=10, max_time=500, temperature=0.1):\n",
        "#        pass\n",
        "\n",
        "EPSILON_EVOLUTION = 0.8\n",
        "def train_explore(agent,env,epoch,prefix=''):\n",
        "    # Number of won games\n",
        "    score = 0\n",
        "    loss = 0\n",
        "\n",
        "    for e in range(epoch):\n",
        "        # At each epoch, we restart to a fresh game and get the initial state\n",
        "        state = env.reset()\n",
        "        # This assumes that the games will terminate\n",
        "        game_over = False\n",
        "\n",
        "        win = 0\n",
        "        lose = 0\n",
        "        agent.set_epsilon(agent.epsilon*EPSILON_EVOLUTION)\n",
        "        \n",
        "        while not game_over:\n",
        "            # The agent performs an action\n",
        "            action = agent.act(state, train=True)\n",
        "\n",
        "            # Apply an action to the environment, get the next state, the reward\n",
        "            # and if the games end\n",
        "            prev_state = state\n",
        "            state, reward, game_over = env.act(action, train=True)\n",
        "\n",
        "            # Update the counters\n",
        "            if reward > 0:\n",
        "                win = win + reward\n",
        "            if reward < 0:\n",
        "                lose = lose - reward\n",
        "\n",
        "            # Apply the reinforcement strategy\n",
        "            loss = agent.reinforce(prev_state, state,  action, reward, game_over)\n",
        "\n",
        "        # Save as a mp4\n",
        "        if e % 10 == 0:\n",
        "            env.draw(prefix+str(e))\n",
        "\n",
        "        # Update stats\n",
        "        score += win-lose\n",
        "\n",
        "        print(\"Epoch {:03d}/{:03d} | Loss {:.4f} | Win/lose count {}/{} ({})\"\n",
        "              .format(e+1, epoch, loss, win, lose, win-lose))\n",
        "        agent.save(name_weights=prefix+'model.h5',name_model=prefix+'model.json')\n",
        "\n",
        "\n",
        "class EnvironmentExploring(object):\n",
        "    def __init__(self, grid_size=10, max_time=500, temperature=0.1):\n",
        "        grid_size = grid_size+4\n",
        "        self.grid_size = grid_size\n",
        "        self.max_time = max_time\n",
        "        self.temperature = temperature\n",
        "\n",
        "        #board on which one plays\n",
        "        self.board = np.zeros((grid_size,grid_size))\n",
        "        self.position = np.zeros((grid_size,grid_size))\n",
        "        self.malus_visited = np.zeros((grid_size,grid_size))\n",
        "\n",
        "        # coordinate of the cat\n",
        "        self.x = 0\n",
        "        self.y = 1\n",
        "\n",
        "        # self time\n",
        "        self.t = 0\n",
        "\n",
        "        self.scale=16\n",
        "\n",
        "        self.to_draw = np.zeros((max_time+2, grid_size*self.scale, grid_size*self.scale, 3))\n",
        "\n",
        "\n",
        "    def draw(self,e):\n",
        "        skvideo.io.vwrite(str(e) + '.mp4', self.to_draw)\n",
        "\n",
        "    def get_frame(self,t):\n",
        "        b = np.zeros((self.grid_size,self.grid_size,3))+128\n",
        "        b[self.board>0,0] = 256\n",
        "        b[self.board < 0, 2] = 256\n",
        "        b[self.x,self.y,:]=256\n",
        "        b[-2:,:,:]=0\n",
        "        b[:,-2:,:]=0\n",
        "        b[:2,:,:]=0\n",
        "        b[:,:2,:]=0\n",
        "        \n",
        "        b =  cv2.resize(b, None, fx=self.scale, fy=self.scale, interpolation=cv2.INTER_NEAREST)\n",
        "\n",
        "        self.to_draw[t,:,:,:]=b\n",
        "\n",
        "\n",
        "    def act(self, action, train=True):\n",
        "        \"\"\"This function returns the new state, reward and decides if the\n",
        "        game ends.\"\"\"\n",
        "\n",
        "        self.get_frame(int(self.t))\n",
        "\n",
        "        self.position = np.zeros((self.grid_size, self.grid_size))\n",
        "\n",
        "        self.position[0:2,:]= -1\n",
        "        self.position[:,0:2] = -1\n",
        "        self.position[-2:, :] = -1\n",
        "        self.position[-2:, :] = -1\n",
        "\n",
        "        self.position[self.x, self.y] = 1\n",
        "        if action == 0:\n",
        "            if self.x == self.grid_size-3:\n",
        "                self.x = self.x-1\n",
        "            else:\n",
        "                self.x = self.x + 1\n",
        "        elif action == 1:\n",
        "            if self.x == 2:\n",
        "                self.x = self.x+1\n",
        "            else:\n",
        "                self.x = self.x-1\n",
        "        elif action == 2:\n",
        "            if self.y == self.grid_size - 3:\n",
        "                self.y = self.y - 1\n",
        "            else:\n",
        "                self.y = self.y + 1\n",
        "        elif action == 3:\n",
        "            if self.y == 2:\n",
        "                self.y = self.y + 1\n",
        "            else:\n",
        "                self.y = self.y - 1\n",
        "        else:\n",
        "            RuntimeError('Error: action not recognized')\n",
        "            \n",
        "        self.t = self.t + 1\n",
        "        reward = self.board[self.x, self.y]\n",
        "        self.board[self.x, self.y] = 0\n",
        "        \n",
        "        # Including malus on already visited position\n",
        "        if train:\n",
        "            reward += self.malus_visited[self.x, self.y]\n",
        "            self.malus_visited[self.x, self.y] = -0.75\n",
        "        \n",
        "        game_over = self.t > self.max_time\n",
        "        # We add the matrix malus_visited to the state for the Deep Learning to take it into account.\n",
        "        state = np.concatenate((self.malus_visited.reshape(self.grid_size, self.grid_size,1),\n",
        "                                self.board.reshape(self.grid_size, self.grid_size,1),\n",
        "                                self.position.reshape(self.grid_size, self.grid_size,1)),\n",
        "                                axis=2)\n",
        "        state = state[self.x-2:self.x+3,self.y-2:self.y+3,:]\n",
        "\n",
        "        return state, reward, game_over\n",
        "\n",
        "    def reset(self):\n",
        "        \"\"\"This function resets the game and returns the initial state\"\"\"\n",
        "\n",
        "        self.x = np.random.randint(3, self.grid_size-3, size=1)[0]\n",
        "        self.y = np.random.randint(3, self.grid_size-3, size=1)[0]\n",
        "\n",
        "\n",
        "        bonus = 0.5*np.random.binomial(1,self.temperature,size=self.grid_size**2)\n",
        "        bonus = bonus.reshape(self.grid_size,self.grid_size)\n",
        "\n",
        "        malus = -1.0*np.random.binomial(1,self.temperature,size=self.grid_size**2)\n",
        "        malus = malus.reshape(self.grid_size, self.grid_size)\n",
        "\n",
        "        self.to_draw = np.zeros((self.max_time+2, self.grid_size*self.scale, self.grid_size*self.scale, 3))\n",
        "\n",
        "\n",
        "        malus[bonus>0]=0\n",
        "\n",
        "        self.board = bonus + malus\n",
        "        \n",
        "        self.malus_visited = np.zeros((grid_size,grid_size))\n",
        "        \n",
        "        self.position = np.zeros((self.grid_size, self.grid_size))\n",
        "        self.position[0:2,:]= -1\n",
        "        self.position[:,0:2] = -1\n",
        "        self.position[-2:, :] = -1\n",
        "        self.position[-2:, :] = -1\n",
        "        self.board[self.x,self.y] = 0\n",
        "        self.t = 0\n",
        "\n",
        "        state = np.concatenate((\n",
        "            self.malus_visited.reshape(self.grid_size, self.grid_size,1),\n",
        "            self.board.reshape(self.grid_size, self.grid_size,1),\n",
        "            self.position.reshape(self.grid_size, self.grid_size,1)),\n",
        "            axis=2)\n",
        "\n",
        "        state = state[self.x - 2:self.x + 3, self.y - 2:self.y + 3, :]\n",
        "        return state\n",
        "    \n",
        "    \n",
        "## use those samples of code:\n",
        "#In train explore:\n",
        "#state, reward, game_over = env.act(action, train=True)\n",
        "\n",
        "## In Environment exploring:\n",
        "# You will have to change n_state to 3 because you will use one more layer!\n",
        "#reward = 0\n",
        "#if train:\n",
        "#    reward = -self.malus_position[self.x, self.y]\n",
        "#self.malus_position[self.x, self.y] = 0.1\n",
        "\n",
        "#reward = reward + self.board[self.x, self.y]\n",
        "# 3 \"feature\" states instead of 2\n",
        "#state = np.concatenate((self.malus_position.reshape(self.grid_size, self.grid_size,1),\n",
        "#                                self.board.reshape(self.grid_size, self.grid_size,1),\n",
        "#                        self.position.reshape(self.grid_size, self.grid_size,1)),axis=2)"
      ],
      "execution_count": 0,
      "outputs": []
    },
    {
      "metadata": {
        "id": "rrkRD2y6e8Q6",
        "colab_type": "code",
        "colab": {
          "base_uri": "https://localhost:8080/",
          "height": 470
        },
        "outputId": "343d744f-55b9-4b93-c8f0-8198531ff93f"
      },
      "cell_type": "code",
      "source": [
        "# Training\n",
        "env = EnvironmentExploring(grid_size=size, max_time=T, temperature=0.3)\n",
        "agent = DQN_CNN(size, lr=.1, epsilon = 0.1, memory_size=2000, batch_size = 32,n_state=3)\n",
        "train_explore(agent, env, epochs_train, prefix='cnn_train_explore')\n",
        "\n",
        "video_paths = glob.glob(\"cnn_train_explore*.mp4\")\n",
        "video_paths.sort()\n",
        "best_video_path = video_paths.pop()\n",
        "print(\"Displaying \", best_video_path)\n",
        "HTML(display_videos(best_video_path))"
      ],
      "execution_count": 150,
      "outputs": [
        {
          "output_type": "error",
          "ename": "NameError",
          "evalue": "ignored",
          "traceback": [
            "\u001b[0;31m---------------------------------------------------------------------------\u001b[0m",
            "\u001b[0;31mNameError\u001b[0m                                 Traceback (most recent call last)",
            "\u001b[0;32m<ipython-input-150-84a012ab8c4c>\u001b[0m in \u001b[0;36m<module>\u001b[0;34m()\u001b[0m\n\u001b[1;32m      1\u001b[0m \u001b[0menv\u001b[0m \u001b[0;34m=\u001b[0m \u001b[0mEnvironmentExploring\u001b[0m\u001b[0;34m(\u001b[0m\u001b[0mgrid_size\u001b[0m\u001b[0;34m=\u001b[0m\u001b[0msize\u001b[0m\u001b[0;34m,\u001b[0m \u001b[0mmax_time\u001b[0m\u001b[0;34m=\u001b[0m\u001b[0mT\u001b[0m\u001b[0;34m,\u001b[0m \u001b[0mtemperature\u001b[0m\u001b[0;34m=\u001b[0m\u001b[0;36m0.3\u001b[0m\u001b[0;34m)\u001b[0m\u001b[0;34m\u001b[0m\u001b[0;34m\u001b[0m\u001b[0m\n\u001b[1;32m      2\u001b[0m \u001b[0magent\u001b[0m \u001b[0;34m=\u001b[0m \u001b[0mDQN_CNN\u001b[0m\u001b[0;34m(\u001b[0m\u001b[0msize\u001b[0m\u001b[0;34m,\u001b[0m \u001b[0mlr\u001b[0m\u001b[0;34m=\u001b[0m\u001b[0;36m.1\u001b[0m\u001b[0;34m,\u001b[0m \u001b[0mepsilon\u001b[0m \u001b[0;34m=\u001b[0m \u001b[0;36m0.1\u001b[0m\u001b[0;34m,\u001b[0m \u001b[0mmemory_size\u001b[0m\u001b[0;34m=\u001b[0m\u001b[0;36m2000\u001b[0m\u001b[0;34m,\u001b[0m \u001b[0mbatch_size\u001b[0m \u001b[0;34m=\u001b[0m \u001b[0;36m32\u001b[0m\u001b[0;34m,\u001b[0m\u001b[0mn_state\u001b[0m\u001b[0;34m=\u001b[0m\u001b[0;36m3\u001b[0m\u001b[0;34m)\u001b[0m\u001b[0;34m\u001b[0m\u001b[0;34m\u001b[0m\u001b[0m\n\u001b[0;32m----> 3\u001b[0;31m \u001b[0mtrain_explore\u001b[0m\u001b[0;34m(\u001b[0m\u001b[0magent\u001b[0m\u001b[0;34m,\u001b[0m \u001b[0menv\u001b[0m\u001b[0;34m,\u001b[0m \u001b[0mepochs_train\u001b[0m\u001b[0;34m,\u001b[0m \u001b[0mprefix\u001b[0m\u001b[0;34m=\u001b[0m\u001b[0;34m'cnn_train_explore'\u001b[0m\u001b[0;34m)\u001b[0m\u001b[0;34m\u001b[0m\u001b[0;34m\u001b[0m\u001b[0m\n\u001b[0m\u001b[1;32m      4\u001b[0m \u001b[0;34m\u001b[0m\u001b[0m\n\u001b[1;32m      5\u001b[0m \u001b[0mvideo_paths\u001b[0m \u001b[0;34m=\u001b[0m \u001b[0mglob\u001b[0m\u001b[0;34m.\u001b[0m\u001b[0mglob\u001b[0m\u001b[0;34m(\u001b[0m\u001b[0;34m\"cnn_train_explore*.mp4\"\u001b[0m\u001b[0;34m)\u001b[0m\u001b[0;34m\u001b[0m\u001b[0;34m\u001b[0m\u001b[0m\n",
            "\u001b[0;32m<ipython-input-149-f194bf1d63f1>\u001b[0m in \u001b[0;36mtrain_explore\u001b[0;34m(agent, env, epoch, prefix)\u001b[0m\n\u001b[1;32m      8\u001b[0m     \u001b[0;32mfor\u001b[0m \u001b[0me\u001b[0m \u001b[0;32min\u001b[0m \u001b[0mrange\u001b[0m\u001b[0;34m(\u001b[0m\u001b[0mepoch\u001b[0m\u001b[0;34m)\u001b[0m\u001b[0;34m:\u001b[0m\u001b[0;34m\u001b[0m\u001b[0;34m\u001b[0m\u001b[0m\n\u001b[1;32m      9\u001b[0m         \u001b[0;31m# At each epoch, we restart to a fresh game and get the initial state\u001b[0m\u001b[0;34m\u001b[0m\u001b[0;34m\u001b[0m\u001b[0;34m\u001b[0m\u001b[0m\n\u001b[0;32m---> 10\u001b[0;31m         \u001b[0mstate\u001b[0m \u001b[0;34m=\u001b[0m \u001b[0menv\u001b[0m\u001b[0;34m.\u001b[0m\u001b[0mreset\u001b[0m\u001b[0;34m(\u001b[0m\u001b[0;34m)\u001b[0m\u001b[0;34m\u001b[0m\u001b[0;34m\u001b[0m\u001b[0m\n\u001b[0m\u001b[1;32m     11\u001b[0m         \u001b[0;31m# This assumes that the games will terminate\u001b[0m\u001b[0;34m\u001b[0m\u001b[0;34m\u001b[0m\u001b[0;34m\u001b[0m\u001b[0m\n\u001b[1;32m     12\u001b[0m         \u001b[0mgame_over\u001b[0m \u001b[0;34m=\u001b[0m \u001b[0;32mFalse\u001b[0m\u001b[0;34m\u001b[0m\u001b[0;34m\u001b[0m\u001b[0m\n",
            "\u001b[0;32m<ipython-input-149-f194bf1d63f1>\u001b[0m in \u001b[0;36mreset\u001b[0;34m(self)\u001b[0m\n\u001b[1;32m    164\u001b[0m         \u001b[0mself\u001b[0m\u001b[0;34m.\u001b[0m\u001b[0mboard\u001b[0m \u001b[0;34m=\u001b[0m \u001b[0mbonus\u001b[0m \u001b[0;34m+\u001b[0m \u001b[0mmalus\u001b[0m\u001b[0;34m\u001b[0m\u001b[0;34m\u001b[0m\u001b[0m\n\u001b[1;32m    165\u001b[0m \u001b[0;34m\u001b[0m\u001b[0m\n\u001b[0;32m--> 166\u001b[0;31m         \u001b[0mself\u001b[0m\u001b[0;34m.\u001b[0m\u001b[0mmalus_visited\u001b[0m \u001b[0;34m=\u001b[0m \u001b[0mnp\u001b[0m\u001b[0;34m.\u001b[0m\u001b[0mzeros\u001b[0m\u001b[0;34m(\u001b[0m\u001b[0;34m(\u001b[0m\u001b[0mgrid_size\u001b[0m\u001b[0;34m,\u001b[0m\u001b[0mgrid_size\u001b[0m\u001b[0;34m)\u001b[0m\u001b[0;34m)\u001b[0m\u001b[0;34m\u001b[0m\u001b[0;34m\u001b[0m\u001b[0m\n\u001b[0m\u001b[1;32m    167\u001b[0m \u001b[0;34m\u001b[0m\u001b[0m\n\u001b[1;32m    168\u001b[0m         \u001b[0mself\u001b[0m\u001b[0;34m.\u001b[0m\u001b[0mposition\u001b[0m \u001b[0;34m=\u001b[0m \u001b[0mnp\u001b[0m\u001b[0;34m.\u001b[0m\u001b[0mzeros\u001b[0m\u001b[0;34m(\u001b[0m\u001b[0;34m(\u001b[0m\u001b[0mself\u001b[0m\u001b[0;34m.\u001b[0m\u001b[0mgrid_size\u001b[0m\u001b[0;34m,\u001b[0m \u001b[0mself\u001b[0m\u001b[0;34m.\u001b[0m\u001b[0mgrid_size\u001b[0m\u001b[0;34m)\u001b[0m\u001b[0;34m)\u001b[0m\u001b[0;34m\u001b[0m\u001b[0;34m\u001b[0m\u001b[0m\n",
            "\u001b[0;31mNameError\u001b[0m: name 'grid_size' is not defined"
          ]
        }
      ]
    },
    {
      "metadata": {
        "id": "u9pByfjDe8Q_",
        "colab_type": "code",
        "colab": {}
      },
      "cell_type": "code",
      "source": [
        "# Evaluation\n",
        "test(agent,env,epochs_test,prefix='cnn_test_explore')\n",
        "video_paths = glob.glob(\"cnn_test_explore*.mp4\")\n",
        "video_paths.sort()\n",
        "best_video_path = video_paths.pop()\n",
        "print(\"Displaying \", best_video_path)\n",
        "HTML(display_videos(best_video_path))"
      ],
      "execution_count": 0,
      "outputs": []
    },
    {
      "metadata": {
        "id": "sfHr7ItXe8RC",
        "colab_type": "text"
      },
      "cell_type": "markdown",
      "source": [
        "***\n",
        "***\n",
        "__BONUS question__ Use the expert DQN from the previous question to generate some winning games. Train a model that mimicks its behavior. Compare the performances."
      ]
    },
    {
      "metadata": {
        "id": "3s4DYUnPe8RD",
        "colab_type": "text"
      },
      "cell_type": "markdown",
      "source": [
        ""
      ]
    },
    {
      "metadata": {
        "id": "GPQeP-o3e8RE",
        "colab_type": "text"
      },
      "cell_type": "markdown",
      "source": [
        "***"
      ]
    }
  ]
}
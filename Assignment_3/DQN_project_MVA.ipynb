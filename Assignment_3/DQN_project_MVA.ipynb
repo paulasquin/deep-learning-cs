{
  "nbformat": 4,
  "nbformat_minor": 0,
  "metadata": {
    "colab": {
      "name": "DQN_project_MVA.ipynb",
      "version": "0.3.2",
      "provenance": []
    },
    "kernelspec": {
      "display_name": "Python 3",
      "language": "python",
      "name": "python3"
    }
  },
  "cells": [
    {
      "metadata": {
        "id": "gkZm_xO8e8PG",
        "colab_type": "text"
      },
      "cell_type": "markdown",
      "source": [
        "**You may need to install [OpenCV](https://pypi.python.org/pypi/opencv-python) and [scikit-video](http://www.scikit-video.org/stable/).**"
      ]
    },
    {
      "metadata": {
        "id": "IpkYijTxe8PI",
        "colab_type": "code",
        "outputId": "3d43406c-5456-456d-b39d-3ec0a5b7011b",
        "colab": {
          "base_uri": "https://localhost:8080/",
          "height": 292
        }
      },
      "cell_type": "code",
      "source": [
        "import keras\n",
        "import numpy as np\n",
        "import io\n",
        "import base64\n",
        "from IPython.display import HTML\n",
        "\n",
        "### IMPORT SKVIDEO FOR GOOGLE COLAB\n",
        "!pip3 install scikit-video\n",
        "!apt-get install ffmpeg\n",
        "# check installation path with \n",
        "# ```which ffmpeg```\n",
        "# ```which ffprobe```\n",
        "\n",
        "import skvideo\n",
        "skvideo.setFFmpegPath(\"/usr/bin\")\n",
        "import skvideo.io\n",
        "\n",
        "# ```pip3 install opencv-python```\n",
        "import cv2\n",
        "import json\n",
        "\n",
        "from keras.models import Sequential,model_from_json\n",
        "from keras.layers.core import Dense\n",
        "from keras.optimizers import sgd\n",
        "from keras.layers import Conv2D, MaxPooling2D, Activation, AveragePooling2D,Reshape,BatchNormalization, Dropout"
      ],
      "execution_count": 2,
      "outputs": [
        {
          "output_type": "stream",
          "text": [
            "Reading package lists... Done\n",
            "Building dependency tree       \n",
            "Reading state information... Done\n",
            "ffmpeg is already the newest version (7:3.4.4-0ubuntu0.18.04.1).\n",
            "0 upgraded, 0 newly installed, 0 to remove and 8 not upgraded.\n",
            "Requirement already satisfied: scikit-video in /usr/local/lib/python3.6/dist-packages (1.1.11)\n",
            "Requirement already satisfied: scipy in /usr/local/lib/python3.6/dist-packages (from scikit-video) (1.1.0)\n",
            "Requirement already satisfied: pillow in /usr/local/lib/python3.6/dist-packages (from scikit-video) (4.0.0)\n",
            "Requirement already satisfied: numpy in /usr/local/lib/python3.6/dist-packages (from scikit-video) (1.14.6)\n",
            "Requirement already satisfied: olefile in /usr/local/lib/python3.6/dist-packages (from pillow->scikit-video) (0.46)\n",
            "Reading package lists... Done\n",
            "Building dependency tree       \n",
            "Reading state information... Done\n",
            "ffmpeg is already the newest version (7:3.4.4-0ubuntu0.18.04.1).\n",
            "0 upgraded, 0 newly installed, 0 to remove and 8 not upgraded.\n"
          ],
          "name": "stdout"
        }
      ]
    },
    {
      "metadata": {
        "id": "IcFJdpaPe8PO",
        "colab_type": "text"
      },
      "cell_type": "markdown",
      "source": [
        "# MiniProject #3: Deep Reinforcement Learning"
      ]
    },
    {
      "metadata": {
        "id": "W146PxAze8PP",
        "colab_type": "text"
      },
      "cell_type": "markdown",
      "source": [
        "__Notations__: $E_p$ is the expectation under probability $p$. Please justify each of your answer and widely comment your code."
      ]
    },
    {
      "metadata": {
        "id": "01DHN4_-e8PR",
        "colab_type": "text"
      },
      "cell_type": "markdown",
      "source": [
        "# Context"
      ]
    },
    {
      "metadata": {
        "id": "34wlXXrOe8PS",
        "colab_type": "text"
      },
      "cell_type": "markdown",
      "source": [
        "In a reinforcement learning algorithm, we modelize each step $t$ as an action $a_t$ obtained from a state $s_t$, i.e. $\\{(a_{t},s_{t})_{t\\leq T}\\}$ having the Markov property. We consider a discount factor $\\gamma \\in [0,1]$ that ensures convergence. The goal is to find among all the policies $\\pi$, one that maximizes the expected reward:\n",
        "\n",
        "\\begin{equation*}\n",
        "R(\\pi)=\\sum_{t\\leq T}E_{p^{\\pi}}[\\gamma^t r(s_{t},a_{t})] \\> ,\n",
        "\\end{equation*}\n",
        "\n",
        "where: \n",
        "\\begin{equation*}p^{\\pi}(a_{0},a_{1},s_{1},...,a_{T},s_{T})=p(a_{0})\\prod_{t=1}^{T}\\pi(a_{t}|s_{t})p(s_{t+1}|s_{t},a_{t}) \\> .\n",
        "\\end{equation*}\n",
        "\n",
        "We note the $Q$-function:\n",
        "\n",
        "\\begin{equation*}Q^\\pi(s,a)=E_{p^{\\pi}}[\\sum_{t\\leq T}\\gamma^{t}r(s_{t},a_{t})|s_{0}=s,a_{0}=a] \\> .\n",
        "\\end{equation*}\n",
        "\n",
        "Thus, the optimal Q function is:\n",
        "\\begin{equation*}\n",
        "Q^*(s,a)=\\max_{\\pi}Q^\\pi(s,a) \\> .\n",
        "\\end{equation*}\n",
        "\n",
        "In this project, we will apply the deep reinforcement learning techniques to a simple game: an agent will have to learn from scratch a policy that will permit it maximizing a reward."
      ]
    },
    {
      "metadata": {
        "id": "TkjhXJoje8PU",
        "colab_type": "text"
      },
      "cell_type": "markdown",
      "source": [
        "## The environment, the agent and the game"
      ]
    },
    {
      "metadata": {
        "id": "9OFr8vdre8PV",
        "colab_type": "text"
      },
      "cell_type": "markdown",
      "source": [
        "### The environment"
      ]
    },
    {
      "metadata": {
        "id": "vhBW7lB9e8PW",
        "colab_type": "text"
      },
      "cell_type": "markdown",
      "source": [
        "```Environment``` is an abstract class that represents the states, rewards, and actions to obtain the new state."
      ]
    },
    {
      "metadata": {
        "id": "ka3EfOcRe8PX",
        "colab_type": "code",
        "colab": {}
      },
      "cell_type": "code",
      "source": [
        "class Environment(object):\n",
        "    def __init__(self):\n",
        "        pass\n",
        "\n",
        "    def act(self, act):\n",
        "        \"\"\"\n",
        "        One can act on the environment and obtain its reaction:\n",
        "        - the new state\n",
        "        - the reward of the new state\n",
        "        - should we continue the game?\n",
        "\n",
        "        :return: state, reward, game_over\n",
        "        \"\"\"\n",
        "        pass\n",
        "\n",
        "\n",
        "    def reset(self):\n",
        "        \"\"\"\n",
        "        Reinitialize the environment to a random state and returns\n",
        "        the original state\n",
        "\n",
        "        :return: state\n",
        "        \"\"\"\n",
        "        pass\n",
        "    \n",
        "    def draw(self):\n",
        "        \"\"\"\n",
        "        Visualize in the console or graphically the current state\n",
        "        \"\"\"\n",
        "        pass"
      ],
      "execution_count": 0,
      "outputs": []
    },
    {
      "metadata": {
        "id": "l2H9fJiDe8Pa",
        "colab_type": "text"
      },
      "cell_type": "markdown",
      "source": [
        "The method ```act``` allows to act on the environment at a given state $s_t$ (stored internally), via action $a_t$. The method will return the new state $s_{t+1}$, the reward $r(s_{t},a_{t})$ and determines if $t\\leq T$ (*game_over*).\n",
        "\n",
        "The method ```reset``` simply reinitializes the environment to a random state $s_0$.\n",
        "\n",
        "The method ```draw``` displays the current state $s_t$ (this is useful to check the behavior of the Agent).\n",
        "\n",
        "We modelize $s_t$ as a tensor, while $a_t$ is an integer."
      ]
    },
    {
      "metadata": {
        "id": "TYDJ2AUze8Pb",
        "colab_type": "text"
      },
      "cell_type": "markdown",
      "source": [
        "### The Agent"
      ]
    },
    {
      "metadata": {
        "id": "bhEqpBsde8Pc",
        "colab_type": "text"
      },
      "cell_type": "markdown",
      "source": [
        "The goal of the ```Agent``` is to interact with the ```Environment``` by proposing actions $a_t$ obtained from a given state $s_t$ to attempt to maximize its __reward__ $r(s_t,a_t)$. We propose the following abstract class:"
      ]
    },
    {
      "metadata": {
        "id": "MePlYwpee8Pd",
        "colab_type": "code",
        "colab": {}
      },
      "cell_type": "code",
      "source": [
        "class Agent(object):\n",
        "    def __init__(self, epsilon=0.1, n_action=4):\n",
        "        self.epsilon = epsilon\n",
        "        self.n_action = n_action\n",
        "    \n",
        "    def set_epsilon(self,e):\n",
        "        self.epsilon = e\n",
        "\n",
        "    def act(self,s,train=True):\n",
        "        \"\"\" This function should return the next action to do:\n",
        "        an integer between 0 and 4 (not included) with a random exploration of epsilon\"\"\"\n",
        "        if train:\n",
        "            if np.random.rand() <= self.epsilon:\n",
        "                a = np.random.randint(0, self.n_action, size=1)[0]\n",
        "            else:\n",
        "                a = self.learned_act(s)\n",
        "        else: # in some cases, this can improve the performance.. remove it if poor performances\n",
        "            a = self.learned_act(s)\n",
        "\n",
        "        return a\n",
        "\n",
        "    def learned_act(self,s):\n",
        "        \"\"\" Act via the policy of the agent, from a given state s\n",
        "        it proposes an action a\"\"\"\n",
        "        pass\n",
        "\n",
        "    def reinforce(self, s, n_s, a, r, game_over_):\n",
        "        \"\"\" This function is the core of the learning algorithm. \n",
        "        It takes as an input the current state s_, the next state n_s_\n",
        "        the action a_ used to move from s_ to n_s_ and the reward r_.\n",
        "        \n",
        "        Its goal is to learn a policy.\n",
        "        \"\"\"\n",
        "        pass\n",
        "\n",
        "    def save(self):\n",
        "        \"\"\" This function returns basic stats if applicable: the\n",
        "        loss and/or the model\"\"\"\n",
        "        pass\n",
        "\n",
        "    def load(self):\n",
        "        \"\"\" This function allows to restore a model\"\"\"\n",
        "        pass"
      ],
      "execution_count": 0,
      "outputs": []
    },
    {
      "metadata": {
        "id": "yBvzjGoSe8Pg",
        "colab_type": "text"
      },
      "cell_type": "markdown",
      "source": [
        "***\n",
        "__Question 1__:\n",
        "Explain the function act. Why is ```epsilon``` essential?"
      ]
    },
    {
      "metadata": {
        "id": "VGlaTpnoe8Ph",
        "colab_type": "text"
      },
      "cell_type": "markdown",
      "source": [
        "The `act` function aims is to make a decision on which state explore next. For this we are using what is called a epsilon-greedy algorithm. \n",
        "\n",
        "At each step, the algorithm have two options. For a random float $r_f$ taken between 0 and 1, we can either choose a random action if $r_f \\leq$ `epsilon`, or we can choose an action from previously learned acts.\n",
        "\n",
        "This exploration variable set the ability of the algorithm to explore new posibilities or to use its knowledge from the past. If too high, we will not be able to explore new behaviours and learn new actions, if too low, we will not learn anything and will just explore in an *amnesic random way*."
      ]
    },
    {
      "metadata": {
        "id": "ZBz6zH-ve8Pi",
        "colab_type": "text"
      },
      "cell_type": "markdown",
      "source": [
        "***\n",
        "### The Game"
      ]
    },
    {
      "metadata": {
        "id": "mWX52Gx5e8Pj",
        "colab_type": "text"
      },
      "cell_type": "markdown",
      "source": [
        "The ```Agent``` and the ```Environment``` work in an interlaced way as in the following (take some time to understand this code as it is the core of the project)\n",
        "\n",
        "```python\n",
        "\n",
        "epoch = 300\n",
        "env = Environment()\n",
        "agent = Agent()\n",
        "\n",
        "\n",
        "# Number of won games\n",
        "score = 0\n",
        "loss = 0\n",
        "\n",
        "\n",
        "for e in range(epoch):\n",
        "    # At each epoch, we restart to a fresh game and get the initial state\n",
        "    state = env.reset()\n",
        "    # This assumes that the games will end\n",
        "    game_over = False\n",
        "\n",
        "    win = 0\n",
        "    lose = 0\n",
        "    \n",
        "    while not game_over:\n",
        "        # The agent performs an action\n",
        "        action = agent.act(state)\n",
        "\n",
        "        # Apply an action to the environment, get the next state, the reward\n",
        "        # and if the games end\n",
        "        prev_state = state\n",
        "        state, reward, game_over = env.act(action)\n",
        "\n",
        "        # Update the counters\n",
        "        if reward > 0:\n",
        "            win = win + reward\n",
        "        if reward < 0:\n",
        "            lose = lose -reward\n",
        "\n",
        "        # Apply the reinforcement strategy\n",
        "        loss = agent.reinforce(prev_state, state,  action, reward, game_over)\n",
        "\n",
        "    # Save as a mp4\n",
        "    if e % 10 == 0:\n",
        "        env.draw(e)\n",
        "\n",
        "    # Update stats\n",
        "    score += win-lose\n",
        "\n",
        "    print(\"Epoch {:03d}/{:03d} | Loss {:.4f} | Win/lose count {}/{} ({})\"\n",
        "          .format(e, epoch, loss, win, lose, win-lose))\n",
        "    agent.save()\n",
        "```"
      ]
    },
    {
      "metadata": {
        "id": "Mf6mszNUe8Pl",
        "colab_type": "text"
      },
      "cell_type": "markdown",
      "source": [
        "# The game, *eat cheese*"
      ]
    },
    {
      "metadata": {
        "id": "1LnSKJOye8Pn",
        "colab_type": "text"
      },
      "cell_type": "markdown",
      "source": [
        "A rat runs on an island and tries to eat as much as possible. The island is subdivided into $N\\times N$ cells, in which there are cheese (+0.5) and poisonous cells (-1). The rat has a visibility of 2 cells (thus it can see $5^2$ cells). The rat is given a time $T$ to accumulate as much food as possible. It can perform 4 actions: going up, down, left, right. \n",
        "\n",
        "The goal is to code an agent to solve this task that will learn by trial and error. We propose the following environment:"
      ]
    },
    {
      "metadata": {
        "id": "78D8rdbTe8Pp",
        "colab_type": "code",
        "colab": {}
      },
      "cell_type": "code",
      "source": [
        "class Environment(object):\n",
        "    def __init__(self, grid_size=10, max_time=500, temperature=0.1):\n",
        "        grid_size = grid_size+4\n",
        "        self.grid_size = grid_size\n",
        "        self.max_time = max_time\n",
        "        self.temperature = temperature\n",
        "\n",
        "        #board on which one plays\n",
        "        self.board = np.zeros((grid_size,grid_size))\n",
        "        self.position = np.zeros((grid_size,grid_size))\n",
        "\n",
        "        # coordinate of the cat\n",
        "        self.x = 0\n",
        "        self.y = 1\n",
        "\n",
        "        # self time\n",
        "        self.t = 0\n",
        "\n",
        "        self.scale=16\n",
        "\n",
        "        self.to_draw = np.zeros((max_time+2, grid_size*self.scale, grid_size*self.scale, 3))\n",
        "\n",
        "\n",
        "    def draw(self,e):\n",
        "        skvideo.io.vwrite(str(e) + '.mp4', self.to_draw)\n",
        "\n",
        "    def get_frame(self,t):\n",
        "        b = np.zeros((self.grid_size,self.grid_size,3))+128\n",
        "        b[self.board>0,0] = 256\n",
        "        b[self.board < 0, 2] = 256\n",
        "        b[self.x,self.y,:]=256\n",
        "        b[-2:,:,:]=0\n",
        "        b[:,-2:,:]=0\n",
        "        b[:2,:,:]=0\n",
        "        b[:,:2,:]=0\n",
        "        \n",
        "        b =  cv2.resize(b, None, fx=self.scale, fy=self.scale, interpolation=cv2.INTER_NEAREST)\n",
        "\n",
        "        self.to_draw[t,:,:,:]=b\n",
        "\n",
        "\n",
        "    def act(self, action):\n",
        "        \"\"\"This function returns the new state, reward and decides if the\n",
        "        game ends.\"\"\"\n",
        "\n",
        "        self.get_frame(int(self.t))\n",
        "\n",
        "        self.position = np.zeros((self.grid_size, self.grid_size))\n",
        "\n",
        "        self.position[0:2,:]= -1\n",
        "        self.position[:,0:2] = -1\n",
        "        self.position[-2:, :] = -1\n",
        "        self.position[:, -2:] = -1\n",
        "\n",
        "        self.position[self.x, self.y] = 1\n",
        "        if action == 0:\n",
        "            if self.x == self.grid_size-3:\n",
        "                self.x = self.x-1\n",
        "            else:\n",
        "                self.x = self.x + 1\n",
        "        elif action == 1:\n",
        "            if self.x == 2:\n",
        "                self.x = self.x+1\n",
        "            else:\n",
        "                self.x = self.x-1\n",
        "        elif action == 2:\n",
        "            if self.y == self.grid_size - 3:\n",
        "                self.y = self.y - 1\n",
        "            else:\n",
        "                self.y = self.y + 1\n",
        "        elif action == 3:\n",
        "            if self.y == 2:\n",
        "                self.y = self.y + 1\n",
        "            else:\n",
        "                self.y = self.y - 1\n",
        "        else:\n",
        "            RuntimeError('Error: action not recognized')\n",
        "\n",
        "        self.t = self.t + 1\n",
        "        reward = self.board[self.x, self.y]\n",
        "        self.board[self.x, self.y] = 0\n",
        "        game_over = self.t > self.max_time\n",
        "        state = np.concatenate((self.board.reshape(self.grid_size, self.grid_size,1),\n",
        "                        self.position.reshape(self.grid_size, self.grid_size,1)),axis=2)\n",
        "        state = state[self.x-2:self.x+3,self.y-2:self.y+3,:]\n",
        "\n",
        "        return state, reward, game_over\n",
        "\n",
        "    def reset(self):\n",
        "        \"\"\"This function resets the game and returns the initial state\"\"\"\n",
        "\n",
        "        self.x = np.random.randint(3, self.grid_size-3, size=1)[0]\n",
        "        self.y = np.random.randint(3, self.grid_size-3, size=1)[0]\n",
        "\n",
        "\n",
        "        bonus = 0.5*np.random.binomial(1,self.temperature,size=self.grid_size**2)\n",
        "        bonus = bonus.reshape(self.grid_size,self.grid_size)\n",
        "\n",
        "        malus = -1.0*np.random.binomial(1,self.temperature,size=self.grid_size**2)\n",
        "        malus = malus.reshape(self.grid_size, self.grid_size)\n",
        "\n",
        "        self.to_draw = np.zeros((self.max_time+2, self.grid_size*self.scale, self.grid_size*self.scale, 3))\n",
        "\n",
        "\n",
        "        malus[bonus>0]=0\n",
        "\n",
        "        self.board = bonus + malus\n",
        "\n",
        "        self.position = np.zeros((self.grid_size, self.grid_size))\n",
        "        self.position[0:2,:]= -1\n",
        "        self.position[:,0:2] = -1\n",
        "        self.position[-2:, :] = -1\n",
        "        self.position[:, -2:] = -1\n",
        "        self.board[self.x,self.y] = 0\n",
        "        self.t = 0\n",
        "\n",
        "        state = np.concatenate((\n",
        "                               self.board.reshape(self.grid_size, self.grid_size,1),\n",
        "                        self.position.reshape(self.grid_size, self.grid_size,1)),axis=2)\n",
        "\n",
        "        state = state[self.x - 2:self.x + 3, self.y - 2:self.y + 3, :]\n",
        "        return state"
      ],
      "execution_count": 0,
      "outputs": []
    },
    {
      "metadata": {
        "id": "e9IrB2_1e8Pt",
        "colab_type": "text"
      },
      "cell_type": "markdown",
      "source": [
        "The following elements are important because they correspond to the hyper parameters for this project:"
      ]
    },
    {
      "metadata": {
        "id": "mlBH6Yqce8Pw",
        "colab_type": "code",
        "colab": {}
      },
      "cell_type": "code",
      "source": [
        "# parameters\n",
        "size = 13\n",
        "T=200\n",
        "temperature=0.3\n",
        "epochs_train=64 # set small when debugging\n",
        "epochs_test=64 # set small when debugging\n",
        "\n",
        "# display videos\n",
        "def display_videos(name):\n",
        "    video = io.open(name, 'r+b').read()\n",
        "    encoded = base64.b64encode(video)\n",
        "    return '''<video alt=\"test\" controls>\n",
        "                <source src=\"data:video/mp4;base64,{0}\" type=\"video/mp4\" />\n",
        "             </video>'''.format(encoded.decode('ascii'))"
      ],
      "execution_count": 0,
      "outputs": []
    },
    {
      "metadata": {
        "id": "o9kAND0oe8P0",
        "colab_type": "text"
      },
      "cell_type": "markdown",
      "source": [
        "__Question 2__ Explain the use of the arrays ```position``` and ```board```."
      ]
    },
    {
      "metadata": {
        "id": "6-G85zoBe8P1",
        "colab_type": "text"
      },
      "cell_type": "markdown",
      "source": [
        "*Position*  \n",
        "This matrix is used to define the rat position and allowed moves. \n",
        "- It is filled with `0` by default.\n",
        "- There is a two `-1` cells thickness on the borders, reprenting where the rat can't go. That's why we added +4 to the grid size, allowing some place for these borders.\n",
        "- One only cell is set to `1`, representing the actual rat positon.\n",
        "\n",
        "*Board*  \n",
        "This matrix is used to define the environment.\n",
        "- It is also initialized with a size increased by 4, to fit with the previous positon matrix.\n",
        "- It contains rewards for the rat. `-1` for poison, `0.5` for cheese.\n",
        "- When the rat already have explored a cell, we set the cell to `0`\n"
      ]
    },
    {
      "metadata": {
        "id": "-ZEZ4n2ue8P3",
        "colab_type": "text"
      },
      "cell_type": "markdown",
      "source": [
        "## Random Agent"
      ]
    },
    {
      "metadata": {
        "id": "n6bj3Pu4e8P4",
        "colab_type": "text"
      },
      "cell_type": "markdown",
      "source": [
        "***\n",
        "__Question 3__ Implement a random Agent (only ```learned_act``` needs to be implemented):"
      ]
    },
    {
      "metadata": {
        "id": "1JLh_hvke8P5",
        "colab_type": "code",
        "colab": {}
      },
      "cell_type": "code",
      "source": [
        "class RandomAgent(Agent):\n",
        "    def __init__(self):\n",
        "        super(RandomAgent, self).__init__()\n",
        "        pass\n",
        "\n",
        "    def learned_act(self, s=0):\n",
        "        return np.random.randint(4)\n",
        "\n",
        "# We develop a random agent.\n",
        "# Thus it doesn't care about the current rat state.\n",
        "# We put s=0 by default, we will not us it.\n",
        "# We randomly return a number between 0 and 3 included.\n",
        "\n",
        "# Testing\n",
        "def test_random_agent():\n",
        "    random_agent = RandomAgent()\n",
        "    for i in range(10):\n",
        "        print(random_agent.learned_act())\n",
        "# test_random_agent()"
      ],
      "execution_count": 0,
      "outputs": []
    },
    {
      "metadata": {
        "id": "4oZOl2t2e8P9",
        "colab_type": "text"
      },
      "cell_type": "markdown",
      "source": [
        "***\n",
        "***\n",
        "__Question 4__ Visualize the game moves. You need to fill in the following function for the evaluation:"
      ]
    },
    {
      "metadata": {
        "id": "65uteLr3e8P-",
        "colab_type": "code",
        "colab": {}
      },
      "cell_type": "code",
      "source": [
        "def test(agent,env,epochs,prefix=''):\n",
        "    # Number of won games\n",
        "    score = 0\n",
        "        \n",
        "    for e in range(epochs):\n",
        "        # Init variables\n",
        "        win = 0\n",
        "        lose = 0\n",
        "        game_over = False\n",
        "        # Start game\n",
        "        state = env.reset()\n",
        "        \n",
        "        # Running the game\n",
        "        while not game_over:\n",
        "            action = agent.learned_act(state) # The state will be useless\n",
        "            state, reward, game_over = env.act(action)\n",
        "            \n",
        "            if reward >= 0:\n",
        "                win+=reward\n",
        "            else:\n",
        "                lose+=abs(reward)\n",
        "        \n",
        "        # Save as a mp4\n",
        "        env.draw(prefix+str(e))\n",
        "\n",
        "        # Update stats\n",
        "        score = score + win-lose\n",
        "\n",
        "        print(\"Win/lose count {}/{}. Average score ({})\"\n",
        "              .format(win, lose, score/(1+e)))\n",
        "    print('Final score: '+str(score/epochs))"
      ],
      "execution_count": 0,
      "outputs": []
    },
    {
      "metadata": {
        "id": "Iba54I9Ue8QB",
        "colab_type": "code",
        "outputId": "cef96128-ec10-442d-9474-ea768a941193",
        "colab": {
          "base_uri": "https://localhost:8080/",
          "height": 395
        }
      },
      "cell_type": "code",
      "source": [
        "epochs_test=5 # set small when debugging\n",
        "\n",
        "# Initialize the game\n",
        "env = Environment(grid_size=size, max_time=T,temperature=temperature)\n",
        "\n",
        "# Initialize the agent!\n",
        "agent = RandomAgent()\n",
        "\n",
        "test(agent,env,epochs_test,prefix='random')\n",
        "HTML(display_videos('random0.mp4'))"
      ],
      "execution_count": 9,
      "outputs": [
        {
          "output_type": "stream",
          "text": [
            "Win/lose count 14.0/18.0. Average score (-4.0)\n",
            "Win/lose count 8.5/12.0. Average score (-3.75)\n",
            "Win/lose count 9.5/17.0. Average score (-5.0)\n",
            "Win/lose count 10.5/9.0. Average score (-3.375)\n",
            "Win/lose count 8.5/12.0. Average score (-3.4)\n",
            "Final score: -3.4\n"
          ],
          "name": "stdout"
        },
        {
          "output_type": "execute_result",
          "data": {
            "text/html": [
              "<video alt=\"test\" controls>\n",
              "                <source src=\"data:video/mp4;base64,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\" type=\"video/mp4\" />\n",
              "             </video>"
            ],
            "text/plain": [
              "<IPython.core.display.HTML object>"
            ]
          },
          "metadata": {
            "tags": []
          },
          "execution_count": 9
        }
      ]
    },
    {
      "metadata": {
        "id": "D_eFHXsJe8QE",
        "colab_type": "text"
      },
      "cell_type": "markdown",
      "source": [
        "***\n",
        "## DQN"
      ]
    },
    {
      "metadata": {
        "id": "NnfwB5xJe8QG",
        "colab_type": "text"
      },
      "cell_type": "markdown",
      "source": [
        "Let us assume here that $T=\\infty$.\n",
        "\n",
        "***\n",
        "__Question 5__ Let $\\pi$ be a policy, show that:\n",
        "\n",
        "\\begin{equation*}\n",
        "Q^{\\pi}(s,a)=E_{(s',a')\\sim p(.|s,a)}[r(s,a)+\\gamma Q^{\\pi}(s',a')]\n",
        "\\end{equation*}\n",
        "\n",
        "Then, show that for the optimal policy $\\pi^*$ (we assume its existence), the following holds: \n",
        "\n",
        "\\begin{equation*}\n",
        "Q^{*}(s,a)=E_{s'\\sim \\pi^*(.|s,a)}[r(s,a)+\\gamma\\max_{a'}Q^{*}(s',a')].\n",
        "\\end{equation*}\n",
        "Finally, deduce that a plausible objective is:\n",
        "\n",
        "\\begin{equation*}\n",
        "\\mathcal{L}(\\theta)=E_{s' \\sim \\pi^*(.|s,a)}\\Vert r+\\gamma\\max\\max_{a'}Q(s',a',\\theta)-Q(s,a,\\theta)\\Vert^{2}.\n",
        "\\end{equation*}\n",
        "\n",
        "\n"
      ]
    },
    {
      "metadata": {
        "id": "NhAceGGqe8QH",
        "colab_type": "text"
      },
      "cell_type": "markdown",
      "source": [
        "By definition of the action-value of a policy $\\pi$, we have :  \n",
        "$Q^\\pi(s,a) = E_\\pi \\Big[ \\overset{\\infty}{\\underset{k=0}{\\sum}} \\gamma^k r_{t+k+1} \\Big| s_t = s, a_t = a \\Big]$\n",
        "\n",
        "$~~~~~~~~~~~~~= E\\Big[r(s,a) + \\overset{\\infty}{\\underset{k=1}{\\sum}} \\gamma^k r_{t+k+1} \\Big| s_t = s, a_t = a\\Big]$  \n",
        "\n",
        "...."
      ]
    },
    {
      "metadata": {
        "id": "84o3AG09e8QJ",
        "colab_type": "text"
      },
      "cell_type": "markdown",
      "source": [
        "***\n",
        "The DQN-learning algorithm relies on these derivations to train the parameters $\\theta$ of a Deep Neural Network:\n",
        "\n",
        "1. At the state $s_t$, select the action $a_t$ with best reward using $Q_t$ and store the results;\n",
        "\n",
        "2. Obtain the new state $s_{t+1}$ from the environment $p$;\n",
        "\n",
        "3. Store $(s_t,a_t,s_{t+1})$;\n",
        "\n",
        "4. Obtain $Q_{t+1}$ by minimizing  $\\mathcal{L}$ from a recovered batch from the previously stored results.\n",
        "\n",
        "***\n",
        "__Question 6__ Implement the class ```Memory``` that stores moves (in a replay buffer) via ```remember``` and provides a ```random_access``` to these. Specify a maximum memory size to avoid side effects. You can for example use a ```list()``` and set by default ```max_memory=100```."
      ]
    },
    {
      "metadata": {
        "id": "mosmSRh6e8QL",
        "colab_type": "code",
        "colab": {}
      },
      "cell_type": "code",
      "source": [
        "class Memory(object):\n",
        "    def __init__(self, max_memory=100):\n",
        "        self.max_memory = max_memory\n",
        "        self.memory = list()\n",
        "\n",
        "    def remember(self, m):\n",
        "        self.memory.append(m)\n",
        "        if len(self.memory) > self.max_memory:\n",
        "            self.memory.pop(0)\n",
        "\n",
        "    def random_access(self):\n",
        "        id_random = np.random.randint(len(self.memory))\n",
        "        return self.memory[id_random]"
      ],
      "execution_count": 0,
      "outputs": []
    },
    {
      "metadata": {
        "id": "HT0IrODde8QR",
        "colab_type": "text"
      },
      "cell_type": "markdown",
      "source": [
        "***\n",
        "The pipeline we will use for training is given below:"
      ]
    },
    {
      "metadata": {
        "id": "hCarcHK4e8QT",
        "colab_type": "code",
        "colab": {}
      },
      "cell_type": "code",
      "source": [
        "def train(agent,env,epoch,prefix=''):\n",
        "    # Number of won games\n",
        "    score = 0\n",
        "    loss = 0\n",
        "\n",
        "    for e in range(epoch):\n",
        "        # At each epoch, we restart to a fresh game and get the initial state\n",
        "        state = env.reset()\n",
        "        # This assumes that the games will terminate\n",
        "        game_over = False\n",
        "\n",
        "        win = 0\n",
        "        lose = 0\n",
        "\n",
        "        while not game_over:\n",
        "            # The agent performs an action\n",
        "            action = agent.act(state)\n",
        "\n",
        "            # Apply an action to the environment, get the next state, the reward\n",
        "            # and if the games end\n",
        "            prev_state = state\n",
        "            state, reward, game_over = env.act(action)\n",
        "\n",
        "            # Update the counters\n",
        "            if reward > 0:\n",
        "                win = win + reward\n",
        "            if reward < 0:\n",
        "                lose = lose -reward\n",
        "\n",
        "            # Apply the reinforcement strategy\n",
        "            loss = agent.reinforce(prev_state, state,  action, reward, game_over)\n",
        "\n",
        "        # Save as a mp4\n",
        "        if e % 10 == 0:\n",
        "            env.draw(prefix+str(e))\n",
        "\n",
        "        # Update stats\n",
        "        score += win-lose\n",
        "\n",
        "        print(\"Epoch {:03d}/{:03d} | Loss {:.4f} | Win/lose count {}/{} ({})\"\n",
        "              .format(e+1, epoch, loss, win, lose, win-lose))\n",
        "        agent.save(name_weights=prefix+'model.h5',name_model=prefix+'model.json')"
      ],
      "execution_count": 0,
      "outputs": []
    },
    {
      "metadata": {
        "id": "QIJTlijne8QY",
        "colab_type": "text"
      },
      "cell_type": "markdown",
      "source": [
        "***\n",
        "__Question 7__ Implement the DQN training algorithm using a cascade of fully connected layers. You can use different learning rate, batch size or memory size parameters. In particular, the loss might oscillate while the player will start to win the games. You have to find a good criterium."
      ]
    },
    {
      "metadata": {
        "id": "iI6rBOEge8Qb",
        "colab_type": "code",
        "colab": {}
      },
      "cell_type": "code",
      "source": [
        "from keras.layers.core import Flatten\n",
        "\n",
        "class DQN(Agent):\n",
        "    def __init__(self, grid_size,  epsilon = 0.1, memory_size=100, batch_size = 16,n_state=2):\n",
        "        super(DQN, self).__init__(epsilon = epsilon)\n",
        "\n",
        "        # Discount for Q learning\n",
        "        self.discount = 0.99\n",
        "        \n",
        "        self.grid_size = grid_size\n",
        "        \n",
        "        # number of state\n",
        "        self.n_state = n_state\n",
        "\n",
        "        # Memory\n",
        "        self.memory = Memory(memory_size)\n",
        "        \n",
        "        # Batch size when learning\n",
        "        self.batch_size = batch_size\n",
        "\n",
        "    def learned_act(self, s):\n",
        "        actions = self.model.predict(np.expand_dims(s, 0))\n",
        "        id_max = np.argmax(actions)\n",
        "        return id_max\n",
        "\n",
        "    def reinforce(self, s_, n_s_, a_, r_, game_over_):\n",
        "        # Two steps: first memorize the states, second learn from the pool\n",
        "\n",
        "        self.memory.remember([s_, n_s_, a_, r_, game_over_])\n",
        "        \n",
        "        input_states = np.zeros((self.batch_size, 5,5,self.n_state))\n",
        "        target_q = np.zeros((self.batch_size, 4))\n",
        "        \n",
        "        for i in range(self.batch_size):\n",
        "            s_, n_s_, a_, r_, game_over_  = self.memory.random_access()\n",
        "            \n",
        "            actions = self.model.predict(np.expand_dims(s_, 0))\n",
        "            value_max_action = np.max(actions)\n",
        "            \n",
        "            target_q[i] = actions\n",
        "            \n",
        "            if game_over_:\n",
        "                input_states[i] = s_\n",
        "                target_q[i,a_] = r_\n",
        "            else:\n",
        "                input_states[i] = s_\n",
        "                target_q[i,a_] = r_  + self.discount * value_max_action\n",
        "        \n",
        "        # HINT: Clip the target to avoid exploiding gradients.. -- clipping is a bit tighter\n",
        "        target_q = np.clip(target_q, -3, 3)\n",
        "        l = self.model.train_on_batch(input_states, target_q)\n",
        "        return l\n",
        "\n",
        "    def save(self,name_weights='model.h5',name_model='model.json'):\n",
        "        self.model.save_weights(name_weights, overwrite=True)\n",
        "        with open(name_model, \"w\") as outfile:\n",
        "            json.dump(self.model.to_json(), outfile)\n",
        "            \n",
        "    def load(self,name_weights='model.h5',name_model='model.json'):\n",
        "        with open(name_model, \"r\") as jfile:\n",
        "            model = model_from_json(json.load(jfile))\n",
        "        model.load_weights(name_weights)\n",
        "        model.compile(\"sgd\", \"mse\")\n",
        "        self.model = model\n",
        "\n",
        "            \n",
        "class DQN_FC(DQN):\n",
        "    def __init__(self, *args, lr=0.1,**kwargs):\n",
        "        super(DQN_FC, self).__init__( *args,**kwargs)\n",
        "        \n",
        "        # NN Model\n",
        "        model = Sequential()\n",
        "        model.add(Dense(64, activation='relu'))\n",
        "        model.add(Flatten())\n",
        "        model.add(Dense(128, activation='relu'))\n",
        "        model.add(Dense(4, activation='softmax'))\n",
        "        model.compile(sgd(lr=lr, decay=1e-4, momentum=0.1), \"mse\")\n",
        "        self.model = model\n",
        "        "
      ],
      "execution_count": 0,
      "outputs": []
    },
    {
      "metadata": {
        "id": "zMTTBllTe8Qk",
        "colab_type": "code",
        "outputId": "30750355-a5a9-43ca-c7b7-c2bada594f95",
        "colab": {
          "base_uri": "https://localhost:8080/",
          "height": 1486
        }
      },
      "cell_type": "code",
      "source": [
        "import glob\n",
        "epochs_train = 64\n",
        "# epochs_test = 64\n",
        "\n",
        "env = Environment(grid_size=size, max_time=T, temperature=0.3)\n",
        "agent = DQN_FC(size, lr=.1, epsilon = 0.5, memory_size=500, batch_size = 64)\n",
        "\n",
        "# NOTE : a high epsilon is important to avoid to stick to a 2 case movement.\n",
        "# Even with this, we often end up to stop exploring the map.\n",
        "\n",
        "train(agent, env, epochs_train, prefix='fc_train')\n",
        "# test(agent,env,epochs_test,prefix='fc_train')\n",
        "\n",
        "video_paths = glob.glob(\"fc_train*.mp4\")\n",
        "video_paths.sort()\n",
        "best_video_path = video_paths.pop()\n",
        "print(\"Displaying \", best_video_path)\n",
        "HTML(display_videos(best_video_path))"
      ],
      "execution_count": 13,
      "outputs": [
        {
          "output_type": "stream",
          "text": [
            "WARNING:tensorflow:From /usr/local/lib/python3.6/dist-packages/tensorflow/python/framework/op_def_library.py:263: colocate_with (from tensorflow.python.framework.ops) is deprecated and will be removed in a future version.\n",
            "Instructions for updating:\n",
            "Colocations handled automatically by placer.\n",
            "WARNING:tensorflow:From /usr/local/lib/python3.6/dist-packages/tensorflow/python/ops/math_ops.py:3066: to_int32 (from tensorflow.python.ops.math_ops) is deprecated and will be removed in a future version.\n",
            "Instructions for updating:\n",
            "Use tf.cast instead.\n",
            "Epoch 001/064 | Loss 0.0122 | Win/lose count 8.5/8.0 (0.5)\n",
            "Epoch 002/064 | Loss 0.0136 | Win/lose count 7.5/11.0 (-3.5)\n",
            "Epoch 003/064 | Loss 0.0093 | Win/lose count 3.0/2.0 (1.0)\n",
            "Epoch 004/064 | Loss 0.0090 | Win/lose count 6.5/6.0 (0.5)\n",
            "Epoch 005/064 | Loss 0.0115 | Win/lose count 3.0/3.0 (0.0)\n",
            "Epoch 007/064 | Loss 0.0192 | Win/lose count 8.0/8.0 (0.0)\n",
            "Epoch 008/064 | Loss 0.0146 | Win/lose count 3.0/9.0 (-6.0)\n",
            "Epoch 009/064 | Loss 0.0063 | Win/lose count 4.5/7.0 (-2.5)\n",
            "Epoch 010/064 | Loss 0.0143 | Win/lose count 3.5/11.0 (-7.5)\n",
            "Epoch 011/064 | Loss 0.0172 | Win/lose count 3.5/3.0 (0.5)\n",
            "Epoch 012/064 | Loss 0.0136 | Win/lose count 3.0/9.0 (-6.0)\n",
            "Epoch 013/064 | Loss 0.0069 | Win/lose count 3.5/9.0 (-5.5)\n",
            "Epoch 014/064 | Loss 0.0077 | Win/lose count 5.5/6.0 (-0.5)\n",
            "Epoch 015/064 | Loss 0.0137 | Win/lose count 4.5/8.0 (-3.5)\n",
            "Epoch 016/064 | Loss 0.0124 | Win/lose count 6.0/8.0 (-2.0)\n",
            "Epoch 017/064 | Loss 0.0118 | Win/lose count 10.0/10.0 (0.0)\n",
            "Epoch 018/064 | Loss 0.0086 | Win/lose count 5.0/5.0 (0.0)\n",
            "Epoch 019/064 | Loss 0.0078 | Win/lose count 15.5/11.0 (4.5)\n",
            "Epoch 020/064 | Loss 0.0164 | Win/lose count 5.0/5.0 (0.0)\n",
            "Epoch 021/064 | Loss 0.0228 | Win/lose count 5.0/6.0 (-1.0)\n",
            "Epoch 022/064 | Loss 0.0042 | Win/lose count 3.5/4.0 (-0.5)\n",
            "Epoch 023/064 | Loss 0.0088 | Win/lose count 3.0/10.0 (-7.0)\n",
            "Epoch 024/064 | Loss 0.0164 | Win/lose count 5.5/9.0 (-3.5)\n",
            "Epoch 025/064 | Loss 0.0051 | Win/lose count 11.0/7.0 (4.0)\n",
            "Epoch 026/064 | Loss 0.0111 | Win/lose count 6.0/6.0 (0.0)\n",
            "Epoch 027/064 | Loss 0.0136 | Win/lose count 12.5/3.0 (9.5)\n",
            "Epoch 028/064 | Loss 0.0176 | Win/lose count 9.5/8.0 (1.5)\n",
            "Epoch 029/064 | Loss 0.0145 | Win/lose count 6.0/6.0 (0.0)\n",
            "Epoch 030/064 | Loss 0.0071 | Win/lose count 8.0/4.0 (4.0)\n",
            "Epoch 031/064 | Loss 0.0088 | Win/lose count 3.0/5.0 (-2.0)\n",
            "Epoch 032/064 | Loss 0.0122 | Win/lose count 8.0/15.0 (-7.0)\n",
            "Epoch 033/064 | Loss 0.0201 | Win/lose count 17.5/11.0 (6.5)\n",
            "Epoch 034/064 | Loss 0.0184 | Win/lose count 12.0/13.0 (-1.0)\n",
            "Epoch 035/064 | Loss 0.0204 | Win/lose count 10.5/6.0 (4.5)\n",
            "Epoch 036/064 | Loss 0.0168 | Win/lose count 12.0/11.0 (1.0)\n",
            "Epoch 037/064 | Loss 0.0205 | Win/lose count 14.0/13.0 (1.0)\n",
            "Epoch 038/064 | Loss 0.0206 | Win/lose count 12.0/7.0 (5.0)\n",
            "Epoch 039/064 | Loss 0.0143 | Win/lose count 12.0/4.0 (8.0)\n",
            "Epoch 040/064 | Loss 0.0119 | Win/lose count 10.0/8.0 (2.0)\n",
            "Epoch 041/064 | Loss 0.0140 | Win/lose count 19.0/13.0 (6.0)\n",
            "Epoch 042/064 | Loss 0.0291 | Win/lose count 22.5/8.0 (14.5)\n",
            "Epoch 043/064 | Loss 0.0225 | Win/lose count 11.5/8.0 (3.5)\n",
            "Epoch 044/064 | Loss 0.0293 | Win/lose count 16.5/8.0 (8.5)\n",
            "Epoch 045/064 | Loss 0.0222 | Win/lose count 18.5/6.0 (12.5)\n",
            "Epoch 046/064 | Loss 0.0216 | Win/lose count 16.0/9.0 (7.0)\n",
            "Epoch 047/064 | Loss 0.0143 | Win/lose count 15.5/13.0 (2.5)\n",
            "Epoch 048/064 | Loss 0.0209 | Win/lose count 14.5/12.0 (2.5)\n",
            "Epoch 049/064 | Loss 0.0276 | Win/lose count 16.5/7.0 (9.5)\n",
            "Epoch 050/064 | Loss 0.0194 | Win/lose count 18.5/5.0 (13.5)\n",
            "Epoch 051/064 | Loss 0.0142 | Win/lose count 13.0/12.0 (1.0)\n",
            "Epoch 052/064 | Loss 0.0174 | Win/lose count 14.0/9.0 (5.0)\n",
            "Epoch 053/064 | Loss 0.0163 | Win/lose count 13.0/4.0 (9.0)\n",
            "Epoch 054/064 | Loss 0.0286 | Win/lose count 15.0/8.0 (7.0)\n",
            "Epoch 055/064 | Loss 0.0119 | Win/lose count 13.5/10.0 (3.5)\n",
            "Epoch 056/064 | Loss 0.0257 | Win/lose count 16.5/14.0 (2.5)\n",
            "Epoch 057/064 | Loss 0.0524 | Win/lose count 16.5/14.0 (2.5)\n",
            "Epoch 058/064 | Loss 0.0305 | Win/lose count 10.5/9.0 (1.5)\n",
            "Epoch 060/064 | Loss 0.0307 | Win/lose count 10.5/5.0 (5.5)\n",
            "Epoch 061/064 | Loss 0.0239 | Win/lose count 14.0/12.0 (2.0)\n",
            "Epoch 062/064 | Loss 0.0357 | Win/lose count 16.5/9.0 (7.5)\n",
            "Epoch 063/064 | Loss 0.0243 | Win/lose count 17.5/9.0 (8.5)\n",
            "Epoch 064/064 | Loss 0.0247 | Win/lose count 18.5/12.0 (6.5)\n",
            "Displaying  fc_train60.mp4\n"
          ],
          "name": "stdout"
        },
        {
          "output_type": "execute_result",
          "data": {
            "text/html": [
              "<video alt=\"test\" controls>\n",
              "                <source src=\"data:video/mp4;base64,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\" type=\"video/mp4\" />\n",
              "             </video>"
            ],
            "text/plain": [
              "<IPython.core.display.HTML object>"
            ]
          },
          "metadata": {
            "tags": []
          },
          "execution_count": 13
        }
      ]
    },
    {
      "metadata": {
        "id": "wgeO6YOie8Qm",
        "colab_type": "text"
      },
      "cell_type": "markdown",
      "source": [
        "***\n",
        "***\n",
        "__Question 8__ Implement the DQN training algorithm using a CNN (for example, 2 convolutional layers and one final fully connected layer)."
      ]
    },
    {
      "metadata": {
        "id": "UW8ysoEZe8Qn",
        "colab_type": "code",
        "colab": {}
      },
      "cell_type": "code",
      "source": [
        "class DQN_CNN(DQN):\n",
        "    def __init__(self, *args,lr=0.1,**kwargs):\n",
        "        super(DQN_CNN, self).__init__(*args,**kwargs)\n",
        "        \n",
        "        model = Sequential()\n",
        "        model.add(Conv2D(64, 1, activation='relu'))\n",
        "        model.add(Conv2D(64, 1, activation='relu'))\n",
        "        model.add(Dropout(rate=0.2))\n",
        "        model.add(Flatten())\n",
        "        model.add(Dense(128, activation='relu'))\n",
        "        model.add(Dense(4, activation='softmax'))\n",
        "        \n",
        "        model.compile(sgd(lr=lr, decay=1e-4, momentum=0.1), \"mse\")\n",
        "        self.model = model"
      ],
      "execution_count": 0,
      "outputs": []
    },
    {
      "metadata": {
        "id": "dEQv-Guie8Qq",
        "colab_type": "code",
        "outputId": "895bf224-db30-4c06-fb98-4ed5aa17de7d",
        "colab": {
          "base_uri": "https://localhost:8080/",
          "height": 1364
        }
      },
      "cell_type": "code",
      "source": [
        "epochs_train = 128\n",
        "# epochs_test = 128\n",
        "\n",
        "env = Environment(grid_size=size, max_time=T, temperature=0.3)\n",
        "agent = DQN_CNN(size, lr=.1, epsilon = 0.5, memory_size=500, batch_size = 64)\n",
        "\n",
        "train(agent,env,epochs_train,prefix='cnn_train')\n",
        "# test(agent,env,epochs_test,prefix='cnn_train')\n",
        "\n",
        "\n",
        "video_paths = glob.glob(\"cnn_train*.mp4\")\n",
        "video_paths.sort()\n",
        "best_video_path = video_paths.pop()\n",
        "print(\"Displaying \", best_video_path)\n",
        "HTML(display_videos(best_video_path))"
      ],
      "execution_count": 19,
      "outputs": [
        {
          "output_type": "stream",
          "text": [
            "Epoch 001/064 | Loss 0.0170 | Win/lose count 8.5/10.0 (-1.5)\n",
            "Epoch 002/064 | Loss 0.0109 | Win/lose count 1.0/5.0 (-4.0)\n",
            "Epoch 003/064 | Loss 0.0261 | Win/lose count 7.5/10.0 (-2.5)\n",
            "Epoch 004/064 | Loss 0.0105 | Win/lose count 5.5/6.0 (-0.5)\n",
            "Epoch 005/064 | Loss 0.0184 | Win/lose count 8.5/12.0 (-3.5)\n",
            "Epoch 006/064 | Loss 0.0098 | Win/lose count 4.5/8.0 (-3.5)\n",
            "Epoch 007/064 | Loss 0.0203 | Win/lose count 5.5/5.0 (0.5)\n",
            "Epoch 008/064 | Loss 0.0161 | Win/lose count 10.0/11.0 (-1.0)\n",
            "Epoch 010/064 | Loss 0.0146 | Win/lose count 13.0/11.0 (2.0)\n",
            "Epoch 011/064 | Loss 0.0202 | Win/lose count 8.5/10.0 (-1.5)\n",
            "Epoch 012/064 | Loss 0.0170 | Win/lose count 4.0/6.0 (-2.0)\n",
            "Epoch 013/064 | Loss 0.0178 | Win/lose count 11.0/3.0 (8.0)\n",
            "Epoch 014/064 | Loss 0.0073 | Win/lose count 9.0/6.0 (3.0)\n",
            "Epoch 015/064 | Loss 0.0133 | Win/lose count 10.0/14.0 (-4.0)\n",
            "Epoch 016/064 | Loss 0.0198 | Win/lose count 13.0/10.0 (3.0)\n",
            "Epoch 017/064 | Loss 0.0176 | Win/lose count 8.0/10.0 (-2.0)\n",
            "Epoch 018/064 | Loss 0.0212 | Win/lose count 6.0/8.0 (-2.0)\n",
            "Epoch 019/064 | Loss 0.0097 | Win/lose count 10.0/12.0 (-2.0)\n",
            "Epoch 020/064 | Loss 0.0261 | Win/lose count 8.0/9.0 (-1.0)\n",
            "Epoch 021/064 | Loss 0.0214 | Win/lose count 11.0/13.0 (-2.0)\n",
            "Epoch 022/064 | Loss 0.0144 | Win/lose count 13.5/12.0 (1.5)\n",
            "Epoch 023/064 | Loss 0.0133 | Win/lose count 8.5/5.0 (3.5)\n",
            "Epoch 024/064 | Loss 0.0156 | Win/lose count 7.5/11.0 (-3.5)\n",
            "Epoch 025/064 | Loss 0.0210 | Win/lose count 11.0/6.0 (5.0)\n",
            "Epoch 026/064 | Loss 0.0133 | Win/lose count 6.0/10.0 (-4.0)\n",
            "Epoch 027/064 | Loss 0.0207 | Win/lose count 11.5/18.0 (-6.5)\n",
            "Epoch 028/064 | Loss 0.0166 | Win/lose count 7.5/7.0 (0.5)\n",
            "Epoch 029/064 | Loss 0.0165 | Win/lose count 4.0/9.0 (-5.0)\n",
            "Epoch 030/064 | Loss 0.0159 | Win/lose count 9.0/4.0 (5.0)\n",
            "Epoch 031/064 | Loss 0.0089 | Win/lose count 9.5/7.0 (2.5)\n",
            "Epoch 032/064 | Loss 0.0108 | Win/lose count 4.0/6.0 (-2.0)\n",
            "Epoch 033/064 | Loss 0.0272 | Win/lose count 12.0/17.0 (-5.0)\n",
            "Epoch 034/064 | Loss 0.0122 | Win/lose count 15.0/12.0 (3.0)\n",
            "Epoch 035/064 | Loss 0.0214 | Win/lose count 9.5/8.0 (1.5)\n",
            "Epoch 036/064 | Loss 0.0288 | Win/lose count 15.0/14.0 (1.0)\n",
            "Epoch 037/064 | Loss 0.0236 | Win/lose count 8.5/9.0 (-0.5)\n",
            "Epoch 038/064 | Loss 0.0187 | Win/lose count 8.0/7.0 (1.0)\n",
            "Epoch 039/064 | Loss 0.0243 | Win/lose count 19.0/15.0 (4.0)\n",
            "Epoch 040/064 | Loss 0.0330 | Win/lose count 16.0/15.0 (1.0)\n",
            "Epoch 041/064 | Loss 0.0215 | Win/lose count 10.5/7.0 (3.5)\n",
            "Epoch 042/064 | Loss 0.0236 | Win/lose count 11.5/5.0 (6.5)\n",
            "Epoch 043/064 | Loss 0.0229 | Win/lose count 10.5/7.0 (3.5)\n",
            "Epoch 044/064 | Loss 0.0330 | Win/lose count 20.0/23.0 (-3.0)\n",
            "Epoch 046/064 | Loss 0.0355 | Win/lose count 13.5/8.0 (5.5)\n",
            "Epoch 047/064 | Loss 0.0273 | Win/lose count 22.0/16.0 (6.0)\n",
            "Epoch 048/064 | Loss 0.0244 | Win/lose count 12.5/8.0 (4.5)\n",
            "Epoch 049/064 | Loss 0.0247 | Win/lose count 11.0/7.0 (4.0)\n",
            "Epoch 050/064 | Loss 0.0139 | Win/lose count 12.0/7.0 (5.0)\n",
            "Epoch 051/064 | Loss 0.0177 | Win/lose count 16.0/17.0 (-1.0)\n",
            "Epoch 052/064 | Loss 0.0193 | Win/lose count 10.0/8.0 (2.0)\n",
            "Epoch 053/064 | Loss 0.0225 | Win/lose count 10.0/9.0 (1.0)\n",
            "Epoch 054/064 | Loss 0.0230 | Win/lose count 13.5/14.0 (-0.5)\n",
            "Epoch 055/064 | Loss 0.0290 | Win/lose count 20.0/19.0 (1.0)\n",
            "Epoch 056/064 | Loss 0.0395 | Win/lose count 9.0/8.0 (1.0)\n",
            "Epoch 057/064 | Loss 0.0245 | Win/lose count 15.5/11.0 (4.5)\n",
            "Epoch 058/064 | Loss 0.0187 | Win/lose count 11.0/10.0 (1.0)\n",
            "Epoch 059/064 | Loss 0.0150 | Win/lose count 15.0/8.0 (7.0)\n",
            "Epoch 060/064 | Loss 0.0347 | Win/lose count 18.0/8.0 (10.0)\n",
            "Epoch 061/064 | Loss 0.0270 | Win/lose count 9.5/10.0 (-0.5)\n",
            "Epoch 062/064 | Loss 0.0236 | Win/lose count 11.0/14.0 (-3.0)\n",
            "Epoch 063/064 | Loss 0.0218 | Win/lose count 15.5/15.0 (0.5)\n",
            "Epoch 064/064 | Loss 0.0298 | Win/lose count 11.0/14.0 (-3.0)\n",
            "Displaying  cnn_train60.mp4\n"
          ],
          "name": "stdout"
        },
        {
          "output_type": "execute_result",
          "data": {
            "text/html": [
              "<video alt=\"test\" controls>\n",
              "                <source src=\"data:video/mp4;base64,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\" type=\"video/mp4\" />\n",
              "             </video>"
            ],
            "text/plain": [
              "<IPython.core.display.HTML object>"
            ]
          },
          "metadata": {
            "tags": []
          },
          "execution_count": 19
        }
      ]
    },
    {
      "metadata": {
        "id": "ZEa5R3rHe8Qt",
        "colab_type": "text"
      },
      "cell_type": "markdown",
      "source": [
        "***\n",
        "***\n",
        "__Question 9__ Test both algorithms and compare their performances. Which issue(s) do you observe? Observe also different behaviors by changing the temperature."
      ]
    },
    {
      "metadata": {
        "id": "dGOlGh_ve8Qu",
        "colab_type": "code",
        "colab": {}
      },
      "cell_type": "code",
      "source": [
        "# epochs_train = 128\n",
        "epochs_test = 64\n",
        "\n",
        "env = Environment(grid_size=size, max_time=T,temperature=0.3)\n",
        "agent_cnn = DQN_CNN(size, lr=.1, epsilon = 0.5, memory_size=500, batch_size = 32)\n",
        "agent_cnn.load(name_weights='cnn_trainmodel.h5',name_model='cnn_trainmodel.json')\n",
        "\n",
        "agent_fc = DQN_FC(size, lr=.1, epsilon = 0.5, memory_size=500, batch_size = 32)\n",
        "agent_cnn.load(name_weights='fc_trainmodel.h5',name_model='fc_trainmodel.json')\n",
        "print('Test of the CNN')\n",
        "test(agent_cnn,env,epochs_test,prefix='cnn_test')\n",
        "print('Test of the FC')\n",
        "test(agent_fc,env,epochs_test,prefix='fc_test')"
      ],
      "execution_count": 0,
      "outputs": []
    },
    {
      "metadata": {
        "id": "mdZ2s9c1e8Qw",
        "colab_type": "code",
        "colab": {}
      },
      "cell_type": "code",
      "source": [
        "video_paths = glob.glob(\"cnn_test*.mp4\")\n",
        "video_paths.sort()\n",
        "best_video_path = video_paths.pop()\n",
        "print(\"Displaying \", best_video_path)\n",
        "HTML(display_videos(best_video_path))"
      ],
      "execution_count": 0,
      "outputs": []
    },
    {
      "metadata": {
        "id": "89gsdVYge8Qz",
        "colab_type": "code",
        "colab": {}
      },
      "cell_type": "code",
      "source": [
        "video_paths = glob.glob(\"fc_test*.mp4\")\n",
        "video_paths.sort()\n",
        "best_video_path = video_paths.pop()\n",
        "print(\"Displaying \", best_video_path)\n",
        "HTML(display_videos(best_video_path))"
      ],
      "execution_count": 0,
      "outputs": []
    },
    {
      "metadata": {
        "id": "T3iII5ETe8Q1",
        "colab_type": "text"
      },
      "cell_type": "markdown",
      "source": [
        ""
      ]
    },
    {
      "metadata": {
        "id": "Z1cbxNjFe8Q2",
        "colab_type": "text"
      },
      "cell_type": "markdown",
      "source": [
        "***\n",
        "\n",
        "The algorithm tends to not explore the map which can be an issue. We propose two ideas in order to encourage exploration:\n",
        "1. Incorporating a decreasing $\\epsilon$-greedy exploration. You can use the method ```set_epsilon```\n",
        "2. Append via the environment a new state that describes if a cell has been visited or not\n",
        "\n",
        "***\n",
        "__Question 10__ Design a new ```train_explore``` function and environment class ```EnvironmentExploring``` to tackle the issue of exploration.\n",
        "\n"
      ]
    },
    {
      "metadata": {
        "id": "IaHnXmPwe8Q3",
        "colab_type": "code",
        "colab": {}
      },
      "cell_type": "code",
      "source": [
        "def train_explore(agent,env,epoch,prefix='', epsilon_evolution=0.99):\n",
        "    # Number of won games\n",
        "    score = 0\n",
        "    loss = 0\n",
        "\n",
        "    for e in range(epoch):\n",
        "        # At each epoch, we restart to a fresh game and get the initial state\n",
        "        state = env.reset()\n",
        "        # This assumes that the games will terminate\n",
        "        game_over = False\n",
        "\n",
        "        win = 0\n",
        "        lose = 0\n",
        "        \n",
        "        while not game_over:\n",
        "            # The agent performs an action\n",
        "            # action = agent.act(state, train=True)\n",
        "            action = agent.act(state)\n",
        "            agent.set_epsilon(agent.epsilon*epsilon_evolution)\n",
        "\n",
        "            # Apply an action to the environment, get the next state, the reward\n",
        "            # and if the games end\n",
        "            prev_state = state\n",
        "            state, reward, game_over = env.act(action, train=True)\n",
        "\n",
        "            # Update the counters\n",
        "            if reward > 0:\n",
        "                win = win + reward\n",
        "            if reward < 0:\n",
        "                lose = lose - reward\n",
        "\n",
        "            # Apply the reinforcement strategy\n",
        "            loss = agent.reinforce(prev_state, state,  action, reward, game_over)\n",
        "\n",
        "        # Save as a mp4\n",
        "        if e % 10 == 0:\n",
        "            env.draw(prefix+str(e))\n",
        "\n",
        "        # Update stats\n",
        "        score += win-lose\n",
        "\n",
        "        print(\"Epoch {:03d}/{:03d} | Loss {:.4f} | Win/lose count {}/{} ({})\"\n",
        "              .format(e+1, epoch, loss, round(win, 3), round(lose, 3), round(win-lose, 3)))\n",
        "        agent.save(name_weights=prefix+'model.h5',name_model=prefix+'model.json')\n",
        "\n",
        "\n",
        "class EnvironmentExploring(object):\n",
        "    def __init__(self, grid_size=10, max_time=500, temperature=0.1):\n",
        "        grid_size = grid_size+4\n",
        "        self.grid_size = grid_size\n",
        "        self.max_time = max_time\n",
        "        self.temperature = temperature\n",
        "\n",
        "        #board on which one plays\n",
        "        self.board = np.zeros((self.grid_size,self.grid_size))\n",
        "        self.position = np.zeros((self.grid_size,self.grid_size))\n",
        "        self.malus_visited = np.zeros((self.grid_size,self.grid_size))\n",
        "\n",
        "        # coordinate of the cat\n",
        "        self.x = 0\n",
        "        self.y = 1\n",
        "\n",
        "        # self time\n",
        "        self.t = 0\n",
        "\n",
        "        self.scale=16\n",
        "\n",
        "        self.to_draw = np.zeros((max_time+2, self.grid_size*self.scale, self.grid_size*self.scale, 3))\n",
        "\n",
        "\n",
        "    def draw(self,e):\n",
        "        skvideo.io.vwrite(str(e) + '.mp4', self.to_draw)\n",
        "\n",
        "    def get_frame(self,t):\n",
        "        b = np.zeros((self.grid_size,self.grid_size,3))+128\n",
        "        b[self.board>0,0] = 256\n",
        "        b[self.board < 0, 2] = 256\n",
        "        b[self.x,self.y,:]=256\n",
        "        b[-2:,:,:]=0\n",
        "        b[:,-2:,:]=0\n",
        "        b[:2,:,:]=0\n",
        "        b[:,:2,:]=0\n",
        "        \n",
        "        b =  cv2.resize(b, None, fx=self.scale, fy=self.scale, interpolation=cv2.INTER_NEAREST)\n",
        "\n",
        "        self.to_draw[t,:,:,:]=b\n",
        "\n",
        "\n",
        "    def act(self, action, train=True):\n",
        "        \"\"\"This function returns the new state, reward and decides if the\n",
        "        game ends.\"\"\"\n",
        "\n",
        "        self.get_frame(int(self.t))\n",
        "\n",
        "        self.position = np.zeros((self.grid_size, self.grid_size))\n",
        "\n",
        "        self.position[0:2,:]= -1\n",
        "        self.position[:,0:2] = -1\n",
        "        self.position[-2:, :] = -1\n",
        "        self.position[:, -2:] = -1\n",
        "\n",
        "        self.position[self.x, self.y] = 1\n",
        "        if action == 0:\n",
        "            if self.x == self.grid_size-3:\n",
        "                self.x = self.x-1\n",
        "            else:\n",
        "                self.x = self.x + 1\n",
        "        elif action == 1:\n",
        "            if self.x == 2:\n",
        "                self.x = self.x+1\n",
        "            else:\n",
        "                self.x = self.x-1\n",
        "        elif action == 2:\n",
        "            if self.y == self.grid_size - 3:\n",
        "                self.y = self.y - 1\n",
        "            else:\n",
        "                self.y = self.y + 1\n",
        "        elif action == 3:\n",
        "            if self.y == 2:\n",
        "                self.y = self.y + 1\n",
        "            else:\n",
        "                self.y = self.y - 1\n",
        "        else:\n",
        "            RuntimeError('Error: action not recognized')\n",
        "            \n",
        "        self.t = self.t + 1\n",
        "        reward = self.board[self.x, self.y]\n",
        "        self.board[self.x, self.y] = 0\n",
        "        \n",
        "        # Including malus on already visited position during training\n",
        "        if train:\n",
        "            reward += self.malus_visited[self.x, self.y]\n",
        "            self.malus_visited[self.x, self.y] -= 0.1\n",
        "        \n",
        "        game_over = self.t > self.max_time\n",
        "        # We add the matrix malus_visited to the state for the Deep Learning to take it into account.\n",
        "        state = np.concatenate((self.malus_visited.reshape(self.grid_size, self.grid_size,1),\n",
        "                                self.board.reshape(self.grid_size, self.grid_size,1),\n",
        "                                self.position.reshape(self.grid_size, self.grid_size,1)),\n",
        "                                axis=2)\n",
        "        state = state[self.x-2:self.x+3,self.y-2:self.y+3,:]\n",
        "\n",
        "        return state, reward, game_over\n",
        "\n",
        "    def reset(self):\n",
        "        \"\"\"This function resets the game and returns the initial state\"\"\"\n",
        "\n",
        "        self.x = np.random.randint(3, self.grid_size-3, size=1)[0]\n",
        "        self.y = np.random.randint(3, self.grid_size-3, size=1)[0]\n",
        "\n",
        "\n",
        "        bonus = 0.5*np.random.binomial(1,self.temperature,size=self.grid_size**2)\n",
        "        bonus = bonus.reshape(self.grid_size,self.grid_size)\n",
        "\n",
        "        malus = -1.0*np.random.binomial(1,self.temperature,size=self.grid_size**2)\n",
        "        malus = malus.reshape(self.grid_size, self.grid_size)\n",
        "\n",
        "        self.to_draw = np.zeros((self.max_time+2, self.grid_size*self.scale, self.grid_size*self.scale, 3))\n",
        "\n",
        "\n",
        "        malus[bonus>0]=0\n",
        "\n",
        "        self.board = bonus + malus\n",
        "        \n",
        "        self.malus_visited = np.zeros((self.grid_size,self.grid_size))\n",
        "        \n",
        "        self.position = np.zeros((self.grid_size, self.grid_size))\n",
        "        self.position[0:2,:]= -1\n",
        "        self.position[:,0:2] = -1\n",
        "        self.position[-2:, :] = -1\n",
        "        self.position[:, -2:] = -1\n",
        "        self.board[self.x,self.y] = 0\n",
        "        self.t = 0\n",
        "\n",
        "        state = np.concatenate((\n",
        "            self.malus_visited.reshape(self.grid_size, self.grid_size,1),\n",
        "            self.board.reshape(self.grid_size, self.grid_size,1),\n",
        "            self.position.reshape(self.grid_size, self.grid_size,1)),\n",
        "            axis=2)\n",
        "\n",
        "        state = state[self.x - 2:self.x + 3, self.y - 2:self.y + 3, :]\n",
        "        return state\n",
        "    \n",
        "    \n",
        "## use those samples of code:\n",
        "#In train explore:\n",
        "#state, reward, game_over = env.act(action, train=True)\n",
        "\n",
        "## In Environment exploring:\n",
        "# You will have to change n_state to 3 because you will use one more layer!\n",
        "#reward = 0\n",
        "#if train:\n",
        "#    reward = -self.malus_position[self.x, self.y]\n",
        "#self.malus_position[self.x, self.y] = 0.1\n",
        "\n",
        "#reward = reward + self.board[self.x, self.y]\n",
        "# 3 \"feature\" states instead of 2\n",
        "#state = np.concatenate((self.malus_position.reshape(self.grid_size, self.grid_size,1),\n",
        "#                                self.board.reshape(self.grid_size, self.grid_size,1),\n",
        "#                        self.position.reshape(self.grid_size, self.grid_size,1)),axis=2)"
      ],
      "execution_count": 0,
      "outputs": []
    },
    {
      "metadata": {
        "id": "rrkRD2y6e8Q6",
        "colab_type": "code",
        "outputId": "218404ed-7573-42f9-9232-ce9aa27afb39",
        "colab": {
          "base_uri": "https://localhost:8080/",
          "height": 1381
        }
      },
      "cell_type": "code",
      "source": [
        "# Training\n",
        "env = EnvironmentExploring(grid_size=size, max_time=T, temperature=0.3)\n",
        "agent = DQN_CNN(size, lr=.1, epsilon = 0.1, memory_size=100000, batch_size = 64,n_state=3)\n",
        "train_explore(agent, env, epochs_train, prefix='cnn_train_explore')\n",
        "\n",
        "video_paths = glob.glob(\"cnn_train_explore*.mp4\")\n",
        "video_paths.sort()\n",
        "best_video_path = video_paths.pop()\n",
        "print(\"Displaying \", best_video_path)\n",
        "HTML(display_videos(best_video_path))"
      ],
      "execution_count": 33,
      "outputs": [
        {
          "output_type": "stream",
          "text": [
            "Epoch 001/064 | Loss 0.0752 | Win/lose count 9.0/72.1 (-63.1)\n",
            "Epoch 002/064 | Loss 0.0702 | Win/lose count 4.0/100.6 (-96.6)\n",
            "Epoch 003/064 | Loss 0.0787 | Win/lose count 6.0/88.0 (-82.0)\n",
            "Epoch 004/064 | Loss 0.0553 | Win/lose count 11.0/43.0 (-32.0)\n",
            "Epoch 005/064 | Loss 0.0418 | Win/lose count 10.0/42.1 (-32.1)\n",
            "Epoch 006/064 | Loss 0.0567 | Win/lose count 14.5/32.1 (-17.6)\n",
            "Epoch 007/064 | Loss 0.0367 | Win/lose count 17.0/26.7 (-9.7)\n",
            "Epoch 008/064 | Loss 0.0377 | Win/lose count 8.5/53.4 (-44.9)\n",
            "Epoch 009/064 | Loss 0.0300 | Win/lose count 17.5/19.3 (-1.8)\n",
            "Epoch 010/064 | Loss 0.0306 | Win/lose count 16.5/25.4 (-8.9)\n",
            "Epoch 011/064 | Loss 0.0238 | Win/lose count 19.0/18.8 (0.2)\n",
            "Epoch 012/064 | Loss 0.0269 | Win/lose count 21.5/21.2 (0.3)\n",
            "Epoch 013/064 | Loss 0.0220 | Win/lose count 15.5/29.8 (-14.3)\n",
            "Epoch 014/064 | Loss 0.0224 | Win/lose count 22.0/19.6 (2.4)\n",
            "Epoch 015/064 | Loss 0.0296 | Win/lose count 23.0/13.2 (9.8)\n",
            "Epoch 016/064 | Loss 0.0300 | Win/lose count 16.5/15.9 (0.6)\n",
            "Epoch 017/064 | Loss 0.0216 | Win/lose count 21.5/13.1 (8.4)\n",
            "Epoch 018/064 | Loss 0.0252 | Win/lose count 24.0/12.5 (11.5)\n",
            "Epoch 019/064 | Loss 0.0300 | Win/lose count 23.0/16.5 (6.5)\n",
            "Epoch 020/064 | Loss 0.0242 | Win/lose count 21.5/11.1 (10.4)\n",
            "Epoch 021/064 | Loss 0.0360 | Win/lose count 21.5/12.7 (8.8)\n",
            "Epoch 022/064 | Loss 0.0347 | Win/lose count 24.0/17.9 (6.1)\n",
            "Epoch 023/064 | Loss 0.0337 | Win/lose count 23.5/16.5 (7.0)\n",
            "Epoch 024/064 | Loss 0.0345 | Win/lose count 23.5/12.6 (10.9)\n",
            "Epoch 025/064 | Loss 0.0257 | Win/lose count 18.0/21.9 (-3.9)\n",
            "Epoch 027/064 | Loss 0.0173 | Win/lose count 20.0/15.6 (4.4)\n",
            "Epoch 028/064 | Loss 0.0265 | Win/lose count 20.5/14.3 (6.2)\n",
            "Epoch 029/064 | Loss 0.0276 | Win/lose count 19.5/17.2 (2.3)\n",
            "Epoch 030/064 | Loss 0.0237 | Win/lose count 28.0/9.0 (19.0)\n",
            "Epoch 031/064 | Loss 0.0300 | Win/lose count 25.5/10.4 (15.1)\n",
            "Epoch 032/064 | Loss 0.0390 | Win/lose count 19.5/15.9 (3.6)\n",
            "Epoch 033/064 | Loss 0.0254 | Win/lose count 17.5/17.6 (-0.1)\n",
            "Epoch 034/064 | Loss 0.0218 | Win/lose count 29.5/10.9 (18.6)\n",
            "Epoch 035/064 | Loss 0.0366 | Win/lose count 17.5/18.0 (-0.5)\n",
            "Epoch 036/064 | Loss 0.0171 | Win/lose count 26.0/13.4 (12.6)\n",
            "Epoch 037/064 | Loss 0.0261 | Win/lose count 22.0/13.0 (9.0)\n",
            "Epoch 038/064 | Loss 0.0435 | Win/lose count 26.5/12.2 (14.3)\n",
            "Epoch 039/064 | Loss 0.0258 | Win/lose count 21.5/16.9 (4.6)\n",
            "Epoch 040/064 | Loss 0.0307 | Win/lose count 19.0/16.6 (2.4)\n",
            "Epoch 041/064 | Loss 0.0259 | Win/lose count 25.5/18.0 (7.5)\n",
            "Epoch 042/064 | Loss 0.0221 | Win/lose count 21.5/16.0 (5.5)\n",
            "Epoch 043/064 | Loss 0.0320 | Win/lose count 23.0/19.7 (3.3)\n",
            "Epoch 044/064 | Loss 0.0238 | Win/lose count 23.0/8.7 (14.3)\n",
            "Epoch 045/064 | Loss 0.0303 | Win/lose count 28.0/19.2 (8.8)\n",
            "Epoch 046/064 | Loss 0.0363 | Win/lose count 18.5/22.0 (-3.5)\n",
            "Epoch 047/064 | Loss 0.0387 | Win/lose count 29.0/15.8 (13.2)\n",
            "Epoch 048/064 | Loss 0.0301 | Win/lose count 28.0/21.6 (6.4)\n",
            "Epoch 049/064 | Loss 0.0205 | Win/lose count 16.0/26.3 (-10.3)\n",
            "Epoch 050/064 | Loss 0.0267 | Win/lose count 19.5/22.5 (-3.0)\n",
            "Epoch 051/064 | Loss 0.0286 | Win/lose count 20.5/25.6 (-5.1)\n",
            "Epoch 052/064 | Loss 0.0236 | Win/lose count 18.0/27.2 (-9.2)\n",
            "Epoch 053/064 | Loss 0.0264 | Win/lose count 23.5/16.0 (7.5)\n",
            "Epoch 054/064 | Loss 0.0496 | Win/lose count 26.0/23.6 (2.4)\n",
            "Epoch 055/064 | Loss 0.0333 | Win/lose count 26.5/25.3 (1.2)\n",
            "Epoch 056/064 | Loss 0.0415 | Win/lose count 17.5/30.4 (-12.9)\n",
            "Epoch 057/064 | Loss 0.0269 | Win/lose count 20.5/20.4 (0.1)\n",
            "Epoch 058/064 | Loss 0.0271 | Win/lose count 22.5/25.3 (-2.8)\n",
            "Epoch 059/064 | Loss 0.0282 | Win/lose count 25.0/18.3 (6.7)\n",
            "Epoch 060/064 | Loss 0.0216 | Win/lose count 23.5/21.4 (2.1)\n",
            "Epoch 061/064 | Loss 0.0214 | Win/lose count 26.5/19.2 (7.3)\n",
            "Epoch 062/064 | Loss 0.0188 | Win/lose count 21.0/22.3 (-1.3)\n",
            "Epoch 063/064 | Loss 0.0293 | Win/lose count 21.5/19.6 (1.9)\n",
            "Epoch 064/064 | Loss 0.0305 | Win/lose count 25.5/16.3 (9.2)\n",
            "Displaying  cnn_train_explore60.mp4\n"
          ],
          "name": "stdout"
        },
        {
          "output_type": "execute_result",
          "data": {
            "text/html": [
              "<video alt=\"test\" controls>\n",
              "                <source src=\"data:video/mp4;base64,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\" type=\"video/mp4\" />\n",
              "             </video>"
            ],
            "text/plain": [
              "<IPython.core.display.HTML object>"
            ]
          },
          "metadata": {
            "tags": []
          },
          "execution_count": 33
        }
      ]
    },
    {
      "metadata": {
        "id": "u9pByfjDe8Q_",
        "colab_type": "code",
        "colab": {}
      },
      "cell_type": "code",
      "source": [
        "# Evaluation\n",
        "test(agent,env,epochs_test,prefix='cnn_test_explore')\n",
        "video_paths = glob.glob(\"cnn_test_explore*.mp4\")\n",
        "video_paths.sort()\n",
        "best_video_path = video_paths.pop()\n",
        "print(\"Displaying \", best_video_path)\n",
        "HTML(display_videos(best_video_path))"
      ],
      "execution_count": 0,
      "outputs": []
    },
    {
      "metadata": {
        "id": "sfHr7ItXe8RC",
        "colab_type": "text"
      },
      "cell_type": "markdown",
      "source": [
        "***\n",
        "***\n",
        "__BONUS question__ Use the expert DQN from the previous question to generate some winning games. Train a model that mimicks its behavior. Compare the performances."
      ]
    },
    {
      "metadata": {
        "id": "3s4DYUnPe8RD",
        "colab_type": "text"
      },
      "cell_type": "markdown",
      "source": [
        ""
      ]
    },
    {
      "metadata": {
        "id": "GPQeP-o3e8RE",
        "colab_type": "text"
      },
      "cell_type": "markdown",
      "source": [
        "***"
      ]
    }
  ]
}
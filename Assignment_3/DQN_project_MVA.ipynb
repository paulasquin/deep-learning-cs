{
  "nbformat": 4,
  "nbformat_minor": 0,
  "metadata": {
    "colab": {
      "name": "DQN_project_MVA.ipynb",
      "version": "0.3.2",
      "provenance": []
    },
    "kernelspec": {
      "display_name": "Python 3",
      "language": "python",
      "name": "python3"
    }
  },
  "cells": [
    {
      "metadata": {
        "id": "gkZm_xO8e8PG",
        "colab_type": "text"
      },
      "cell_type": "markdown",
      "source": [
        "**You may need to install [OpenCV](https://pypi.python.org/pypi/opencv-python) and [scikit-video](http://www.scikit-video.org/stable/).**"
      ]
    },
    {
      "metadata": {
        "id": "IpkYijTxe8PI",
        "colab_type": "code",
        "outputId": "8f2127b2-6306-4669-efd4-fc76892dd6b4",
        "colab": {
          "base_uri": "https://localhost:8080/",
          "height": 187
        }
      },
      "cell_type": "code",
      "source": [
        "import keras\n",
        "import numpy as np\n",
        "import io\n",
        "import base64\n",
        "from IPython.display import HTML\n",
        "\n",
        "### IMPORT SKVIDEO FOR GOOGLE COLAB\n",
        "!pip3 install scikit-video\n",
        "!apt-get install ffmpeg\n",
        "# check installation path with \n",
        "# ```which ffmpeg```\n",
        "# ```which ffprobe```\n",
        "\n",
        "import skvideo\n",
        "skvideo.setFFmpegPath(\"/usr/bin\")\n",
        "import skvideo.io\n",
        "\n",
        "# ```pip3 install opencv-python```\n",
        "import cv2\n",
        "import json\n",
        "\n",
        "from keras.models import Sequential,model_from_json\n",
        "from keras.layers.core import Dense\n",
        "from keras.optimizers import sgd\n",
        "from keras.layers import Conv2D, MaxPooling2D, Activation, AveragePooling2D,Reshape,BatchNormalization"
      ],
      "execution_count": 92,
      "outputs": [
        {
          "output_type": "stream",
          "text": [
            "Requirement already satisfied: scikit-video in /usr/local/lib/python3.6/dist-packages (1.1.11)\n",
            "Requirement already satisfied: pillow in /usr/local/lib/python3.6/dist-packages (from scikit-video) (4.0.0)\n",
            "Requirement already satisfied: numpy in /usr/local/lib/python3.6/dist-packages (from scikit-video) (1.14.6)\n",
            "Requirement already satisfied: scipy in /usr/local/lib/python3.6/dist-packages (from scikit-video) (1.1.0)\n",
            "Requirement already satisfied: olefile in /usr/local/lib/python3.6/dist-packages (from pillow->scikit-video) (0.46)\n",
            "Reading package lists... Done\n",
            "Building dependency tree       \n",
            "Reading state information... Done\n",
            "ffmpeg is already the newest version (7:3.4.4-0ubuntu0.18.04.1).\n",
            "0 upgraded, 0 newly installed, 0 to remove and 8 not upgraded.\n"
          ],
          "name": "stdout"
        }
      ]
    },
    {
      "metadata": {
        "id": "IcFJdpaPe8PO",
        "colab_type": "text"
      },
      "cell_type": "markdown",
      "source": [
        "# MiniProject #3: Deep Reinforcement Learning"
      ]
    },
    {
      "metadata": {
        "id": "W146PxAze8PP",
        "colab_type": "text"
      },
      "cell_type": "markdown",
      "source": [
        "__Notations__: $E_p$ is the expectation under probability $p$. Please justify each of your answer and widely comment your code."
      ]
    },
    {
      "metadata": {
        "id": "01DHN4_-e8PR",
        "colab_type": "text"
      },
      "cell_type": "markdown",
      "source": [
        "# Context"
      ]
    },
    {
      "metadata": {
        "id": "34wlXXrOe8PS",
        "colab_type": "text"
      },
      "cell_type": "markdown",
      "source": [
        "In a reinforcement learning algorithm, we modelize each step $t$ as an action $a_t$ obtained from a state $s_t$, i.e. $\\{(a_{t},s_{t})_{t\\leq T}\\}$ having the Markov property. We consider a discount factor $\\gamma \\in [0,1]$ that ensures convergence. The goal is to find among all the policies $\\pi$, one that maximizes the expected reward:\n",
        "\n",
        "\\begin{equation*}\n",
        "R(\\pi)=\\sum_{t\\leq T}E_{p^{\\pi}}[\\gamma^t r(s_{t},a_{t})] \\> ,\n",
        "\\end{equation*}\n",
        "\n",
        "where: \n",
        "\\begin{equation*}p^{\\pi}(a_{0},a_{1},s_{1},...,a_{T},s_{T})=p(a_{0})\\prod_{t=1}^{T}\\pi(a_{t}|s_{t})p(s_{t+1}|s_{t},a_{t}) \\> .\n",
        "\\end{equation*}\n",
        "\n",
        "We note the $Q$-function:\n",
        "\n",
        "\\begin{equation*}Q^\\pi(s,a)=E_{p^{\\pi}}[\\sum_{t\\leq T}\\gamma^{t}r(s_{t},a_{t})|s_{0}=s,a_{0}=a] \\> .\n",
        "\\end{equation*}\n",
        "\n",
        "Thus, the optimal Q function is:\n",
        "\\begin{equation*}\n",
        "Q^*(s,a)=\\max_{\\pi}Q^\\pi(s,a) \\> .\n",
        "\\end{equation*}\n",
        "\n",
        "In this project, we will apply the deep reinforcement learning techniques to a simple game: an agent will have to learn from scratch a policy that will permit it maximizing a reward."
      ]
    },
    {
      "metadata": {
        "id": "TkjhXJoje8PU",
        "colab_type": "text"
      },
      "cell_type": "markdown",
      "source": [
        "## The environment, the agent and the game"
      ]
    },
    {
      "metadata": {
        "id": "9OFr8vdre8PV",
        "colab_type": "text"
      },
      "cell_type": "markdown",
      "source": [
        "### The environment"
      ]
    },
    {
      "metadata": {
        "id": "vhBW7lB9e8PW",
        "colab_type": "text"
      },
      "cell_type": "markdown",
      "source": [
        "```Environment``` is an abstract class that represents the states, rewards, and actions to obtain the new state."
      ]
    },
    {
      "metadata": {
        "id": "ka3EfOcRe8PX",
        "colab_type": "code",
        "colab": {}
      },
      "cell_type": "code",
      "source": [
        "class Environment(object):\n",
        "    def __init__(self):\n",
        "        pass\n",
        "\n",
        "    def act(self, act):\n",
        "        \"\"\"\n",
        "        One can act on the environment and obtain its reaction:\n",
        "        - the new state\n",
        "        - the reward of the new state\n",
        "        - should we continue the game?\n",
        "\n",
        "        :return: state, reward, game_over\n",
        "        \"\"\"\n",
        "        pass\n",
        "\n",
        "\n",
        "    def reset(self):\n",
        "        \"\"\"\n",
        "        Reinitialize the environment to a random state and returns\n",
        "        the original state\n",
        "\n",
        "        :return: state\n",
        "        \"\"\"\n",
        "        pass\n",
        "    \n",
        "    def draw(self):\n",
        "        \"\"\"\n",
        "        Visualize in the console or graphically the current state\n",
        "        \"\"\"\n",
        "        pass"
      ],
      "execution_count": 0,
      "outputs": []
    },
    {
      "metadata": {
        "id": "l2H9fJiDe8Pa",
        "colab_type": "text"
      },
      "cell_type": "markdown",
      "source": [
        "The method ```act``` allows to act on the environment at a given state $s_t$ (stored internally), via action $a_t$. The method will return the new state $s_{t+1}$, the reward $r(s_{t},a_{t})$ and determines if $t\\leq T$ (*game_over*).\n",
        "\n",
        "The method ```reset``` simply reinitializes the environment to a random state $s_0$.\n",
        "\n",
        "The method ```draw``` displays the current state $s_t$ (this is useful to check the behavior of the Agent).\n",
        "\n",
        "We modelize $s_t$ as a tensor, while $a_t$ is an integer."
      ]
    },
    {
      "metadata": {
        "id": "TYDJ2AUze8Pb",
        "colab_type": "text"
      },
      "cell_type": "markdown",
      "source": [
        "### The Agent"
      ]
    },
    {
      "metadata": {
        "id": "bhEqpBsde8Pc",
        "colab_type": "text"
      },
      "cell_type": "markdown",
      "source": [
        "The goal of the ```Agent``` is to interact with the ```Environment``` by proposing actions $a_t$ obtained from a given state $s_t$ to attempt to maximize its __reward__ $r(s_t,a_t)$. We propose the following abstract class:"
      ]
    },
    {
      "metadata": {
        "id": "MePlYwpee8Pd",
        "colab_type": "code",
        "colab": {}
      },
      "cell_type": "code",
      "source": [
        "class Agent(object):\n",
        "    def __init__(self, epsilon=0.1, n_action=4):\n",
        "        self.epsilon = epsilon\n",
        "        self.n_action = n_action\n",
        "    \n",
        "    def set_epsilon(self,e):\n",
        "        self.epsilon = e\n",
        "\n",
        "    def act(self,s,train=True):\n",
        "        \"\"\" This function should return the next action to do:\n",
        "        an integer between 0 and 4 (not included) with a random exploration of epsilon\"\"\"\n",
        "        if train:\n",
        "            if np.random.rand() <= self.epsilon:\n",
        "                a = np.random.randint(0, self.n_action, size=1)[0]\n",
        "            else:\n",
        "                a = self.learned_act(s)\n",
        "        else: # in some cases, this can improve the performance.. remove it if poor performances\n",
        "            a = self.learned_act(s)\n",
        "\n",
        "        return a\n",
        "\n",
        "    def learned_act(self,s):\n",
        "        \"\"\" Act via the policy of the agent, from a given state s\n",
        "        it proposes an action a\"\"\"\n",
        "        pass\n",
        "\n",
        "    def reinforce(self, s, n_s, a, r, game_over_):\n",
        "        \"\"\" This function is the core of the learning algorithm. \n",
        "        It takes as an input the current state s_, the next state n_s_\n",
        "        the action a_ used to move from s_ to n_s_ and the reward r_.\n",
        "        \n",
        "        Its goal is to learn a policy.\n",
        "        \"\"\"\n",
        "        pass\n",
        "\n",
        "    def save(self):\n",
        "        \"\"\" This function returns basic stats if applicable: the\n",
        "        loss and/or the model\"\"\"\n",
        "        pass\n",
        "\n",
        "    def load(self):\n",
        "        \"\"\" This function allows to restore a model\"\"\"\n",
        "        pass"
      ],
      "execution_count": 0,
      "outputs": []
    },
    {
      "metadata": {
        "id": "yBvzjGoSe8Pg",
        "colab_type": "text"
      },
      "cell_type": "markdown",
      "source": [
        "***\n",
        "__Question 1__:\n",
        "Explain the function act. Why is ```epsilon``` essential?"
      ]
    },
    {
      "metadata": {
        "id": "VGlaTpnoe8Ph",
        "colab_type": "text"
      },
      "cell_type": "markdown",
      "source": [
        "The `act` function aims is to make a decision on which state explore next. For this we are using what is called a epsilon-greedy algorithm. \n",
        "\n",
        "At each step, the algorithm have two options. For a random float $r_f$ taken between 0 and 1, we can either choose a random action if $r_f \\leq$ `epsilon`, or we can choose an action from previously learned acts.\n",
        "\n",
        "This exploration variable set the ability of the algorithm to explore new posibilities or to use its knowledge from the past. If too high, we will not be able to explore new behaviours and learn new actions, if too low, we will not learn anything and will just explore in an *amnesic random way*."
      ]
    },
    {
      "metadata": {
        "id": "ZBz6zH-ve8Pi",
        "colab_type": "text"
      },
      "cell_type": "markdown",
      "source": [
        "***\n",
        "### The Game"
      ]
    },
    {
      "metadata": {
        "id": "mWX52Gx5e8Pj",
        "colab_type": "text"
      },
      "cell_type": "markdown",
      "source": [
        "The ```Agent``` and the ```Environment``` work in an interlaced way as in the following (take some time to understand this code as it is the core of the project)\n",
        "\n",
        "```python\n",
        "\n",
        "epoch = 300\n",
        "env = Environment()\n",
        "agent = Agent()\n",
        "\n",
        "\n",
        "# Number of won games\n",
        "score = 0\n",
        "loss = 0\n",
        "\n",
        "\n",
        "for e in range(epoch):\n",
        "    # At each epoch, we restart to a fresh game and get the initial state\n",
        "    state = env.reset()\n",
        "    # This assumes that the games will end\n",
        "    game_over = False\n",
        "\n",
        "    win = 0\n",
        "    lose = 0\n",
        "    \n",
        "    while not game_over:\n",
        "        # The agent performs an action\n",
        "        action = agent.act(state)\n",
        "\n",
        "        # Apply an action to the environment, get the next state, the reward\n",
        "        # and if the games end\n",
        "        prev_state = state\n",
        "        state, reward, game_over = env.act(action)\n",
        "\n",
        "        # Update the counters\n",
        "        if reward > 0:\n",
        "            win = win + reward\n",
        "        if reward < 0:\n",
        "            lose = lose -reward\n",
        "\n",
        "        # Apply the reinforcement strategy\n",
        "        loss = agent.reinforce(prev_state, state,  action, reward, game_over)\n",
        "\n",
        "    # Save as a mp4\n",
        "    if e % 10 == 0:\n",
        "        env.draw(e)\n",
        "\n",
        "    # Update stats\n",
        "    score += win-lose\n",
        "\n",
        "    print(\"Epoch {:03d}/{:03d} | Loss {:.4f} | Win/lose count {}/{} ({})\"\n",
        "          .format(e, epoch, loss, win, lose, win-lose))\n",
        "    agent.save()\n",
        "```"
      ]
    },
    {
      "metadata": {
        "id": "Mf6mszNUe8Pl",
        "colab_type": "text"
      },
      "cell_type": "markdown",
      "source": [
        "# The game, *eat cheese*"
      ]
    },
    {
      "metadata": {
        "id": "1LnSKJOye8Pn",
        "colab_type": "text"
      },
      "cell_type": "markdown",
      "source": [
        "A rat runs on an island and tries to eat as much as possible. The island is subdivided into $N\\times N$ cells, in which there are cheese (+0.5) and poisonous cells (-1). The rat has a visibility of 2 cells (thus it can see $5^2$ cells). The rat is given a time $T$ to accumulate as much food as possible. It can perform 4 actions: going up, down, left, right. \n",
        "\n",
        "The goal is to code an agent to solve this task that will learn by trial and error. We propose the following environment:"
      ]
    },
    {
      "metadata": {
        "id": "78D8rdbTe8Pp",
        "colab_type": "code",
        "colab": {}
      },
      "cell_type": "code",
      "source": [
        "class Environment(object):\n",
        "    def __init__(self, grid_size=10, max_time=500, temperature=0.1):\n",
        "        grid_size = grid_size+4\n",
        "        self.grid_size = grid_size\n",
        "        self.max_time = max_time\n",
        "        self.temperature = temperature\n",
        "\n",
        "        #board on which one plays\n",
        "        self.board = np.zeros((grid_size,grid_size))\n",
        "        self.position = np.zeros((grid_size,grid_size))\n",
        "\n",
        "        # coordinate of the cat\n",
        "        self.x = 0\n",
        "        self.y = 1\n",
        "\n",
        "        # self time\n",
        "        self.t = 0\n",
        "\n",
        "        self.scale=16\n",
        "\n",
        "        self.to_draw = np.zeros((max_time+2, grid_size*self.scale, grid_size*self.scale, 3))\n",
        "\n",
        "\n",
        "    def draw(self,e):\n",
        "        skvideo.io.vwrite(str(e) + '.mp4', self.to_draw)\n",
        "\n",
        "    def get_frame(self,t):\n",
        "        b = np.zeros((self.grid_size,self.grid_size,3))+128\n",
        "        b[self.board>0,0] = 256\n",
        "        b[self.board < 0, 2] = 256\n",
        "        b[self.x,self.y,:]=256\n",
        "        b[-2:,:,:]=0\n",
        "        b[:,-2:,:]=0\n",
        "        b[:2,:,:]=0\n",
        "        b[:,:2,:]=0\n",
        "        \n",
        "        b =  cv2.resize(b, None, fx=self.scale, fy=self.scale, interpolation=cv2.INTER_NEAREST)\n",
        "\n",
        "        self.to_draw[t,:,:,:]=b\n",
        "\n",
        "\n",
        "    def act(self, action):\n",
        "        \"\"\"This function returns the new state, reward and decides if the\n",
        "        game ends.\"\"\"\n",
        "\n",
        "        self.get_frame(int(self.t))\n",
        "\n",
        "        self.position = np.zeros((self.grid_size, self.grid_size))\n",
        "\n",
        "        self.position[0:2,:]= -1\n",
        "        self.position[:,0:2] = -1\n",
        "        self.position[-2:, :] = -1\n",
        "        self.position[-2:, :] = -1\n",
        "\n",
        "        self.position[self.x, self.y] = 1\n",
        "        if action == 0:\n",
        "            if self.x == self.grid_size-3:\n",
        "                self.x = self.x-1\n",
        "            else:\n",
        "                self.x = self.x + 1\n",
        "        elif action == 1:\n",
        "            if self.x == 2:\n",
        "                self.x = self.x+1\n",
        "            else:\n",
        "                self.x = self.x-1\n",
        "        elif action == 2:\n",
        "            if self.y == self.grid_size - 3:\n",
        "                self.y = self.y - 1\n",
        "            else:\n",
        "                self.y = self.y + 1\n",
        "        elif action == 3:\n",
        "            if self.y == 2:\n",
        "                self.y = self.y + 1\n",
        "            else:\n",
        "                self.y = self.y - 1\n",
        "        else:\n",
        "            RuntimeError('Error: action not recognized')\n",
        "\n",
        "        self.t = self.t + 1\n",
        "        reward = self.board[self.x, self.y]\n",
        "        self.board[self.x, self.y] = 0\n",
        "        game_over = self.t > self.max_time\n",
        "        state = np.concatenate((self.board.reshape(self.grid_size, self.grid_size,1),\n",
        "                        self.position.reshape(self.grid_size, self.grid_size,1)),axis=2)\n",
        "        state = state[self.x-2:self.x+3,self.y-2:self.y+3,:]\n",
        "\n",
        "        return state, reward, game_over\n",
        "\n",
        "    def reset(self):\n",
        "        \"\"\"This function resets the game and returns the initial state\"\"\"\n",
        "\n",
        "        self.x = np.random.randint(3, self.grid_size-3, size=1)[0]\n",
        "        self.y = np.random.randint(3, self.grid_size-3, size=1)[0]\n",
        "\n",
        "\n",
        "        bonus = 0.5*np.random.binomial(1,self.temperature,size=self.grid_size**2)\n",
        "        bonus = bonus.reshape(self.grid_size,self.grid_size)\n",
        "\n",
        "        malus = -1.0*np.random.binomial(1,self.temperature,size=self.grid_size**2)\n",
        "        malus = malus.reshape(self.grid_size, self.grid_size)\n",
        "\n",
        "        self.to_draw = np.zeros((self.max_time+2, self.grid_size*self.scale, self.grid_size*self.scale, 3))\n",
        "\n",
        "\n",
        "        malus[bonus>0]=0\n",
        "\n",
        "        self.board = bonus + malus\n",
        "\n",
        "        self.position = np.zeros((self.grid_size, self.grid_size))\n",
        "        self.position[0:2,:]= -1\n",
        "        self.position[:,0:2] = -1\n",
        "        self.position[-2:, :] = -1\n",
        "        self.position[-2:, :] = -1\n",
        "        self.board[self.x,self.y] = 0\n",
        "        self.t = 0\n",
        "\n",
        "        state = np.concatenate((\n",
        "                               self.board.reshape(self.grid_size, self.grid_size,1),\n",
        "                        self.position.reshape(self.grid_size, self.grid_size,1)),axis=2)\n",
        "\n",
        "        state = state[self.x - 2:self.x + 3, self.y - 2:self.y + 3, :]\n",
        "        return state"
      ],
      "execution_count": 0,
      "outputs": []
    },
    {
      "metadata": {
        "id": "e9IrB2_1e8Pt",
        "colab_type": "text"
      },
      "cell_type": "markdown",
      "source": [
        "The following elements are important because they correspond to the hyper parameters for this project:"
      ]
    },
    {
      "metadata": {
        "id": "mlBH6Yqce8Pw",
        "colab_type": "code",
        "colab": {}
      },
      "cell_type": "code",
      "source": [
        "# parameters\n",
        "size = 13\n",
        "T=200\n",
        "temperature=0.3\n",
        "epochs_train=64 # set small when debugging\n",
        "epochs_test=64 # set small when debugging\n",
        "\n",
        "# display videos\n",
        "def display_videos(name):\n",
        "    video = io.open(name, 'r+b').read()\n",
        "    encoded = base64.b64encode(video)\n",
        "    return '''<video alt=\"test\" controls>\n",
        "                <source src=\"data:video/mp4;base64,{0}\" type=\"video/mp4\" />\n",
        "             </video>'''.format(encoded.decode('ascii'))"
      ],
      "execution_count": 0,
      "outputs": []
    },
    {
      "metadata": {
        "id": "o9kAND0oe8P0",
        "colab_type": "text"
      },
      "cell_type": "markdown",
      "source": [
        "__Question 2__ Explain the use of the arrays ```position``` and ```board```."
      ]
    },
    {
      "metadata": {
        "id": "6-G85zoBe8P1",
        "colab_type": "text"
      },
      "cell_type": "markdown",
      "source": [
        "*Position*  \n",
        "This matrix is used to define the rat position and allowed moves. \n",
        "- It is filled with `0` by default.\n",
        "- There is a two `-1` cells thickness on the borders, reprenting where the rat can't go. That's why we added +4 to the grid size, allowing some place for these borders.\n",
        "- One only cell is set to `1`, representing the actual rat positon.\n",
        "\n",
        "*Board*  \n",
        "This matrix is used to define the environment.\n",
        "- It is also initialized with a size increased by 4, to fit with the previous positon matrix.\n",
        "- It contains rewards for the rat. `-1` for poison, `0.5` for cheese.\n",
        "- When the rat already have explored a cell, we set the cell to `0`\n"
      ]
    },
    {
      "metadata": {
        "id": "-ZEZ4n2ue8P3",
        "colab_type": "text"
      },
      "cell_type": "markdown",
      "source": [
        "## Random Agent"
      ]
    },
    {
      "metadata": {
        "id": "n6bj3Pu4e8P4",
        "colab_type": "text"
      },
      "cell_type": "markdown",
      "source": [
        "***\n",
        "__Question 3__ Implement a random Agent (only ```learned_act``` needs to be implemented):"
      ]
    },
    {
      "metadata": {
        "id": "1JLh_hvke8P5",
        "colab_type": "code",
        "colab": {}
      },
      "cell_type": "code",
      "source": [
        "class RandomAgent(Agent):\n",
        "    def __init__(self):\n",
        "        super(RandomAgent, self).__init__()\n",
        "        pass\n",
        "\n",
        "    def learned_act(self, s=0):\n",
        "        return np.random.randint(4)\n",
        "\n",
        "# We develop a random agent.\n",
        "# Thus it doesn't care about the current rat state.\n",
        "# We put s=0 by default, we will not us it.\n",
        "# We randomly return a number between 0 and 3 included.\n",
        "\n",
        "# Testing\n",
        "def test_random_agent():\n",
        "    random_agent = RandomAgent()\n",
        "    for i in range(10):\n",
        "        print(random_agent.learned_act())\n",
        "# test_random_agent()"
      ],
      "execution_count": 0,
      "outputs": []
    },
    {
      "metadata": {
        "id": "4oZOl2t2e8P9",
        "colab_type": "text"
      },
      "cell_type": "markdown",
      "source": [
        "***\n",
        "***\n",
        "__Question 4__ Visualize the game moves. You need to fill in the following function for the evaluation:"
      ]
    },
    {
      "metadata": {
        "id": "65uteLr3e8P-",
        "colab_type": "code",
        "colab": {}
      },
      "cell_type": "code",
      "source": [
        "def test(agent,env,epochs,prefix=''):\n",
        "    # Number of won games\n",
        "    score = 0\n",
        "        \n",
        "    for e in range(epochs):\n",
        "        # Init variables\n",
        "        win = 0\n",
        "        lose = 0\n",
        "        game_over = False\n",
        "        # Start game\n",
        "        state = env.reset()\n",
        "        \n",
        "        # Running the game\n",
        "        while not game_over:\n",
        "            action = agent.learned_act(state) # The state will be useless\n",
        "            state, reward, game_over = env.act(action)\n",
        "            \n",
        "            if reward >= 0:\n",
        "                win+=reward\n",
        "            else:\n",
        "                lose+=abs(reward)\n",
        "        \n",
        "        # Save as a mp4\n",
        "        env.draw(prefix+str(e))\n",
        "\n",
        "        # Update stats\n",
        "        score = score + win-lose\n",
        "\n",
        "        print(\"Win/lose count {}/{}. Average score ({})\"\n",
        "              .format(win, lose, score/(1+e)))\n",
        "    print('Final score: '+str(score/epochs))"
      ],
      "execution_count": 0,
      "outputs": []
    },
    {
      "metadata": {
        "id": "Iba54I9Ue8QB",
        "colab_type": "code",
        "outputId": "c6b96672-2aec-4e88-bbb4-174ca73c7b49",
        "colab": {
          "base_uri": "https://localhost:8080/",
          "height": 395
        }
      },
      "cell_type": "code",
      "source": [
        "epochs_test=5 # set small when debugging\n",
        "\n",
        "# Initialize the game\n",
        "env = Environment(grid_size=size, max_time=T,temperature=temperature)\n",
        "\n",
        "# Initialize the agent!\n",
        "agent = RandomAgent()\n",
        "\n",
        "test(agent,env,epochs_test,prefix='random')\n",
        "HTML(display_videos('random0.mp4'))"
      ],
      "execution_count": 99,
      "outputs": [
        {
          "output_type": "stream",
          "text": [
            "Win/lose count 10.0/14.0. Average score (-4.0)\n",
            "Win/lose count 12.5/15.0. Average score (-3.25)\n",
            "Win/lose count 7.0/17.0. Average score (-5.5)\n",
            "Win/lose count 6.0/9.0. Average score (-4.875)\n",
            "Win/lose count 8.0/13.0. Average score (-4.9)\n",
            "Final score: -4.9\n"
          ],
          "name": "stdout"
        },
        {
          "output_type": "execute_result",
          "data": {
            "text/html": [
              "<video alt=\"test\" controls>\n",
              "                <source src=\"data:video/mp4;base64,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\" type=\"video/mp4\" />\n",
              "             </video>"
            ],
            "text/plain": [
              "<IPython.core.display.HTML object>"
            ]
          },
          "metadata": {
            "tags": []
          },
          "execution_count": 99
        }
      ]
    },
    {
      "metadata": {
        "id": "D_eFHXsJe8QE",
        "colab_type": "text"
      },
      "cell_type": "markdown",
      "source": [
        "***\n",
        "## DQN"
      ]
    },
    {
      "metadata": {
        "id": "NnfwB5xJe8QG",
        "colab_type": "text"
      },
      "cell_type": "markdown",
      "source": [
        "Let us assume here that $T=\\infty$.\n",
        "\n",
        "***\n",
        "__Question 5__ Let $\\pi$ be a policy, show that:\n",
        "\n",
        "\\begin{equation*}\n",
        "Q^{\\pi}(s,a)=E_{(s',a')\\sim p(.|s,a)}[r(s,a)+\\gamma Q^{\\pi}(s',a')]\n",
        "\\end{equation*}\n",
        "\n",
        "Then, show that for the optimal policy $\\pi^*$ (we assume its existence), the following holds: \n",
        "\n",
        "\\begin{equation*}\n",
        "Q^{*}(s,a)=E_{s'\\sim \\pi^*(.|s,a)}[r(s,a)+\\gamma\\max_{a'}Q^{*}(s',a')].\n",
        "\\end{equation*}\n",
        "Finally, deduce that a plausible objective is:\n",
        "\n",
        "\\begin{equation*}\n",
        "\\mathcal{L}(\\theta)=E_{s' \\sim \\pi^*(.|s,a)}\\Vert r+\\gamma\\max\\max_{a'}Q(s',a',\\theta)-Q(s,a,\\theta)\\Vert^{2}.\n",
        "\\end{equation*}\n",
        "\n",
        "\n"
      ]
    },
    {
      "metadata": {
        "id": "NhAceGGqe8QH",
        "colab_type": "text"
      },
      "cell_type": "markdown",
      "source": [
        "By definition of the action-value of a policy $\\pi$, we have :  \n",
        "$Q^\\pi(s,a) = E_\\pi \\Big[ \\overset{\\infty}{\\underset{k=0}{\\sum}} \\gamma^k r_{t+k+1} \\Big| s_t = s, a_t = a \\Big]$\n",
        "\n",
        "$~~~~~~~~~~~~~= E\\Big[r(s,a) + \\overset{\\infty}{\\underset{k=1}{\\sum}} \\gamma^k r_{t+k+1} \\Big| s_t = s, a_t = a\\Big]$  \n",
        "\n",
        "...."
      ]
    },
    {
      "metadata": {
        "id": "84o3AG09e8QJ",
        "colab_type": "text"
      },
      "cell_type": "markdown",
      "source": [
        "***\n",
        "The DQN-learning algorithm relies on these derivations to train the parameters $\\theta$ of a Deep Neural Network:\n",
        "\n",
        "1. At the state $s_t$, select the action $a_t$ with best reward using $Q_t$ and store the results;\n",
        "\n",
        "2. Obtain the new state $s_{t+1}$ from the environment $p$;\n",
        "\n",
        "3. Store $(s_t,a_t,s_{t+1})$;\n",
        "\n",
        "4. Obtain $Q_{t+1}$ by minimizing  $\\mathcal{L}$ from a recovered batch from the previously stored results.\n",
        "\n",
        "***\n",
        "__Question 6__ Implement the class ```Memory``` that stores moves (in a replay buffer) via ```remember``` and provides a ```random_access``` to these. Specify a maximum memory size to avoid side effects. You can for example use a ```list()``` and set by default ```max_memory=100```."
      ]
    },
    {
      "metadata": {
        "id": "mosmSRh6e8QL",
        "colab_type": "code",
        "colab": {}
      },
      "cell_type": "code",
      "source": [
        "class Memory(object):\n",
        "    def __init__(self, max_memory=100):\n",
        "        self.max_memory = max_memory\n",
        "        self.memory = list()\n",
        "\n",
        "    def remember(self, m):\n",
        "        self.memory.append(m)\n",
        "        if len(self.memory) > self.max_memory:\n",
        "            self.memory.pop(0)\n",
        "\n",
        "    def random_access(self):\n",
        "        id_random = np.random.randint(len(self.memory))\n",
        "        return self.memory[id_random]"
      ],
      "execution_count": 0,
      "outputs": []
    },
    {
      "metadata": {
        "id": "HT0IrODde8QR",
        "colab_type": "text"
      },
      "cell_type": "markdown",
      "source": [
        "***\n",
        "The pipeline we will use for training is given below:"
      ]
    },
    {
      "metadata": {
        "id": "hCarcHK4e8QT",
        "colab_type": "code",
        "colab": {}
      },
      "cell_type": "code",
      "source": [
        "def train(agent,env,epoch,prefix=''):\n",
        "    # Number of won games\n",
        "    score = 0\n",
        "    loss = 0\n",
        "\n",
        "    for e in range(epoch):\n",
        "        # At each epoch, we restart to a fresh game and get the initial state\n",
        "        state = env.reset()\n",
        "        # This assumes that the games will terminate\n",
        "        game_over = False\n",
        "\n",
        "        win = 0\n",
        "        lose = 0\n",
        "\n",
        "        while not game_over:\n",
        "            # The agent performs an action\n",
        "            action = agent.act(state)\n",
        "\n",
        "            # Apply an action to the environment, get the next state, the reward\n",
        "            # and if the games end\n",
        "            prev_state = state\n",
        "            state, reward, game_over = env.act(action)\n",
        "\n",
        "            # Update the counters\n",
        "            if reward > 0:\n",
        "                win = win + reward\n",
        "            if reward < 0:\n",
        "                lose = lose -reward\n",
        "\n",
        "            # Apply the reinforcement strategy\n",
        "            loss = agent.reinforce(prev_state, state,  action, reward, game_over)\n",
        "\n",
        "        # Save as a mp4\n",
        "        if e % 10 == 0:\n",
        "            env.draw(prefix+str(e))\n",
        "\n",
        "        # Update stats\n",
        "        score += win-lose\n",
        "\n",
        "        print(\"Epoch {:03d}/{:03d} | Loss {:.4f} | Win/lose count {}/{} ({})\"\n",
        "              .format(e+1, epoch, loss, win, lose, win-lose))\n",
        "        agent.save(name_weights=prefix+'model.h5',name_model=prefix+'model.json')"
      ],
      "execution_count": 0,
      "outputs": []
    },
    {
      "metadata": {
        "id": "QIJTlijne8QY",
        "colab_type": "text"
      },
      "cell_type": "markdown",
      "source": [
        "***\n",
        "__Question 7__ Implement the DQN training algorithm using a cascade of fully connected layers. You can use different learning rate, batch size or memory size parameters. In particular, the loss might oscillate while the player will start to win the games. You have to find a good criterium."
      ]
    },
    {
      "metadata": {
        "id": "iI6rBOEge8Qb",
        "colab_type": "code",
        "colab": {}
      },
      "cell_type": "code",
      "source": [
        "from keras.layers.core import Flatten\n",
        "\n",
        "class DQN(Agent):\n",
        "    def __init__(self, grid_size,  epsilon = 0.1, memory_size=100, batch_size = 16,n_state=2):\n",
        "        super(DQN, self).__init__(epsilon = epsilon)\n",
        "\n",
        "        # Discount for Q learning\n",
        "        self.discount = 0.99\n",
        "        \n",
        "        self.grid_size = grid_size\n",
        "        \n",
        "        # number of state\n",
        "        self.n_state = n_state\n",
        "\n",
        "        # Memory\n",
        "        self.memory = Memory(memory_size)\n",
        "        \n",
        "        # Batch size when learning\n",
        "        self.batch_size = batch_size\n",
        "\n",
        "    def learned_act(self, s):\n",
        "        actions = self.model.predict(np.expand_dims(s, 0))\n",
        "        id_max = np.argmax(actions)\n",
        "        return id_max\n",
        "\n",
        "    def reinforce(self, s_, n_s_, a_, r_, game_over_):\n",
        "        # Two steps: first memorize the states, second learn from the pool\n",
        "\n",
        "        self.memory.remember([s_, n_s_, a_, r_, game_over_])\n",
        "        \n",
        "        input_states = np.zeros((self.batch_size, 5,5,self.n_state))\n",
        "        target_q = np.zeros((self.batch_size, 4))\n",
        "        \n",
        "        for i in range(self.batch_size):\n",
        "            s_, n_s_, a_, r_, game_over_  = self.memory.random_access()\n",
        "            \n",
        "            actions = self.model.predict(np.expand_dims(s_, 0))\n",
        "            value_max_action = np.max(actions)\n",
        "            \n",
        "            target_q[i] = actions\n",
        "            \n",
        "            if game_over_:\n",
        "                input_states[i] = s_\n",
        "                target_q[i,a_] = r_\n",
        "            else:\n",
        "                input_states[i] = s_\n",
        "                target_q[i,a_] = r_  + self.discount * value_max_action\n",
        "        \n",
        "        # HINT: Clip the target to avoid exploiding gradients.. -- clipping is a bit tighter\n",
        "        target_q = np.clip(target_q, -3, 3)\n",
        "        l = self.model.train_on_batch(input_states, target_q)\n",
        "        return l\n",
        "\n",
        "    def save(self,name_weights='model.h5',name_model='model.json'):\n",
        "        self.model.save_weights(name_weights, overwrite=True)\n",
        "        with open(name_model, \"w\") as outfile:\n",
        "            json.dump(self.model.to_json(), outfile)\n",
        "            \n",
        "    def load(self,name_weights='model.h5',name_model='model.json'):\n",
        "        with open(name_model, \"r\") as jfile:\n",
        "            model = model_from_json(json.load(jfile))\n",
        "        model.load_weights(name_weights)\n",
        "        model.compile(\"sgd\", \"mse\")\n",
        "        self.model = model\n",
        "\n",
        "            \n",
        "class DQN_FC(DQN):\n",
        "    def __init__(self, *args, lr=0.1,**kwargs):\n",
        "        super(DQN_FC, self).__init__( *args,**kwargs)\n",
        "        \n",
        "        # NN Model\n",
        "        model = Sequential()\n",
        "        model.add(Dense(64, activation='relu'))\n",
        "        model.add(Flatten())\n",
        "        model.add(Dense(128, activation='relu'))\n",
        "        model.add(Dense(4, activation='softmax'))\n",
        "        model.compile(sgd(lr=lr, decay=1e-4, momentum=0.1), \"mse\")\n",
        "        self.model = model\n",
        "        "
      ],
      "execution_count": 0,
      "outputs": []
    },
    {
      "metadata": {
        "id": "zMTTBllTe8Qk",
        "colab_type": "code",
        "outputId": "a3030770-9989-4879-9cb8-e1878c368583",
        "colab": {
          "base_uri": "https://localhost:8080/",
          "height": 1099
        }
      },
      "cell_type": "code",
      "source": [
        "import glob\n",
        "epochs_train = 64\n",
        "# epochs_test = 64\n",
        "\n",
        "env = Environment(grid_size=size, max_time=T, temperature=0.3)\n",
        "agent = DQN_FC(size, lr=.1, epsilon = 0.5, memory_size=500, batch_size = 64)\n",
        "\n",
        "# NOTE : a high epsilon is important to avoid to stick to a 2 case movement.\n",
        "# Even with this, we often end up to stop exploring the map.\n",
        "\n",
        "train(agent, env, epochs_train, prefix='fc_train')\n",
        "# test(agent,env,epochs_test,prefix='fc_train')\n",
        "\n",
        "video_paths = glob.glob(\"fc_train*.mp4\")\n",
        "video_paths.sort()\n",
        "best_video_path = video_paths.pop()\n",
        "print(\"Displaying \", best_video_path)\n",
        "HTML(display_videos(best_video_path))"
      ],
      "execution_count": 120,
      "outputs": [
        {
          "output_type": "stream",
          "text": [
            "Epoch 001/064 | Loss 0.0095 | Win/lose count 2.5/8.0 (-5.5)\n",
            "Epoch 002/064 | Loss 0.0046 | Win/lose count 3.5/6.0 (-2.5)\n"
          ],
          "name": "stdout"
        },
        {
          "output_type": "error",
          "ename": "KeyboardInterrupt",
          "evalue": "ignored",
          "traceback": [
            "\u001b[0;31m---------------------------------------------------------------------------\u001b[0m",
            "\u001b[0;31mKeyboardInterrupt\u001b[0m                         Traceback (most recent call last)",
            "\u001b[0;32m<ipython-input-120-7059aa04c6d9>\u001b[0m in \u001b[0;36m<module>\u001b[0;34m()\u001b[0m\n\u001b[1;32m      9\u001b[0m \u001b[0;31m# Even with this, we often end up to stop exploring the map.\u001b[0m\u001b[0;34m\u001b[0m\u001b[0;34m\u001b[0m\u001b[0;34m\u001b[0m\u001b[0m\n\u001b[1;32m     10\u001b[0m \u001b[0;34m\u001b[0m\u001b[0m\n\u001b[0;32m---> 11\u001b[0;31m \u001b[0mtrain\u001b[0m\u001b[0;34m(\u001b[0m\u001b[0magent\u001b[0m\u001b[0;34m,\u001b[0m \u001b[0menv\u001b[0m\u001b[0;34m,\u001b[0m \u001b[0mepochs_train\u001b[0m\u001b[0;34m,\u001b[0m \u001b[0mprefix\u001b[0m\u001b[0;34m=\u001b[0m\u001b[0;34m'fc_train'\u001b[0m\u001b[0;34m)\u001b[0m\u001b[0;34m\u001b[0m\u001b[0;34m\u001b[0m\u001b[0m\n\u001b[0m\u001b[1;32m     12\u001b[0m \u001b[0;31m# test(agent,env,epochs_test,prefix='fc_train')\u001b[0m\u001b[0;34m\u001b[0m\u001b[0;34m\u001b[0m\u001b[0;34m\u001b[0m\u001b[0m\n\u001b[1;32m     13\u001b[0m \u001b[0;34m\u001b[0m\u001b[0m\n",
            "\u001b[0;32m<ipython-input-101-a18a8afac5d1>\u001b[0m in \u001b[0;36mtrain\u001b[0;34m(agent, env, epoch, prefix)\u001b[0m\n\u001b[1;32m     29\u001b[0m \u001b[0;34m\u001b[0m\u001b[0m\n\u001b[1;32m     30\u001b[0m             \u001b[0;31m# Apply the reinforcement strategy\u001b[0m\u001b[0;34m\u001b[0m\u001b[0;34m\u001b[0m\u001b[0;34m\u001b[0m\u001b[0m\n\u001b[0;32m---> 31\u001b[0;31m             \u001b[0mloss\u001b[0m \u001b[0;34m=\u001b[0m \u001b[0magent\u001b[0m\u001b[0;34m.\u001b[0m\u001b[0mreinforce\u001b[0m\u001b[0;34m(\u001b[0m\u001b[0mprev_state\u001b[0m\u001b[0;34m,\u001b[0m \u001b[0mstate\u001b[0m\u001b[0;34m,\u001b[0m  \u001b[0maction\u001b[0m\u001b[0;34m,\u001b[0m \u001b[0mreward\u001b[0m\u001b[0;34m,\u001b[0m \u001b[0mgame_over\u001b[0m\u001b[0;34m)\u001b[0m\u001b[0;34m\u001b[0m\u001b[0;34m\u001b[0m\u001b[0m\n\u001b[0m\u001b[1;32m     32\u001b[0m \u001b[0;34m\u001b[0m\u001b[0m\n\u001b[1;32m     33\u001b[0m         \u001b[0;31m# Save as a mp4\u001b[0m\u001b[0;34m\u001b[0m\u001b[0;34m\u001b[0m\u001b[0;34m\u001b[0m\u001b[0m\n",
            "\u001b[0;32m<ipython-input-119-f5faffe95236>\u001b[0m in \u001b[0;36mreinforce\u001b[0;34m(self, s_, n_s_, a_, r_, game_over_)\u001b[0m\n\u001b[1;32m     35\u001b[0m             \u001b[0ms_\u001b[0m\u001b[0;34m,\u001b[0m \u001b[0mn_s_\u001b[0m\u001b[0;34m,\u001b[0m \u001b[0ma_\u001b[0m\u001b[0;34m,\u001b[0m \u001b[0mr_\u001b[0m\u001b[0;34m,\u001b[0m \u001b[0mgame_over_\u001b[0m  \u001b[0;34m=\u001b[0m \u001b[0mself\u001b[0m\u001b[0;34m.\u001b[0m\u001b[0mmemory\u001b[0m\u001b[0;34m.\u001b[0m\u001b[0mrandom_access\u001b[0m\u001b[0;34m(\u001b[0m\u001b[0;34m)\u001b[0m\u001b[0;34m\u001b[0m\u001b[0;34m\u001b[0m\u001b[0m\n\u001b[1;32m     36\u001b[0m \u001b[0;34m\u001b[0m\u001b[0m\n\u001b[0;32m---> 37\u001b[0;31m             \u001b[0mactions\u001b[0m \u001b[0;34m=\u001b[0m \u001b[0mself\u001b[0m\u001b[0;34m.\u001b[0m\u001b[0mmodel\u001b[0m\u001b[0;34m.\u001b[0m\u001b[0mpredict\u001b[0m\u001b[0;34m(\u001b[0m\u001b[0mnp\u001b[0m\u001b[0;34m.\u001b[0m\u001b[0mexpand_dims\u001b[0m\u001b[0;34m(\u001b[0m\u001b[0ms_\u001b[0m\u001b[0;34m,\u001b[0m \u001b[0;36m0\u001b[0m\u001b[0;34m)\u001b[0m\u001b[0;34m)\u001b[0m\u001b[0;34m\u001b[0m\u001b[0;34m\u001b[0m\u001b[0m\n\u001b[0m\u001b[1;32m     38\u001b[0m             \u001b[0mvalue_max_action\u001b[0m \u001b[0;34m=\u001b[0m \u001b[0mnp\u001b[0m\u001b[0;34m.\u001b[0m\u001b[0mmax\u001b[0m\u001b[0;34m(\u001b[0m\u001b[0mactions\u001b[0m\u001b[0;34m)\u001b[0m\u001b[0;34m\u001b[0m\u001b[0;34m\u001b[0m\u001b[0m\n\u001b[1;32m     39\u001b[0m \u001b[0;34m\u001b[0m\u001b[0m\n",
            "\u001b[0;32m/usr/local/lib/python3.6/dist-packages/keras/engine/training.py\u001b[0m in \u001b[0;36mpredict\u001b[0;34m(self, x, batch_size, verbose, steps)\u001b[0m\n\u001b[1;32m   1167\u001b[0m                                             \u001b[0mbatch_size\u001b[0m\u001b[0;34m=\u001b[0m\u001b[0mbatch_size\u001b[0m\u001b[0;34m,\u001b[0m\u001b[0;34m\u001b[0m\u001b[0;34m\u001b[0m\u001b[0m\n\u001b[1;32m   1168\u001b[0m                                             \u001b[0mverbose\u001b[0m\u001b[0;34m=\u001b[0m\u001b[0mverbose\u001b[0m\u001b[0;34m,\u001b[0m\u001b[0;34m\u001b[0m\u001b[0;34m\u001b[0m\u001b[0m\n\u001b[0;32m-> 1169\u001b[0;31m                                             steps=steps)\n\u001b[0m\u001b[1;32m   1170\u001b[0m \u001b[0;34m\u001b[0m\u001b[0m\n\u001b[1;32m   1171\u001b[0m     def train_on_batch(self, x, y,\n",
            "\u001b[0;32m/usr/local/lib/python3.6/dist-packages/keras/engine/training_arrays.py\u001b[0m in \u001b[0;36mpredict_loop\u001b[0;34m(model, f, ins, batch_size, verbose, steps)\u001b[0m\n\u001b[1;32m    292\u001b[0m                 \u001b[0mins_batch\u001b[0m\u001b[0;34m[\u001b[0m\u001b[0mi\u001b[0m\u001b[0;34m]\u001b[0m \u001b[0;34m=\u001b[0m \u001b[0mins_batch\u001b[0m\u001b[0;34m[\u001b[0m\u001b[0mi\u001b[0m\u001b[0;34m]\u001b[0m\u001b[0;34m.\u001b[0m\u001b[0mtoarray\u001b[0m\u001b[0;34m(\u001b[0m\u001b[0;34m)\u001b[0m\u001b[0;34m\u001b[0m\u001b[0;34m\u001b[0m\u001b[0m\n\u001b[1;32m    293\u001b[0m \u001b[0;34m\u001b[0m\u001b[0m\n\u001b[0;32m--> 294\u001b[0;31m             \u001b[0mbatch_outs\u001b[0m \u001b[0;34m=\u001b[0m \u001b[0mf\u001b[0m\u001b[0;34m(\u001b[0m\u001b[0mins_batch\u001b[0m\u001b[0;34m)\u001b[0m\u001b[0;34m\u001b[0m\u001b[0;34m\u001b[0m\u001b[0m\n\u001b[0m\u001b[1;32m    295\u001b[0m             \u001b[0mbatch_outs\u001b[0m \u001b[0;34m=\u001b[0m \u001b[0mto_list\u001b[0m\u001b[0;34m(\u001b[0m\u001b[0mbatch_outs\u001b[0m\u001b[0;34m)\u001b[0m\u001b[0;34m\u001b[0m\u001b[0;34m\u001b[0m\u001b[0m\n\u001b[1;32m    296\u001b[0m             \u001b[0;32mif\u001b[0m \u001b[0mbatch_index\u001b[0m \u001b[0;34m==\u001b[0m \u001b[0;36m0\u001b[0m\u001b[0;34m:\u001b[0m\u001b[0;34m\u001b[0m\u001b[0;34m\u001b[0m\u001b[0m\n",
            "\u001b[0;32m/usr/local/lib/python3.6/dist-packages/keras/backend/tensorflow_backend.py\u001b[0m in \u001b[0;36m__call__\u001b[0;34m(self, inputs)\u001b[0m\n\u001b[1;32m   2713\u001b[0m                 \u001b[0;32mreturn\u001b[0m \u001b[0mself\u001b[0m\u001b[0;34m.\u001b[0m\u001b[0m_legacy_call\u001b[0m\u001b[0;34m(\u001b[0m\u001b[0minputs\u001b[0m\u001b[0;34m)\u001b[0m\u001b[0;34m\u001b[0m\u001b[0;34m\u001b[0m\u001b[0m\n\u001b[1;32m   2714\u001b[0m \u001b[0;34m\u001b[0m\u001b[0m\n\u001b[0;32m-> 2715\u001b[0;31m             \u001b[0;32mreturn\u001b[0m \u001b[0mself\u001b[0m\u001b[0;34m.\u001b[0m\u001b[0m_call\u001b[0m\u001b[0;34m(\u001b[0m\u001b[0minputs\u001b[0m\u001b[0;34m)\u001b[0m\u001b[0;34m\u001b[0m\u001b[0;34m\u001b[0m\u001b[0m\n\u001b[0m\u001b[1;32m   2716\u001b[0m         \u001b[0;32melse\u001b[0m\u001b[0;34m:\u001b[0m\u001b[0;34m\u001b[0m\u001b[0;34m\u001b[0m\u001b[0m\n\u001b[1;32m   2717\u001b[0m             \u001b[0;32mif\u001b[0m \u001b[0mpy_any\u001b[0m\u001b[0;34m(\u001b[0m\u001b[0mis_tensor\u001b[0m\u001b[0;34m(\u001b[0m\u001b[0mx\u001b[0m\u001b[0;34m)\u001b[0m \u001b[0;32mfor\u001b[0m \u001b[0mx\u001b[0m \u001b[0;32min\u001b[0m \u001b[0minputs\u001b[0m\u001b[0;34m)\u001b[0m\u001b[0;34m:\u001b[0m\u001b[0;34m\u001b[0m\u001b[0;34m\u001b[0m\u001b[0m\n",
            "\u001b[0;32m/usr/local/lib/python3.6/dist-packages/keras/backend/tensorflow_backend.py\u001b[0m in \u001b[0;36m_call\u001b[0;34m(self, inputs)\u001b[0m\n\u001b[1;32m   2673\u001b[0m             \u001b[0mfetched\u001b[0m \u001b[0;34m=\u001b[0m \u001b[0mself\u001b[0m\u001b[0;34m.\u001b[0m\u001b[0m_callable_fn\u001b[0m\u001b[0;34m(\u001b[0m\u001b[0;34m*\u001b[0m\u001b[0marray_vals\u001b[0m\u001b[0;34m,\u001b[0m \u001b[0mrun_metadata\u001b[0m\u001b[0;34m=\u001b[0m\u001b[0mself\u001b[0m\u001b[0;34m.\u001b[0m\u001b[0mrun_metadata\u001b[0m\u001b[0;34m)\u001b[0m\u001b[0;34m\u001b[0m\u001b[0;34m\u001b[0m\u001b[0m\n\u001b[1;32m   2674\u001b[0m         \u001b[0;32melse\u001b[0m\u001b[0;34m:\u001b[0m\u001b[0;34m\u001b[0m\u001b[0;34m\u001b[0m\u001b[0m\n\u001b[0;32m-> 2675\u001b[0;31m             \u001b[0mfetched\u001b[0m \u001b[0;34m=\u001b[0m \u001b[0mself\u001b[0m\u001b[0;34m.\u001b[0m\u001b[0m_callable_fn\u001b[0m\u001b[0;34m(\u001b[0m\u001b[0;34m*\u001b[0m\u001b[0marray_vals\u001b[0m\u001b[0;34m)\u001b[0m\u001b[0;34m\u001b[0m\u001b[0;34m\u001b[0m\u001b[0m\n\u001b[0m\u001b[1;32m   2676\u001b[0m         \u001b[0;32mreturn\u001b[0m \u001b[0mfetched\u001b[0m\u001b[0;34m[\u001b[0m\u001b[0;34m:\u001b[0m\u001b[0mlen\u001b[0m\u001b[0;34m(\u001b[0m\u001b[0mself\u001b[0m\u001b[0;34m.\u001b[0m\u001b[0moutputs\u001b[0m\u001b[0;34m)\u001b[0m\u001b[0;34m]\u001b[0m\u001b[0;34m\u001b[0m\u001b[0;34m\u001b[0m\u001b[0m\n\u001b[1;32m   2677\u001b[0m \u001b[0;34m\u001b[0m\u001b[0m\n",
            "\u001b[0;32m/usr/local/lib/python3.6/dist-packages/tensorflow/python/client/session.py\u001b[0m in \u001b[0;36m__call__\u001b[0;34m(self, *args, **kwargs)\u001b[0m\n\u001b[1;32m   1437\u001b[0m           ret = tf_session.TF_SessionRunCallable(\n\u001b[1;32m   1438\u001b[0m               \u001b[0mself\u001b[0m\u001b[0;34m.\u001b[0m\u001b[0m_session\u001b[0m\u001b[0;34m.\u001b[0m\u001b[0m_session\u001b[0m\u001b[0;34m,\u001b[0m \u001b[0mself\u001b[0m\u001b[0;34m.\u001b[0m\u001b[0m_handle\u001b[0m\u001b[0;34m,\u001b[0m \u001b[0margs\u001b[0m\u001b[0;34m,\u001b[0m \u001b[0mstatus\u001b[0m\u001b[0;34m,\u001b[0m\u001b[0;34m\u001b[0m\u001b[0;34m\u001b[0m\u001b[0m\n\u001b[0;32m-> 1439\u001b[0;31m               run_metadata_ptr)\n\u001b[0m\u001b[1;32m   1440\u001b[0m         \u001b[0;32mif\u001b[0m \u001b[0mrun_metadata\u001b[0m\u001b[0;34m:\u001b[0m\u001b[0;34m\u001b[0m\u001b[0;34m\u001b[0m\u001b[0m\n\u001b[1;32m   1441\u001b[0m           \u001b[0mproto_data\u001b[0m \u001b[0;34m=\u001b[0m \u001b[0mtf_session\u001b[0m\u001b[0;34m.\u001b[0m\u001b[0mTF_GetBuffer\u001b[0m\u001b[0;34m(\u001b[0m\u001b[0mrun_metadata_ptr\u001b[0m\u001b[0;34m)\u001b[0m\u001b[0;34m\u001b[0m\u001b[0;34m\u001b[0m\u001b[0m\n",
            "\u001b[0;31mKeyboardInterrupt\u001b[0m: "
          ]
        }
      ]
    },
    {
      "metadata": {
        "id": "wgeO6YOie8Qm",
        "colab_type": "text"
      },
      "cell_type": "markdown",
      "source": [
        "***\n",
        "***\n",
        "__Question 8__ Implement the DQN training algorithm using a CNN (for example, 2 convolutional layers and one final fully connected layer)."
      ]
    },
    {
      "metadata": {
        "id": "UW8ysoEZe8Qn",
        "colab_type": "code",
        "colab": {}
      },
      "cell_type": "code",
      "source": [
        "class DQN_CNN(DQN):\n",
        "    def __init__(self, *args,lr=0.1,**kwargs):\n",
        "        super(DQN_CNN, self).__init__(*args,**kwargs)\n",
        "        \n",
        "        model = Sequential()\n",
        "        model.add(Conv2D(64, 2, activation='relu'))\n",
        "        model.add(Conv2D(64, 2, activation='relu'))\n",
        "        model.add(Dropout(keep_prob=0.5))\n",
        "        model.add(Drop)\n",
        "        model.add(Flatten())\n",
        "        # model.add(Dense(16, activation='relu'))\n",
        "        model.add(Dense(4, activation='softmax'))\n",
        "        \n",
        "        model.compile(sgd(lr=lr, decay=1e-4, momentum=0.1), \"mse\")\n",
        "        self.model = model"
      ],
      "execution_count": 0,
      "outputs": []
    },
    {
      "metadata": {
        "id": "dEQv-Guie8Qq",
        "colab_type": "code",
        "outputId": "699e2076-356f-46d1-deab-7c2186ed3400",
        "colab": {
          "base_uri": "https://localhost:8080/",
          "height": 1398
        }
      },
      "cell_type": "code",
      "source": [
        "epochs_train = 64\n",
        "# epochs_test = 128\n",
        "\n",
        "env = Environment(grid_size=size, max_time=T, temperature=0.3)\n",
        "agent = DQN_CNN(size, lr=.1, epsilon = 0.5, memory_size=500, batch_size = 64)\n",
        "\n",
        "train(agent,env,epochs_train,prefix='cnn_train')\n",
        "# test(agent,env,epochs_test,prefix='cnn_train')\n",
        "\n",
        "\n",
        "video_paths = glob.glob(\"cnn_train*.mp4\")\n",
        "video_paths.sort()\n",
        "best_video_path = video_paths.pop()\n",
        "print(\"Displaying \", best_video_path)\n",
        "HTML(display_videos(best_video_path))"
      ],
      "execution_count": 113,
      "outputs": [
        {
          "output_type": "stream",
          "text": [
            "Epoch 001/064 | Loss 0.0066 | Win/lose count 4.0/2.0 (2.0)\n",
            "Epoch 002/064 | Loss 0.0108 | Win/lose count 5.5/6.0 (-0.5)\n",
            "Epoch 003/064 | Loss 0.0126 | Win/lose count 5.5/12.0 (-6.5)\n",
            "Epoch 004/064 | Loss 0.0021 | Win/lose count 4.5/10.0 (-5.5)\n",
            "Epoch 005/064 | Loss 0.0092 | Win/lose count 6.5/10.0 (-3.5)\n",
            "Epoch 006/064 | Loss 0.0096 | Win/lose count 5.0/8.0 (-3.0)\n",
            "Epoch 007/064 | Loss 0.0087 | Win/lose count 7.0/2.0 (5.0)\n",
            "Epoch 008/064 | Loss 0.0102 | Win/lose count 9.0/11.0 (-2.0)\n",
            "Epoch 009/064 | Loss 0.0109 | Win/lose count 5.5/8.0 (-2.5)\n",
            "Epoch 010/064 | Loss 0.0180 | Win/lose count 9.0/14.0 (-5.0)\n",
            "Epoch 011/064 | Loss 0.0185 | Win/lose count 4.0/9.0 (-5.0)\n",
            "Epoch 012/064 | Loss 0.0065 | Win/lose count 11.0/8.0 (3.0)\n",
            "Epoch 013/064 | Loss 0.0119 | Win/lose count 12.5/16.0 (-3.5)\n",
            "Epoch 014/064 | Loss 0.0164 | Win/lose count 8.5/4.0 (4.5)\n",
            "Epoch 015/064 | Loss 0.0099 | Win/lose count 3.5/6.0 (-2.5)\n",
            "Epoch 016/064 | Loss 0.0088 | Win/lose count 4.0/5.0 (-1.0)\n",
            "Epoch 017/064 | Loss 0.0136 | Win/lose count 7.0/8.0 (-1.0)\n",
            "Epoch 018/064 | Loss 0.0149 | Win/lose count 14.0/11.0 (3.0)\n",
            "Epoch 019/064 | Loss 0.0116 | Win/lose count 9.0/5.0 (4.0)\n",
            "Epoch 020/064 | Loss 0.0066 | Win/lose count 5.0/6.0 (-1.0)\n",
            "Epoch 021/064 | Loss 0.0128 | Win/lose count 10.5/6.0 (4.5)\n",
            "Epoch 022/064 | Loss 0.0108 | Win/lose count 11.0/4.0 (7.0)\n",
            "Epoch 023/064 | Loss 0.0075 | Win/lose count 6.0/10.0 (-4.0)\n",
            "Epoch 024/064 | Loss 0.0126 | Win/lose count 10.0/10.0 (0.0)\n",
            "Epoch 025/064 | Loss 0.0106 | Win/lose count 9.0/6.0 (3.0)\n",
            "Epoch 026/064 | Loss 0.0161 | Win/lose count 8.0/5.0 (3.0)\n",
            "Epoch 027/064 | Loss 0.0107 | Win/lose count 7.0/9.0 (-2.0)\n",
            "Epoch 028/064 | Loss 0.0044 | Win/lose count 7.0/10.0 (-3.0)\n",
            "Epoch 029/064 | Loss 0.0087 | Win/lose count 5.0/9.0 (-4.0)\n",
            "Epoch 030/064 | Loss 0.0144 | Win/lose count 9.5/11.0 (-1.5)\n",
            "Epoch 031/064 | Loss 0.0091 | Win/lose count 9.5/4.0 (5.5)\n",
            "Epoch 032/064 | Loss 0.0092 | Win/lose count 6.0/10.0 (-4.0)\n",
            "Epoch 033/064 | Loss 0.0136 | Win/lose count 6.5/11.0 (-4.5)\n",
            "Epoch 034/064 | Loss 0.0037 | Win/lose count 7.0/6.0 (1.0)\n",
            "Epoch 035/064 | Loss 0.0134 | Win/lose count 7.0/4.0 (3.0)\n",
            "Epoch 036/064 | Loss 0.0073 | Win/lose count 4.5/6.0 (-1.5)\n",
            "Epoch 037/064 | Loss 0.0110 | Win/lose count 15.5/4.0 (11.5)\n",
            "Epoch 038/064 | Loss 0.0120 | Win/lose count 9.5/7.0 (2.5)\n",
            "Epoch 039/064 | Loss 0.0121 | Win/lose count 10.0/4.0 (6.0)\n",
            "Epoch 040/064 | Loss 0.0145 | Win/lose count 10.0/7.0 (3.0)\n",
            "Epoch 041/064 | Loss 0.0095 | Win/lose count 13.0/8.0 (5.0)\n",
            "Epoch 042/064 | Loss 0.0173 | Win/lose count 12.0/10.0 (2.0)\n",
            "Epoch 043/064 | Loss 0.0184 | Win/lose count 14.5/9.0 (5.5)\n",
            "Epoch 044/064 | Loss 0.0093 | Win/lose count 17.0/7.0 (10.0)\n",
            "Epoch 045/064 | Loss 0.0113 | Win/lose count 9.5/5.0 (4.5)\n",
            "Epoch 046/064 | Loss 0.0187 | Win/lose count 13.5/11.0 (2.5)\n",
            "Epoch 047/064 | Loss 0.0195 | Win/lose count 16.0/7.0 (9.0)\n",
            "Epoch 048/064 | Loss 0.0138 | Win/lose count 12.0/11.0 (1.0)\n",
            "Epoch 049/064 | Loss 0.0149 | Win/lose count 15.0/16.0 (-1.0)\n",
            "Epoch 050/064 | Loss 0.0248 | Win/lose count 18.5/9.0 (9.5)\n",
            "Epoch 051/064 | Loss 0.0286 | Win/lose count 18.0/13.0 (5.0)\n",
            "Epoch 052/064 | Loss 0.0198 | Win/lose count 12.5/8.0 (4.5)\n",
            "Epoch 053/064 | Loss 0.0145 | Win/lose count 16.5/12.0 (4.5)\n",
            "Epoch 054/064 | Loss 0.0197 | Win/lose count 17.0/19.0 (-2.0)\n",
            "Epoch 055/064 | Loss 0.0304 | Win/lose count 10.5/12.0 (-1.5)\n",
            "Epoch 056/064 | Loss 0.0223 | Win/lose count 22.5/8.0 (14.5)\n",
            "Epoch 057/064 | Loss 0.0201 | Win/lose count 14.5/11.0 (3.5)\n",
            "Epoch 058/064 | Loss 0.0118 | Win/lose count 4.5/12.0 (-7.5)\n",
            "Epoch 059/064 | Loss 0.0199 | Win/lose count 15.5/15.0 (0.5)\n",
            "Epoch 060/064 | Loss 0.0174 | Win/lose count 7.5/4.0 (3.5)\n",
            "Epoch 061/064 | Loss 0.0127 | Win/lose count 8.5/7.0 (1.5)\n",
            "Epoch 062/064 | Loss 0.0153 | Win/lose count 14.0/15.0 (-1.0)\n",
            "Epoch 063/064 | Loss 0.0182 | Win/lose count 16.0/8.0 (8.0)\n",
            "Epoch 064/064 | Loss 0.0123 | Win/lose count 15.5/8.0 (7.5)\n",
            "Displaying  cnn_train90.mp4\n"
          ],
          "name": "stdout"
        },
        {
          "output_type": "execute_result",
          "data": {
            "text/html": [
              "<video alt=\"test\" controls>\n",
              "                <source src=\"data:video/mp4;base64,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\" type=\"video/mp4\" />\n",
              "             </video>"
            ],
            "text/plain": [
              "<IPython.core.display.HTML object>"
            ]
          },
          "metadata": {
            "tags": []
          },
          "execution_count": 113
        }
      ]
    },
    {
      "metadata": {
        "id": "ZEa5R3rHe8Qt",
        "colab_type": "text"
      },
      "cell_type": "markdown",
      "source": [
        "***\n",
        "***\n",
        "__Question 9__ Test both algorithms and compare their performances. Which issue(s) do you observe? Observe also different behaviors by changing the temperature."
      ]
    },
    {
      "metadata": {
        "id": "dGOlGh_ve8Qu",
        "colab_type": "code",
        "colab": {
          "base_uri": "https://localhost:8080/",
          "height": 2261
        },
        "outputId": "fb8f005e-a4d3-4bef-8474-6999a9cae1fa"
      },
      "cell_type": "code",
      "source": [
        "# epochs_train = 128\n",
        "epochs_test = 64\n",
        "\n",
        "env = Environment(grid_size=size, max_time=T,temperature=0.3)\n",
        "agent_cnn = DQN_CNN(size, lr=.1, epsilon = 0.5, memory_size=500, batch_size = 32)\n",
        "agent_cnn.load(name_weights='cnn_trainmodel.h5',name_model='cnn_trainmodel.json')\n",
        "\n",
        "agent_fc = DQN_FC(size, lr=.1, epsilon = 0.5, memory_size=500, batch_size = 32)\n",
        "agent_cnn.load(name_weights='fc_trainmodel.h5',name_model='fc_trainmodel.json')\n",
        "print('Test of the CNN')\n",
        "test(agent_cnn,env,epochs_test,prefix='cnn_test')\n",
        "print('Test of the FC')\n",
        "test(agent_fc,env,epochs_test,prefix='fc_test')"
      ],
      "execution_count": 106,
      "outputs": [
        {
          "output_type": "stream",
          "text": [
            "Test of the CNN\n",
            "Win/lose count 3.0/0. Average score (3.0)\n",
            "Win/lose count 3.0/0. Average score (3.0)\n",
            "Win/lose count 6.5/0. Average score (4.166666666666667)\n",
            "Win/lose count 1.5/0. Average score (3.5)\n",
            "Win/lose count 3.5/0. Average score (3.5)\n",
            "Win/lose count 5.0/0. Average score (3.75)\n",
            "Win/lose count 3.0/0. Average score (3.642857142857143)\n",
            "Win/lose count 14.5/0. Average score (5.0)\n",
            "Win/lose count 2.5/1.0. Average score (4.611111111111111)\n",
            "Win/lose count 1.5/0. Average score (4.3)\n",
            "Win/lose count 4.5/0. Average score (4.318181818181818)\n",
            "Win/lose count 8.0/0. Average score (4.625)\n",
            "Win/lose count 2.5/0. Average score (4.461538461538462)\n",
            "Win/lose count 2.5/0. Average score (4.321428571428571)\n",
            "Win/lose count 1.5/0. Average score (4.133333333333334)\n",
            "Win/lose count 2.5/0. Average score (4.03125)\n",
            "Win/lose count 3.0/0. Average score (3.9705882352941178)\n",
            "Win/lose count 3.0/0. Average score (3.9166666666666665)\n",
            "Win/lose count 5.0/0. Average score (3.973684210526316)\n",
            "Win/lose count 1.0/0. Average score (3.825)\n",
            "Win/lose count 1.0/0. Average score (3.6904761904761907)\n",
            "Win/lose count 1.0/0. Average score (3.5681818181818183)\n",
            "Win/lose count 7.0/0. Average score (3.717391304347826)\n",
            "Win/lose count 7.0/0. Average score (3.8541666666666665)\n",
            "Win/lose count 4.0/0. Average score (3.86)\n",
            "Win/lose count 3.0/0. Average score (3.826923076923077)\n",
            "Win/lose count 0.5/0. Average score (3.7037037037037037)\n",
            "Win/lose count 4.5/0. Average score (3.732142857142857)\n",
            "Win/lose count 0.5/0. Average score (3.6206896551724137)\n",
            "Win/lose count 2.5/0. Average score (3.5833333333333335)\n",
            "Win/lose count 2.0/0. Average score (3.532258064516129)\n",
            "Win/lose count 3.0/0. Average score (3.515625)\n",
            "Win/lose count 2.0/1.0. Average score (3.4393939393939394)\n",
            "Win/lose count 14.5/0. Average score (3.764705882352941)\n",
            "Win/lose count 0.0/0. Average score (3.657142857142857)\n",
            "Win/lose count 10.5/0. Average score (3.8472222222222223)\n",
            "Win/lose count 10.5/1.0. Average score (4.0)\n",
            "Win/lose count 7.5/0. Average score (4.092105263157895)\n",
            "Win/lose count 7.0/0. Average score (4.166666666666667)\n",
            "Win/lose count 0.5/0. Average score (4.075)\n",
            "Win/lose count 4.0/0. Average score (4.073170731707317)\n",
            "Win/lose count 4.0/0. Average score (4.071428571428571)\n",
            "Win/lose count 2.0/0. Average score (4.023255813953488)\n",
            "Win/lose count 1.0/0. Average score (3.9545454545454546)\n",
            "Win/lose count 3.0/0. Average score (3.933333333333333)\n",
            "Win/lose count 3.5/0. Average score (3.9239130434782608)\n",
            "Win/lose count 4.0/0. Average score (3.925531914893617)\n",
            "Win/lose count 0.5/0. Average score (3.8541666666666665)\n",
            "Win/lose count 0.5/1.0. Average score (3.7653061224489797)\n",
            "Win/lose count 5.5/0. Average score (3.8)\n",
            "Win/lose count 4.5/0. Average score (3.8137254901960786)\n",
            "Win/lose count 0.0/0. Average score (3.7403846153846154)\n",
            "Win/lose count 1.5/0. Average score (3.69811320754717)\n",
            "Win/lose count 1.5/0. Average score (3.6574074074074074)\n",
            "Win/lose count 1.5/1.0. Average score (3.6)\n",
            "Win/lose count 2.0/0. Average score (3.5714285714285716)\n",
            "Win/lose count 3.0/0. Average score (3.56140350877193)\n",
            "Win/lose count 3.0/0. Average score (3.5517241379310347)\n",
            "Win/lose count 1.0/0. Average score (3.5084745762711864)\n",
            "Win/lose count 0.0/0. Average score (3.45)\n",
            "Win/lose count 1.0/0. Average score (3.4098360655737703)\n",
            "Win/lose count 6.0/0. Average score (3.4516129032258065)\n",
            "Win/lose count 3.5/0. Average score (3.4523809523809526)\n",
            "Win/lose count 3.5/0. Average score (3.453125)\n",
            "Final score: 3.453125\n",
            "Test of the FC\n",
            "Win/lose count 1.0/1.0. Average score (0.0)\n",
            "Win/lose count 0.5/0. Average score (0.25)\n",
            "Win/lose count 3.5/2.0. Average score (0.6666666666666666)\n",
            "Win/lose count 0.0/0. Average score (0.5)\n",
            "Win/lose count 0.5/2.0. Average score (0.1)\n",
            "Win/lose count 0.5/0. Average score (0.16666666666666666)\n",
            "Win/lose count 1.5/2.0. Average score (0.07142857142857142)\n",
            "Win/lose count 0.5/0. Average score (0.125)\n",
            "Win/lose count 0.0/0. Average score (0.1111111111111111)\n",
            "Win/lose count 6.0/1.0. Average score (0.6)\n",
            "Win/lose count 1.0/3.0. Average score (0.36363636363636365)\n",
            "Win/lose count 0.0/0. Average score (0.3333333333333333)\n",
            "Win/lose count 0.5/0. Average score (0.34615384615384615)\n",
            "Win/lose count 2.0/1.0. Average score (0.39285714285714285)\n",
            "Win/lose count 0.5/0. Average score (0.4)\n",
            "Win/lose count 1.5/0. Average score (0.46875)\n",
            "Win/lose count 0.5/0. Average score (0.47058823529411764)\n",
            "Win/lose count 2.0/1.0. Average score (0.5)\n",
            "Win/lose count 2.5/2.0. Average score (0.5)\n",
            "Win/lose count 4.0/4.0. Average score (0.475)\n",
            "Win/lose count 0.0/0. Average score (0.4523809523809524)\n",
            "Win/lose count 0.0/3.0. Average score (0.29545454545454547)\n",
            "Win/lose count 0.5/0. Average score (0.30434782608695654)\n",
            "Win/lose count 2.0/1.0. Average score (0.3333333333333333)\n",
            "Win/lose count 2.5/2.0. Average score (0.34)\n",
            "Win/lose count 0.0/1.0. Average score (0.28846153846153844)\n",
            "Win/lose count 1.0/1.0. Average score (0.2777777777777778)\n",
            "Win/lose count 0.5/1.0. Average score (0.25)\n",
            "Win/lose count 0.0/1.0. Average score (0.20689655172413793)\n",
            "Win/lose count 0.0/1.0. Average score (0.16666666666666666)\n",
            "Win/lose count 1.5/1.0. Average score (0.1774193548387097)\n",
            "Win/lose count 1.5/0. Average score (0.21875)\n",
            "Win/lose count 1.0/0. Average score (0.24242424242424243)\n",
            "Win/lose count 0.0/1.0. Average score (0.20588235294117646)\n",
            "Win/lose count 1.0/1.0. Average score (0.2)\n",
            "Win/lose count 0.0/1.0. Average score (0.16666666666666666)\n",
            "Win/lose count 3.0/3.0. Average score (0.16216216216216217)\n",
            "Win/lose count 1.0/1.0. Average score (0.15789473684210525)\n",
            "Win/lose count 1.0/3.0. Average score (0.10256410256410256)\n",
            "Win/lose count 2.0/2.0. Average score (0.1)\n",
            "Win/lose count 0.0/0. Average score (0.0975609756097561)\n",
            "Win/lose count 0.0/0. Average score (0.09523809523809523)\n",
            "Win/lose count 1.0/1.0. Average score (0.09302325581395349)\n",
            "Win/lose count 1.0/3.0. Average score (0.045454545454545456)\n",
            "Win/lose count 3.0/0. Average score (0.1111111111111111)\n",
            "Win/lose count 1.5/3.0. Average score (0.07608695652173914)\n",
            "Win/lose count 1.5/1.0. Average score (0.0851063829787234)\n",
            "Win/lose count 0.5/1.0. Average score (0.07291666666666667)\n",
            "Win/lose count 1.5/1.0. Average score (0.08163265306122448)\n",
            "Win/lose count 4.5/3.0. Average score (0.11)\n",
            "Win/lose count 0.5/0. Average score (0.11764705882352941)\n",
            "Win/lose count 2.0/1.0. Average score (0.1346153846153846)\n",
            "Win/lose count 0.5/3.0. Average score (0.08490566037735849)\n",
            "Win/lose count 1.5/0. Average score (0.1111111111111111)\n",
            "Win/lose count 0.0/1.0. Average score (0.09090909090909091)\n",
            "Win/lose count 2.0/3.0. Average score (0.07142857142857142)\n",
            "Win/lose count 0.5/1.0. Average score (0.06140350877192982)\n",
            "Win/lose count 0.5/3.0. Average score (0.017241379310344827)\n",
            "Win/lose count 1.5/1.0. Average score (0.025423728813559324)\n",
            "Win/lose count 1.0/2.0. Average score (0.008333333333333333)\n",
            "Win/lose count 6.5/4.0. Average score (0.04918032786885246)\n",
            "Win/lose count 2.5/0. Average score (0.08870967741935484)\n",
            "Win/lose count 0.5/1.0. Average score (0.07936507936507936)\n",
            "Win/lose count 1.5/1.0. Average score (0.0859375)\n",
            "Final score: 0.0859375\n"
          ],
          "name": "stdout"
        }
      ]
    },
    {
      "metadata": {
        "id": "mdZ2s9c1e8Qw",
        "colab_type": "code",
        "colab": {
          "base_uri": "https://localhost:8080/",
          "height": 310
        },
        "outputId": "e23044b1-0212-487d-b18b-08e5a36093ca"
      },
      "cell_type": "code",
      "source": [
        "video_paths = glob.glob(\"cnn_test*.mp4\")\n",
        "video_paths.sort()\n",
        "best_video_path = video_paths.pop()\n",
        "print(\"Displaying \", best_video_path)\n",
        "HTML(display_videos(best_video_path))"
      ],
      "execution_count": 107,
      "outputs": [
        {
          "output_type": "stream",
          "text": [
            "Displaying  cnn_test99.mp4\n"
          ],
          "name": "stdout"
        },
        {
          "output_type": "execute_result",
          "data": {
            "text/html": [
              "<video alt=\"test\" controls>\n",
              "                <source src=\"data:video/mp4;base64,AAAAIGZ0eXBpc29tAAACAGlzb21pc28yYXZjMW1wNDEAAAAIZnJlZQAAFQFtZGF0AAACrQYF//+p3EXpvebZSLeWLNgg2SPu73gyNjQgLSBjb3JlIDE1MiByMjg1NCBlOWE1OTAzIC0gSC4yNjQvTVBFRy00IEFWQyBjb2RlYyAtIENvcHlsZWZ0IDIwMDMtMjAxNyAtIGh0dHA6Ly93d3cudmlkZW9sYW4ub3JnL3gyNjQuaHRtbCAtIG9wdGlvbnM6IGNhYmFjPTEgcmVmPTMgZGVibG9jaz0xOjA6MCBhbmFseXNlPTB4MToweDExMSBtZT1oZXggc3VibWU9NyBwc3k9MSBwc3lfcmQ9MS4wMDowLjAwIG1peGVkX3JlZj0xIG1lX3JhbmdlPTE2IGNocm9tYV9tZT0xIHRyZWxsaXM9MSA4eDhkY3Q9MCBjcW09MCBkZWFkem9uZT0yMSwxMSBmYXN0X3Bza2lwPTEgY2hyb21hX3FwX29mZnNldD00IHRocmVhZHM9MyBsb29rYWhlYWRfdGhyZWFkcz0xIHNsaWNlZF90aHJlYWRzPTAgbnI9MCBkZWNpbWF0ZT0xIGludGVybGFjZWQ9MCBibHVyYXlfY29tcGF0PTAgY29uc3RyYWluZWRfaW50cmE9MCBiZnJhbWVzPTMgYl9weXJhbWlkPTIgYl9hZGFwdD0xIGJfYmlhcz0wIGRpcmVjdD0xIHdlaWdodGI9MSBvcGVuX2dvcD0wIHdlaWdodHA9MiBrZXlpbnQ9MjUwIGtleWludF9taW49MjUgc2NlbmVjdXQ9NDAgaW50cmFfcmVmcmVzaD0wIHJjX2xvb2thaGVhZD00MCByYz1jcmYgbWJ0cmVlPTEgY3JmPTIzLjAgcWNvbXA9MC42MCBxcG1pbj0wIHFwbWF4PTY5IHFwc3RlcD00IGlwX3JhdGlvPTEuNDAgYXE9MToxLjAwAIAAAALOZYiEADf//vaH+BTZWBP+Wb/9DX/cj9uPrP1xYyEE31qvIejAGS+1H+b/rFFs6Z6UB/fgCJQAc24ZwpIoZ/8CmWxwvgUK/HEacX14Wn+DO2SLIy0dLyUtMzNhZgA5cjQCQhbmQk7cZA/5JFFPnd1JJH/uwNqULQJI35DZLueivBthNgKOjFbE3Jnkyw+ggK2VHcvLaLH26huKEsdhSKm503ag5C3Ao2annLC5KS4JQkVGhshIXie2t6nnh8YivVtDR8xV0Y9AovCJ9rFQSFLvg7MJrM6MZSGzo4QvvvGmcjnUiQlyd8Wo6lQ6eT1iCrjsWNfRbgi8jlnYk+wK0Z95CQlHDlvqLmOlTjmkwhNt4XeXpfISl5q1ShyRR6osMjW+MbMQz055054ALbibAIvHPnO1K1cHRDPaZBgHbSuYUti/QfB15LC8dcVEkVfzlHwAPjhP1Ou8CepDj0rT1CqOITFkrjnFNjJPQUZHHq+0SWC8uHrgSt3weGspabGmZcYJonQKURuiJHeBztu4TgNu+cQcSrCEqrgkKCi9/G07OAwY6QFVHQNZVwwWXHyPr5zDOA4fXEt1kv24NSJUEVjwTEZTbxycrXscrCEeHtvyBirq2ZkAFcBbXyrFxJPZTiRwN3C0QRSJAFbK7OxAKNy9XESZa24hn1WNf8Eu41fxMv1fEhvumetm+KcP5xpJas0/hKHy3FIkffWrbgDhFSnwVaHeE2hUksfwM8FF2uda01lG152zDAELQMSBlXML2DNd6whxmjDKC3WkG44EYZxo7h6q3f1RQ7+PRmcX5ljZ0Ttce3gVCMhtHJbTCV1k0kOfAvEiXgSAEgVifeCMuWa9iCYBI4PIajJ6MBo8OuzGlruB6wso17kJUVybgKn79N/4yr+EaJ0S/BylnH7oj5fQmSMGq924a2hwBRc666eFWXDuXEMJsxVTopkf4gAXUQAAABRBmiFsQ3/+p4QADnxE/1W+Y/FxwAAAABtBmkM8IZMphDf//qeEABYcVsxP9XUD35j6wl8AAAAQAZ5iakK/ABHdohNxn16laAAAABxBmmZJ4Q8mUwIb//6nhAAhqALNua9HPnmmsGlBAAAAEkGehEURPCv/ABunbhdhvpehTQAAAA8BnqVqQr8AG6duE4IHM+EAAAAcQZqnSahBaJlMCHf//qmWABEfkdBDOlnR1PJpwQAAABtBmstJ4QpSZTAh3/6plgAajA4Sa2l/a+tLl5cAAAAQQZ7pRTRML/8AHw+0OLm74AAAABABnwh0Qr8AKzlqgdO1De+BAAAADwGfCmpCvwArPKB5MEZAgAAAABNBmw9JqEFomUwId//+qZYAAJWAAAAADEGfLUURLC//AACygQAAAA8Bn0x0Qr8AKrZRxHZdlg8AAAAPAZ9OakK/ACq2UbrPVnvTAAAAE0GbU0moQWyZTAh3//6plgAAlYAAAAAMQZ9xRRUsL/8AALKAAAAADwGfkHRCvwAqtlHEdl2WDwAAAA8Bn5JqQr8AKrZRus9We9MAAAATQZuXSahBbJlMCHf//qmWAACVgAAAAAxBn7VFFSwv/wAAsoEAAAAPAZ/UdEK/ACq2UcR2XZYPAAAADwGf1mpCvwAqtlG6z1Z70wAAABNBm9tJqEFsmUwId//+qZYAAJWBAAAADEGf+UUVLC//AACygAAAAA8Bnhh0Qr8AKrZRxHZdlg8AAAAPAZ4aakK/ACq2UbrPVnvTAAAAE0GaH0moQWyZTAh3//6plgAAlYEAAAAMQZ49RRUsL/8AALKBAAAADwGeXHRCvwAqtlHEdl2WDwAAAA8Bnl5qQr8AKrZRus9We9MAAAATQZpDSahBbJlMCHf//qmWAACVgQAAAAxBnmFFFSwv/wAAsoAAAAAPAZ6AdEK/ACq2UcR2XZYPAAAADwGegmpCvwAqtlG6z1Z70wAAABNBmodJqEFsmUwId//+qZYAAJWBAAAADEGepUUVLC//AACygQAAAA8BnsR0Qr8AKrZRxHZdlg8AAAAPAZ7GakK/ACq2UbrPVnvTAAAAE0Gay0moQWyZTAh3//6plgAAlYAAAAAMQZ7pRRUsL/8AALKAAAAADwGfCHRCvwAqtlHEdl2WDwAAAA8BnwpqQr8AKrZRus9We9MAAAATQZsPSahBbJlMCHf//qmWAACVgAAAAAxBny1FFSwv/wAAsoEAAAAPAZ9MdEK/ACq2UcR2XZYPAAAADwGfTmpCvwAqtlG6z1Z70wAAABNBm1NJqEFsmUwId//+qZYAAJWAAAAADEGfcUUVLC//AACygAAAAA8Bn5B0Qr8AKrZRxHZdlg8AAAAPAZ+SakK/ACq2UbrPVnvTAAAAE0Gbl0moQWyZTAh3//6plgAAlYAAAAAMQZ+1RRUsL/8AALKBAAAADwGf1HRCvwAqtlHEdl2WDwAAAA8Bn9ZqQr8AKrZRus9We9MAAAATQZvbSahBbJlMCHf//qmWAACVgQAAAAxBn/lFFSwv/wAAsoAAAAAPAZ4YdEK/ACq2UcR2XZYPAAAADwGeGmpCvwAqtlG6z1Z70wAAABNBmh9JqEFsmUwId//+qZYAAJWBAAAADEGePUUVLC//AACygQAAAA8Bnlx0Qr8AKrZRxHZdlg8AAAAPAZ5eakK/ACq2UbrPVnvTAAAAE0GaQ0moQWyZTAh3//6plgAAlYEAAAAMQZ5hRRUsL/8AALKAAAAADwGegHRCvwAqtlHEdl2WDwAAAA8BnoJqQr8AKrZRus9We9MAAAATQZqHSahBbJlMCHf//qmWAACVgQAAAAxBnqVFFSwv/wAAsoEAAAAPAZ7EdEK/ACq2UcR2XZYPAAAADwGexmpCvwAqtlG6z1Z70wAAABNBmstJqEFsmUwId//+qZYAAJWAAAAADEGe6UUVLC//AACygAAAAA8Bnwh0Qr8AKrZRxHZdlg8AAAAPAZ8KakK/ACq2UbrPVnvTAAAAE0GbD0moQWyZTAh3//6plgAAlYAAAAAMQZ8tRRUsL/8AALKBAAAADwGfTHRCvwAqtlHEdl2WDwAAAA8Bn05qQr8AKrZRus9We9MAAAATQZtTSahBbJlMCHf//qmWAACVgAAAAAxBn3FFFSwv/wAAsoAAAAAPAZ+QdEK/ACq2UcR2XZYPAAAADwGfkmpCvwAqtlG6z1Z70wAAABNBm5dJqEFsmUwId//+qZYAAJWAAAAADEGftUUVLC//AACygQAAAA8Bn9R0Qr8AKrZRxHZdlg8AAAAPAZ/WakK/ACq2UbrPVnvTAAAAE0Gb20moQWyZTAh3//6plgAAlYEAAAAMQZ/5RRUsL/8AALKAAAAADwGeGHRCvwAqtlHEdl2WDwAAAA8BnhpqQr8AKrZRus9We9MAAAATQZofSahBbJlMCHf//qmWAACVgQAAAAxBnj1FFSwv/wAAsoEAAAAPAZ5cdEK/ACq2UcR2XZYPAAAADwGeXmpCvwAqtlG6z1Z70wAAABNBmkNJqEFsmUwId//+qZYAAJWBAAAADEGeYUUVLC//AACygAAAAA8BnoB0Qr8AKrZRxHZdlg8AAAAPAZ6CakK/ACq2UbrPVnvTAAAAE0Gah0moQWyZTAh3//6plgAAlYEAAAAMQZ6lRRUsL/8AALKBAAAADwGexHRCvwAqtlHEdl2WDwAAAA8BnsZqQr8AKrZRus9We9MAAAATQZrLSahBbJlMCHf//qmWAACVgAAAAAxBnulFFSwv/wAAsoAAAAAPAZ8IdEK/ACq2UcR2XZYPAAAADwGfCmpCvwAqtlG6z1Z70wAAABNBmw9JqEFsmUwId//+qZYAAJWAAAAADEGfLUUVLC//AACygQAAAA8Bn0x0Qr8AKrZRxHZdlg8AAAAPAZ9OakK/ACq2UbrPVnvTAAAAE0GbU0moQWyZTAh3//6plgAAlYAAAAAMQZ9xRRUsL/8AALKAAAAADwGfkHRCvwAqtlHEdl2WDwAAAA8Bn5JqQr8AKrZRus9We9MAAAATQZuXSahBbJlMCHf//qmWAACVgAAAAAxBn7VFFSwv/wAAsoEAAAAPAZ/UdEK/ACq2UcR2XZYPAAAADwGf1mpCvwAqtlG6z1Z70wAAABNBm9tJqEFsmUwId//+qZYAAJWBAAAADEGf+UUVLC//AACygAAAAA8Bnhh0Qr8AKrZRxHZdlg8AAAAPAZ4aakK/ACq2UbrPVnvTAAAAE0GaH0moQWyZTAh3//6plgAAlYEAAAAMQZ49RRUsL/8AALKBAAAADwGeXHRCvwAqtlHEdl2WDwAAAA8Bnl5qQr8AKrZRus9We9MAAAATQZpDSahBbJlMCHf//qmWAACVgQAAAAxBnmFFFSwv/wAAsoAAAAAPAZ6AdEK/ACq2UcR2XZYPAAAADwGegmpCvwAqtlG6z1Z70wAAABNBmodJqEFsmUwId//+qZYAAJWBAAAADEGepUUVLC//AACygQAAAA8BnsR0Qr8AKrZRxHZdlg8AAAAPAZ7GakK/ACq2UbrPVnvTAAAAE0Gay0moQWyZTAh3//6plgAAlYAAAAAMQZ7pRRUsL/8AALKAAAAADwGfCHRCvwAqtlHEdl2WDwAAAA8BnwpqQr8AKrZRus9We9MAAAATQZsPSahBbJlMCHf//qmWAACVgAAAAAxBny1FFSwv/wAAsoEAAAAPAZ9MdEK/ACq2UcR2XZYPAAAADwGfTmpCvwAqtlG6z1Z70wAAABNBm1NJqEFsmUwId//+qZYAAJWAAAAADEGfcUUVLC//AACygAAAAA8Bn5B0Qr8AKrZRxHZdlg8AAAAPAZ+SakK/ACq2UbrPVnvTAAAAE0Gbl0moQWyZTAh3//6plgAAlYAAAAAMQZ+1RRUsL/8AALKBAAAADwGf1HRCvwAqtlHEdl2WDwAAAA8Bn9ZqQr8AKrZRus9We9MAAAATQZvbSahBbJlMCHf//qmWAACVgQAAAAxBn/lFFSwv/wAAsoAAAAAPAZ4YdEK/ACq2UcR2XZYPAAAADwGeGmpCvwAqtlG6z1Z70wAAABNBmh9JqEFsmUwId//+qZYAAJWBAAAADEGePUUVLC//AACygQAAAA8Bnlx0Qr8AKrZRxHZdlg8AAAAPAZ5eakK/ACq2UbrPVnvTAAAAE0GaQ0moQWyZTAh3//6plgAAlYEAAAAMQZ5hRRUsL/8AALKAAAAADwGegHRCvwAqtlHEdl2WDwAAAA8BnoJqQr8AKrZRus9We9MAAAATQZqHSahBbJlMCHf//qmWAACVgQAAAAxBnqVFFSwv/wAAsoEAAAAPAZ7EdEK/ACq2UcR2XZYPAAAADwGexmpCvwAqtlG6z1Z70wAAABNBmstJqEFsmUwId//+qZYAAJWAAAAADEGe6UUVLC//AACygAAAAA8Bnwh0Qr8AKrZRxHZdlg8AAAAPAZ8KakK/ACq2UbrPVnvTAAAAE0GbD0moQWyZTAh3//6plgAAlYAAAAAMQZ8tRRUsL/8AALKBAAAADwGfTHRCvwAqtlHEdl2WDwAAAA8Bn05qQr8AKrZRus9We9MAAAATQZtTSahBbJlMCHf//qmWAACVgAAAAAxBn3FFFSwv/wAAsoAAAAAPAZ+QdEK/ACq2UcR2XZYPAAAADwGfkmpCvwAqtlG6z1Z70wAAABNBm5dJqEFsmUwId//+qZYAAJWAAAAADEGftUUVLC//AACygQAAAA8Bn9R0Qr8AKrZRxHZdlg8AAAAPAZ/WakK/ACq2UbrPVnvTAAAAE0Gb20moQWyZTAh3//6plgAAlYEAAAAMQZ/5RRUsL/8AALKAAAAADwGeGHRCvwAqtlHEdl2WDwAAAA8BnhpqQr8AKrZRus9We9MAAAASQZofSahBbJlMCG///qeEAAEnAAAADEGePUUVLC//AACygQAAAA8Bnlx0Qr8AKrZRxHZdlg8AAAAPAZ5eakK/ACq2UbrPVnvTAAAAEkGaQ0moQWyZTAhv//6nhAABJwAAAAxBnmFFFSwv/wAAsoAAAAAPAZ6AdEK/ACq2UcR2XZYPAAAADwGegmpCvwAqtlG6z1Z70wAAABJBmodJqEFsmUwIZ//+nhAABH0AAAAMQZ6lRRUsL/8AALKBAAAADwGexHRCvwAqtlHEdl2WDwAAAA8BnsZqQr8AKrZRus9We9MAAAAbQZrJS6hCEFskRggoB/IB/YeAUTCv/jhAABFwAAAAJQGe6GpCvwKvY+1BxN2qw0km5aqGByy1u876hRPuTsrX0rlBbPYAAAx4bW9vdgAAAGxtdmhkAAAAAAAAAAAAAAAAAAAD6AAAH5AAAQAAAQAAAAAAAAAAAAAAAAEAAAAAAAAAAAAAAAAAAAABAAAAAAAAAAAAAAAAAABAAAAAAAAAAAAAAAAAAAAAAAAAAAAAAAAAAAAAAAAAAgAAC6J0cmFrAAAAXHRraGQAAAADAAAAAAAAAAAAAAABAAAAAAAAH5AAAAAAAAAAAAAAAAAAAAAAAAEAAAAAAAAAAAAAAAAAAAABAAAAAAAAAAAAAAAAAABAAAAAARAAAAEQAAAAAAAkZWR0cwAAABxlbHN0AAAAAAAAAAEAAB+QAAAEAAABAAAAAAsabWRpYQAAACBtZGhkAAAAAAAAAAAAAAAAAAAyAAABlABVxAAAAAAALWhkbHIAAAAAAAAAAHZpZGUAAAAAAAAAAAAAAABWaWRlb0hhbmRsZXIAAAAKxW1pbmYAAAAUdm1oZAAAAAEAAAAAAAAAAAAAACRkaW5mAAAAHGRyZWYAAAAAAAAAAQAAAAx1cmwgAAAAAQAACoVzdGJsAAAAlXN0c2QAAAAAAAAAAQAAAIVhdmMxAAAAAAAAAAEAAAAAAAAAAAAAAAAAAAAAARABEABIAAAASAAAAAAAAAABAAAAAAAAAAAAAAAAAAAAAAAAAAAAAAAAAAAAAAAAAAAAGP//AAAAL2F2Y0MB9AAN/+EAF2f0AA2RmygiEdCAAAADAIAAABkHihTLAQAFaOvjxEgAAAAYc3R0cwAAAAAAAAABAAAAygAAAgAAAAAUc3RzcwAAAAAAAAABAAAAAQAABlBjdHRzAAAAAAAAAMgAAAACAAAEAAAAAAEAAAYAAAAAAQAAAgAAAAABAAAIAAAAAAIAAAIAAAAAAQAABAAAAAABAAAKAAAAAAEAAAQAAAAAAQAAAAAAAAABAAACAAAAAAEAAAoAAAAAAQAABAAAAAABAAAAAAAAAAEAAAIAAAAAAQAACgAAAAABAAAEAAAAAAEAAAAAAAAAAQAAAgAAAAABAAAKAAAAAAEAAAQAAAAAAQAAAAAAAAABAAACAAAAAAEAAAoAAAAAAQAABAAAAAABAAAAAAAAAAEAAAIAAAAAAQAACgAAAAABAAAEAAAAAAEAAAAAAAAAAQAAAgAAAAABAAAKAAAAAAEAAAQAAAAAAQAAAAAAAAABAAACAAAAAAEAAAoAAAAAAQAABAAAAAABAAAAAAAAAAEAAAIAAAAAAQAACgAAAAABAAAEAAAAAAEAAAAAAAAAAQAAAgAAAAABAAAKAAAAAAEAAAQAAAAAAQAAAAAAAAABAAACAAAAAAEAAAoAAAAAAQAABAAAAAABAAAAAAAAAAEAAAIAAAAAAQAACgAAAAABAAAEAAAAAAEAAAAAAAAAAQAAAgAAAAABAAAKAAAAAAEAAAQAAAAAAQAAAAAAAAABAAACAAAAAAEAAAoAAAAAAQAABAAAAAABAAAAAAAAAAEAAAIAAAAAAQAACgAAAAABAAAEAAAAAAEAAAAAAAAAAQAAAgAAAAABAAAKAAAAAAEAAAQAAAAAAQAAAAAAAAABAAACAAAAAAEAAAoAAAAAAQAABAAAAAABAAAAAAAAAAEAAAIAAAAAAQAACgAAAAABAAAEAAAAAAEAAAAAAAAAAQAAAgAAAAABAAAKAAAAAAEAAAQAAAAAAQAAAAAAAAABAAACAAAAAAEAAAoAAAAAAQAABAAAAAABAAAAAAAAAAEAAAIAAAAAAQAACgAAAAABAAAEAAAAAAEAAAAAAAAAAQAAAgAAAAABAAAKAAAAAAEAAAQAAAAAAQAAAAAAAAABAAACAAAAAAEAAAoAAAAAAQAABAAAAAABAAAAAAAAAAEAAAIAAAAAAQAACgAAAAABAAAEAAAAAAEAAAAAAAAAAQAAAgAAAAABAAAKAAAAAAEAAAQAAAAAAQAAAAAAAAABAAACAAAAAAEAAAoAAAAAAQAABAAAAAABAAAAAAAAAAEAAAIAAAAAAQAACgAAAAABAAAEAAAAAAEAAAAAAAAAAQAAAgAAAAABAAAKAAAAAAEAAAQAAAAAAQAAAAAAAAABAAACAAAAAAEAAAoAAAAAAQAABAAAAAABAAAAAAAAAAEAAAIAAAAAAQAACgAAAAABAAAEAAAAAAEAAAAAAAAAAQAAAgAAAAABAAAKAAAAAAEAAAQAAAAAAQAAAAAAAAABAAACAAAAAAEAAAoAAAAAAQAABAAAAAABAAAAAAAAAAEAAAIAAAAAAQAACgAAAAABAAAEAAAAAAEAAAAAAAAAAQAAAgAAAAABAAAKAAAAAAEAAAQAAAAAAQAAAAAAAAABAAACAAAAAAEAAAoAAAAAAQAABAAAAAABAAAAAAAAAAEAAAIAAAAAAQAACgAAAAABAAAEAAAAAAEAAAAAAAAAAQAAAgAAAAABAAAKAAAAAAEAAAQAAAAAAQAAAAAAAAABAAACAAAAAAEAAAoAAAAAAQAABAAAAAABAAAAAAAAAAEAAAIAAAAAAQAACgAAAAABAAAEAAAAAAEAAAAAAAAAAQAAAgAAAAABAAAKAAAAAAEAAAQAAAAAAQAAAAAAAAABAAACAAAAAAEAAAoAAAAAAQAABAAAAAABAAAAAAAAAAEAAAIAAAAAAQAACgAAAAABAAAEAAAAAAEAAAAAAAAAAQAAAgAAAAABAAAKAAAAAAEAAAQAAAAAAQAAAAAAAAABAAACAAAAAAEAAAoAAAAAAQAABAAAAAABAAAAAAAAAAEAAAIAAAAAAQAACgAAAAABAAAEAAAAAAEAAAAAAAAAAQAAAgAAAAABAAAKAAAAAAEAAAQAAAAAAQAAAAAAAAABAAACAAAAAAEAAAoAAAAAAQAABAAAAAABAAAAAAAAAAEAAAIAAAAAAQAACgAAAAABAAAEAAAAAAEAAAAAAAAAAQAAAgAAAAABAAAGAAAAAAEAAAIAAAAAHHN0c2MAAAAAAAAAAQAAAAEAAADKAAAAAQAAAzxzdHN6AAAAAAAAAAAAAADKAAAFgwAAABgAAAAfAAAAFAAAACAAAAAWAAAAEwAAACAAAAAfAAAAFAAAABQAAAATAAAAFwAAABAAAAATAAAAEwAAABcAAAAQAAAAEwAAABMAAAAXAAAAEAAAABMAAAATAAAAFwAAABAAAAATAAAAEwAAABcAAAAQAAAAEwAAABMAAAAXAAAAEAAAABMAAAATAAAAFwAAABAAAAATAAAAEwAAABcAAAAQAAAAEwAAABMAAAAXAAAAEAAAABMAAAATAAAAFwAAABAAAAATAAAAEwAAABcAAAAQAAAAEwAAABMAAAAXAAAAEAAAABMAAAATAAAAFwAAABAAAAATAAAAEwAAABcAAAAQAAAAEwAAABMAAAAXAAAAEAAAABMAAAATAAAAFwAAABAAAAATAAAAEwAAABcAAAAQAAAAEwAAABMAAAAXAAAAEAAAABMAAAATAAAAFwAAABAAAAATAAAAEwAAABcAAAAQAAAAEwAAABMAAAAXAAAAEAAAABMAAAATAAAAFwAAABAAAAATAAAAEwAAABcAAAAQAAAAEwAAABMAAAAXAAAAEAAAABMAAAATAAAAFwAAABAAAAATAAAAEwAAABcAAAAQAAAAEwAAABMAAAAXAAAAEAAAABMAAAATAAAAFwAAABAAAAATAAAAEwAAABcAAAAQAAAAEwAAABMAAAAXAAAAEAAAABMAAAATAAAAFwAAABAAAAATAAAAEwAAABcAAAAQAAAAEwAAABMAAAAXAAAAEAAAABMAAAATAAAAFwAAABAAAAATAAAAEwAAABcAAAAQAAAAEwAAABMAAAAXAAAAEAAAABMAAAATAAAAFwAAABAAAAATAAAAEwAAABcAAAAQAAAAEwAAABMAAAAXAAAAEAAAABMAAAATAAAAFwAAABAAAAATAAAAEwAAABcAAAAQAAAAEwAAABMAAAAXAAAAEAAAABMAAAATAAAAFwAAABAAAAATAAAAEwAAABcAAAAQAAAAEwAAABMAAAAWAAAAEAAAABMAAAATAAAAFgAAABAAAAATAAAAEwAAABYAAAAQAAAAEwAAABMAAAAfAAAAKQAAABRzdGNvAAAAAAAAAAEAAAAwAAAAYnVkdGEAAABabWV0YQAAAAAAAAAhaGRscgAAAAAAAAAAbWRpcmFwcGwAAAAAAAAAAAAAAAAtaWxzdAAAACWpdG9vAAAAHWRhdGEAAAABAAAAAExhdmY1Ny44My4xMDA=\" type=\"video/mp4\" />\n",
              "             </video>"
            ],
            "text/plain": [
              "<IPython.core.display.HTML object>"
            ]
          },
          "metadata": {
            "tags": []
          },
          "execution_count": 107
        }
      ]
    },
    {
      "metadata": {
        "id": "89gsdVYge8Qz",
        "colab_type": "code",
        "colab": {
          "base_uri": "https://localhost:8080/",
          "height": 310
        },
        "outputId": "61856d5b-afc4-4b69-a75b-b0bdb6ea9baa"
      },
      "cell_type": "code",
      "source": [
        "video_paths = glob.glob(\"fc_test*.mp4\")\n",
        "video_paths.sort()\n",
        "best_video_path = video_paths.pop()\n",
        "print(\"Displaying \", best_video_path)\n",
        "HTML(display_videos(best_video_path))"
      ],
      "execution_count": 108,
      "outputs": [
        {
          "output_type": "stream",
          "text": [
            "Displaying  fc_test99.mp4\n"
          ],
          "name": "stdout"
        },
        {
          "output_type": "execute_result",
          "data": {
            "text/html": [
              "<video alt=\"test\" controls>\n",
              "                <source src=\"data:video/mp4;base64,AAAAIGZ0eXBpc29tAAACAGlzb21pc28yYXZjMW1wNDEAAAAIZnJlZQAAFWJtZGF0AAACrQYF//+p3EXpvebZSLeWLNgg2SPu73gyNjQgLSBjb3JlIDE1MiByMjg1NCBlOWE1OTAzIC0gSC4yNjQvTVBFRy00IEFWQyBjb2RlYyAtIENvcHlsZWZ0IDIwMDMtMjAxNyAtIGh0dHA6Ly93d3cudmlkZW9sYW4ub3JnL3gyNjQuaHRtbCAtIG9wdGlvbnM6IGNhYmFjPTEgcmVmPTMgZGVibG9jaz0xOjA6MCBhbmFseXNlPTB4MToweDExMSBtZT1oZXggc3VibWU9NyBwc3k9MSBwc3lfcmQ9MS4wMDowLjAwIG1peGVkX3JlZj0xIG1lX3JhbmdlPTE2IGNocm9tYV9tZT0xIHRyZWxsaXM9MSA4eDhkY3Q9MCBjcW09MCBkZWFkem9uZT0yMSwxMSBmYXN0X3Bza2lwPTEgY2hyb21hX3FwX29mZnNldD00IHRocmVhZHM9MyBsb29rYWhlYWRfdGhyZWFkcz0xIHNsaWNlZF90aHJlYWRzPTAgbnI9MCBkZWNpbWF0ZT0xIGludGVybGFjZWQ9MCBibHVyYXlfY29tcGF0PTAgY29uc3RyYWluZWRfaW50cmE9MCBiZnJhbWVzPTMgYl9weXJhbWlkPTIgYl9hZGFwdD0xIGJfYmlhcz0wIGRpcmVjdD0xIHdlaWdodGI9MSBvcGVuX2dvcD0wIHdlaWdodHA9MiBrZXlpbnQ9MjUwIGtleWludF9taW49MjUgc2NlbmVjdXQ9NDAgaW50cmFfcmVmcmVzaD0wIHJjX2xvb2thaGVhZD00MCByYz1jcmYgbWJ0cmVlPTEgY3JmPTIzLjAgcWNvbXA9MC42MCBxcG1pbj0wIHFwbWF4PTY5IHFwc3RlcD00IGlwX3JhdGlvPTEuNDAgYXE9MToxLjAwAIAAAALYZYiEADf//vaH+BTZWBP+Wb/9DX/cj9uPrP1xYyEE31qvIejAGS+1H+b/rFFs6Z6UB/fgCJQAc24ZwpHZJ3iTdiOFrIMcHwKauk8XwKShPr0vpyRz316iKmDE/B+GKXKgWYB0fd2luyjDPeQXmgtW1Stl3FNFS4OkfaxTCd6FiFzx3Ppo3J1x8iBlSbCsK01WxHJAAVcw7pi3KCP4qeWknayKEsNBT9LpVEOnafBiQqPGPlnQPcinvjfJ2iTRFNYlbUoSVRQPZ5oeD8Mp++o3YlYEB7FZq9FZcJNInHsUyOi3sKlPJ4+Dk4dKu5GSVQR4OwFBywWKmfIBVKCt4xFR6ssfxPDQVa0oV8XoOREF+YmYhiwxBcnGllMq1edxOBc+gZjQzsdY7uO69XnldwdSezNWsrosv3EtOeUBgWiqEYXHXulwTnughAk0aEqoBWh6Lpme4cvgVw6RmlRzW+xHMmlONkGutzpytBGYGAMkHi98gANqZAX2PYPI/NHdO+2U2XDLH9/PTdnz3/pPnMEK7VIXDtF2skuQtkSzU7qlqsTNf4kj7ulxDAcln5M7m+TTFIzWQe+UkXsExEVMhjRT5MY0VTViKgMkSPA/N9WNnyw98VcP1kkFkinpEVUE7++qFK+y/fIqDP1hgAIAeRHupije/ymIYcFh+9YP75sWye3pd+mOmJd0Cop8ONWDbprrto2mOR4HmKHszwK/t7wCx+mv7eTRGNioTNDuim9Qpg+Yv52KViPUHZTO/mkYIDmL9AssLonasY0qEd1OVqZvMtg6n7U7RaNHX5jru/v6LIcLS052hkBnEcm3YLjcCP5yQvdR1P2f674oS7YoAkAJp9CemolD+qpszUwdQQ+Gm1IdA3kojESxCOuO29NMlqXrsuI29CUF7OjPgTuz/ViS4rPCYt9manLCAG3aBDy8UmLlKwaKeL6Z9st4s6cjsYkojhcLFtAAT8EAAAAUQZohbEO//qmWAAbKf1cZpf2wfkAAAAAnQZpFPCGTKYQ7//6plgAHU+FHvq7mWVqmb8ClEefgUzXLnqdeEErxAAAAEEGeY2pTwv8ACK540/srXqAAAAAPAZ6CdEK/AAumWDBsxxPPAAAADwGehGpCvwAL8CxsDlQNgQAAABNBmolJqEFomUwId//+qZYAAJWBAAAADEGep0URLC//AACygQAAABABnsZ0Qr8AC/PJvS7Tbg2AAAAAEAGeyGpCvwAL8CxrjKQsDYAAAAATQZrNSahBbJlMCHf//qmWAACVgQAAAAxBnutFFSwv/wAAsoAAAAAQAZ8KdEK/AAvzyb0u024NgAAAABABnwxqQr8AC/Asa4ykLA2BAAAAE0GbEUmoQWyZTAh3//6plgAAlYEAAAAMQZ8vRRUsL/8AALKBAAAAEAGfTnRCvwAL88m9LtNuDYAAAAAQAZ9QakK/AAvwLGuMpCwNgAAAABNBm1VJqEFsmUwId//+qZYAAJWBAAAADEGfc0UVLC//AACygAAAABABn5J0Qr8AC/PJvS7Tbg2AAAAAEAGflGpCvwAL8CxrjKQsDYEAAAATQZuZSahBbJlMCHf//qmWAACVgAAAAAxBn7dFFSwv/wAAsoEAAAAQAZ/WdEK/AAvzyb0u024NgQAAABABn9hqQr8AC/Asa4ykLA2AAAAAE0Gb3UmoQWyZTAh3//6plgAAlYEAAAAMQZ/7RRUsL/8AALKAAAAAEAGeGnRCvwAL88m9LtNuDYEAAAAQAZ4cakK/AAvwLGuMpCwNgQAAABNBmgFJqEFsmUwId//+qZYAAJWAAAAADEGeP0UVLC//AACygAAAABABnl50Qr8AC/PJvS7Tbg2BAAAAEAGeQGpCvwAL8CxrjKQsDYAAAAATQZpFSahBbJlMCHf//qmWAACVgQAAAAxBnmNFFSwv/wAAsoAAAAAQAZ6CdEK/AAvzyb0u024NgQAAABABnoRqQr8AC/Asa4ykLA2BAAAAE0GaiUmoQWyZTAh3//6plgAAlYEAAAAMQZ6nRRUsL/8AALKBAAAAEAGexnRCvwAL88m9LtNuDYAAAAAQAZ7IakK/AAvwLGuMpCwNgAAAABNBms1JqEFsmUwId//+qZYAAJWBAAAADEGe60UVLC//AACygAAAABABnwp0Qr8AC/PJvS7Tbg2AAAAAEAGfDGpCvwAL8CxrjKQsDYEAAAATQZsRSahBbJlMCHf//qmWAACVgQAAAAxBny9FFSwv/wAAsoEAAAAQAZ9OdEK/AAvzyb0u024NgAAAABABn1BqQr8AC/Asa4ykLA2AAAAAE0GbVUmoQWyZTAh3//6plgAAlYEAAAAMQZ9zRRUsL/8AALKAAAAAEAGfknRCvwAL88m9LtNuDYAAAAAQAZ+UakK/AAvwLGuMpCwNgQAAABNBm5lJqEFsmUwId//+qZYAAJWAAAAADEGft0UVLC//AACygQAAABABn9Z0Qr8AC/PJvS7Tbg2BAAAAEAGf2GpCvwAL8CxrjKQsDYAAAAATQZvdSahBbJlMCHf//qmWAACVgQAAAAxBn/tFFSwv/wAAsoAAAAAQAZ4adEK/AAvzyb0u024NgQAAABABnhxqQr8AC/Asa4ykLA2BAAAAE0GaAUmoQWyZTAh3//6plgAAlYAAAAAMQZ4/RRUsL/8AALKAAAAAEAGeXnRCvwAL88m9LtNuDYEAAAAQAZ5AakK/AAvwLGuMpCwNgAAAABNBmkVJqEFsmUwId//+qZYAAJWBAAAADEGeY0UVLC//AACygAAAABABnoJ0Qr8AC/PJvS7Tbg2BAAAAEAGehGpCvwAL8CxrjKQsDYEAAAATQZqJSahBbJlMCHf//qmWAACVgQAAAAxBnqdFFSwv/wAAsoEAAAAQAZ7GdEK/AAvzyb0u024NgAAAABABnshqQr8AC/Asa4ykLA2AAAAAE0GazUmoQWyZTAh3//6plgAAlYEAAAAMQZ7rRRUsL/8AALKAAAAAEAGfCnRCvwAL88m9LtNuDYAAAAAQAZ8MakK/AAvwLGuMpCwNgQAAABNBmxFJqEFsmUwId//+qZYAAJWBAAAADEGfL0UVLC//AACygQAAABABn050Qr8AC/PJvS7Tbg2AAAAAEAGfUGpCvwAL8CxrjKQsDYAAAAATQZtVSahBbJlMCHf//qmWAACVgQAAAAxBn3NFFSwv/wAAsoAAAAAQAZ+SdEK/AAvzyb0u024NgAAAABABn5RqQr8AC/Asa4ykLA2BAAAAE0GbmUmoQWyZTAh3//6plgAAlYAAAAAMQZ+3RRUsL/8AALKBAAAAEAGf1nRCvwAL88m9LtNuDYEAAAAQAZ/YakK/AAvwLGuMpCwNgAAAABNBm91JqEFsmUwId//+qZYAAJWBAAAADEGf+0UVLC//AACygAAAABABnhp0Qr8AC/PJvS7Tbg2BAAAAEAGeHGpCvwAL8CxrjKQsDYEAAAATQZoBSahBbJlMCHf//qmWAACVgAAAAAxBnj9FFSwv/wAAsoAAAAAQAZ5edEK/AAvzyb0u024NgQAAABABnkBqQr8AC/Asa4ykLA2AAAAAE0GaRUmoQWyZTAh3//6plgAAlYEAAAAMQZ5jRRUsL/8AALKAAAAAEAGegnRCvwAL88m9LtNuDYEAAAAQAZ6EakK/AAvwLGuMpCwNgQAAABNBmolJqEFsmUwId//+qZYAAJWBAAAADEGep0UVLC//AACygQAAABABnsZ0Qr8AC/PJvS7Tbg2AAAAAEAGeyGpCvwAL8CxrjKQsDYAAAAATQZrNSahBbJlMCHf//qmWAACVgQAAAAxBnutFFSwv/wAAsoAAAAAQAZ8KdEK/AAvzyb0u024NgAAAABABnwxqQr8AC/Asa4ykLA2BAAAAE0GbEUmoQWyZTAh3//6plgAAlYEAAAAMQZ8vRRUsL/8AALKBAAAAEAGfTnRCvwAL88m9LtNuDYAAAAAQAZ9QakK/AAvwLGuMpCwNgAAAABNBm1VJqEFsmUwId//+qZYAAJWBAAAADEGfc0UVLC//AACygAAAABABn5J0Qr8AC/PJvS7Tbg2AAAAAEAGflGpCvwAL8CxrjKQsDYEAAAATQZuZSahBbJlMCHf//qmWAACVgAAAAAxBn7dFFSwv/wAAsoEAAAAQAZ/WdEK/AAvzyb0u024NgQAAABABn9hqQr8AC/Asa4ykLA2AAAAAE0Gb3UmoQWyZTAh3//6plgAAlYEAAAAMQZ/7RRUsL/8AALKAAAAAEAGeGnRCvwAL88m9LtNuDYEAAAAQAZ4cakK/AAvwLGuMpCwNgQAAABNBmgFJqEFsmUwId//+qZYAAJWAAAAADEGeP0UVLC//AACygAAAABABnl50Qr8AC/PJvS7Tbg2BAAAAEAGeQGpCvwAL8CxrjKQsDYAAAAATQZpFSahBbJlMCHf//qmWAACVgQAAAAxBnmNFFSwv/wAAsoAAAAAQAZ6CdEK/AAvzyb0u024NgQAAABABnoRqQr8AC/Asa4ykLA2BAAAAE0GaiUmoQWyZTAh3//6plgAAlYEAAAAMQZ6nRRUsL/8AALKBAAAAEAGexnRCvwAL88m9LtNuDYAAAAAQAZ7IakK/AAvwLGuMpCwNgAAAABNBms1JqEFsmUwId//+qZYAAJWBAAAADEGe60UVLC//AACygAAAABABnwp0Qr8AC/PJvS7Tbg2AAAAAEAGfDGpCvwAL8CxrjKQsDYEAAAATQZsRSahBbJlMCHf//qmWAACVgQAAAAxBny9FFSwv/wAAsoEAAAAQAZ9OdEK/AAvzyb0u024NgAAAABABn1BqQr8AC/Asa4ykLA2AAAAAE0GbVUmoQWyZTAh3//6plgAAlYEAAAAMQZ9zRRUsL/8AALKAAAAAEAGfknRCvwAL88m9LtNuDYAAAAAQAZ+UakK/AAvwLGuMpCwNgQAAABNBm5lJqEFsmUwId//+qZYAAJWAAAAADEGft0UVLC//AACygQAAABABn9Z0Qr8AC/PJvS7Tbg2BAAAAEAGf2GpCvwAL8CxrjKQsDYAAAAATQZvdSahBbJlMCHf//qmWAACVgQAAAAxBn/tFFSwv/wAAsoAAAAAQAZ4adEK/AAvzyb0u024NgQAAABABnhxqQr8AC/Asa4ykLA2BAAAAE0GaAUmoQWyZTAh3//6plgAAlYAAAAAMQZ4/RRUsL/8AALKAAAAAEAGeXnRCvwAL88m9LtNuDYEAAAAQAZ5AakK/AAvwLGuMpCwNgAAAABNBmkVJqEFsmUwId//+qZYAAJWBAAAADEGeY0UVLC//AACygAAAABABnoJ0Qr8AC/PJvS7Tbg2BAAAAEAGehGpCvwAL8CxrjKQsDYEAAAATQZqJSahBbJlMCHf//qmWAACVgQAAAAxBnqdFFSwv/wAAsoEAAAAQAZ7GdEK/AAvzyb0u024NgAAAABABnshqQr8AC/Asa4ykLA2AAAAAE0GazUmoQWyZTAh3//6plgAAlYEAAAAMQZ7rRRUsL/8AALKAAAAAEAGfCnRCvwAL88m9LtNuDYAAAAAQAZ8MakK/AAvwLGuMpCwNgQAAABNBmxFJqEFsmUwId//+qZYAAJWBAAAADEGfL0UVLC//AACygQAAABABn050Qr8AC/PJvS7Tbg2AAAAAEAGfUGpCvwAL8CxrjKQsDYAAAAATQZtVSahBbJlMCHf//qmWAACVgQAAAAxBn3NFFSwv/wAAsoAAAAAQAZ+SdEK/AAvzyb0u024NgAAAABABn5RqQr8AC/Asa4ykLA2BAAAAE0GbmUmoQWyZTAh3//6plgAAlYAAAAAMQZ+3RRUsL/8AALKBAAAAEAGf1nRCvwAL88m9LtNuDYEAAAAQAZ/YakK/AAvwLGuMpCwNgAAAABNBm91JqEFsmUwId//+qZYAAJWBAAAADEGf+0UVLC//AACygAAAABABnhp0Qr8AC/PJvS7Tbg2BAAAAEAGeHGpCvwAL8CxrjKQsDYEAAAASQZoBSahBbJlMCG///qeEAAEnAAAADEGeP0UVLC//AACygAAAABABnl50Qr8AC/PJvS7Tbg2BAAAAEAGeQGpCvwAL8CxrjKQsDYAAAAASQZpFSahBbJlMCGf//p4QAAR9AAAADEGeY0UVLC//AACygAAAABABnoJ0Qr8AC/PJvS7Tbg2BAAAAEAGehGpCvwAL8CxrjKQsDYEAAAAaQZqJS6hCEFskRggoB/IB/YeAIV/+OEAAEXEAAAAjQZ6nRRUsL/8CAdzqS9szCrmA6Bq1qFwJQBlok8LfMpM0nDEAAAAQAZ7GdEK/AAvzyb0u024NgAAAACUBnshqQr8Cr2PtQcTdqsNJJuWqhgcstbvNKiCVY+JThBBp/zGsAAAMgG1vb3YAAABsbXZoZAAAAAAAAAAAAAAAAAAAA+gAAB+QAAEAAAEAAAAAAAAAAAAAAAABAAAAAAAAAAAAAAAAAAAAAQAAAAAAAAAAAAAAAAAAQAAAAAAAAAAAAAAAAAAAAAAAAAAAAAAAAAAAAAAAAAIAAAuqdHJhawAAAFx0a2hkAAAAAwAAAAAAAAAAAAAAAQAAAAAAAB+QAAAAAAAAAAAAAAAAAAAAAAABAAAAAAAAAAAAAAAAAAAAAQAAAAAAAAAAAAAAAAAAQAAAAAEQAAABEAAAAAAAJGVkdHMAAAAcZWxzdAAAAAAAAAABAAAfkAAABAAAAQAAAAALIm1kaWEAAAAgbWRoZAAAAAAAAAAAAAAAAAAAMgAAAZQAVcQAAAAAAC1oZGxyAAAAAAAAAAB2aWRlAAAAAAAAAAAAAAAAVmlkZW9IYW5kbGVyAAAACs1taW5mAAAAFHZtaGQAAAABAAAAAAAAAAAAAAAkZGluZgAAABxkcmVmAAAAAAAAAAEAAAAMdXJsIAAAAAEAAAqNc3RibAAAAJVzdHNkAAAAAAAAAAEAAACFYXZjMQAAAAAAAAABAAAAAAAAAAAAAAAAAAAAAAEQARAASAAAAEgAAAAAAAAAAQAAAAAAAAAAAAAAAAAAAAAAAAAAAAAAAAAAAAAAAAAAABj//wAAAC9hdmNDAfQADf/hABdn9AANkZsoIhHQgAAAAwCAAAAZB4oUywEABWjr48RIAAAAGHN0dHMAAAAAAAAAAQAAAMoAAAIAAAAAFHN0c3MAAAAAAAAAAQAAAAEAAAZYY3R0cwAAAAAAAADJAAAAAgAABAAAAAABAAAKAAAAAAEAAAQAAAAAAQAAAAAAAAABAAACAAAAAAEAAAoAAAAAAQAABAAAAAABAAAAAAAAAAEAAAIAAAAAAQAACgAAAAABAAAEAAAAAAEAAAAAAAAAAQAAAgAAAAABAAAKAAAAAAEAAAQAAAAAAQAAAAAAAAABAAACAAAAAAEAAAoAAAAAAQAABAAAAAABAAAAAAAAAAEAAAIAAAAAAQAACgAAAAABAAAEAAAAAAEAAAAAAAAAAQAAAgAAAAABAAAKAAAAAAEAAAQAAAAAAQAAAAAAAAABAAACAAAAAAEAAAoAAAAAAQAABAAAAAABAAAAAAAAAAEAAAIAAAAAAQAACgAAAAABAAAEAAAAAAEAAAAAAAAAAQAAAgAAAAABAAAKAAAAAAEAAAQAAAAAAQAAAAAAAAABAAACAAAAAAEAAAoAAAAAAQAABAAAAAABAAAAAAAAAAEAAAIAAAAAAQAACgAAAAABAAAEAAAAAAEAAAAAAAAAAQAAAgAAAAABAAAKAAAAAAEAAAQAAAAAAQAAAAAAAAABAAACAAAAAAEAAAoAAAAAAQAABAAAAAABAAAAAAAAAAEAAAIAAAAAAQAACgAAAAABAAAEAAAAAAEAAAAAAAAAAQAAAgAAAAABAAAKAAAAAAEAAAQAAAAAAQAAAAAAAAABAAACAAAAAAEAAAoAAAAAAQAABAAAAAABAAAAAAAAAAEAAAIAAAAAAQAACgAAAAABAAAEAAAAAAEAAAAAAAAAAQAAAgAAAAABAAAKAAAAAAEAAAQAAAAAAQAAAAAAAAABAAACAAAAAAEAAAoAAAAAAQAABAAAAAABAAAAAAAAAAEAAAIAAAAAAQAACgAAAAABAAAEAAAAAAEAAAAAAAAAAQAAAgAAAAABAAAKAAAAAAEAAAQAAAAAAQAAAAAAAAABAAACAAAAAAEAAAoAAAAAAQAABAAAAAABAAAAAAAAAAEAAAIAAAAAAQAACgAAAAABAAAEAAAAAAEAAAAAAAAAAQAAAgAAAAABAAAKAAAAAAEAAAQAAAAAAQAAAAAAAAABAAACAAAAAAEAAAoAAAAAAQAABAAAAAABAAAAAAAAAAEAAAIAAAAAAQAACgAAAAABAAAEAAAAAAEAAAAAAAAAAQAAAgAAAAABAAAKAAAAAAEAAAQAAAAAAQAAAAAAAAABAAACAAAAAAEAAAoAAAAAAQAABAAAAAABAAAAAAAAAAEAAAIAAAAAAQAACgAAAAABAAAEAAAAAAEAAAAAAAAAAQAAAgAAAAABAAAKAAAAAAEAAAQAAAAAAQAAAAAAAAABAAACAAAAAAEAAAoAAAAAAQAABAAAAAABAAAAAAAAAAEAAAIAAAAAAQAACgAAAAABAAAEAAAAAAEAAAAAAAAAAQAAAgAAAAABAAAKAAAAAAEAAAQAAAAAAQAAAAAAAAABAAACAAAAAAEAAAoAAAAAAQAABAAAAAABAAAAAAAAAAEAAAIAAAAAAQAACgAAAAABAAAEAAAAAAEAAAAAAAAAAQAAAgAAAAABAAAKAAAAAAEAAAQAAAAAAQAAAAAAAAABAAACAAAAAAEAAAoAAAAAAQAABAAAAAABAAAAAAAAAAEAAAIAAAAAAQAACgAAAAABAAAEAAAAAAEAAAAAAAAAAQAAAgAAAAABAAAKAAAAAAEAAAQAAAAAAQAAAAAAAAABAAACAAAAAAEAAAoAAAAAAQAABAAAAAABAAAAAAAAAAEAAAIAAAAAAQAACgAAAAABAAAEAAAAAAEAAAAAAAAAAQAAAgAAAAABAAAKAAAAAAEAAAQAAAAAAQAAAAAAAAABAAACAAAAAAEAAAoAAAAAAQAABAAAAAABAAAAAAAAAAEAAAIAAAAAAQAACgAAAAABAAAEAAAAAAEAAAAAAAAAAQAAAgAAAAABAAAKAAAAAAEAAAQAAAAAAQAAAAAAAAABAAACAAAAAAEAAAoAAAAAAQAABAAAAAABAAAAAAAAAAEAAAIAAAAAAQAACgAAAAABAAAEAAAAAAEAAAAAAAAAAQAAAgAAAAABAAAKAAAAAAEAAAQAAAAAAQAAAAAAAAABAAACAAAAAAEAAAoAAAAAAQAABAAAAAABAAAAAAAAAAEAAAIAAAAAHHN0c2MAAAAAAAAAAQAAAAEAAADKAAAAAQAAAzxzdHN6AAAAAAAAAAAAAADKAAAFjQAAABgAAAArAAAAFAAAABMAAAATAAAAFwAAABAAAAAUAAAAFAAAABcAAAAQAAAAFAAAABQAAAAXAAAAEAAAABQAAAAUAAAAFwAAABAAAAAUAAAAFAAAABcAAAAQAAAAFAAAABQAAAAXAAAAEAAAABQAAAAUAAAAFwAAABAAAAAUAAAAFAAAABcAAAAQAAAAFAAAABQAAAAXAAAAEAAAABQAAAAUAAAAFwAAABAAAAAUAAAAFAAAABcAAAAQAAAAFAAAABQAAAAXAAAAEAAAABQAAAAUAAAAFwAAABAAAAAUAAAAFAAAABcAAAAQAAAAFAAAABQAAAAXAAAAEAAAABQAAAAUAAAAFwAAABAAAAAUAAAAFAAAABcAAAAQAAAAFAAAABQAAAAXAAAAEAAAABQAAAAUAAAAFwAAABAAAAAUAAAAFAAAABcAAAAQAAAAFAAAABQAAAAXAAAAEAAAABQAAAAUAAAAFwAAABAAAAAUAAAAFAAAABcAAAAQAAAAFAAAABQAAAAXAAAAEAAAABQAAAAUAAAAFwAAABAAAAAUAAAAFAAAABcAAAAQAAAAFAAAABQAAAAXAAAAEAAAABQAAAAUAAAAFwAAABAAAAAUAAAAFAAAABcAAAAQAAAAFAAAABQAAAAXAAAAEAAAABQAAAAUAAAAFwAAABAAAAAUAAAAFAAAABcAAAAQAAAAFAAAABQAAAAXAAAAEAAAABQAAAAUAAAAFwAAABAAAAAUAAAAFAAAABcAAAAQAAAAFAAAABQAAAAXAAAAEAAAABQAAAAUAAAAFwAAABAAAAAUAAAAFAAAABcAAAAQAAAAFAAAABQAAAAXAAAAEAAAABQAAAAUAAAAFwAAABAAAAAUAAAAFAAAABcAAAAQAAAAFAAAABQAAAAXAAAAEAAAABQAAAAUAAAAFwAAABAAAAAUAAAAFAAAABcAAAAQAAAAFAAAABQAAAAXAAAAEAAAABQAAAAUAAAAFwAAABAAAAAUAAAAFAAAABYAAAAQAAAAFAAAABQAAAAWAAAAEAAAABQAAAAUAAAAHgAAACcAAAAUAAAAKQAAABRzdGNvAAAAAAAAAAEAAAAwAAAAYnVkdGEAAABabWV0YQAAAAAAAAAhaGRscgAAAAAAAAAAbWRpcmFwcGwAAAAAAAAAAAAAAAAtaWxzdAAAACWpdG9vAAAAHWRhdGEAAAABAAAAAExhdmY1Ny44My4xMDA=\" type=\"video/mp4\" />\n",
              "             </video>"
            ],
            "text/plain": [
              "<IPython.core.display.HTML object>"
            ]
          },
          "metadata": {
            "tags": []
          },
          "execution_count": 108
        }
      ]
    },
    {
      "metadata": {
        "id": "T3iII5ETe8Q1",
        "colab_type": "text"
      },
      "cell_type": "markdown",
      "source": [
        ""
      ]
    },
    {
      "metadata": {
        "id": "Z1cbxNjFe8Q2",
        "colab_type": "text"
      },
      "cell_type": "markdown",
      "source": [
        "***\n",
        "\n",
        "The algorithm tends to not explore the map which can be an issue. We propose two ideas in order to encourage exploration:\n",
        "1. Incorporating a decreasing $\\epsilon$-greedy exploration. You can use the method ```set_epsilon```\n",
        "2. Append via the environment a new state that describes if a cell has been visited or not\n",
        "\n",
        "***\n",
        "__Question 10__ Design a new ```train_explore``` function and environment class ```EnvironmentExploring``` to tackle the issue of exploration.\n",
        "\n"
      ]
    },
    {
      "metadata": {
        "id": "IaHnXmPwe8Q3",
        "colab_type": "code",
        "colab": {}
      },
      "cell_type": "code",
      "source": [
        "#def train_explore(agent,env,epoch,prefix=''):\n",
        "#    pass\n",
        "\n",
        "#class EnvironmentExploring(object):\n",
        "#    def __init__(self, grid_size=10, max_time=500, temperature=0.1):\n",
        "#        pass\n",
        "\n",
        "EPSILON_EVOLUTION = 0.8\n",
        "def train_explore(agent,env,epoch,prefix=''):\n",
        "    # Number of won games\n",
        "    score = 0\n",
        "    loss = 0\n",
        "\n",
        "    for e in range(epoch):\n",
        "        # At each epoch, we restart to a fresh game and get the initial state\n",
        "        state = env.reset()\n",
        "        # This assumes that the games will terminate\n",
        "        game_over = False\n",
        "\n",
        "        win = 0\n",
        "        lose = 0\n",
        "        agent.set_epsilon(agent.epsilon*EPSILON_EVOLUTION)\n",
        "        \n",
        "        while not game_over:\n",
        "            # The agent performs an action\n",
        "            action = agent.act(state, train=True)\n",
        "\n",
        "            # Apply an action to the environment, get the next state, the reward\n",
        "            # and if the games end\n",
        "            prev_state = state\n",
        "            state, reward, game_over = env.act(action, train=True)\n",
        "\n",
        "            # Update the counters\n",
        "            if reward > 0:\n",
        "                win = win + reward\n",
        "            if reward < 0:\n",
        "                lose = lose - reward\n",
        "\n",
        "            # Apply the reinforcement strategy\n",
        "            loss = agent.reinforce(prev_state, state,  action, reward, game_over)\n",
        "\n",
        "        # Save as a mp4\n",
        "        if e % 10 == 0:\n",
        "            env.draw(prefix+str(e))\n",
        "\n",
        "        # Update stats\n",
        "        score += win-lose\n",
        "\n",
        "        print(\"Epoch {:03d}/{:03d} | Loss {:.4f} | Win/lose count {}/{} ({})\"\n",
        "              .format(e+1, epoch, loss, win, lose, win-lose))\n",
        "        agent.save(name_weights=prefix+'model.h5',name_model=prefix+'model.json')\n",
        "\n",
        "\n",
        "class EnvironmentExploring(object):\n",
        "    def __init__(self, grid_size=10, max_time=500, temperature=0.1):\n",
        "        grid_size = grid_size+4\n",
        "        self.grid_size = grid_size\n",
        "        self.max_time = max_time\n",
        "        self.temperature = temperature\n",
        "\n",
        "        #board on which one plays\n",
        "        self.board = np.zeros((grid_size,grid_size))\n",
        "        self.position = np.zeros((grid_size,grid_size))\n",
        "        self.malus_visited = np.zeros((grid_size,grid_size))\n",
        "\n",
        "        # coordinate of the cat\n",
        "        self.x = 0\n",
        "        self.y = 1\n",
        "\n",
        "        # self time\n",
        "        self.t = 0\n",
        "\n",
        "        self.scale=16\n",
        "\n",
        "        self.to_draw = np.zeros((max_time+2, grid_size*self.scale, grid_size*self.scale, 3))\n",
        "\n",
        "\n",
        "    def draw(self,e):\n",
        "        skvideo.io.vwrite(str(e) + '.mp4', self.to_draw)\n",
        "\n",
        "    def get_frame(self,t):\n",
        "        b = np.zeros((self.grid_size,self.grid_size,3))+128\n",
        "        b[self.board>0,0] = 256\n",
        "        b[self.board < 0, 2] = 256\n",
        "        b[self.x,self.y,:]=256\n",
        "        b[-2:,:,:]=0\n",
        "        b[:,-2:,:]=0\n",
        "        b[:2,:,:]=0\n",
        "        b[:,:2,:]=0\n",
        "        \n",
        "        b =  cv2.resize(b, None, fx=self.scale, fy=self.scale, interpolation=cv2.INTER_NEAREST)\n",
        "\n",
        "        self.to_draw[t,:,:,:]=b\n",
        "\n",
        "\n",
        "    def act(self, action, train=True):\n",
        "        \"\"\"This function returns the new state, reward and decides if the\n",
        "        game ends.\"\"\"\n",
        "\n",
        "        self.get_frame(int(self.t))\n",
        "\n",
        "        self.position = np.zeros((self.grid_size, self.grid_size))\n",
        "\n",
        "        self.position[0:2,:]= -1\n",
        "        self.position[:,0:2] = -1\n",
        "        self.position[-2:, :] = -1\n",
        "        self.position[-2:, :] = -1\n",
        "\n",
        "        self.position[self.x, self.y] = 1\n",
        "        if action == 0:\n",
        "            if self.x == self.grid_size-3:\n",
        "                self.x = self.x-1\n",
        "            else:\n",
        "                self.x = self.x + 1\n",
        "        elif action == 1:\n",
        "            if self.x == 2:\n",
        "                self.x = self.x+1\n",
        "            else:\n",
        "                self.x = self.x-1\n",
        "        elif action == 2:\n",
        "            if self.y == self.grid_size - 3:\n",
        "                self.y = self.y - 1\n",
        "            else:\n",
        "                self.y = self.y + 1\n",
        "        elif action == 3:\n",
        "            if self.y == 2:\n",
        "                self.y = self.y + 1\n",
        "            else:\n",
        "                self.y = self.y - 1\n",
        "        else:\n",
        "            RuntimeError('Error: action not recognized')\n",
        "            \n",
        "        self.t = self.t + 1\n",
        "        reward = self.board[self.x, self.y]\n",
        "        self.board[self.x, self.y] = 0\n",
        "        \n",
        "        # Including malus on already visited position\n",
        "        if train:\n",
        "            reward += self.malus_visited[self.x, self.y]\n",
        "            self.malus_visited[self.x, self.y] = -0.75\n",
        "        \n",
        "        game_over = self.t > self.max_time\n",
        "        # We add the matrix malus_visited to the state for the Deep Learning to take it into account.\n",
        "        state = np.concatenate((self.malus_visited.reshape(self.grid_size, self.grid_size,1),\n",
        "                                self.board.reshape(self.grid_size, self.grid_size,1),\n",
        "                                self.position.reshape(self.grid_size, self.grid_size,1)),\n",
        "                                axis=2)\n",
        "        state = state[self.x-2:self.x+3,self.y-2:self.y+3,:]\n",
        "\n",
        "        return state, reward, game_over\n",
        "\n",
        "    def reset(self):\n",
        "        \"\"\"This function resets the game and returns the initial state\"\"\"\n",
        "\n",
        "        self.x = np.random.randint(3, self.grid_size-3, size=1)[0]\n",
        "        self.y = np.random.randint(3, self.grid_size-3, size=1)[0]\n",
        "\n",
        "\n",
        "        bonus = 0.5*np.random.binomial(1,self.temperature,size=self.grid_size**2)\n",
        "        bonus = bonus.reshape(self.grid_size,self.grid_size)\n",
        "\n",
        "        malus = -1.0*np.random.binomial(1,self.temperature,size=self.grid_size**2)\n",
        "        malus = malus.reshape(self.grid_size, self.grid_size)\n",
        "\n",
        "        self.to_draw = np.zeros((self.max_time+2, self.grid_size*self.scale, self.grid_size*self.scale, 3))\n",
        "\n",
        "\n",
        "        malus[bonus>0]=0\n",
        "\n",
        "        self.board = bonus + malus\n",
        "        \n",
        "        self.malus_visited = np.zeros((grid_size,grid_size))\n",
        "        \n",
        "        self.position = np.zeros((self.grid_size, self.grid_size))\n",
        "        self.position[0:2,:]= -1\n",
        "        self.position[:,0:2] = -1\n",
        "        self.position[-2:, :] = -1\n",
        "        self.position[-2:, :] = -1\n",
        "        self.board[self.x,self.y] = 0\n",
        "        self.t = 0\n",
        "\n",
        "        state = np.concatenate((\n",
        "            self.malus_visited.reshape(self.grid_size, self.grid_size,1),\n",
        "            self.board.reshape(self.grid_size, self.grid_size,1),\n",
        "            self.position.reshape(self.grid_size, self.grid_size,1)),\n",
        "            axis=2)\n",
        "\n",
        "        state = state[self.x - 2:self.x + 3, self.y - 2:self.y + 3, :]\n",
        "        return state\n",
        "    \n",
        "    \n",
        "## use those samples of code:\n",
        "#In train explore:\n",
        "#state, reward, game_over = env.act(action, train=True)\n",
        "\n",
        "## In Environment exploring:\n",
        "# You will have to change n_state to 3 because you will use one more layer!\n",
        "#reward = 0\n",
        "#if train:\n",
        "#    reward = -self.malus_position[self.x, self.y]\n",
        "#self.malus_position[self.x, self.y] = 0.1\n",
        "\n",
        "#reward = reward + self.board[self.x, self.y]\n",
        "# 3 \"feature\" states instead of 2\n",
        "#state = np.concatenate((self.malus_position.reshape(self.grid_size, self.grid_size,1),\n",
        "#                                self.board.reshape(self.grid_size, self.grid_size,1),\n",
        "#                        self.position.reshape(self.grid_size, self.grid_size,1)),axis=2)"
      ],
      "execution_count": 0,
      "outputs": []
    },
    {
      "metadata": {
        "id": "rrkRD2y6e8Q6",
        "colab_type": "code",
        "colab": {
          "base_uri": "https://localhost:8080/",
          "height": 470
        },
        "outputId": "25c14910-4f9c-4dd8-c429-0a7ffdfdee44"
      },
      "cell_type": "code",
      "source": [
        "# Training\n",
        "env = EnvironmentExploring(grid_size=size, max_time=T, temperature=0.3)\n",
        "agent = DQN_CNN(size, lr=.1, epsilon = 0.1, memory_size=2000, batch_size = 32,n_state=3)\n",
        "train_explore(agent, env, epochs_train, prefix='cnn_train_explore')\n",
        "\n",
        "video_paths = glob.glob(\"cnn_train_explore*.mp4\")\n",
        "video_paths.sort()\n",
        "best_video_path = video_paths.pop()\n",
        "print(\"Displaying \", best_video_path)\n",
        "HTML(display_videos(best_video_path))"
      ],
      "execution_count": 110,
      "outputs": [
        {
          "output_type": "error",
          "ename": "NameError",
          "evalue": "ignored",
          "traceback": [
            "\u001b[0;31m---------------------------------------------------------------------------\u001b[0m",
            "\u001b[0;31mNameError\u001b[0m                                 Traceback (most recent call last)",
            "\u001b[0;32m<ipython-input-110-84a012ab8c4c>\u001b[0m in \u001b[0;36m<module>\u001b[0;34m()\u001b[0m\n\u001b[1;32m      1\u001b[0m \u001b[0menv\u001b[0m \u001b[0;34m=\u001b[0m \u001b[0mEnvironmentExploring\u001b[0m\u001b[0;34m(\u001b[0m\u001b[0mgrid_size\u001b[0m\u001b[0;34m=\u001b[0m\u001b[0msize\u001b[0m\u001b[0;34m,\u001b[0m \u001b[0mmax_time\u001b[0m\u001b[0;34m=\u001b[0m\u001b[0mT\u001b[0m\u001b[0;34m,\u001b[0m \u001b[0mtemperature\u001b[0m\u001b[0;34m=\u001b[0m\u001b[0;36m0.3\u001b[0m\u001b[0;34m)\u001b[0m\u001b[0;34m\u001b[0m\u001b[0;34m\u001b[0m\u001b[0m\n\u001b[1;32m      2\u001b[0m \u001b[0magent\u001b[0m \u001b[0;34m=\u001b[0m \u001b[0mDQN_CNN\u001b[0m\u001b[0;34m(\u001b[0m\u001b[0msize\u001b[0m\u001b[0;34m,\u001b[0m \u001b[0mlr\u001b[0m\u001b[0;34m=\u001b[0m\u001b[0;36m.1\u001b[0m\u001b[0;34m,\u001b[0m \u001b[0mepsilon\u001b[0m \u001b[0;34m=\u001b[0m \u001b[0;36m0.1\u001b[0m\u001b[0;34m,\u001b[0m \u001b[0mmemory_size\u001b[0m\u001b[0;34m=\u001b[0m\u001b[0;36m2000\u001b[0m\u001b[0;34m,\u001b[0m \u001b[0mbatch_size\u001b[0m \u001b[0;34m=\u001b[0m \u001b[0;36m32\u001b[0m\u001b[0;34m,\u001b[0m\u001b[0mn_state\u001b[0m\u001b[0;34m=\u001b[0m\u001b[0;36m3\u001b[0m\u001b[0;34m)\u001b[0m\u001b[0;34m\u001b[0m\u001b[0;34m\u001b[0m\u001b[0m\n\u001b[0;32m----> 3\u001b[0;31m \u001b[0mtrain_explore\u001b[0m\u001b[0;34m(\u001b[0m\u001b[0magent\u001b[0m\u001b[0;34m,\u001b[0m \u001b[0menv\u001b[0m\u001b[0;34m,\u001b[0m \u001b[0mepochs_train\u001b[0m\u001b[0;34m,\u001b[0m \u001b[0mprefix\u001b[0m\u001b[0;34m=\u001b[0m\u001b[0;34m'cnn_train_explore'\u001b[0m\u001b[0;34m)\u001b[0m\u001b[0;34m\u001b[0m\u001b[0;34m\u001b[0m\u001b[0m\n\u001b[0m\u001b[1;32m      4\u001b[0m \u001b[0;34m\u001b[0m\u001b[0m\n\u001b[1;32m      5\u001b[0m \u001b[0mvideo_paths\u001b[0m \u001b[0;34m=\u001b[0m \u001b[0mglob\u001b[0m\u001b[0;34m.\u001b[0m\u001b[0mglob\u001b[0m\u001b[0;34m(\u001b[0m\u001b[0;34m\"cnn_train_explore*.mp4\"\u001b[0m\u001b[0;34m)\u001b[0m\u001b[0;34m\u001b[0m\u001b[0;34m\u001b[0m\u001b[0m\n",
            "\u001b[0;32m<ipython-input-109-f194bf1d63f1>\u001b[0m in \u001b[0;36mtrain_explore\u001b[0;34m(agent, env, epoch, prefix)\u001b[0m\n\u001b[1;32m      8\u001b[0m     \u001b[0;32mfor\u001b[0m \u001b[0me\u001b[0m \u001b[0;32min\u001b[0m \u001b[0mrange\u001b[0m\u001b[0;34m(\u001b[0m\u001b[0mepoch\u001b[0m\u001b[0;34m)\u001b[0m\u001b[0;34m:\u001b[0m\u001b[0;34m\u001b[0m\u001b[0;34m\u001b[0m\u001b[0m\n\u001b[1;32m      9\u001b[0m         \u001b[0;31m# At each epoch, we restart to a fresh game and get the initial state\u001b[0m\u001b[0;34m\u001b[0m\u001b[0;34m\u001b[0m\u001b[0;34m\u001b[0m\u001b[0m\n\u001b[0;32m---> 10\u001b[0;31m         \u001b[0mstate\u001b[0m \u001b[0;34m=\u001b[0m \u001b[0menv\u001b[0m\u001b[0;34m.\u001b[0m\u001b[0mreset\u001b[0m\u001b[0;34m(\u001b[0m\u001b[0;34m)\u001b[0m\u001b[0;34m\u001b[0m\u001b[0;34m\u001b[0m\u001b[0m\n\u001b[0m\u001b[1;32m     11\u001b[0m         \u001b[0;31m# This assumes that the games will terminate\u001b[0m\u001b[0;34m\u001b[0m\u001b[0;34m\u001b[0m\u001b[0;34m\u001b[0m\u001b[0m\n\u001b[1;32m     12\u001b[0m         \u001b[0mgame_over\u001b[0m \u001b[0;34m=\u001b[0m \u001b[0;32mFalse\u001b[0m\u001b[0;34m\u001b[0m\u001b[0;34m\u001b[0m\u001b[0m\n",
            "\u001b[0;32m<ipython-input-109-f194bf1d63f1>\u001b[0m in \u001b[0;36mreset\u001b[0;34m(self)\u001b[0m\n\u001b[1;32m    164\u001b[0m         \u001b[0mself\u001b[0m\u001b[0;34m.\u001b[0m\u001b[0mboard\u001b[0m \u001b[0;34m=\u001b[0m \u001b[0mbonus\u001b[0m \u001b[0;34m+\u001b[0m \u001b[0mmalus\u001b[0m\u001b[0;34m\u001b[0m\u001b[0;34m\u001b[0m\u001b[0m\n\u001b[1;32m    165\u001b[0m \u001b[0;34m\u001b[0m\u001b[0m\n\u001b[0;32m--> 166\u001b[0;31m         \u001b[0mself\u001b[0m\u001b[0;34m.\u001b[0m\u001b[0mmalus_visited\u001b[0m \u001b[0;34m=\u001b[0m \u001b[0mnp\u001b[0m\u001b[0;34m.\u001b[0m\u001b[0mzeros\u001b[0m\u001b[0;34m(\u001b[0m\u001b[0;34m(\u001b[0m\u001b[0mgrid_size\u001b[0m\u001b[0;34m,\u001b[0m\u001b[0mgrid_size\u001b[0m\u001b[0;34m)\u001b[0m\u001b[0;34m)\u001b[0m\u001b[0;34m\u001b[0m\u001b[0;34m\u001b[0m\u001b[0m\n\u001b[0m\u001b[1;32m    167\u001b[0m \u001b[0;34m\u001b[0m\u001b[0m\n\u001b[1;32m    168\u001b[0m         \u001b[0mself\u001b[0m\u001b[0;34m.\u001b[0m\u001b[0mposition\u001b[0m \u001b[0;34m=\u001b[0m \u001b[0mnp\u001b[0m\u001b[0;34m.\u001b[0m\u001b[0mzeros\u001b[0m\u001b[0;34m(\u001b[0m\u001b[0;34m(\u001b[0m\u001b[0mself\u001b[0m\u001b[0;34m.\u001b[0m\u001b[0mgrid_size\u001b[0m\u001b[0;34m,\u001b[0m \u001b[0mself\u001b[0m\u001b[0;34m.\u001b[0m\u001b[0mgrid_size\u001b[0m\u001b[0;34m)\u001b[0m\u001b[0;34m)\u001b[0m\u001b[0;34m\u001b[0m\u001b[0;34m\u001b[0m\u001b[0m\n",
            "\u001b[0;31mNameError\u001b[0m: name 'grid_size' is not defined"
          ]
        }
      ]
    },
    {
      "metadata": {
        "id": "u9pByfjDe8Q_",
        "colab_type": "code",
        "colab": {}
      },
      "cell_type": "code",
      "source": [
        "# Evaluation\n",
        "test(agent,env,epochs_test,prefix='cnn_test_explore')\n",
        "video_paths = glob.glob(\"cnn_test_explore*.mp4\")\n",
        "video_paths.sort()\n",
        "best_video_path = video_paths.pop()\n",
        "print(\"Displaying \", best_video_path)\n",
        "HTML(display_videos(best_video_path))"
      ],
      "execution_count": 0,
      "outputs": []
    },
    {
      "metadata": {
        "id": "sfHr7ItXe8RC",
        "colab_type": "text"
      },
      "cell_type": "markdown",
      "source": [
        "***\n",
        "***\n",
        "__BONUS question__ Use the expert DQN from the previous question to generate some winning games. Train a model that mimicks its behavior. Compare the performances."
      ]
    },
    {
      "metadata": {
        "id": "3s4DYUnPe8RD",
        "colab_type": "text"
      },
      "cell_type": "markdown",
      "source": [
        ""
      ]
    },
    {
      "metadata": {
        "id": "GPQeP-o3e8RE",
        "colab_type": "text"
      },
      "cell_type": "markdown",
      "source": [
        "***"
      ]
    }
  ]
}
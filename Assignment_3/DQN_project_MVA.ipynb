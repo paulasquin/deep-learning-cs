{
  "nbformat": 4,
  "nbformat_minor": 0,
  "metadata": {
    "colab": {
      "name": "DQN_project_MVA.ipynb",
      "version": "0.3.2",
      "provenance": []
    },
    "kernelspec": {
      "display_name": "Python 3",
      "language": "python",
      "name": "python3"
    }
  },
  "cells": [
    {
      "metadata": {
        "id": "gkZm_xO8e8PG",
        "colab_type": "text"
      },
      "cell_type": "markdown",
      "source": [
        "**You may need to install [OpenCV](https://pypi.python.org/pypi/opencv-python) and [scikit-video](http://www.scikit-video.org/stable/).**"
      ]
    },
    {
      "metadata": {
        "id": "IpkYijTxe8PI",
        "colab_type": "code",
        "outputId": "60d54359-2dff-46f1-9ec5-33d64dbe163e",
        "colab": {
          "base_uri": "https://localhost:8080/",
          "height": 139
        }
      },
      "cell_type": "code",
      "source": [
        "import keras\n",
        "import numpy as np\n",
        "import io\n",
        "import base64\n",
        "from IPython.display import HTML\n",
        "\n",
        "### IMPORT SKVIDEO FOR GOOGLE COLAB\n",
        "!pip3 install scikit-video\n",
        "# !apt-get install ffmpeg\n",
        "# check installation path with \n",
        "# ```which ffmpeg```\n",
        "# ```which ffprobe```\n",
        "\n",
        "import skvideo\n",
        "skvideo.setFFmpegPath(\"/usr/bin\")\n",
        "import skvideo.io\n",
        "\n",
        "# ```pip3 install opencv-python```\n",
        "import cv2\n",
        "import json\n",
        "\n",
        "from keras.models import Sequential,model_from_json\n",
        "from keras.layers.core import Dense\n",
        "from keras.optimizers import sgd\n",
        "from keras.layers import Conv2D, MaxPooling2D, Activation, AveragePooling2D,Reshape,BatchNormalization, Dropout"
      ],
      "execution_count": 1,
      "outputs": [
        {
          "output_type": "stream",
          "text": [
            "Using TensorFlow backend.\n"
          ],
          "name": "stderr"
        },
        {
          "output_type": "stream",
          "text": [
            "Requirement already satisfied: scikit-video in /usr/local/lib/python3.6/dist-packages (1.1.11)\n",
            "Requirement already satisfied: scipy in /usr/local/lib/python3.6/dist-packages (from scikit-video) (1.1.0)\n",
            "Requirement already satisfied: pillow in /usr/local/lib/python3.6/dist-packages (from scikit-video) (4.0.0)\n",
            "Requirement already satisfied: numpy in /usr/local/lib/python3.6/dist-packages (from scikit-video) (1.14.6)\n",
            "Requirement already satisfied: olefile in /usr/local/lib/python3.6/dist-packages (from pillow->scikit-video) (0.46)\n"
          ],
          "name": "stdout"
        }
      ]
    },
    {
      "metadata": {
        "id": "IcFJdpaPe8PO",
        "colab_type": "text"
      },
      "cell_type": "markdown",
      "source": [
        "# MiniProject #3: Deep Reinforcement Learning"
      ]
    },
    {
      "metadata": {
        "id": "W146PxAze8PP",
        "colab_type": "text"
      },
      "cell_type": "markdown",
      "source": [
        "__Notations__: $E_p$ is the expectation under probability $p$. Please justify each of your answer and widely comment your code."
      ]
    },
    {
      "metadata": {
        "id": "01DHN4_-e8PR",
        "colab_type": "text"
      },
      "cell_type": "markdown",
      "source": [
        "# Context"
      ]
    },
    {
      "metadata": {
        "id": "34wlXXrOe8PS",
        "colab_type": "text"
      },
      "cell_type": "markdown",
      "source": [
        "In a reinforcement learning algorithm, we modelize each step $t$ as an action $a_t$ obtained from a state $s_t$, i.e. $\\{(a_{t},s_{t})_{t\\leq T}\\}$ having the Markov property. We consider a discount factor $\\gamma \\in [0,1]$ that ensures convergence. The goal is to find among all the policies $\\pi$, one that maximizes the expected reward:\n",
        "\n",
        "\\begin{equation*}\n",
        "R(\\pi)=\\sum_{t\\leq T}E_{p^{\\pi}}[\\gamma^t r(s_{t},a_{t})] \\> ,\n",
        "\\end{equation*}\n",
        "\n",
        "where: \n",
        "\\begin{equation*}p^{\\pi}(a_{0},a_{1},s_{1},...,a_{T},s_{T})=p(a_{0})\\prod_{t=1}^{T}\\pi(a_{t}|s_{t})p(s_{t+1}|s_{t},a_{t}) \\> .\n",
        "\\end{equation*}\n",
        "\n",
        "We note the $Q$-function:\n",
        "\n",
        "\\begin{equation*}Q^\\pi(s,a)=E_{p^{\\pi}}[\\sum_{t\\leq T}\\gamma^{t}r(s_{t},a_{t})|s_{0}=s,a_{0}=a] \\> .\n",
        "\\end{equation*}\n",
        "\n",
        "Thus, the optimal Q function is:\n",
        "\\begin{equation*}\n",
        "Q^*(s,a)=\\max_{\\pi}Q^\\pi(s,a) \\> .\n",
        "\\end{equation*}\n",
        "\n",
        "In this project, we will apply the deep reinforcement learning techniques to a simple game: an agent will have to learn from scratch a policy that will permit it maximizing a reward."
      ]
    },
    {
      "metadata": {
        "id": "TkjhXJoje8PU",
        "colab_type": "text"
      },
      "cell_type": "markdown",
      "source": [
        "## The environment, the agent and the game"
      ]
    },
    {
      "metadata": {
        "id": "9OFr8vdre8PV",
        "colab_type": "text"
      },
      "cell_type": "markdown",
      "source": [
        "### The environment"
      ]
    },
    {
      "metadata": {
        "id": "vhBW7lB9e8PW",
        "colab_type": "text"
      },
      "cell_type": "markdown",
      "source": [
        "```Environment``` is an abstract class that represents the states, rewards, and actions to obtain the new state."
      ]
    },
    {
      "metadata": {
        "id": "ka3EfOcRe8PX",
        "colab_type": "code",
        "colab": {}
      },
      "cell_type": "code",
      "source": [
        "class Environment(object):\n",
        "    def __init__(self):\n",
        "        pass\n",
        "\n",
        "    def act(self, act):\n",
        "        \"\"\"\n",
        "        One can act on the environment and obtain its reaction:\n",
        "        - the new state\n",
        "        - the reward of the new state\n",
        "        - should we continue the game?\n",
        "\n",
        "        :return: state, reward, game_over\n",
        "        \"\"\"\n",
        "        pass\n",
        "\n",
        "\n",
        "    def reset(self):\n",
        "        \"\"\"\n",
        "        Reinitialize the environment to a random state and returns\n",
        "        the original state\n",
        "\n",
        "        :return: state\n",
        "        \"\"\"\n",
        "        pass\n",
        "    \n",
        "    def draw(self):\n",
        "        \"\"\"\n",
        "        Visualize in the console or graphically the current state\n",
        "        \"\"\"\n",
        "        pass"
      ],
      "execution_count": 0,
      "outputs": []
    },
    {
      "metadata": {
        "id": "l2H9fJiDe8Pa",
        "colab_type": "text"
      },
      "cell_type": "markdown",
      "source": [
        "The method ```act``` allows to act on the environment at a given state $s_t$ (stored internally), via action $a_t$. The method will return the new state $s_{t+1}$, the reward $r(s_{t},a_{t})$ and determines if $t\\leq T$ (*game_over*).\n",
        "\n",
        "The method ```reset``` simply reinitializes the environment to a random state $s_0$.\n",
        "\n",
        "The method ```draw``` displays the current state $s_t$ (this is useful to check the behavior of the Agent).\n",
        "\n",
        "We modelize $s_t$ as a tensor, while $a_t$ is an integer."
      ]
    },
    {
      "metadata": {
        "id": "TYDJ2AUze8Pb",
        "colab_type": "text"
      },
      "cell_type": "markdown",
      "source": [
        "### The Agent"
      ]
    },
    {
      "metadata": {
        "id": "bhEqpBsde8Pc",
        "colab_type": "text"
      },
      "cell_type": "markdown",
      "source": [
        "The goal of the ```Agent``` is to interact with the ```Environment``` by proposing actions $a_t$ obtained from a given state $s_t$ to attempt to maximize its __reward__ $r(s_t,a_t)$. We propose the following abstract class:"
      ]
    },
    {
      "metadata": {
        "id": "MePlYwpee8Pd",
        "colab_type": "code",
        "colab": {}
      },
      "cell_type": "code",
      "source": [
        "class Agent(object):\n",
        "    def __init__(self, epsilon=0.1, n_action=4):\n",
        "        self.epsilon = epsilon\n",
        "        self.n_action = n_action\n",
        "    \n",
        "    def set_epsilon(self,e):\n",
        "        self.epsilon = e\n",
        "\n",
        "    def act(self,s,train=True):\n",
        "        \"\"\" This function should return the next action to do:\n",
        "        an integer between 0 and 4 (not included) with a random exploration of epsilon\"\"\"\n",
        "        if train:\n",
        "            if np.random.rand() <= self.epsilon:\n",
        "                a = np.random.randint(0, self.n_action, size=1)[0]\n",
        "            else:\n",
        "                a = self.learned_act(s)\n",
        "        else: # in some cases, this can improve the performance.. remove it if poor performances\n",
        "            a = self.learned_act(s)\n",
        "\n",
        "        return a\n",
        "\n",
        "    def learned_act(self,s):\n",
        "        \"\"\" Act via the policy of the agent, from a given state s\n",
        "        it proposes an action a\"\"\"\n",
        "        pass\n",
        "\n",
        "    def reinforce(self, s, n_s, a, r, game_over_):\n",
        "        \"\"\" This function is the core of the learning algorithm. \n",
        "        It takes as an input the current state s_, the next state n_s_\n",
        "        the action a_ used to move from s_ to n_s_ and the reward r_.\n",
        "        \n",
        "        Its goal is to learn a policy.\n",
        "        \"\"\"\n",
        "        pass\n",
        "\n",
        "    def save(self):\n",
        "        \"\"\" This function returns basic stats if applicable: the\n",
        "        loss and/or the model\"\"\"\n",
        "        pass\n",
        "\n",
        "    def load(self):\n",
        "        \"\"\" This function allows to restore a model\"\"\"\n",
        "        pass"
      ],
      "execution_count": 0,
      "outputs": []
    },
    {
      "metadata": {
        "id": "yBvzjGoSe8Pg",
        "colab_type": "text"
      },
      "cell_type": "markdown",
      "source": [
        "***\n",
        "__Question 1__:\n",
        "Explain the function act. Why is ```epsilon``` essential?"
      ]
    },
    {
      "metadata": {
        "id": "VGlaTpnoe8Ph",
        "colab_type": "text"
      },
      "cell_type": "markdown",
      "source": [
        "The `act` function aims is to make a decision on which state explore next. For this we are using what is called a epsilon-greedy algorithm. \n",
        "\n",
        "At each step, the algorithm have two options. For a random float $r_f$ taken between 0 and 1, we can either choose a random action if $r_f \\leq$ `epsilon`, or we can choose an action from previously learned acts.\n",
        "\n",
        "This exploration variable set the ability of the algorithm to explore new posibilities or to use its knowledge from the past. If too high, we will not be able to explore new behaviours and learn new actions, if too low, we will not learn anything and will just explore in an *amnesic random way*."
      ]
    },
    {
      "metadata": {
        "id": "ZBz6zH-ve8Pi",
        "colab_type": "text"
      },
      "cell_type": "markdown",
      "source": [
        "***\n",
        "### The Game"
      ]
    },
    {
      "metadata": {
        "id": "mWX52Gx5e8Pj",
        "colab_type": "text"
      },
      "cell_type": "markdown",
      "source": [
        "The ```Agent``` and the ```Environment``` work in an interlaced way as in the following (take some time to understand this code as it is the core of the project)\n",
        "\n",
        "```python\n",
        "\n",
        "epoch = 300\n",
        "env = Environment()\n",
        "agent = Agent()\n",
        "\n",
        "\n",
        "# Number of won games\n",
        "score = 0\n",
        "loss = 0\n",
        "\n",
        "\n",
        "for e in range(epoch):\n",
        "    # At each epoch, we restart to a fresh game and get the initial state\n",
        "    state = env.reset()\n",
        "    # This assumes that the games will end\n",
        "    game_over = False\n",
        "\n",
        "    win = 0\n",
        "    lose = 0\n",
        "    \n",
        "    while not game_over:\n",
        "        # The agent performs an action\n",
        "        action = agent.act(state)\n",
        "\n",
        "        # Apply an action to the environment, get the next state, the reward\n",
        "        # and if the games end\n",
        "        prev_state = state\n",
        "        state, reward, game_over = env.act(action)\n",
        "\n",
        "        # Update the counters\n",
        "        if reward > 0:\n",
        "            win = win + reward\n",
        "        if reward < 0:\n",
        "            lose = lose -reward\n",
        "\n",
        "        # Apply the reinforcement strategy\n",
        "        loss = agent.reinforce(prev_state, state,  action, reward, game_over)\n",
        "\n",
        "    # Save as a mp4\n",
        "    if e % 10 == 0:\n",
        "        env.draw(e)\n",
        "\n",
        "    # Update stats\n",
        "    score += win-lose\n",
        "\n",
        "    print(\"Epoch {:03d}/{:03d} | Loss {:.4f} | Win/lose count {}/{} ({})\"\n",
        "          .format(e, epoch, loss, win, lose, win-lose))\n",
        "    agent.save()\n",
        "```"
      ]
    },
    {
      "metadata": {
        "id": "Mf6mszNUe8Pl",
        "colab_type": "text"
      },
      "cell_type": "markdown",
      "source": [
        "# The game, *eat cheese*"
      ]
    },
    {
      "metadata": {
        "id": "1LnSKJOye8Pn",
        "colab_type": "text"
      },
      "cell_type": "markdown",
      "source": [
        "A rat runs on an island and tries to eat as much as possible. The island is subdivided into $N\\times N$ cells, in which there are cheese (+0.5) and poisonous cells (-1). The rat has a visibility of 2 cells (thus it can see $5^2$ cells). The rat is given a time $T$ to accumulate as much food as possible. It can perform 4 actions: going up, down, left, right. \n",
        "\n",
        "The goal is to code an agent to solve this task that will learn by trial and error. We propose the following environment:"
      ]
    },
    {
      "metadata": {
        "id": "78D8rdbTe8Pp",
        "colab_type": "code",
        "colab": {}
      },
      "cell_type": "code",
      "source": [
        "class Environment(object):\n",
        "    def __init__(self, grid_size=10, max_time=500, temperature=0.1):\n",
        "        grid_size = grid_size+4\n",
        "        self.grid_size = grid_size\n",
        "        self.max_time = max_time\n",
        "        self.temperature = temperature\n",
        "\n",
        "        #board on which one plays\n",
        "        self.board = np.zeros((grid_size,grid_size))\n",
        "        self.position = np.zeros((grid_size,grid_size))\n",
        "\n",
        "        # coordinate of the cat\n",
        "        self.x = 0\n",
        "        self.y = 1\n",
        "\n",
        "        # self time\n",
        "        self.t = 0\n",
        "\n",
        "        self.scale=16\n",
        "\n",
        "        self.to_draw = np.zeros((max_time+2, grid_size*self.scale, grid_size*self.scale, 3))\n",
        "\n",
        "\n",
        "    def draw(self,e):\n",
        "        skvideo.io.vwrite(str(e) + '.mp4', self.to_draw)\n",
        "\n",
        "    def get_frame(self,t):\n",
        "        b = np.zeros((self.grid_size,self.grid_size,3))+128\n",
        "        b[self.board>0,0] = 256\n",
        "        b[self.board < 0, 2] = 256\n",
        "        b[self.x,self.y,:]=256\n",
        "        b[-2:,:,:]=0\n",
        "        b[:,-2:,:]=0\n",
        "        b[:2,:,:]=0\n",
        "        b[:,:2,:]=0\n",
        "        \n",
        "        b =  cv2.resize(b, None, fx=self.scale, fy=self.scale, interpolation=cv2.INTER_NEAREST)\n",
        "\n",
        "        self.to_draw[t,:,:,:]=b\n",
        "\n",
        "\n",
        "    def act(self, action):\n",
        "        \"\"\"This function returns the new state, reward and decides if the\n",
        "        game ends.\"\"\"\n",
        "\n",
        "        self.get_frame(int(self.t))\n",
        "\n",
        "        self.position = np.zeros((self.grid_size, self.grid_size))\n",
        "\n",
        "        self.position[0:2,:]= -1\n",
        "        self.position[:,0:2] = -1\n",
        "        self.position[-2:, :] = -1\n",
        "        self.position[:, -2:] = -1\n",
        "\n",
        "        self.position[self.x, self.y] = 1\n",
        "        if action == 0:\n",
        "            if self.x == self.grid_size-3:\n",
        "                self.x = self.x-1\n",
        "            else:\n",
        "                self.x = self.x + 1\n",
        "        elif action == 1:\n",
        "            if self.x == 2:\n",
        "                self.x = self.x+1\n",
        "            else:\n",
        "                self.x = self.x-1\n",
        "        elif action == 2:\n",
        "            if self.y == self.grid_size - 3:\n",
        "                self.y = self.y - 1\n",
        "            else:\n",
        "                self.y = self.y + 1\n",
        "        elif action == 3:\n",
        "            if self.y == 2:\n",
        "                self.y = self.y + 1\n",
        "            else:\n",
        "                self.y = self.y - 1\n",
        "        else:\n",
        "            RuntimeError('Error: action not recognized')\n",
        "\n",
        "        self.t = self.t + 1\n",
        "        reward = self.board[self.x, self.y]\n",
        "        self.board[self.x, self.y] = 0\n",
        "        game_over = self.t > self.max_time\n",
        "        state = np.concatenate((self.board.reshape(self.grid_size, self.grid_size,1),\n",
        "                        self.position.reshape(self.grid_size, self.grid_size,1)),axis=2)\n",
        "        state = state[self.x-2:self.x+3,self.y-2:self.y+3,:]\n",
        "\n",
        "        return state, reward, game_over\n",
        "\n",
        "    def reset(self):\n",
        "        \"\"\"This function resets the game and returns the initial state\"\"\"\n",
        "\n",
        "        self.x = np.random.randint(3, self.grid_size-3, size=1)[0]\n",
        "        self.y = np.random.randint(3, self.grid_size-3, size=1)[0]\n",
        "\n",
        "\n",
        "        bonus = 0.5*np.random.binomial(1,self.temperature,size=self.grid_size**2)\n",
        "        bonus = bonus.reshape(self.grid_size,self.grid_size)\n",
        "\n",
        "        malus = -1.0*np.random.binomial(1,self.temperature,size=self.grid_size**2)\n",
        "        malus = malus.reshape(self.grid_size, self.grid_size)\n",
        "\n",
        "        self.to_draw = np.zeros((self.max_time+2, self.grid_size*self.scale, self.grid_size*self.scale, 3))\n",
        "\n",
        "\n",
        "        malus[bonus>0]=0\n",
        "\n",
        "        self.board = bonus + malus\n",
        "\n",
        "        self.position = np.zeros((self.grid_size, self.grid_size))\n",
        "        self.position[0:2,:]= -1\n",
        "        self.position[:,0:2] = -1\n",
        "        self.position[-2:, :] = -1\n",
        "        self.position[:, -2:] = -1\n",
        "        self.board[self.x,self.y] = 0\n",
        "        self.t = 0\n",
        "\n",
        "        state = np.concatenate((\n",
        "                               self.board.reshape(self.grid_size, self.grid_size,1),\n",
        "                        self.position.reshape(self.grid_size, self.grid_size,1)),axis=2)\n",
        "\n",
        "        state = state[self.x - 2:self.x + 3, self.y - 2:self.y + 3, :]\n",
        "        return state"
      ],
      "execution_count": 0,
      "outputs": []
    },
    {
      "metadata": {
        "id": "e9IrB2_1e8Pt",
        "colab_type": "text"
      },
      "cell_type": "markdown",
      "source": [
        "The following elements are important because they correspond to the hyper parameters for this project:"
      ]
    },
    {
      "metadata": {
        "id": "mlBH6Yqce8Pw",
        "colab_type": "code",
        "colab": {}
      },
      "cell_type": "code",
      "source": [
        "# parameters\n",
        "size = 13\n",
        "T=200\n",
        "temperature=0.3\n",
        "epochs_train=64 # set small when debugging\n",
        "epochs_test=64 # set small when debugging\n",
        "\n",
        "# display videos\n",
        "def display_videos(name):\n",
        "    video = io.open(name, 'r+b').read()\n",
        "    encoded = base64.b64encode(video)\n",
        "    return '''<video alt=\"test\" controls>\n",
        "                <source src=\"data:video/mp4;base64,{0}\" type=\"video/mp4\" />\n",
        "             </video>'''.format(encoded.decode('ascii'))"
      ],
      "execution_count": 0,
      "outputs": []
    },
    {
      "metadata": {
        "id": "o9kAND0oe8P0",
        "colab_type": "text"
      },
      "cell_type": "markdown",
      "source": [
        "__Question 2__ Explain the use of the arrays ```position``` and ```board```."
      ]
    },
    {
      "metadata": {
        "id": "6-G85zoBe8P1",
        "colab_type": "text"
      },
      "cell_type": "markdown",
      "source": [
        "*Position*  \n",
        "This matrix is used to define the rat position and allowed moves. \n",
        "- It is filled with `0` by default.\n",
        "- There is a two `-1` cells thickness on the borders, reprenting where the rat can't go. That's why we added +4 to the grid size, allowing some place for these borders.\n",
        "- One only cell is set to `1`, representing the actual rat positon.\n",
        "\n",
        "*Board*  \n",
        "This matrix is used to define the environment.\n",
        "- It is also initialized with a size increased by 4, to fit with the previous positon matrix.\n",
        "- It contains rewards for the rat. `-1` for poison, `0.5` for cheese.\n",
        "- When the rat already have explored a cell, we set the cell to `0`\n"
      ]
    },
    {
      "metadata": {
        "id": "-ZEZ4n2ue8P3",
        "colab_type": "text"
      },
      "cell_type": "markdown",
      "source": [
        "## Random Agent"
      ]
    },
    {
      "metadata": {
        "id": "n6bj3Pu4e8P4",
        "colab_type": "text"
      },
      "cell_type": "markdown",
      "source": [
        "***\n",
        "__Question 3__ Implement a random Agent (only ```learned_act``` needs to be implemented):"
      ]
    },
    {
      "metadata": {
        "id": "1JLh_hvke8P5",
        "colab_type": "code",
        "colab": {}
      },
      "cell_type": "code",
      "source": [
        "class RandomAgent(Agent):\n",
        "    def __init__(self):\n",
        "        super(RandomAgent, self).__init__()\n",
        "        pass\n",
        "\n",
        "    def learned_act(self, s=0):\n",
        "        return np.random.randint(4)\n",
        "\n",
        "# We develop a random agent.\n",
        "# Thus it doesn't care about the current rat state.\n",
        "# We put s=0 by default, we will not us it.\n",
        "# We randomly return a number between 0 and 3 included.\n",
        "\n",
        "# Testing\n",
        "def test_random_agent():\n",
        "    random_agent = RandomAgent()\n",
        "    for i in range(10):\n",
        "        print(random_agent.learned_act())\n",
        "# test_random_agent()"
      ],
      "execution_count": 0,
      "outputs": []
    },
    {
      "metadata": {
        "id": "4oZOl2t2e8P9",
        "colab_type": "text"
      },
      "cell_type": "markdown",
      "source": [
        "***\n",
        "***\n",
        "__Question 4__ Visualize the game moves. You need to fill in the following function for the evaluation:"
      ]
    },
    {
      "metadata": {
        "id": "65uteLr3e8P-",
        "colab_type": "code",
        "colab": {}
      },
      "cell_type": "code",
      "source": [
        "def test(agent,env,epochs,prefix=''):\n",
        "    # Number of won games\n",
        "    score = 0\n",
        "        \n",
        "    for e in range(epochs):\n",
        "        # Init variables\n",
        "        win = 0\n",
        "        lose = 0\n",
        "        game_over = False\n",
        "        # Start game\n",
        "        state = env.reset()\n",
        "        \n",
        "        # Running the game\n",
        "        while not game_over:\n",
        "            action = agent.learned_act(state) # The state will be useless\n",
        "            state, reward, game_over = env.act(action)\n",
        "            \n",
        "            if reward >= 0:\n",
        "                win+=reward\n",
        "            else:\n",
        "                lose+=abs(reward)\n",
        "        \n",
        "        # Save as a mp4\n",
        "        env.draw(prefix+str(e))\n",
        "\n",
        "        # Update stats\n",
        "        score = score + win-lose\n",
        "\n",
        "        print(\"Win/lose count {}/{}. Average score ({})\"\n",
        "              .format(win, lose, score/(1+e)))\n",
        "    print('Final score: '+str(score/epochs))"
      ],
      "execution_count": 0,
      "outputs": []
    },
    {
      "metadata": {
        "id": "Iba54I9Ue8QB",
        "colab_type": "code",
        "outputId": "72e1f98d-05a1-49dc-9fdd-1b4c26fdecf5",
        "colab": {
          "base_uri": "https://localhost:8080/",
          "height": 273
        }
      },
      "cell_type": "code",
      "source": [
        "epochs_test=5 # set small when debugging\n",
        "\n",
        "# Initialize the game\n",
        "env = Environment(grid_size=size, max_time=T,temperature=temperature)\n",
        "\n",
        "# Initialize the agent!\n",
        "agent = RandomAgent()\n",
        "\n",
        "test(agent,env,epochs_test,prefix='random')\n",
        "HTML(display_videos('random0.mp4'))"
      ],
      "execution_count": 8,
      "outputs": [
        {
          "output_type": "stream",
          "text": [
            "Win/lose count 14.5/14.0. Average score (0.5)\n",
            "Win/lose count 10.5/12.0. Average score (-0.5)\n",
            "Win/lose count 10.5/16.0. Average score (-2.1666666666666665)\n",
            "Win/lose count 14.0/13.0. Average score (-1.375)\n",
            "Win/lose count 10.5/15.0. Average score (-2.0)\n",
            "Final score: -2.0\n"
          ],
          "name": "stdout"
        },
        {
          "output_type": "execute_result",
          "data": {
            "text/html": [
              "<video alt=\"test\" controls>\n",
              "                <source src=\"data:video/mp4;base64,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\" type=\"video/mp4\" />\n",
              "             </video>"
            ],
            "text/plain": [
              "<IPython.core.display.HTML object>"
            ]
          },
          "metadata": {
            "tags": []
          },
          "execution_count": 8
        }
      ]
    },
    {
      "metadata": {
        "id": "D_eFHXsJe8QE",
        "colab_type": "text"
      },
      "cell_type": "markdown",
      "source": [
        "***\n",
        "## DQN"
      ]
    },
    {
      "metadata": {
        "id": "NnfwB5xJe8QG",
        "colab_type": "text"
      },
      "cell_type": "markdown",
      "source": [
        "Let us assume here that $T=\\infty$.\n",
        "\n",
        "***\n",
        "__Question 5__ Let $\\pi$ be a policy, show that:\n",
        "\n",
        "\\begin{equation*}\n",
        "Q^{\\pi}(s,a)=E_{(s',a')\\sim p(.|s,a)}[r(s,a)+\\gamma Q^{\\pi}(s',a')]\n",
        "\\end{equation*}\n",
        "\n",
        "Then, show that for the optimal policy $\\pi^*$ (we assume its existence), the following holds: \n",
        "\n",
        "\\begin{equation*}\n",
        "Q^{*}(s,a)=E_{s'\\sim \\pi^*(.|s,a)}[r(s,a)+\\gamma\\max_{a'}Q^{*}(s',a')].\n",
        "\\end{equation*}\n",
        "Finally, deduce that a plausible objective is:\n",
        "\n",
        "\\begin{equation*}\n",
        "\\mathcal{L}(\\theta)=E_{s' \\sim \\pi^*(.|s,a)}\\Vert r+\\gamma\\max\\max_{a'}Q(s',a',\\theta)-Q(s,a,\\theta)\\Vert^{2}.\n",
        "\\end{equation*}\n",
        "\n",
        "\n"
      ]
    },
    {
      "metadata": {
        "id": "NhAceGGqe8QH",
        "colab_type": "text"
      },
      "cell_type": "markdown",
      "source": [
        "By definition of the action-value of a policy $\\pi$, we have :  \n",
        "\n",
        "- $Q^\\pi(s,a)$\n",
        "\n",
        "$Q^\\pi(s,a) = E_\\pi \\Big[ \\overset{\\infty}{\\underset{k=0}{\\sum}} \\gamma^k r_{t+k} \\Big| s_t = s, a_t = a \\Big]$  \n",
        "\n",
        "$= E\\Big[r(s,a) + \\overset{\\infty}{\\underset{k=1}{\\sum}} \\gamma^k r_{t+k} \\Big| s_t = s, a_t = a\\Big]$  \n",
        "\n",
        "$ =  r(s,a) + \\gamma E\\left[E\\left[\\overset{\\infty}{\\underset{k=0}{\\sum}}[\\gamma^k r_{t+1+k}|s_{t+1}=s',a_{t+1}=a'\\right]|s_t = s, a_t = a\\right]$\n",
        "\n",
        "$ = r(s,a) + \\gamma \\underset{(s',a')}{\\sum}(p(s_{t+1}=s',a_{t+1}=a' |s_t = s, a_t = a ))*E[\\overset{\\infty}{\\underset{k=0}{\\sum}}\\gamma^k r_{t+1+k}|s_{t+1}=s',a_{t+1}=a']$\n",
        "\n",
        "$ =  \\underset{(s',a')}{\\sum} (p(s_{t+1}=s',a_{t+1}=a' |s_t = s, a_t = a ) r(s,a) + \\underset{(s',a')}{\\sum}(p(s_{t+1}=s',a_{t+1}=a' |s_t = s, a_t = a ))E[\\sum_{k=0}^{\\infty}\\gamma^k r_{t+1+k}|s_{t+1}=s',a_{t+1}=a']$\n",
        "\n",
        "$= E_{(s',a')\\sim p(.|s,a)}[r(s,a)+\\gamma Q^{\\pi}(s',a')]$\n",
        "   \n",
        "$~$  \n",
        "$~$\n",
        "\n",
        "- $Q^*(s,a)$\n",
        "\n",
        "$Q^*(s,a) = \\underset{(a',\\pi')}{\\max}\\left[E_{(s',a')\\sim p(.|s,a)}\\left(r(s,a)+\\gamma Q^{(a',\\pi')}(s',a')\\right)\\right] $\n",
        "\n",
        "$ = \\underset{(a',\\pi')}{\\max}\\left[r(s,a) + \\gamma \\sum(p(s_{t+1}=s' |s_t = s, a_t = a )Q^{(a',\\pi')}(s',a')\\right]$\n",
        "\n",
        "$= r(s,a) + \\gamma * \\underset{(a',\\pi')}{\\max}\\left[ \\sum(p(s_{t+1}=s' |s_t = s, a_t = a )Q^{(a',\\pi')}(s',a')\\right] $\n",
        "\n",
        "$~$\n",
        "$~$\n",
        "\n",
        "- Rewriting $Q^{*}(s,a)$\n",
        "\n",
        "$Q^{*}(s,a) = r(s,a) + \\gamma  \\overset{\\infty}{\\underset{k=0}{\\sum}}(p(s_{t+1}=s' |s_t = s, a_t = a )\\underset{a'}{\\max}\\underset{\\pi'}{\\max}Q^{\\pi'}(s',a') $\n",
        "$= r(s,a) + \\gamma \\overset{\\infty}{\\underset{k=0}{\\sum}}(p(s_{t+1}=s' |s_t = s, a_t = a )\\underset{a'}{\\max} Q^{*}(s',a') $\n",
        "$=E_{s'\\sim \\pi^*(.|s,a)}\\left[r(s,a)+\\gamma\\underset{a'}{\\max}Q^{*}(s',a')\\right]$\n",
        "\n",
        "$~$\n",
        "$~$\n",
        "\n",
        "- Objective function\n",
        "\n",
        "$\\mathcal{L}(\\theta)=E_{s' \\sim \\pi^*(.|s,a)}*\\Vert r+\\gamma\\max_{a'}\\left(Q(s',a',\\theta)-Q(s,a,\\theta)\\right)\\Vert^{2}$\n"
      ]
    },
    {
      "metadata": {
        "id": "84o3AG09e8QJ",
        "colab_type": "text"
      },
      "cell_type": "markdown",
      "source": [
        "***\n",
        "The DQN-learning algorithm relies on these derivations to train the parameters $\\theta$ of a Deep Neural Network:\n",
        "\n",
        "1. At the state $s_t$, select the action $a_t$ with best reward using $Q_t$ and store the results;\n",
        "\n",
        "2. Obtain the new state $s_{t+1}$ from the environment $p$;\n",
        "\n",
        "3. Store $(s_t,a_t,s_{t+1})$;\n",
        "\n",
        "4. Obtain $Q_{t+1}$ by minimizing  $\\mathcal{L}$ from a recovered batch from the previously stored results.\n",
        "\n",
        "***\n",
        "__Question 6__ Implement the class ```Memory``` that stores moves (in a replay buffer) via ```remember``` and provides a ```random_access``` to these. Specify a maximum memory size to avoid side effects. You can for example use a ```list()``` and set by default ```max_memory=100```."
      ]
    },
    {
      "metadata": {
        "id": "mosmSRh6e8QL",
        "colab_type": "code",
        "colab": {}
      },
      "cell_type": "code",
      "source": [
        "class Memory(object):\n",
        "    def __init__(self, max_memory=100):\n",
        "        self.max_memory = max_memory\n",
        "        self.memory = list()\n",
        "\n",
        "    def remember(self, m):\n",
        "        self.memory.append(m)\n",
        "        if len(self.memory) > self.max_memory:\n",
        "            self.memory.pop(0)\n",
        "\n",
        "    def random_access(self):\n",
        "        id_random = np.random.randint(len(self.memory))\n",
        "        return self.memory[id_random]"
      ],
      "execution_count": 0,
      "outputs": []
    },
    {
      "metadata": {
        "id": "HT0IrODde8QR",
        "colab_type": "text"
      },
      "cell_type": "markdown",
      "source": [
        "***\n",
        "The pipeline we will use for training is given below:"
      ]
    },
    {
      "metadata": {
        "id": "hCarcHK4e8QT",
        "colab_type": "code",
        "colab": {}
      },
      "cell_type": "code",
      "source": [
        "def train(agent,env,epoch,prefix=''):\n",
        "    # Number of won games\n",
        "    score = 0\n",
        "    loss = 0\n",
        "\n",
        "    for e in range(epoch):\n",
        "        # At each epoch, we restart to a fresh game and get the initial state\n",
        "        state = env.reset()\n",
        "        # This assumes that the games will terminate\n",
        "        game_over = False\n",
        "\n",
        "        win = 0\n",
        "        lose = 0\n",
        "\n",
        "        while not game_over:\n",
        "            # The agent performs an action\n",
        "            action = agent.act(state)\n",
        "\n",
        "            # Apply an action to the environment, get the next state, the reward\n",
        "            # and if the games end\n",
        "            prev_state = state\n",
        "            state, reward, game_over = env.act(action)\n",
        "\n",
        "            # Update the counters\n",
        "            if reward > 0:\n",
        "                win = win + reward\n",
        "            if reward < 0:\n",
        "                lose = lose -reward\n",
        "\n",
        "            # Apply the reinforcement strategy\n",
        "            loss = agent.reinforce(prev_state, state,  action, reward, game_over)\n",
        "\n",
        "        # Save as a mp4\n",
        "        if e % 10 == 0 or e == epoch - 1:\n",
        "            env.draw(prefix+str(e))\n",
        "\n",
        "        # Update stats\n",
        "        score += win-lose\n",
        "\n",
        "        print(\"Epoch {:03d}/{:03d} | Loss {:.4f} | Win/lose count {}/{} ({})\"\n",
        "              .format(e+1, epoch, loss, win, lose, win-lose))\n",
        "        agent.save(name_weights=prefix+'model.h5',name_model=prefix+'model.json')"
      ],
      "execution_count": 0,
      "outputs": []
    },
    {
      "metadata": {
        "id": "QIJTlijne8QY",
        "colab_type": "text"
      },
      "cell_type": "markdown",
      "source": [
        "***\n",
        "__Question 7__ Implement the DQN training algorithm using a cascade of fully connected layers. You can use different learning rate, batch size or memory size parameters. In particular, the loss might oscillate while the player will start to win the games. You have to find a good criterium."
      ]
    },
    {
      "metadata": {
        "id": "iI6rBOEge8Qb",
        "colab_type": "code",
        "colab": {}
      },
      "cell_type": "code",
      "source": [
        "from keras.layers.core import Flatten\n",
        "\n",
        "class DQN(Agent):\n",
        "    def __init__(self, grid_size,  epsilon = 0.1, memory_size=100, batch_size = 16,n_state=2):\n",
        "        super(DQN, self).__init__(epsilon = epsilon)\n",
        "\n",
        "        # Discount for Q learning\n",
        "        self.discount = 0.99\n",
        "        \n",
        "        self.grid_size = grid_size\n",
        "        \n",
        "        # number of state\n",
        "        self.n_state = n_state\n",
        "\n",
        "        # Memory\n",
        "        self.memory = Memory(memory_size)\n",
        "        \n",
        "        # Batch size when learning\n",
        "        self.batch_size = batch_size\n",
        "\n",
        "    def learned_act(self, s):\n",
        "        actions = self.model.predict(np.expand_dims(s, 0))\n",
        "        id_max = np.argmax(actions)\n",
        "        return id_max\n",
        "\n",
        "    def reinforce(self, s_, n_s_, a_, r_, game_over_):\n",
        "        # Two steps: first memorize the states, second learn from the pool\n",
        "\n",
        "        self.memory.remember([s_, n_s_, a_, r_, game_over_])\n",
        "        \n",
        "        input_states = np.zeros((self.batch_size, 5,5,self.n_state))\n",
        "        target_q = np.zeros((self.batch_size, 4))\n",
        "        \n",
        "        for i in range(self.batch_size):\n",
        "            s_, n_s_, a_, r_, game_over_  = self.memory.random_access()\n",
        "            \n",
        "            actions = self.model.predict(np.expand_dims(n_s_, 0))\n",
        "            value_max_action = np.max(actions)\n",
        "            \n",
        "            target_q[i] = actions\n",
        "            \n",
        "            if game_over_:\n",
        "                input_states[i] = s_\n",
        "                target_q[i,a_] = r_\n",
        "            else:\n",
        "                input_states[i] = s_\n",
        "                target_q[i,a_] = r_  + self.discount * value_max_action\n",
        "        \n",
        "        # HINT: Clip the target to avoid exploiding gradients.. -- clipping is a bit tighter\n",
        "        target_q = np.clip(target_q, -3, 3)\n",
        "        l = self.model.train_on_batch(input_states, target_q)\n",
        "        return l\n",
        "\n",
        "    def save(self,name_weights='model.h5',name_model='model.json'):\n",
        "        self.model.save_weights(name_weights, overwrite=True)\n",
        "        with open(name_model, \"w\") as outfile:\n",
        "            json.dump(self.model.to_json(), outfile)\n",
        "            \n",
        "    def load(self,name_weights='model.h5',name_model='model.json'):\n",
        "        with open(name_model, \"r\") as jfile:\n",
        "            model = model_from_json(json.load(jfile))\n",
        "        model.load_weights(name_weights)\n",
        "        model.compile(\"sgd\", \"mse\")\n",
        "        self.model = model\n",
        "\n",
        "            \n",
        "class DQN_FC(DQN):\n",
        "    def __init__(self, *args, lr=0.1,**kwargs):\n",
        "        super(DQN_FC, self).__init__( *args,**kwargs)\n",
        "        \n",
        "        # NN Model\n",
        "        model = Sequential()\n",
        "        model.add(Dense(64, activation='relu'))\n",
        "        model.add(Flatten())\n",
        "        model.add(Dense(128, activation='relu'))\n",
        "        model.add(Dense(4))\n",
        "        model.compile(sgd(lr=lr, decay=1e-4, momentum=0.1), \"mse\")\n",
        "        self.model = model\n",
        "        "
      ],
      "execution_count": 0,
      "outputs": []
    },
    {
      "metadata": {
        "id": "zMTTBllTe8Qk",
        "colab_type": "code",
        "outputId": "a653b8a0-e2f5-4c8a-ce28-ee2a175fd0bc",
        "colab": {
          "base_uri": "https://localhost:8080/",
          "height": 1469
        }
      },
      "cell_type": "code",
      "source": [
        "import glob\n",
        "epochs_train = 64\n",
        "# epochs_test = 64\n",
        "\n",
        "env = Environment(grid_size=size, max_time=T, temperature=0.3)\n",
        "agent = DQN_FC(size, lr=.1, epsilon = 0.5, memory_size=2000, batch_size = 64)\n",
        "\n",
        "# NOTE : a high epsilon is important to avoid to stick to a 2 case movement.\n",
        "# Even with this, we often end up to stop exploring the map.\n",
        "\n",
        "train(agent, env, epochs_train, prefix='fc_train')\n",
        "# test(agent,env,epochs_test,prefix='fc_train')\n",
        "\n",
        "video_paths = glob.glob(\"fc_train*.mp4\")\n",
        "video_paths.sort()\n",
        "best_video_path = video_paths.pop()\n",
        "print(\"Displaying \", best_video_path)\n",
        "HTML(display_videos(best_video_path))"
      ],
      "execution_count": 15,
      "outputs": [
        {
          "output_type": "stream",
          "text": [
            "WARNING:tensorflow:From /usr/local/lib/python3.6/dist-packages/tensorflow/python/ops/math_ops.py:3066: to_int32 (from tensorflow.python.ops.math_ops) is deprecated and will be removed in a future version.\n",
            "Instructions for updating:\n",
            "Use tf.cast instead.\n",
            "Epoch 001/064 | Loss 0.0161 | Win/lose count 3.5/11.0 (-7.5)\n",
            "Epoch 002/064 | Loss 0.0135 | Win/lose count 6.5/8.0 (-1.5)\n",
            "Epoch 003/064 | Loss 0.0308 | Win/lose count 7.0/10.0 (-3.0)\n",
            "Epoch 004/064 | Loss 0.0065 | Win/lose count 13.5/7.0 (6.5)\n",
            "Epoch 005/064 | Loss 0.0570 | Win/lose count 2.5/6.0 (-3.5)\n",
            "Epoch 006/064 | Loss 0.0397 | Win/lose count 4.5/8.0 (-3.5)\n",
            "Epoch 007/064 | Loss 0.0180 | Win/lose count 8.0/10.0 (-2.0)\n",
            "Epoch 008/064 | Loss 0.0383 | Win/lose count 6.0/8.0 (-2.0)\n",
            "Epoch 009/064 | Loss 0.0106 | Win/lose count 6.0/10.0 (-4.0)\n",
            "Epoch 010/064 | Loss 0.0458 | Win/lose count 8.0/9.0 (-1.0)\n",
            "Epoch 011/064 | Loss 0.0393 | Win/lose count 8.5/9.0 (-0.5)\n",
            "Epoch 012/064 | Loss 0.0122 | Win/lose count 12.5/7.0 (5.5)\n",
            "Epoch 013/064 | Loss 0.0094 | Win/lose count 7.5/6.0 (1.5)\n",
            "Epoch 014/064 | Loss 0.0333 | Win/lose count 3.0/6.0 (-3.0)\n",
            "Epoch 015/064 | Loss 0.0131 | Win/lose count 8.5/2.0 (6.5)\n",
            "Epoch 016/064 | Loss 0.0392 | Win/lose count 15.0/13.0 (2.0)\n",
            "Epoch 017/064 | Loss 0.0362 | Win/lose count 13.0/4.0 (9.0)\n",
            "Epoch 018/064 | Loss 0.0121 | Win/lose count 10.0/15.0 (-5.0)\n",
            "Epoch 019/064 | Loss 0.0079 | Win/lose count 5.0/12.0 (-7.0)\n",
            "Epoch 020/064 | Loss 0.0086 | Win/lose count 4.0/3.0 (1.0)\n",
            "Epoch 021/064 | Loss 0.0976 | Win/lose count 7.0/10.0 (-3.0)\n",
            "Epoch 022/064 | Loss 0.0438 | Win/lose count 13.5/14.0 (-0.5)\n",
            "Epoch 023/064 | Loss 0.0045 | Win/lose count 15.0/13.0 (2.0)\n",
            "Epoch 024/064 | Loss 0.0083 | Win/lose count 14.5/5.0 (9.5)\n",
            "Epoch 025/064 | Loss 0.0614 | Win/lose count 15.5/7.0 (8.5)\n",
            "Epoch 026/064 | Loss 0.0352 | Win/lose count 26.5/6.0 (20.5)\n",
            "Epoch 027/064 | Loss 0.0085 | Win/lose count 16.5/5.0 (11.5)\n",
            "Epoch 028/064 | Loss 0.0158 | Win/lose count 11.5/6.0 (5.5)\n",
            "Epoch 029/064 | Loss 0.0333 | Win/lose count 10.0/7.0 (3.0)\n",
            "Epoch 030/064 | Loss 0.0117 | Win/lose count 14.5/11.0 (3.5)\n",
            "Epoch 031/064 | Loss 0.0081 | Win/lose count 11.5/10.0 (1.5)\n",
            "Epoch 032/064 | Loss 0.0203 | Win/lose count 16.5/10.0 (6.5)\n",
            "Epoch 033/064 | Loss 0.0159 | Win/lose count 10.5/3.0 (7.5)\n",
            "Epoch 034/064 | Loss 0.0166 | Win/lose count 16.5/8.0 (8.5)\n",
            "Epoch 035/064 | Loss 0.0118 | Win/lose count 9.0/9.0 (0.0)\n",
            "Epoch 036/064 | Loss 0.0107 | Win/lose count 19.0/6.0 (13.0)\n",
            "Epoch 037/064 | Loss 0.0071 | Win/lose count 29.0/8.0 (21.0)\n",
            "Epoch 038/064 | Loss 0.0182 | Win/lose count 11.5/8.0 (3.5)\n",
            "Epoch 039/064 | Loss 0.0639 | Win/lose count 13.5/5.0 (8.5)\n",
            "Epoch 040/064 | Loss 0.0156 | Win/lose count 17.0/9.0 (8.0)\n",
            "Epoch 041/064 | Loss 0.0042 | Win/lose count 14.5/7.0 (7.5)\n",
            "Epoch 042/064 | Loss 0.0111 | Win/lose count 13.0/7.0 (6.0)\n",
            "Epoch 043/064 | Loss 0.0326 | Win/lose count 3.5/8.0 (-4.5)\n",
            "Epoch 044/064 | Loss 0.0410 | Win/lose count 13.5/8.0 (5.5)\n",
            "Epoch 045/064 | Loss 0.0091 | Win/lose count 14.5/8.0 (6.5)\n",
            "Epoch 046/064 | Loss 0.0093 | Win/lose count 11.0/5.0 (6.0)\n",
            "Epoch 047/064 | Loss 0.0066 | Win/lose count 6.0/6.0 (0.0)\n",
            "Epoch 048/064 | Loss 0.0117 | Win/lose count 16.0/12.0 (4.0)\n",
            "Epoch 049/064 | Loss 0.0151 | Win/lose count 17.0/11.0 (6.0)\n",
            "Epoch 050/064 | Loss 0.0170 | Win/lose count 7.0/5.0 (2.0)\n",
            "Epoch 051/064 | Loss 0.0154 | Win/lose count 10.5/12.0 (-1.5)\n",
            "Epoch 052/064 | Loss 0.0345 | Win/lose count 9.5/1.0 (8.5)\n",
            "Epoch 053/064 | Loss 0.0119 | Win/lose count 3.5/7.0 (-3.5)\n",
            "Epoch 054/064 | Loss 0.0099 | Win/lose count 12.5/11.0 (1.5)\n",
            "Epoch 055/064 | Loss 0.0109 | Win/lose count 13.5/17.0 (-3.5)\n",
            "Epoch 056/064 | Loss 0.0107 | Win/lose count 18.0/13.0 (5.0)\n",
            "Epoch 057/064 | Loss 0.0118 | Win/lose count 6.0/5.0 (1.0)\n",
            "Epoch 058/064 | Loss 0.0485 | Win/lose count 9.5/8.0 (1.5)\n",
            "Epoch 059/064 | Loss 0.0187 | Win/lose count 7.5/8.0 (-0.5)\n",
            "Epoch 060/064 | Loss 0.0627 | Win/lose count 16.5/10.0 (6.5)\n",
            "Epoch 061/064 | Loss 0.0200 | Win/lose count 13.5/10.0 (3.5)\n",
            "Epoch 062/064 | Loss 0.0046 | Win/lose count 17.0/10.0 (7.0)\n",
            "Epoch 063/064 | Loss 0.0200 | Win/lose count 7.5/15.0 (-7.5)\n",
            "Epoch 064/064 | Loss 0.0108 | Win/lose count 18.0/11.0 (7.0)\n",
            "Displaying  fc_train90.mp4\n"
          ],
          "name": "stdout"
        },
        {
          "output_type": "execute_result",
          "data": {
            "text/html": [
              "<video alt=\"test\" controls>\n",
              "                <source src=\"data:video/mp4;base64,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\" type=\"video/mp4\" />\n",
              "             </video>"
            ],
            "text/plain": [
              "<IPython.core.display.HTML object>"
            ]
          },
          "metadata": {
            "tags": []
          },
          "execution_count": 15
        }
      ]
    },
    {
      "metadata": {
        "id": "wgeO6YOie8Qm",
        "colab_type": "text"
      },
      "cell_type": "markdown",
      "source": [
        "***\n",
        "***\n",
        "__Question 8__ Implement the DQN training algorithm using a CNN (for example, 2 convolutional layers and one final fully connected layer)."
      ]
    },
    {
      "metadata": {
        "id": "UW8ysoEZe8Qn",
        "colab_type": "code",
        "colab": {}
      },
      "cell_type": "code",
      "source": [
        "class DQN_CNN(DQN):\n",
        "    def __init__(self, *args,lr=0.1,**kwargs):\n",
        "        super(DQN_CNN, self).__init__(*args,**kwargs)\n",
        "        \n",
        "        model = Sequential()\n",
        "        model.add(Conv2D(32, (2, 2), input_shape=(5,5,self.n_state,), activation='relu'))\n",
        "        model.add(Dropout(rate=0.2))\n",
        "        model.add(Conv2D(64, (2, 2), activation='relu'))\n",
        "        model.add(Flatten())\n",
        "        # model.add(Dense(128, activation='relu'))\n",
        "        model.add(Dense(4, activation='sigmoid'))\n",
        "        \n",
        "        model.compile(sgd(lr=lr, decay=1e-4, momentum=0.1), \"mse\")\n",
        "        self.model = model"
      ],
      "execution_count": 0,
      "outputs": []
    },
    {
      "metadata": {
        "id": "dEQv-Guie8Qq",
        "colab_type": "code",
        "outputId": "de27b7bf-9a1d-48d5-8a52-370a98bd4e72",
        "colab": {
          "base_uri": "https://localhost:8080/",
          "height": 527
        }
      },
      "cell_type": "code",
      "source": [
        "epochs_train = 64\n",
        "# epochs_test = 128\n",
        "\n",
        "env = Environment(grid_size=size, max_time=T, temperature=0.3)\n",
        "agent = DQN_CNN(size, lr=.1, epsilon = 0.1, memory_size=2000, batch_size = 32)\n",
        "\n",
        "train(agent,env,epochs_train,prefix='cnn_train')\n",
        "# test(agent,env,epochs_test,prefix='cnn_train')\n",
        "\n",
        "\n",
        "video_paths = glob.glob(\"cnn_train*.mp4\")\n",
        "video_paths.sort()\n",
        "best_video_path = video_paths.pop()\n",
        "print(\"Displaying \", best_video_path)\n",
        "HTML(display_videos(best_video_path))"
      ],
      "execution_count": 0,
      "outputs": [
        {
          "output_type": "stream",
          "text": [
            "Epoch 001/064 | Loss 0.0026 | Win/lose count 2.5/4.0 (-1.5)\n",
            "Epoch 002/064 | Loss 0.0312 | Win/lose count 2.0/3.0 (-1.0)\n",
            "Epoch 003/064 | Loss 0.0021 | Win/lose count 2.5/1.0 (1.5)\n",
            "Epoch 004/064 | Loss 0.0045 | Win/lose count 1.0/3.0 (-2.0)\n",
            "Epoch 005/064 | Loss 0.0006 | Win/lose count 3.0/4.0 (-1.0)\n",
            "Epoch 006/064 | Loss 0.0003 | Win/lose count 1.0/3.0 (-2.0)\n",
            "Epoch 007/064 | Loss 0.0003 | Win/lose count 7.5/10.0 (-2.5)\n",
            "Epoch 008/064 | Loss 0.0078 | Win/lose count 1.5/1.0 (0.5)\n",
            "Epoch 009/064 | Loss 0.0138 | Win/lose count 2.5/4.0 (-1.5)\n",
            "Epoch 010/064 | Loss 0.0002 | Win/lose count 1.0/3.0 (-2.0)\n",
            "Epoch 011/064 | Loss 0.0003 | Win/lose count 4.0/3.0 (1.0)\n",
            "Epoch 012/064 | Loss 0.0091 | Win/lose count 8.0/3.0 (5.0)\n",
            "Epoch 013/064 | Loss 0.0118 | Win/lose count 3.0/4.0 (-1.0)\n",
            "Epoch 014/064 | Loss 0.0083 | Win/lose count 2.0/2.0 (0.0)\n",
            "Epoch 015/064 | Loss 0.0101 | Win/lose count 12.0/2.0 (10.0)\n",
            "Epoch 016/064 | Loss 0.0077 | Win/lose count 9.5/2.0 (7.5)\n",
            "Epoch 017/064 | Loss 0.0101 | Win/lose count 5.0/6.0 (-1.0)\n",
            "Epoch 018/064 | Loss 0.0255 | Win/lose count 7.0/6.0 (1.0)\n",
            "Epoch 019/064 | Loss 0.0046 | Win/lose count 4.5/3.0 (1.5)\n",
            "Epoch 020/064 | Loss 0.0040 | Win/lose count 6.0/2.0 (4.0)\n",
            "Epoch 021/064 | Loss 0.0024 | Win/lose count 9.0/0 (9.0)\n",
            "Epoch 022/064 | Loss 0.0040 | Win/lose count 1.5/3.0 (-1.5)\n",
            "Epoch 023/064 | Loss 0.0049 | Win/lose count 5.5/5.0 (0.5)\n",
            "Epoch 024/064 | Loss 0.0059 | Win/lose count 3.0/6.0 (-3.0)\n",
            "Epoch 025/064 | Loss 0.0027 | Win/lose count 5.5/4.0 (1.5)\n",
            "Epoch 026/064 | Loss 0.0166 | Win/lose count 3.0/2.0 (1.0)\n",
            "Epoch 027/064 | Loss 0.0026 | Win/lose count 5.0/3.0 (2.0)\n",
            "Epoch 028/064 | Loss 0.0073 | Win/lose count 8.5/5.0 (3.5)\n",
            "Epoch 029/064 | Loss 0.0069 | Win/lose count 3.0/4.0 (-1.0)\n",
            "Epoch 030/064 | Loss 0.0043 | Win/lose count 7.0/4.0 (3.0)\n"
          ],
          "name": "stdout"
        }
      ]
    },
    {
      "metadata": {
        "id": "ZEa5R3rHe8Qt",
        "colab_type": "text"
      },
      "cell_type": "markdown",
      "source": [
        "***\n",
        "***\n",
        "__Question 9__ Test both algorithms and compare their performances. Which issue(s) do you observe? Observe also different behaviors by changing the temperature."
      ]
    },
    {
      "metadata": {
        "id": "dGOlGh_ve8Qu",
        "colab_type": "code",
        "outputId": "a16aebb4-634b-4f6a-d0c8-0b8524d64ab4",
        "colab": {
          "base_uri": "https://localhost:8080/",
          "height": 2261
        }
      },
      "cell_type": "code",
      "source": [
        "# epochs_train = 128\n",
        "epochs_test = 64\n",
        "\n",
        "env = Environment(grid_size=size, max_time=T,temperature=0.3)\n",
        "agent_cnn = DQN_CNN(size, lr=.1, epsilon = 0.5, memory_size=500, batch_size = 32)\n",
        "agent_cnn.load(name_weights='cnn_trainmodel.h5',name_model='cnn_trainmodel.json')\n",
        "\n",
        "agent_fc = DQN_FC(size, lr=.1, epsilon = 0.5, memory_size=500, batch_size = 32)\n",
        "agent_cnn.load(name_weights='fc_trainmodel.h5',name_model='fc_trainmodel.json')\n",
        "print('Test of the CNN')\n",
        "test(agent_cnn,env,epochs_test,prefix='cnn_test')\n",
        "print('Test of the FC')\n",
        "test(agent_fc,env,epochs_test,prefix='fc_test')"
      ],
      "execution_count": 18,
      "outputs": [
        {
          "output_type": "stream",
          "text": [
            "Test of the CNN\n",
            "Win/lose count 1.0/0. Average score (1.0)\n",
            "Win/lose count 1.5/0. Average score (1.25)\n",
            "Win/lose count 3.5/0. Average score (2.0)\n",
            "Win/lose count 1.0/0. Average score (1.75)\n",
            "Win/lose count 3.5/1.0. Average score (1.9)\n",
            "Win/lose count 1.5/1.0. Average score (1.6666666666666667)\n",
            "Win/lose count 2.0/0. Average score (1.7142857142857142)\n",
            "Win/lose count 3.0/0. Average score (1.875)\n",
            "Win/lose count 5.5/0. Average score (2.2777777777777777)\n",
            "Win/lose count 9.0/1.0. Average score (2.85)\n",
            "Win/lose count 0.5/0. Average score (2.6363636363636362)\n",
            "Win/lose count 1.5/0. Average score (2.5416666666666665)\n",
            "Win/lose count 6.0/0. Average score (2.8076923076923075)\n",
            "Win/lose count 3.0/2.0. Average score (2.6785714285714284)\n",
            "Win/lose count 6.0/0. Average score (2.9)\n",
            "Win/lose count 7.0/0. Average score (3.15625)\n",
            "Win/lose count 2.5/0. Average score (3.1176470588235294)\n",
            "Win/lose count 1.0/0. Average score (3.0)\n",
            "Win/lose count 2.0/0. Average score (2.9473684210526314)\n",
            "Win/lose count 7.5/0. Average score (3.175)\n",
            "Win/lose count 1.5/0. Average score (3.0952380952380953)\n",
            "Win/lose count 4.0/0. Average score (3.1363636363636362)\n",
            "Win/lose count 3.0/0. Average score (3.130434782608696)\n",
            "Win/lose count 4.0/0. Average score (3.1666666666666665)\n",
            "Win/lose count 9.0/0. Average score (3.4)\n",
            "Win/lose count 4.5/0. Average score (3.4423076923076925)\n",
            "Win/lose count 4.0/0. Average score (3.462962962962963)\n",
            "Win/lose count 1.0/0. Average score (3.375)\n",
            "Win/lose count 3.5/0. Average score (3.3793103448275863)\n",
            "Win/lose count 5.0/0. Average score (3.433333333333333)\n",
            "Win/lose count 3.0/0. Average score (3.4193548387096775)\n",
            "Win/lose count 2.5/0. Average score (3.390625)\n",
            "Win/lose count 4.0/0. Average score (3.409090909090909)\n",
            "Win/lose count 4.0/0. Average score (3.426470588235294)\n",
            "Win/lose count 8.0/0. Average score (3.557142857142857)\n",
            "Win/lose count 3.5/0. Average score (3.5555555555555554)\n",
            "Win/lose count 2.5/0. Average score (3.527027027027027)\n",
            "Win/lose count 6.5/0. Average score (3.6052631578947367)\n",
            "Win/lose count 5.5/0. Average score (3.6538461538461537)\n",
            "Win/lose count 2.0/0. Average score (3.6125)\n",
            "Win/lose count 1.5/0. Average score (3.5609756097560976)\n",
            "Win/lose count 4.5/0. Average score (3.5833333333333335)\n",
            "Win/lose count 6.5/0. Average score (3.6511627906976742)\n",
            "Win/lose count 2.5/0. Average score (3.625)\n",
            "Win/lose count 0.5/0. Average score (3.5555555555555554)\n",
            "Win/lose count 1.0/0. Average score (3.5)\n",
            "Win/lose count 5.0/0. Average score (3.5319148936170213)\n",
            "Win/lose count 2.5/0. Average score (3.5104166666666665)\n",
            "Win/lose count 0.5/0. Average score (3.4489795918367347)\n",
            "Win/lose count 8.0/0. Average score (3.54)\n",
            "Win/lose count 1.0/0. Average score (3.4901960784313726)\n",
            "Win/lose count 3.0/0. Average score (3.480769230769231)\n",
            "Win/lose count 3.0/0. Average score (3.4716981132075473)\n",
            "Win/lose count 2.0/0. Average score (3.4444444444444446)\n",
            "Win/lose count 4.0/0. Average score (3.4545454545454546)\n",
            "Win/lose count 1.5/0. Average score (3.419642857142857)\n",
            "Win/lose count 2.0/0. Average score (3.3947368421052633)\n",
            "Win/lose count 3.5/0. Average score (3.396551724137931)\n",
            "Win/lose count 2.5/0. Average score (3.3813559322033897)\n",
            "Win/lose count 4.5/0. Average score (3.4)\n",
            "Win/lose count 1.0/0. Average score (3.360655737704918)\n",
            "Win/lose count 3.5/0. Average score (3.3629032258064515)\n",
            "Win/lose count 6.0/0. Average score (3.4047619047619047)\n",
            "Win/lose count 3.0/0. Average score (3.3984375)\n",
            "Final score: 3.3984375\n",
            "Test of the FC\n",
            "Win/lose count 0.0/0. Average score (0.0)\n",
            "Win/lose count 0.5/1.0. Average score (-0.25)\n",
            "Win/lose count 0.5/0. Average score (0.0)\n",
            "Win/lose count 0.5/0. Average score (0.125)\n",
            "Win/lose count 0.0/1.0. Average score (-0.1)\n",
            "Win/lose count 0.5/0. Average score (0.0)\n",
            "Win/lose count 0.0/0. Average score (0.0)\n",
            "Win/lose count 0.0/1.0. Average score (-0.125)\n",
            "Win/lose count 0.0/0. Average score (-0.1111111111111111)\n",
            "Win/lose count 0.5/0. Average score (-0.05)\n",
            "Win/lose count 1.0/0. Average score (0.045454545454545456)\n",
            "Win/lose count 1.0/2.0. Average score (-0.041666666666666664)\n",
            "Win/lose count 2.0/1.0. Average score (0.038461538461538464)\n",
            "Win/lose count 0.0/1.0. Average score (-0.03571428571428571)\n",
            "Win/lose count 3.0/0. Average score (0.16666666666666666)\n",
            "Win/lose count 0.5/0. Average score (0.1875)\n",
            "Win/lose count 0.0/1.0. Average score (0.11764705882352941)\n",
            "Win/lose count 0.0/2.0. Average score (0.0)\n",
            "Win/lose count 0.5/1.0. Average score (-0.02631578947368421)\n",
            "Win/lose count 0.0/0. Average score (-0.025)\n",
            "Win/lose count 1.0/0. Average score (0.023809523809523808)\n",
            "Win/lose count 0.0/0. Average score (0.022727272727272728)\n",
            "Win/lose count 0.5/0. Average score (0.043478260869565216)\n",
            "Win/lose count 0.0/1.0. Average score (0.0)\n",
            "Win/lose count 0.5/0. Average score (0.02)\n",
            "Win/lose count 0.5/0. Average score (0.038461538461538464)\n",
            "Win/lose count 0.5/0. Average score (0.05555555555555555)\n",
            "Win/lose count 2.0/2.0. Average score (0.05357142857142857)\n",
            "Win/lose count 1.0/0. Average score (0.08620689655172414)\n",
            "Win/lose count 0.5/1.0. Average score (0.06666666666666667)\n",
            "Win/lose count 0.0/0. Average score (0.06451612903225806)\n",
            "Win/lose count 0.0/0. Average score (0.0625)\n",
            "Win/lose count 1.5/2.0. Average score (0.045454545454545456)\n",
            "Win/lose count 1.0/0. Average score (0.07352941176470588)\n",
            "Win/lose count 1.0/3.0. Average score (0.014285714285714285)\n",
            "Win/lose count 0.5/0. Average score (0.027777777777777776)\n",
            "Win/lose count 0.0/1.0. Average score (0.0)\n",
            "Win/lose count 0.5/3.0. Average score (-0.06578947368421052)\n",
            "Win/lose count 0.5/0. Average score (-0.05128205128205128)\n",
            "Win/lose count 2.0/0. Average score (0.0)\n",
            "Win/lose count 0.0/0. Average score (0.0)\n",
            "Win/lose count 2.0/1.0. Average score (0.023809523809523808)\n",
            "Win/lose count 0.5/0. Average score (0.03488372093023256)\n",
            "Win/lose count 0.0/1.0. Average score (0.011363636363636364)\n",
            "Win/lose count 0.5/0. Average score (0.022222222222222223)\n",
            "Win/lose count 0.0/2.0. Average score (-0.021739130434782608)\n",
            "Win/lose count 0.5/0. Average score (-0.010638297872340425)\n",
            "Win/lose count 0.0/1.0. Average score (-0.03125)\n",
            "Win/lose count 1.0/2.0. Average score (-0.05102040816326531)\n",
            "Win/lose count 0.5/2.0. Average score (-0.08)\n",
            "Win/lose count 0.5/2.0. Average score (-0.10784313725490197)\n",
            "Win/lose count 0.0/0. Average score (-0.10576923076923077)\n",
            "Win/lose count 0.0/1.0. Average score (-0.12264150943396226)\n",
            "Win/lose count 0.5/1.0. Average score (-0.12962962962962962)\n",
            "Win/lose count 1.5/3.0. Average score (-0.15454545454545454)\n",
            "Win/lose count 0.0/1.0. Average score (-0.16964285714285715)\n",
            "Win/lose count 1.0/2.0. Average score (-0.18421052631578946)\n",
            "Win/lose count 0.0/0. Average score (-0.1810344827586207)\n",
            "Win/lose count 0.0/1.0. Average score (-0.19491525423728814)\n",
            "Win/lose count 0.5/0. Average score (-0.18333333333333332)\n",
            "Win/lose count 0.0/0. Average score (-0.18032786885245902)\n",
            "Win/lose count 0.0/1.0. Average score (-0.1935483870967742)\n",
            "Win/lose count 0.5/0. Average score (-0.18253968253968253)\n",
            "Win/lose count 0.0/0. Average score (-0.1796875)\n",
            "Final score: -0.1796875\n"
          ],
          "name": "stdout"
        }
      ]
    },
    {
      "metadata": {
        "id": "mdZ2s9c1e8Qw",
        "colab_type": "code",
        "outputId": "fa084ff5-785e-4832-c6a9-2cc48b8bdf6b",
        "colab": {
          "base_uri": "https://localhost:8080/",
          "height": 310
        }
      },
      "cell_type": "code",
      "source": [
        "video_paths = glob.glob(\"cnn_test*.mp4\")\n",
        "video_paths.sort()\n",
        "best_video_path = video_paths.pop()\n",
        "print(\"Displaying \", best_video_path)\n",
        "HTML(display_videos(best_video_path))"
      ],
      "execution_count": 19,
      "outputs": [
        {
          "output_type": "stream",
          "text": [
            "Displaying  cnn_test9.mp4\n"
          ],
          "name": "stdout"
        },
        {
          "output_type": "execute_result",
          "data": {
            "text/html": [
              "<video alt=\"test\" controls>\n",
              "                <source src=\"data:video/mp4;base64,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\" type=\"video/mp4\" />\n",
              "             </video>"
            ],
            "text/plain": [
              "<IPython.core.display.HTML object>"
            ]
          },
          "metadata": {
            "tags": []
          },
          "execution_count": 19
        }
      ]
    },
    {
      "metadata": {
        "id": "89gsdVYge8Qz",
        "colab_type": "code",
        "outputId": "a95f1e46-48cd-4285-be91-a0923d44c7d2",
        "colab": {
          "base_uri": "https://localhost:8080/",
          "height": 188
        }
      },
      "cell_type": "code",
      "source": [
        "video_paths = glob.glob(\"fc_test*.mp4\")\n",
        "video_paths.sort()\n",
        "best_video_path = video_paths.pop()\n",
        "print(\"Displaying \", best_video_path)\n",
        "HTML(display_videos(best_video_path))"
      ],
      "execution_count": 20,
      "outputs": [
        {
          "output_type": "stream",
          "text": [
            "Displaying  fc_test9.mp4\n"
          ],
          "name": "stdout"
        },
        {
          "output_type": "execute_result",
          "data": {
            "text/html": [
              "<video alt=\"test\" controls>\n",
              "                <source src=\"data:video/mp4;base64,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\" type=\"video/mp4\" />\n",
              "             </video>"
            ],
            "text/plain": [
              "<IPython.core.display.HTML object>"
            ]
          },
          "metadata": {
            "tags": []
          },
          "execution_count": 20
        }
      ]
    },
    {
      "metadata": {
        "id": "T3iII5ETe8Q1",
        "colab_type": "text"
      },
      "cell_type": "markdown",
      "source": [
        "The CNN solution is performingbetter than the FC model and converge faster. Still in both cases we keep exploring the same cells at a point and the rat get stuck (not exploring ends to be a good enough strategy)."
      ]
    },
    {
      "metadata": {
        "id": "Z1cbxNjFe8Q2",
        "colab_type": "text"
      },
      "cell_type": "markdown",
      "source": [
        "***\n",
        "\n",
        "The algorithm tends to not explore the map which can be an issue. We propose two ideas in order to encourage exploration:\n",
        "1. Incorporating a decreasing $\\epsilon$-greedy exploration. You can use the method ```set_epsilon```\n",
        "2. Append via the environment a new state that describes if a cell has been visited or not\n",
        "\n",
        "***\n",
        "__Question 10__ Design a new ```train_explore``` function and environment class ```EnvironmentExploring``` to tackle the issue of exploration.\n",
        "\n"
      ]
    },
    {
      "metadata": {
        "id": "IaHnXmPwe8Q3",
        "colab_type": "code",
        "colab": {}
      },
      "cell_type": "code",
      "source": [
        "def train_explore(agent,env,epoch,prefix='', epsilon_evolution=0.99):\n",
        "    # Number of won games\n",
        "    score = 0\n",
        "    loss = 0\n",
        "\n",
        "    for e in range(epoch):\n",
        "        # At each epoch, we restart to a fresh game and get the initial state\n",
        "        state = env.reset()\n",
        "        # This assumes that the games will terminate\n",
        "        game_over = False\n",
        "\n",
        "        win = 0\n",
        "        lose = 0\n",
        "        \n",
        "        while not game_over:\n",
        "            # The agent performs an action\n",
        "            # action = agent.act(state, train=True)\n",
        "            action = agent.act(state)\n",
        "            agent.set_epsilon(agent.epsilon*epsilon_evolution)\n",
        "\n",
        "            # Apply an action to the environment, get the next state, the reward\n",
        "            # and if the games end\n",
        "            prev_state = state\n",
        "            state, reward, game_over = env.act(action, train=True)\n",
        "\n",
        "            # Update the counters\n",
        "            if reward > 0:\n",
        "                win = win + reward\n",
        "            if reward < 0:\n",
        "                lose = lose - reward\n",
        "\n",
        "            # Apply the reinforcement strategy\n",
        "            loss = agent.reinforce(prev_state, state,  action, reward, game_over)\n",
        "\n",
        "        # Save as a mp4\n",
        "        if e % 10 == 0 or e == epoch - 1:\n",
        "            env.draw(prefix+str(e))\n",
        "\n",
        "        # Update stats\n",
        "        score += win-lose\n",
        "\n",
        "        print(\"Epoch {:03d}/{:03d} | Loss {:.4f} | Win/lose count {}/{} ({})\"\n",
        "              .format(e+1, epoch, loss, round(win, 3), round(lose, 3), round(win-lose, 3)))\n",
        "        agent.save(name_weights=prefix+'model.h5',name_model=prefix+'model.json')\n",
        "\n",
        "\n",
        "class EnvironmentExploring(object):\n",
        "    def __init__(self, grid_size=10, max_time=500, temperature=0.1):\n",
        "        grid_size = grid_size+4\n",
        "        self.grid_size = grid_size\n",
        "        self.max_time = max_time\n",
        "        self.temperature = temperature\n",
        "\n",
        "        #board on which one plays\n",
        "        self.board = np.zeros((self.grid_size,self.grid_size))\n",
        "        self.position = np.zeros((self.grid_size,self.grid_size))\n",
        "        self.malus_visited = np.zeros((self.grid_size,self.grid_size))\n",
        "\n",
        "        # coordinate of the cat\n",
        "        self.x = 0\n",
        "        self.y = 1\n",
        "\n",
        "        # self time\n",
        "        self.t = 0\n",
        "\n",
        "        self.scale=16\n",
        "\n",
        "        self.to_draw = np.zeros((max_time+2, self.grid_size*self.scale, self.grid_size*self.scale, 3))\n",
        "\n",
        "\n",
        "    def draw(self,e):\n",
        "        skvideo.io.vwrite(str(e) + '.mp4', self.to_draw)\n",
        "\n",
        "    def get_frame(self,t):\n",
        "        b = np.zeros((self.grid_size,self.grid_size,3))+128\n",
        "        b[self.board>0,0] = 256\n",
        "        b[self.board < 0, 2] = 256\n",
        "        b[self.x,self.y,:]=256\n",
        "        b[-2:,:,:]=0\n",
        "        b[:,-2:,:]=0\n",
        "        b[:2,:,:]=0\n",
        "        b[:,:2,:]=0\n",
        "        \n",
        "        b =  cv2.resize(b, None, fx=self.scale, fy=self.scale, interpolation=cv2.INTER_NEAREST)\n",
        "\n",
        "        self.to_draw[t,:,:,:]=b\n",
        "\n",
        "\n",
        "    def act(self, action, train=True):\n",
        "        \"\"\"This function returns the new state, reward and decides if the\n",
        "        game ends.\"\"\"\n",
        "\n",
        "        self.get_frame(int(self.t))\n",
        "\n",
        "        self.position = np.zeros((self.grid_size, self.grid_size))\n",
        "\n",
        "        self.position[0:2,:]= -1\n",
        "        self.position[:,0:2] = -1\n",
        "        self.position[-2:, :] = -1\n",
        "        self.position[:, -2:] = -1\n",
        "\n",
        "        self.position[self.x, self.y] = 1\n",
        "        if action == 0:\n",
        "            if self.x == self.grid_size-3:\n",
        "                self.x = self.x-1\n",
        "            else:\n",
        "                self.x = self.x + 1\n",
        "        elif action == 1:\n",
        "            if self.x == 2:\n",
        "                self.x = self.x+1\n",
        "            else:\n",
        "                self.x = self.x-1\n",
        "        elif action == 2:\n",
        "            if self.y == self.grid_size - 3:\n",
        "                self.y = self.y - 1\n",
        "            else:\n",
        "                self.y = self.y + 1\n",
        "        elif action == 3:\n",
        "            if self.y == 2:\n",
        "                self.y = self.y + 1\n",
        "            else:\n",
        "                self.y = self.y - 1\n",
        "        else:\n",
        "            RuntimeError('Error: action not recognized')\n",
        "            \n",
        "        self.t = self.t + 1\n",
        "        reward = self.board[self.x, self.y]\n",
        "        self.board[self.x, self.y] = 0\n",
        "        \n",
        "        # Including malus on already visited position during training\n",
        "        if train:\n",
        "            reward += self.malus_visited[self.x, self.y]\n",
        "            self.malus_visited[self.x, self.y] -= 0.1\n",
        "        \n",
        "        game_over = self.t > self.max_time\n",
        "        # We add the matrix malus_visited to the state for the Deep Learning to take it into account.\n",
        "        state = np.concatenate((self.malus_visited.reshape(self.grid_size, self.grid_size,1),\n",
        "                                self.board.reshape(self.grid_size, self.grid_size,1),\n",
        "                                self.position.reshape(self.grid_size, self.grid_size,1)),\n",
        "                                axis=2)\n",
        "        state = state[self.x-2:self.x+3,self.y-2:self.y+3,:]\n",
        "\n",
        "        return state, reward, game_over\n",
        "\n",
        "    def reset(self):\n",
        "        \"\"\"This function resets the game and returns the initial state\"\"\"\n",
        "\n",
        "        self.x = np.random.randint(3, self.grid_size-3, size=1)[0]\n",
        "        self.y = np.random.randint(3, self.grid_size-3, size=1)[0]\n",
        "\n",
        "\n",
        "        bonus = 0.5*np.random.binomial(1,self.temperature,size=self.grid_size**2)\n",
        "        bonus = bonus.reshape(self.grid_size,self.grid_size)\n",
        "\n",
        "        malus = -1.0*np.random.binomial(1,self.temperature,size=self.grid_size**2)\n",
        "        malus = malus.reshape(self.grid_size, self.grid_size)\n",
        "\n",
        "        self.to_draw = np.zeros((self.max_time+2, self.grid_size*self.scale, self.grid_size*self.scale, 3))\n",
        "\n",
        "\n",
        "        malus[bonus>0]=0\n",
        "\n",
        "        self.board = bonus + malus\n",
        "        \n",
        "        self.malus_visited = np.zeros((self.grid_size,self.grid_size))\n",
        "        \n",
        "        self.position = np.zeros((self.grid_size, self.grid_size))\n",
        "        self.position[0:2,:]= -1\n",
        "        self.position[:,0:2] = -1\n",
        "        self.position[-2:, :] = -1\n",
        "        self.position[:, -2:] = -1\n",
        "        self.board[self.x,self.y] = 0\n",
        "        self.t = 0\n",
        "\n",
        "        state = np.concatenate((\n",
        "            self.malus_visited.reshape(self.grid_size, self.grid_size,1),\n",
        "            self.board.reshape(self.grid_size, self.grid_size,1),\n",
        "            self.position.reshape(self.grid_size, self.grid_size,1)),\n",
        "            axis=2)\n",
        "\n",
        "        state = state[self.x - 2:self.x + 3, self.y - 2:self.y + 3, :]\n",
        "        return state\n",
        "    "
      ],
      "execution_count": 0,
      "outputs": []
    },
    {
      "metadata": {
        "id": "rrkRD2y6e8Q6",
        "colab_type": "code",
        "outputId": "4438a346-e120-40b1-d919-0b78e0b4c3be",
        "colab": {
          "base_uri": "https://localhost:8080/",
          "height": 2364
        }
      },
      "cell_type": "code",
      "source": [
        "# Training\n",
        "epochs_train = 128\n",
        "env = EnvironmentExploring(grid_size=size, max_time=T, temperature=0.3)\n",
        "agent = DQN_CNN(size, lr=.1, epsilon = 0.2, memory_size=100000, batch_size = 64,n_state=3)\n",
        "train_explore(agent, env, epochs_train, prefix='cnn_train_explore')\n",
        "\n",
        "video_paths = glob.glob(\"cnn_train_explore*.mp4\")\n",
        "video_paths.sort()\n",
        "best_video_path = video_paths.pop()\n",
        "print(\"Displaying \", best_video_path)\n",
        "HTML(display_videos(best_video_path))"
      ],
      "execution_count": 22,
      "outputs": [
        {
          "output_type": "stream",
          "text": [
            "Epoch 001/128 | Loss 0.0518 | Win/lose count 6.0/83.5 (-77.5)\n",
            "Epoch 002/128 | Loss 0.0278 | Win/lose count 10.5/47.3 (-36.8)\n",
            "Epoch 003/128 | Loss 0.0210 | Win/lose count 6.0/57.5 (-51.5)\n",
            "Epoch 004/128 | Loss 0.0455 | Win/lose count 17.0/33.0 (-16.0)\n",
            "Epoch 005/128 | Loss 0.0485 | Win/lose count 14.0/31.8 (-17.8)\n",
            "Epoch 006/128 | Loss 0.0393 | Win/lose count 21.0/26.2 (-5.2)\n",
            "Epoch 007/128 | Loss 0.0298 | Win/lose count 18.5/25.8 (-7.3)\n",
            "Epoch 008/128 | Loss 0.0437 | Win/lose count 18.5/19.0 (-0.5)\n",
            "Epoch 009/128 | Loss 0.0768 | Win/lose count 19.5/29.5 (-10.0)\n",
            "Epoch 010/128 | Loss 0.0962 | Win/lose count 22.5/20.5 (2.0)\n",
            "Epoch 011/128 | Loss 0.0777 | Win/lose count 23.5/24.3 (-0.8)\n",
            "Epoch 012/128 | Loss 0.0518 | Win/lose count 19.5/17.2 (2.3)\n",
            "Epoch 013/128 | Loss 0.0310 | Win/lose count 20.0/24.8 (-4.8)\n",
            "Epoch 014/128 | Loss 0.0563 | Win/lose count 19.0/26.9 (-7.9)\n",
            "Epoch 015/128 | Loss 0.0861 | Win/lose count 24.0/20.8 (3.2)\n",
            "Epoch 016/128 | Loss 0.0697 | Win/lose count 24.5/19.3 (5.2)\n",
            "Epoch 017/128 | Loss 0.1069 | Win/lose count 23.0/16.6 (6.4)\n",
            "Epoch 018/128 | Loss 0.1246 | Win/lose count 27.0/23.8 (3.2)\n",
            "Epoch 019/128 | Loss 0.0811 | Win/lose count 16.0/25.1 (-9.1)\n",
            "Epoch 020/128 | Loss 0.1085 | Win/lose count 28.0/19.5 (8.5)\n",
            "Epoch 021/128 | Loss 0.1142 | Win/lose count 26.0/16.5 (9.5)\n",
            "Epoch 022/128 | Loss 0.0909 | Win/lose count 22.5/19.3 (3.2)\n",
            "Epoch 023/128 | Loss 0.1069 | Win/lose count 29.5/22.5 (7.0)\n",
            "Epoch 024/128 | Loss 0.1034 | Win/lose count 23.0/19.5 (3.5)\n",
            "Epoch 025/128 | Loss 0.1225 | Win/lose count 22.0/22.6 (-0.6)\n",
            "Epoch 026/128 | Loss 0.1595 | Win/lose count 23.5/16.2 (7.3)\n",
            "Epoch 027/128 | Loss 0.1326 | Win/lose count 18.5/18.1 (0.4)\n",
            "Epoch 028/128 | Loss 0.1150 | Win/lose count 22.5/17.2 (5.3)\n",
            "Epoch 029/128 | Loss 0.0634 | Win/lose count 27.5/18.4 (9.1)\n",
            "Epoch 030/128 | Loss 0.0725 | Win/lose count 24.5/19.2 (5.3)\n",
            "Epoch 031/128 | Loss 0.0931 | Win/lose count 29.5/16.0 (13.5)\n",
            "Epoch 032/128 | Loss 0.0816 | Win/lose count 28.0/17.9 (10.1)\n",
            "Epoch 033/128 | Loss 0.1095 | Win/lose count 23.0/21.9 (1.1)\n",
            "Epoch 034/128 | Loss 0.0607 | Win/lose count 26.0/24.0 (2.0)\n",
            "Epoch 035/128 | Loss 0.1193 | Win/lose count 21.0/24.1 (-3.1)\n",
            "Epoch 036/128 | Loss 0.1019 | Win/lose count 28.5/24.6 (3.9)\n",
            "Epoch 037/128 | Loss 0.0716 | Win/lose count 23.0/21.3 (1.7)\n",
            "Epoch 038/128 | Loss 0.0981 | Win/lose count 16.0/19.0 (-3.0)\n",
            "Epoch 039/128 | Loss 0.0759 | Win/lose count 23.0/19.0 (4.0)\n",
            "Epoch 040/128 | Loss 0.0847 | Win/lose count 23.0/21.8 (1.2)\n",
            "Epoch 041/128 | Loss 0.0674 | Win/lose count 20.5/25.3 (-4.8)\n",
            "Epoch 042/128 | Loss 0.0751 | Win/lose count 23.5/19.8 (3.7)\n",
            "Epoch 043/128 | Loss 0.1037 | Win/lose count 29.5/22.6 (6.9)\n",
            "Epoch 044/128 | Loss 0.0729 | Win/lose count 21.5/15.3 (6.2)\n",
            "Epoch 045/128 | Loss 0.0827 | Win/lose count 32.5/22.8 (9.7)\n",
            "Epoch 046/128 | Loss 0.0801 | Win/lose count 24.5/28.3 (-3.8)\n",
            "Epoch 047/128 | Loss 0.0643 | Win/lose count 27.0/18.0 (9.0)\n",
            "Epoch 048/128 | Loss 0.0526 | Win/lose count 28.0/17.6 (10.4)\n",
            "Epoch 049/128 | Loss 0.0796 | Win/lose count 26.5/17.0 (9.5)\n",
            "Epoch 050/128 | Loss 0.0814 | Win/lose count 18.0/24.0 (-6.0)\n",
            "Epoch 051/128 | Loss 0.0829 | Win/lose count 22.5/23.6 (-1.1)\n",
            "Epoch 052/128 | Loss 0.0653 | Win/lose count 21.5/23.8 (-2.3)\n",
            "Epoch 053/128 | Loss 0.0542 | Win/lose count 27.5/17.9 (9.6)\n",
            "Epoch 054/128 | Loss 0.0730 | Win/lose count 23.5/18.9 (4.6)\n",
            "Epoch 055/128 | Loss 0.1137 | Win/lose count 20.5/17.6 (2.9)\n",
            "Epoch 056/128 | Loss 0.0768 | Win/lose count 24.0/21.5 (2.5)\n",
            "Epoch 057/128 | Loss 0.0838 | Win/lose count 21.0/23.0 (-2.0)\n",
            "Epoch 058/128 | Loss 0.0901 | Win/lose count 20.5/18.7 (1.8)\n",
            "Epoch 059/128 | Loss 0.0749 | Win/lose count 22.0/27.2 (-5.2)\n",
            "Epoch 060/128 | Loss 0.0732 | Win/lose count 28.5/27.7 (0.8)\n",
            "Epoch 061/128 | Loss 0.0571 | Win/lose count 25.0/23.3 (1.7)\n",
            "Epoch 062/128 | Loss 0.0911 | Win/lose count 25.5/18.2 (7.3)\n",
            "Epoch 063/128 | Loss 0.0631 | Win/lose count 23.0/31.0 (-8.0)\n",
            "Epoch 064/128 | Loss 0.0780 | Win/lose count 26.5/16.5 (10.0)\n",
            "Epoch 065/128 | Loss 0.0867 | Win/lose count 24.0/18.5 (5.5)\n",
            "Epoch 066/128 | Loss 0.0767 | Win/lose count 23.5/46.6 (-23.1)\n",
            "Epoch 067/128 | Loss 0.0727 | Win/lose count 25.0/22.0 (3.0)\n",
            "Epoch 068/128 | Loss 0.0692 | Win/lose count 27.0/17.7 (9.3)\n",
            "Epoch 069/128 | Loss 0.0894 | Win/lose count 23.5/37.7 (-14.2)\n",
            "Epoch 070/128 | Loss 0.0952 | Win/lose count 24.5/27.9 (-3.4)\n",
            "Epoch 071/128 | Loss 0.1022 | Win/lose count 22.5/24.7 (-2.2)\n",
            "Epoch 072/128 | Loss 0.0891 | Win/lose count 22.0/25.9 (-3.9)\n",
            "Epoch 073/128 | Loss 0.1014 | Win/lose count 24.5/33.5 (-9.0)\n",
            "Epoch 074/128 | Loss 0.0828 | Win/lose count 22.5/14.8 (7.7)\n",
            "Epoch 075/128 | Loss 0.0864 | Win/lose count 25.5/17.0 (8.5)\n",
            "Epoch 076/128 | Loss 0.0957 | Win/lose count 26.0/21.5 (4.5)\n",
            "Epoch 077/128 | Loss 0.0975 | Win/lose count 22.0/20.0 (2.0)\n",
            "Epoch 078/128 | Loss 0.1167 | Win/lose count 25.5/34.3 (-8.8)\n",
            "Epoch 079/128 | Loss 0.0802 | Win/lose count 25.5/17.8 (7.7)\n",
            "Epoch 080/128 | Loss 0.1083 | Win/lose count 24.5/35.6 (-11.1)\n",
            "Epoch 081/128 | Loss 0.1055 | Win/lose count 21.5/26.1 (-4.6)\n",
            "Epoch 082/128 | Loss 0.0744 | Win/lose count 27.0/22.6 (4.4)\n",
            "Epoch 083/128 | Loss 0.0807 | Win/lose count 23.0/49.6 (-26.6)\n",
            "Epoch 084/128 | Loss 0.0736 | Win/lose count 23.5/17.4 (6.1)\n",
            "Epoch 085/128 | Loss 0.0703 | Win/lose count 22.0/29.4 (-7.4)\n",
            "Epoch 086/128 | Loss 0.0984 | Win/lose count 25.0/20.6 (4.4)\n",
            "Epoch 087/128 | Loss 0.0657 | Win/lose count 23.5/22.3 (1.2)\n",
            "Epoch 088/128 | Loss 0.0875 | Win/lose count 19.5/20.3 (-0.8)\n",
            "Epoch 089/128 | Loss 0.0784 | Win/lose count 26.0/21.9 (4.1)\n",
            "Epoch 090/128 | Loss 0.0833 | Win/lose count 25.0/24.8 (0.2)\n",
            "Epoch 091/128 | Loss 0.0699 | Win/lose count 26.0/26.0 (0.0)\n",
            "Epoch 092/128 | Loss 0.0803 | Win/lose count 18.0/23.2 (-5.2)\n",
            "Epoch 093/128 | Loss 0.0775 | Win/lose count 22.5/22.5 (-0.0)\n",
            "Epoch 094/128 | Loss 0.1185 | Win/lose count 23.0/24.3 (-1.3)\n",
            "Epoch 095/128 | Loss 0.1084 | Win/lose count 31.5/18.3 (13.2)\n",
            "Epoch 096/128 | Loss 0.0813 | Win/lose count 21.5/33.0 (-11.5)\n",
            "Epoch 097/128 | Loss 0.1624 | Win/lose count 20.0/73.3 (-53.3)\n",
            "Epoch 098/128 | Loss 0.0742 | Win/lose count 29.0/17.7 (11.3)\n",
            "Epoch 099/128 | Loss 0.1129 | Win/lose count 20.5/20.0 (0.5)\n",
            "Epoch 100/128 | Loss 0.1265 | Win/lose count 22.0/17.0 (5.0)\n",
            "Epoch 101/128 | Loss 0.0719 | Win/lose count 27.0/19.8 (7.2)\n",
            "Epoch 102/128 | Loss 0.0828 | Win/lose count 21.5/19.6 (1.9)\n",
            "Epoch 103/128 | Loss 0.0861 | Win/lose count 26.0/16.7 (9.3)\n",
            "Epoch 104/128 | Loss 0.0847 | Win/lose count 25.0/38.8 (-13.8)\n",
            "Epoch 105/128 | Loss 0.0918 | Win/lose count 25.5/15.2 (10.3)\n",
            "Epoch 106/128 | Loss 0.0870 | Win/lose count 24.5/22.5 (2.0)\n",
            "Epoch 107/128 | Loss 0.0857 | Win/lose count 23.0/20.1 (2.9)\n",
            "Epoch 108/128 | Loss 0.0934 | Win/lose count 24.0/18.9 (5.1)\n",
            "Epoch 109/128 | Loss 0.1314 | Win/lose count 26.5/27.3 (-0.8)\n",
            "Epoch 110/128 | Loss 0.1896 | Win/lose count 24.0/14.6 (9.4)\n",
            "Epoch 111/128 | Loss 0.0804 | Win/lose count 28.5/20.4 (8.1)\n",
            "Epoch 112/128 | Loss 0.1281 | Win/lose count 19.5/28.9 (-9.4)\n",
            "Epoch 113/128 | Loss 0.1372 | Win/lose count 23.5/19.2 (4.3)\n",
            "Epoch 114/128 | Loss 0.0877 | Win/lose count 22.0/24.5 (-2.5)\n",
            "Epoch 115/128 | Loss 0.1348 | Win/lose count 28.5/23.8 (4.7)\n",
            "Epoch 116/128 | Loss 0.1102 | Win/lose count 26.0/21.4 (4.6)\n",
            "Epoch 117/128 | Loss 0.1124 | Win/lose count 23.0/24.3 (-1.3)\n",
            "Epoch 118/128 | Loss 0.1236 | Win/lose count 25.0/27.4 (-2.4)\n",
            "Epoch 119/128 | Loss 0.1421 | Win/lose count 25.0/34.3 (-9.3)\n",
            "Epoch 120/128 | Loss 0.1412 | Win/lose count 28.0/15.9 (12.1)\n",
            "Epoch 121/128 | Loss 0.1162 | Win/lose count 23.5/20.6 (2.9)\n",
            "Epoch 122/128 | Loss 0.0952 | Win/lose count 26.0/23.4 (2.6)\n",
            "Epoch 123/128 | Loss 0.0966 | Win/lose count 31.5/15.7 (15.8)\n",
            "Epoch 124/128 | Loss 0.0839 | Win/lose count 29.0/30.6 (-1.6)\n",
            "Epoch 125/128 | Loss 0.1031 | Win/lose count 21.5/21.1 (0.4)\n",
            "Epoch 126/128 | Loss 0.0956 | Win/lose count 20.0/29.5 (-9.5)\n",
            "Epoch 127/128 | Loss 0.0988 | Win/lose count 25.5/19.6 (5.9)\n",
            "Epoch 128/128 | Loss 0.0708 | Win/lose count 27.5/16.9 (10.6)\n",
            "Displaying  cnn_train_explore90.mp4\n"
          ],
          "name": "stdout"
        },
        {
          "output_type": "execute_result",
          "data": {
            "text/html": [
              "<video alt=\"test\" controls>\n",
              "                <source src=\"data:video/mp4;base64,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\" type=\"video/mp4\" />\n",
              "             </video>"
            ],
            "text/plain": [
              "<IPython.core.display.HTML object>"
            ]
          },
          "metadata": {
            "tags": []
          },
          "execution_count": 22
        }
      ]
    },
    {
      "metadata": {
        "id": "u9pByfjDe8Q_",
        "colab_type": "code",
        "outputId": "9b31a5fa-51b8-4148-b575-d147f210a470",
        "colab": {
          "base_uri": "https://localhost:8080/",
          "height": 1435
        }
      },
      "cell_type": "code",
      "source": [
        "# Evaluation\n",
        "test(agent,env,epochs_test,prefix='cnn_test_explore')\n",
        "video_paths = glob.glob(\"cnn_test_explore*.mp4\")\n",
        "video_paths.sort()\n",
        "best_video_path = video_paths.pop()\n",
        "print(\"Displaying \", best_video_path)\n",
        "HTML(display_videos(best_video_path))"
      ],
      "execution_count": 23,
      "outputs": [
        {
          "output_type": "stream",
          "text": [
            "Win/lose count 28.5/15.79999999999998. Average score (12.70000000000002)\n",
            "Win/lose count 21.0/21.400000000000002. Average score (6.1500000000000075)\n",
            "Win/lose count 27.0/18.59999999999999. Average score (6.900000000000007)\n",
            "Win/lose count 30.5/15.199999999999976. Average score (9.00000000000001)\n",
            "Win/lose count 22.0/17.39999999999999. Average score (8.12000000000001)\n",
            "Win/lose count 25.0/14.999999999999984. Average score (8.433333333333344)\n",
            "Win/lose count 24.5/16.099999999999984. Average score (8.428571428571441)\n",
            "Win/lose count 24.5/23.19999999999999. Average score (7.537500000000012)\n",
            "Win/lose count 26.5/28.999999999999986. Average score (6.422222222222235)\n",
            "Win/lose count 29.0/18.100000000000005. Average score (6.87000000000001)\n",
            "Win/lose count 30.0/18.900000000000016. Average score (7.254545454545462)\n",
            "Win/lose count 19.5/16.999999999999986. Average score (6.858333333333341)\n",
            "Win/lose count 20.5/27.299999999999976. Average score (5.807692307692316)\n",
            "Win/lose count 27.0/22.399999999999995. Average score (5.72142857142858)\n",
            "Win/lose count 30.5/19.79999999999999. Average score (6.053333333333342)\n",
            "Win/lose count 24.0/18.499999999999982. Average score (6.018750000000009)\n",
            "Win/lose count 21.5/20.500000000000004. Average score (5.723529411764714)\n",
            "Win/lose count 23.5/21.700000000000017. Average score (5.505555555555563)\n",
            "Win/lose count 31.0/12.699999999999982. Average score (6.178947368421061)\n",
            "Win/lose count 20.5/35.299999999999976. Average score (5.130000000000008)\n",
            "Win/lose count 26.5/13.49999999999998. Average score (5.504761904761914)\n",
            "Win/lose count 24.5/17.699999999999985. Average score (5.563636363636373)\n",
            "Win/lose count 24.5/14.299999999999981. Average score (5.765217391304358)\n",
            "Win/lose count 27.5/11.599999999999984. Average score (6.18750000000001)\n",
            "Win/lose count 27.0/18.79999999999999. Average score (6.26800000000001)\n",
            "Win/lose count 23.0/41.59999999999999. Average score (5.311538461538471)\n",
            "Win/lose count 28.0/19.9. Average score (5.414814814814824)\n",
            "Win/lose count 28.5/20.299999999999986. Average score (5.514285714285724)\n",
            "Win/lose count 26.0/20.499999999999996. Average score (5.513793103448285)\n",
            "Win/lose count 21.0/23.400000000000016. Average score (5.250000000000009)\n",
            "Win/lose count 21.5/20.099999999999994. Average score (5.125806451612911)\n",
            "Win/lose count 25.0/23.500000000000014. Average score (5.012500000000008)\n",
            "Win/lose count 27.0/13.99999999999998. Average score (5.254545454545464)\n",
            "Win/lose count 28.0/13.599999999999978. Average score (5.523529411764716)\n",
            "Win/lose count 21.0/13.499999999999979. Average score (5.58000000000001)\n",
            "Win/lose count 23.0/23.600000000000023. Average score (5.408333333333342)\n",
            "Win/lose count 25.5/18.699999999999985. Average score (5.445945945945955)\n",
            "Win/lose count 28.0/18.1. Average score (5.563157894736851)\n",
            "Win/lose count 29.0/16.599999999999987. Average score (5.738461538461547)\n",
            "Win/lose count 26.5/20.400000000000006. Average score (5.7475000000000085)\n",
            "Win/lose count 24.5/18.69999999999998. Average score (5.748780487804887)\n",
            "Win/lose count 21.0/24.400000000000013. Average score (5.53095238095239)\n",
            "Win/lose count 20.5/33.10000000000003. Average score (5.109302325581404)\n",
            "Win/lose count 27.5/13.799999999999981. Average score (5.304545454545463)\n",
            "Win/lose count 27.0/19.39999999999999. Average score (5.355555555555564)\n",
            "Win/lose count 25.5/17.199999999999985. Average score (5.419565217391313)\n",
            "Win/lose count 20.0/18.499999999999993. Average score (5.336170212765966)\n",
            "Win/lose count 25.5/19.800000000000004. Average score (5.343750000000008)\n",
            "Win/lose count 21.0/24.69999999999999. Average score (5.159183673469396)\n",
            "Win/lose count 27.5/33.10000000000002. Average score (4.944000000000008)\n",
            "Win/lose count 29.0/19.299999999999997. Average score (5.037254901960791)\n",
            "Win/lose count 21.0/19.400000000000006. Average score (4.971153846153853)\n",
            "Win/lose count 26.0/23.400000000000013. Average score (4.926415094339628)\n",
            "Win/lose count 22.0/20.299999999999997. Average score (4.8666666666666725)\n",
            "Win/lose count 23.5/16.199999999999978. Average score (4.910909090909096)\n",
            "Win/lose count 27.0/18.3. Average score (4.978571428571434)\n",
            "Win/lose count 22.5/15.39999999999998. Average score (5.015789473684216)\n",
            "Win/lose count 23.0/20.999999999999993. Average score (4.963793103448281)\n",
            "Win/lose count 25.0/15.199999999999987. Average score (5.045762711864413)\n",
            "Win/lose count 20.5/18.399999999999984. Average score (4.996666666666672)\n",
            "Win/lose count 25.0/19.200000000000003. Average score (5.009836065573777)\n",
            "Win/lose count 27.0/16.299999999999983. Average score (5.101612903225813)\n",
            "Win/lose count 21.5/19.599999999999998. Average score (5.050793650793657)\n",
            "Win/lose count 24.0/16.499999999999982. Average score (5.089062500000006)\n",
            "Final score: 5.089062500000006\n",
            "Displaying  cnn_test_explore9.mp4\n"
          ],
          "name": "stdout"
        },
        {
          "output_type": "execute_result",
          "data": {
            "text/html": [
              "<video alt=\"test\" controls>\n",
              "                <source src=\"data:video/mp4;base64,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\" type=\"video/mp4\" />\n",
              "             </video>"
            ],
            "text/plain": [
              "<IPython.core.display.HTML object>"
            ]
          },
          "metadata": {
            "tags": []
          },
          "execution_count": 23
        }
      ]
    },
    {
      "metadata": {
        "id": "sfHr7ItXe8RC",
        "colab_type": "text"
      },
      "cell_type": "markdown",
      "source": [
        "***\n",
        "***\n",
        "__BONUS question__ Use the expert DQN from the previous question to generate some winning games. Train a model that mimicks its behavior. Compare the performances."
      ]
    },
    {
      "metadata": {
        "id": "3s4DYUnPe8RD",
        "colab_type": "text"
      },
      "cell_type": "markdown",
      "source": [
        ""
      ]
    },
    {
      "metadata": {
        "id": "GPQeP-o3e8RE",
        "colab_type": "text"
      },
      "cell_type": "markdown",
      "source": [
        "***"
      ]
    }
  ]
}